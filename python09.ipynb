{
 "cells": [
  {
   "cell_type": "code",
   "execution_count": 5,
   "id": "7c2c4bf4-74e4-4dd2-bd09-c91a73c8236a",
   "metadata": {},
   "outputs": [],
   "source": [
    "!pip install -q -U google-genai"
   ]
  },
  {
   "cell_type": "code",
   "execution_count": 12,
   "id": "5de6d444-01b5-45b0-b230-0ca73f041898",
   "metadata": {
    "id": "0okm58lVJ5Yv"
   },
   "outputs": [
    {
     "name": "stdout",
     "output_type": "stream",
     "text": [
      "안녕하세요! pandas는 데이터 분석과 조작을 위한 파이썬 라이브러리입니다. pandas의 주요 특징을 문단으로 나누어 친절하게 설명해 드릴게요.\n",
      "\n",
      "**1. 강력한 데이터 구조:**\n",
      "\n",
      "*   **DataFrame:** pandas의 핵심은 DataFrame입니다. DataFrame은 엑셀 시트나 SQL 테이블과 유사한 2차원 테이블 형태의 데이터 구조입니다. 행과 열로 이루어져 있으며, 각 열은 서로 다른 데이터 타입(숫자, 문자열, 불리언 등)을 가질 수 있습니다. DataFrame은 데이터를 정리하고 분석하는 데 매우 유용합니다.\n",
      "*   **Series:** Series는 DataFrame의 열과 같은 1차원 배열 형태의 데이터 구조입니다. Series는 인덱스(index)와 값(value)으로 구성되며, DataFrame의 기본 구성 요소입니다.\n",
      "\n",
      "**2. 다양한 데이터 입출력:**\n",
      "\n",
      "*   pandas는 다양한 파일 형식에서 데이터를 읽어오고 쓸 수 있습니다. 예를 들어 CSV, Excel, 텍스트 파일, SQL 데이터베이스, JSON, HTML 등 다양한 형식을 지원합니다. 따라서 다양한 소스에서 데이터를 가져와 DataFrame으로 쉽게 변환할 수 있습니다.\n",
      "*   `read_csv()`, `read_excel()`, `to_csv()`, `to_excel()` 등의 함수를 사용하여 간편하게 데이터를 읽고 쓸 수 있습니다.\n",
      "\n",
      "**3. 편리한 데이터 조작:**\n",
      "\n",
      "*   **데이터 선택 및 필터링:** DataFrame에서 특정 조건에 맞는 데이터를 선택하거나 필터링하는 기능이 강력합니다. 예를 들어 특정 열의 값이 특정 조건을 만족하는 행만 선택할 수 있습니다.\n",
      "*   **데이터 정렬:** DataFrame의 행이나 열을 특정 열의 값을 기준으로 정렬할 수 있습니다.\n",
      "*   **결측치 처리:** pandas는 결측치(missing data)를 처리하는 다양한 방법을 제공합니다. 결측치를 제거하거나 특정 값으로 채울 수 있습니다.\n",
      "*   **데이터 변환:** 열의 데이터 타입을 변경하거나 새로운 열을 추가하는 등 데이터를 변환하는 기능이 다양합니다.\n",
      "*   **그룹화 및 집계:** `groupby()` 함수를 사용하여 데이터를 그룹화하고, 각 그룹별로 평균, 합계, 최댓값, 최솟값 등의 통계량을 계산할 수 있습니다.\n",
      "\n",
      "**4. 데이터 분석 기능:**\n",
      "\n",
      "*   **기술 통계:** pandas는 데이터의 기술 통계량을 계산하는 기능을 제공합니다. 평균, 중앙값, 표준편차, 최솟값, 최댓값 등을 쉽게 구할 수 있습니다.\n",
      "*   **데이터 시각화:** pandas는 matplotlib 라이브러리와 통합되어 있어 데이터를 시각화하는 데 유용합니다. 간단한 그래프를 빠르게 그릴 수 있습니다.\n",
      "\n",
      "**5. 유연성과 확장성:**\n",
      "\n",
      "*   pandas는 NumPy 라이브러리를 기반으로 구축되었으며, NumPy의 배열 연산 기능을 활용할 수 있습니다.\n",
      "*   pandas는 다양한 파이썬 라이브러리와 함께 사용할 수 있습니다. 예를 들어 scikit-learn 라이브러리를 사용하여 머신러닝 모델을 학습시키거나, seaborn 라이브러리를 사용하여 더 복잡한 시각화를 수행할 수 있습니다.\n",
      "\n",
      "pandas는 데이터 분석 및 조작 작업을 효율적으로 수행할 수 있도록 다양한 기능을 제공합니다. 이러한 특징 덕분에 pandas는 데이터 과학 분야에서 널리 사용되는 필수적인 도구입니다. 궁금한 점이 있다면 언제든지 다시 질문해주세요!\n"
     ]
    },
    {
     "data": {
      "text/plain": [
       "'안녕하세요! pandas는 데이터 분석과 조작을 위한 파이썬 라이브러리입니다. pandas의 주요 특징을 문단으로 나누어 친절하게 설명해 드릴게요.\\n\\n**1. 강력한 데이터 구조:**\\n\\n*   **DataFrame:** pandas의 핵심은 DataFrame입니다. DataFrame은 엑셀 시트나 SQL 테이블과 유사한 2차원 테이블 형태의 데이터 구조입니다. 행과 열로 이루어져 있으며, 각 열은 서로 다른 데이터 타입(숫자, 문자열, 불리언 등)을 가질 수 있습니다. DataFrame은 데이터를 정리하고 분석하는 데 매우 유용합니다.\\n*   **Series:** Series는 DataFrame의 열과 같은 1차원 배열 형태의 데이터 구조입니다. Series는 인덱스(index)와 값(value)으로 구성되며, DataFrame의 기본 구성 요소입니다.\\n\\n**2. 다양한 데이터 입출력:**\\n\\n*   pandas는 다양한 파일 형식에서 데이터를 읽어오고 쓸 수 있습니다. 예를 들어 CSV, Excel, 텍스트 파일, SQL 데이터베이스, JSON, HTML 등 다양한 형식을 지원합니다. 따라서 다양한 소스에서 데이터를 가져와 DataFrame으로 쉽게 변환할 수 있습니다.\\n*   `read_csv()`, `read_excel()`, `to_csv()`, `to_excel()` 등의 함수를 사용하여 간편하게 데이터를 읽고 쓸 수 있습니다.\\n\\n**3. 편리한 데이터 조작:**\\n\\n*   **데이터 선택 및 필터링:** DataFrame에서 특정 조건에 맞는 데이터를 선택하거나 필터링하는 기능이 강력합니다. 예를 들어 특정 열의 값이 특정 조건을 만족하는 행만 선택할 수 있습니다.\\n*   **데이터 정렬:** DataFrame의 행이나 열을 특정 열의 값을 기준으로 정렬할 수 있습니다.\\n*   **결측치 처리:** pandas는 결측치(missing data)를 처리하는 다양한 방법을 제공합니다. 결측치를 제거하거나 특정 값으로 채울 수 있습니다.\\n*   **데이터 변환:** 열의 데이터 타입을 변경하거나 새로운 열을 추가하는 등 데이터를 변환하는 기능이 다양합니다.\\n*   **그룹화 및 집계:** `groupby()` 함수를 사용하여 데이터를 그룹화하고, 각 그룹별로 평균, 합계, 최댓값, 최솟값 등의 통계량을 계산할 수 있습니다.\\n\\n**4. 데이터 분석 기능:**\\n\\n*   **기술 통계:** pandas는 데이터의 기술 통계량을 계산하는 기능을 제공합니다. 평균, 중앙값, 표준편차, 최솟값, 최댓값 등을 쉽게 구할 수 있습니다.\\n*   **데이터 시각화:** pandas는 matplotlib 라이브러리와 통합되어 있어 데이터를 시각화하는 데 유용합니다. 간단한 그래프를 빠르게 그릴 수 있습니다.\\n\\n**5. 유연성과 확장성:**\\n\\n*   pandas는 NumPy 라이브러리를 기반으로 구축되었으며, NumPy의 배열 연산 기능을 활용할 수 있습니다.\\n*   pandas는 다양한 파이썬 라이브러리와 함께 사용할 수 있습니다. 예를 들어 scikit-learn 라이브러리를 사용하여 머신러닝 모델을 학습시키거나, seaborn 라이브러리를 사용하여 더 복잡한 시각화를 수행할 수 있습니다.\\n\\npandas는 데이터 분석 및 조작 작업을 효율적으로 수행할 수 있도록 다양한 기능을 제공합니다. 이러한 특징 덕분에 pandas는 데이터 과학 분야에서 널리 사용되는 필수적인 도구입니다. 궁금한 점이 있다면 언제든지 다시 질문해주세요!'"
      ]
     },
     "execution_count": 12,
     "metadata": {},
     "output_type": "execute_result"
    }
   ],
   "source": [
    "# 구글 Gemini AI\n",
    "from google import genai\n",
    "def aiai(text):\n",
    "    client = genai.Client(api_key=\"AIzaSyDee7uGhnoMImMm-qK3UDELPAQP54DJd083184\")\n",
    "    \n",
    "    response = client.models.generate_content(\n",
    "        model=\"gemini-2.0-flash\",\n",
    "        contents=text\n",
    "        + '내용이 길면 문단으로 끊어서 알려줘. 단 친절하게 알려줘.'\n",
    "    )\n",
    "    answer = response.text\n",
    "    # print(response.text)\n",
    "    print(answer)\n",
    "    return answer\n",
    "\n",
    "aiai('pandas의 특징은?')"
   ]
  },
  {
   "cell_type": "code",
   "execution_count": null,
   "id": "76e48afd-3f54-44a7-8779-8f670556388c",
   "metadata": {},
   "outputs": [],
   "source": []
  }
 ],
 "metadata": {
  "kernelspec": {
   "display_name": "Python 3 (ipykernel)",
   "language": "python",
   "name": "python3"
  },
  "language_info": {
   "codemirror_mode": {
    "name": "ipython",
    "version": 3
   },
   "file_extension": ".py",
   "mimetype": "text/x-python",
   "name": "python",
   "nbconvert_exporter": "python",
   "pygments_lexer": "ipython3",
   "version": "3.13.1"
  }
 },
 "nbformat": 4,
 "nbformat_minor": 5
}
