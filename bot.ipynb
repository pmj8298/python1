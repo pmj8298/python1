{
 "cells": [
  {
   "cell_type": "code",
   "execution_count": 1,
   "id": "256d73a6-0825-4313-a44f-f1800ace5065",
   "metadata": {},
   "outputs": [
    {
     "name": "stdout",
     "output_type": "stream",
     "text": [
      "봇이 실행중입니다.\n",
      "오늘은 추워요~\n"
     ]
    },
    {
     "name": "stderr",
     "output_type": "stream",
     "text": [
      "Exception happened while polling for updates.\n",
      "Traceback (most recent call last):\n",
      "  File \"C:\\Users\\Admin\\AppData\\Local\\Programs\\Python\\Python313\\Lib\\site-packages\\telegram\\ext\\_updater.py\", line 750, in _network_loop_retry\n",
      "    if not await do_action():\n",
      "           ^^^^^^^^^^^^^^^^^\n",
      "  File \"C:\\Users\\Admin\\AppData\\Local\\Programs\\Python\\Python313\\Lib\\site-packages\\telegram\\ext\\_updater.py\", line 744, in do_action\n",
      "    return action_cb_task.result()\n",
      "           ~~~~~~~~~~~~~~~~~~~~~^^\n",
      "  File \"C:\\Users\\Admin\\AppData\\Local\\Programs\\Python\\Python313\\Lib\\asyncio\\futures.py\", line 199, in result\n",
      "    raise self._exception.with_traceback(self._exception_tb)\n",
      "  File \"C:\\Users\\Admin\\AppData\\Local\\Programs\\Python\\Python313\\Lib\\asyncio\\tasks.py\", line 304, in __step_run_and_handle_result\n",
      "    result = coro.send(None)\n",
      "  File \"C:\\Users\\Admin\\AppData\\Local\\Programs\\Python\\Python313\\Lib\\site-packages\\telegram\\ext\\_updater.py\", line 371, in polling_action_cb\n",
      "    updates = await self.bot.get_updates(\n",
      "              ^^^^^^^^^^^^^^^^^^^^^^^^^^^\n",
      "    ...<7 lines>...\n",
      "    )\n",
      "    ^\n",
      "  File \"C:\\Users\\Admin\\AppData\\Local\\Programs\\Python\\Python313\\Lib\\site-packages\\telegram\\ext\\_extbot.py\", line 650, in get_updates\n",
      "    updates = await super().get_updates(\n",
      "              ^^^^^^^^^^^^^^^^^^^^^^^^^^\n",
      "    ...<9 lines>...\n",
      "    )\n",
      "    ^\n",
      "  File \"C:\\Users\\Admin\\AppData\\Local\\Programs\\Python\\Python313\\Lib\\site-packages\\telegram\\_bot.py\", line 4480, in get_updates\n",
      "    await self._post(\n",
      "    ^^^^^^^^^^^^^^^^^\n",
      "    ...<7 lines>...\n",
      "    ),\n",
      "    ^\n",
      "  File \"C:\\Users\\Admin\\AppData\\Local\\Programs\\Python\\Python313\\Lib\\site-packages\\telegram\\_bot.py\", line 619, in _post\n",
      "    return await self._do_post(\n",
      "           ^^^^^^^^^^^^^^^^^^^^\n",
      "    ...<6 lines>...\n",
      "    )\n",
      "    ^\n",
      "  File \"C:\\Users\\Admin\\AppData\\Local\\Programs\\Python\\Python313\\Lib\\site-packages\\telegram\\ext\\_extbot.py\", line 354, in _do_post\n",
      "    return await super()._do_post(\n",
      "           ^^^^^^^^^^^^^^^^^^^^^^^\n",
      "    ...<6 lines>...\n",
      "    )\n",
      "    ^\n",
      "  File \"C:\\Users\\Admin\\AppData\\Local\\Programs\\Python\\Python313\\Lib\\site-packages\\telegram\\_bot.py\", line 648, in _do_post\n",
      "    result = await request.post(\n",
      "             ^^^^^^^^^^^^^^^^^^^\n",
      "    ...<6 lines>...\n",
      "    )\n",
      "    ^\n",
      "  File \"C:\\Users\\Admin\\AppData\\Local\\Programs\\Python\\Python313\\Lib\\site-packages\\telegram\\request\\_baserequest.py\", line 202, in post\n",
      "    result = await self._request_wrapper(\n",
      "             ^^^^^^^^^^^^^^^^^^^^^^^^^^^^\n",
      "    ...<7 lines>...\n",
      "    )\n",
      "    ^\n",
      "  File \"C:\\Users\\Admin\\AppData\\Local\\Programs\\Python\\Python313\\Lib\\site-packages\\telegram\\request\\_baserequest.py\", line 385, in _request_wrapper\n",
      "    raise Conflict(message)\n",
      "telegram.error.Conflict: Conflict: terminated by other getUpdates request; make sure that only one bot instance is running\n"
     ]
    }
   ],
   "source": [
    "import asyncio\n",
    "import nest_asyncio #주피터랩용\n",
    "from dotenv import load_dotenv\n",
    "import os\n",
    "\n",
    "# .env 파일 로드\n",
    "load_dotenv()\n",
    "\n",
    "\n",
    "from telegram import Update\n",
    "from telegram.ext import Application, CommandHandler, MessageHandler, filters, CallbackContext\n",
    "nest_asyncio.apply()\n",
    "\n",
    "# TELEGRAM_TOKEN = os.getenv(\"TELEGRAM_TOKEN\")\n",
    "\n",
    "# async def start(update: Update, context: CallbackContext):\n",
    "async def start(update, context):\n",
    "    await context.bot.send_message(chat_id=update.effective_chat.id, text='봇이 가동되었습니다!')\n",
    "\n",
    "# async def handle_message(update: Update, context: CallbackContext):\n",
    "async def handle_message(update, context):\n",
    "    user_message = update.message.text.lower() #Text -> text\n",
    "\n",
    "    if '선생님' in user_message:\n",
    "        response='수업 열심히 해봅시다!'\n",
    "    elif '날씨' in user_message:\n",
    "        response='오늘은 추워요~'\n",
    "    print(response)\n",
    "\n",
    "    #응답 메시지 전송\n",
    "    await context.bot.send_message(chat_id=update.effective_chat.id, text=response)\n",
    "\n",
    "async def main():\n",
    "    application = Application.builder().token(TELEGRAM_TOKEN).build()\n",
    "    await application.initialize() #초기화 필수\n",
    "\n",
    "    #핸들러 추가\n",
    "    application.add_handler(CommandHandler('start',start))\n",
    "    application.add_handler(MessageHandler(filters.TEXT & ~filters.COMMAND, handle_message))\n",
    "\n",
    "    await application.start()\n",
    "    print('봇이 실행중입니다.')\n",
    "\n",
    "    await application.updater.start_polling()\n",
    "\n",
    "if __name__=='__main__':\n",
    "    asyncio.run(main())"
   ]
  },
  {
   "cell_type": "code",
   "execution_count": 2,
   "id": "c618b281-975e-4130-af45-87bdaadc027b",
   "metadata": {},
   "outputs": [
    {
     "data": {
      "text/plain": [
       "<coroutine object main at 0x000002A355CCB5A0>"
      ]
     },
     "execution_count": 2,
     "metadata": {},
     "output_type": "execute_result"
    }
   ],
   "source": [
    "import bot\n",
    "bot.main()"
   ]
  },
  {
   "cell_type": "code",
   "execution_count": null,
   "id": "16085ede-39e1-45b2-8de4-985deae6738a",
   "metadata": {},
   "outputs": [],
   "source": []
  }
 ],
 "metadata": {
  "kernelspec": {
   "display_name": "Python 3 (ipykernel)",
   "language": "python",
   "name": "python3"
  },
  "language_info": {
   "codemirror_mode": {
    "name": "ipython",
    "version": 3
   },
   "file_extension": ".py",
   "mimetype": "text/x-python",
   "name": "python",
   "nbconvert_exporter": "python",
   "pygments_lexer": "ipython3",
   "version": "3.13.1"
  }
 },
 "nbformat": 4,
 "nbformat_minor": 5
}
