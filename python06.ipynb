{
 "cells": [
  {
   "cell_type": "markdown",
   "id": "6c60f45f-e27e-439a-b2f1-63c8b627af65",
   "metadata": {},
   "source": [
    "# 모듈"
   ]
  },
  {
   "cell_type": "markdown",
   "id": "36d838b9-d854-41bc-9689-a11fc1bf08de",
   "metadata": {},
   "source": [
    "## 모듈 만들기"
   ]
  },
  {
   "cell_type": "code",
   "execution_count": 5,
   "id": "d78c131b-ed27-4fc8-80de-4fd2ea87bf82",
   "metadata": {},
   "outputs": [],
   "source": [
    "# 모듈 만들기 - mod1.py\n",
    "# def add(a, b):\n",
    "#     return a + b\n",
    "# def sub(a, b):\n",
    "#     return a - b"
   ]
  },
  {
   "cell_type": "code",
   "execution_count": 3,
   "id": "35e1cc61-6d2f-4ff7-a688-cadb46ed9861",
   "metadata": {},
   "outputs": [
    {
     "name": "stdout",
     "output_type": "stream",
     "text": [
      "33\n",
      "-11\n"
     ]
    }
   ],
   "source": [
    "import mod1 # .py는 생략해야함\n",
    "print(mod1.add(11,22))\n",
    "print(mod1.sub(11,22))"
   ]
  },
  {
   "cell_type": "code",
   "execution_count": 4,
   "id": "045117ab-88e4-43b6-ba7c-1954052bbde6",
   "metadata": {},
   "outputs": [],
   "source": [
    "with open('mod2.py','w') as f:\n",
    "    data = '''def mul(a,b):\n",
    "    return a*b\n",
    "def div(a,b):\n",
    "    return a/b'''\n",
    "    f.write(data)"
   ]
  },
  {
   "cell_type": "code",
   "execution_count": 6,
   "id": "51c718bc-af20-4548-8e9e-9283b6a266c3",
   "metadata": {},
   "outputs": [
    {
     "name": "stdout",
     "output_type": "stream",
     "text": [
      "12\n",
      "0.75\n"
     ]
    }
   ],
   "source": [
    "import mod2\n",
    "print(mod2.mul(3,4))\n",
    "print(mod2.div(3,4))"
   ]
  },
  {
   "cell_type": "code",
   "execution_count": 1,
   "id": "2483e366-ca09-4dfb-8025-d80b181fef5e",
   "metadata": {},
   "outputs": [
    {
     "name": "stdout",
     "output_type": "stream",
     "text": [
      "33\n",
      "-11\n",
      "12\n",
      "0.75\n"
     ]
    }
   ],
   "source": [
    "import mod1, mod2\n",
    "print(mod1.add(11,22))\n",
    "print(mod1.sub(11,22))\n",
    "print(mod2.mul(3,4))\n",
    "print(mod2.div(3,4))"
   ]
  },
  {
   "cell_type": "code",
   "execution_count": 2,
   "id": "88d83e88-eb06-446b-aa9c-6ec586de95ef",
   "metadata": {},
   "outputs": [
    {
     "name": "stdout",
     "output_type": "stream",
     "text": [
      "33\n",
      "-11\n",
      "12\n",
      "0.75\n"
     ]
    }
   ],
   "source": [
    "import mod1 as m1\n",
    "import mod2 as m2\n",
    "print(m1.add(11,22))\n",
    "print(m1.sub(11,22))\n",
    "print(m2.mul(3,4))\n",
    "print(m2.div(3,4))"
   ]
  },
  {
   "cell_type": "code",
   "execution_count": 1,
   "id": "9fe31db7-197f-4177-bce0-b09f93e3f6ea",
   "metadata": {},
   "outputs": [
    {
     "name": "stdout",
     "output_type": "stream",
     "text": [
      "33\n",
      "-11\n",
      "12\n",
      "0.75\n"
     ]
    }
   ],
   "source": [
    "import mod1 as m1, mod2 as m2\n",
    "print(m1.add(11,22))\n",
    "print(m1.sub(11,22))\n",
    "print(m2.mul(3,4))\n",
    "print(m2.div(3,4))"
   ]
  },
  {
   "cell_type": "code",
   "execution_count": 3,
   "id": "0ddb41a7-619a-4759-aff4-e149f7049202",
   "metadata": {},
   "outputs": [
    {
     "name": "stdout",
     "output_type": "stream",
     "text": [
      "77\n"
     ]
    }
   ],
   "source": [
    "from mod1 import add, sub\n",
    "print(add(33,44))"
   ]
  },
  {
   "cell_type": "code",
   "execution_count": 4,
   "id": "15cbbd42-2c67-4afe-9dc2-50a2fe501cdd",
   "metadata": {},
   "outputs": [
    {
     "name": "stdout",
     "output_type": "stream",
     "text": [
      "15\n"
     ]
    }
   ],
   "source": [
    "from mod2 import *\n",
    "print(mul(3,5))"
   ]
  },
  {
   "cell_type": "markdown",
   "id": "2247de39-3eab-45af-b972-1ba7f380e9d3",
   "metadata": {},
   "source": [
    "## `__main__`의 의미"
   ]
  },
  {
   "cell_type": "markdown",
   "id": "011042e5-a3fe-4ed1-8658-f2e237677952",
   "metadata": {},
   "source": [
    "매직커맨드\n",
    "-%%bash: 리눅스\n",
    "-%%cmd: 윈도우"
   ]
  },
  {
   "cell_type": "code",
   "execution_count": 6,
   "id": "e2be89a5-d420-431c-9a45-9752666999c6",
   "metadata": {},
   "outputs": [],
   "source": [
    "with open('mod1.py','a') as f:\n",
    "    text = '''\\nprint(add(1,4))\\nprint(sub(4,2))'''\n",
    "    f.write(text)"
   ]
  },
  {
   "cell_type": "code",
   "execution_count": 1,
   "id": "c3c9ead4-cf77-45b2-aedd-219aa58a795d",
   "metadata": {},
   "outputs": [
    {
     "name": "stdout",
     "output_type": "stream",
     "text": [
      "Microsoft Windows [Version 10.0.26100.2894]\n",
      "(c) Microsoft Corporation. All rights reserved.\n",
      "\n",
      "mj\\python>python mod1.py\n",
      "5\n",
      "2\n",
      "__main__\n",
      "�� ���Ϸ� ����Ǿ����\n",
      "\n",
      "d:\\pmj\\python>"
     ]
    }
   ],
   "source": [
    "%%cmd\n",
    "python mod1.py"
   ]
  },
  {
   "cell_type": "code",
   "execution_count": 2,
   "id": "60f822a4-d4ef-4e5f-9189-67011fe8681b",
   "metadata": {},
   "outputs": [
    {
     "name": "stdout",
     "output_type": "stream",
     "text": [
      "5\n",
      "2\n",
      "mod1\n",
      "전 모듈로 임포트 되었어요\n"
     ]
    },
    {
     "data": {
      "text/plain": [
       "['__builtins__',\n",
       " '__cached__',\n",
       " '__doc__',\n",
       " '__file__',\n",
       " '__loader__',\n",
       " '__name__',\n",
       " '__package__',\n",
       " '__spec__',\n",
       " 'add',\n",
       " 'sub']"
      ]
     },
     "execution_count": 2,
     "metadata": {},
     "output_type": "execute_result"
    }
   ],
   "source": [
    "import mod1\n",
    "dir(mod1)"
   ]
  },
  {
   "cell_type": "code",
   "execution_count": 5,
   "id": "4d47b9ab-df25-4872-ac18-8248f0a311b6",
   "metadata": {},
   "outputs": [
    {
     "name": "stdout",
     "output_type": "stream",
     "text": [
      "['__builtins__', '__cached__', '__doc__', '__file__', '__loader__', '__name__', '__package__', '__spec__', 'add', 'sub']\n",
      "mod1\n"
     ]
    }
   ],
   "source": [
    "import mod1\n",
    "print(dir(mod1))\n",
    "print(mod1.__name__)"
   ]
  },
  {
   "cell_type": "code",
   "execution_count": 1,
   "id": "7007e996-b811-42c9-856c-2e411aed3f56",
   "metadata": {},
   "outputs": [],
   "source": [
    "with open('mod1.py','a') as f:\n",
    "    content = '\\nprint(__name__)'\n",
    "    f.write(content)"
   ]
  },
  {
   "cell_type": "markdown",
   "id": "1e19db21-f3ab-40eb-91ce-7be160b05eec",
   "metadata": {},
   "source": [
    "삼성전자의 현 시세\n",
    "cmd에서 파일로 실행했을 때\n",
    "삼성전자의 시세가 나오고\n",
    "임포트 했을땐\n",
    "아무것도 나오지 않게 하라"
   ]
  },
  {
   "cell_type": "code",
   "execution_count": 3,
   "id": "551b88d5-584c-455c-bf70-52b9342fc487",
   "metadata": {},
   "outputs": [],
   "source": [
    "# with open('pysam.py','w',encoding='utf-8') as f:\n",
    "#     data = \"\"\"import requests as req\n",
    "# url = 'https://finance.naver.com/sise/sise_market_sum.naver'\n",
    "# web = req.get(url)\n",
    "# html = web.text\n",
    "# f1 = html.find('삼성전자')\n",
    "# print(html[f1:f1 + 100].find('<td class=\"number\">'))\n",
    "# print('삼성전자: ' + html[f1:f1 + 100][19:50].replace('<td class=\"number\">','').replace('</td>','')+'원')\"\"\"\n",
    "#     f.write(data)"
   ]
  },
  {
   "cell_type": "code",
   "execution_count": 4,
   "id": "6a60cc97-b189-4d84-8783-f0714174b4fa",
   "metadata": {},
   "outputs": [],
   "source": [
    "# %%cmd\n",
    "# python pysam.py"
   ]
  },
  {
   "cell_type": "code",
   "execution_count": 11,
   "id": "33185d72-d95c-41c5-9075-9c4ea1620031",
   "metadata": {},
   "outputs": [],
   "source": [
    "# import pysam\n",
    "# pysam.sam('카카오')"
   ]
  },
  {
   "cell_type": "code",
   "execution_count": 6,
   "id": "7bbadb7a-eba6-4450-8e99-806213ccc895",
   "metadata": {},
   "outputs": [],
   "source": [
    "# with open('pysam.py','a') as f:\n",
    "#     content = '\\nprint(__name__)'\n",
    "#     f.write(content)"
   ]
  },
  {
   "cell_type": "markdown",
   "id": "ce3247d5-3fdc-460f-859c-1f191c00fb48",
   "metadata": {},
   "source": [
    "## 클래스나 변수 등을 포함한 모듈"
   ]
  },
  {
   "cell_type": "code",
   "execution_count": 3,
   "id": "faf2a224-b923-4db3-a267-7d6e07ab3c01",
   "metadata": {},
   "outputs": [],
   "source": [
    "with open('mod3.py','w') as f:\n",
    "    text = '''PI = 3.141592\\n\\nclass Math:\\n\\tdef solv(self,r):\\n\\t\\treturn PI * (r**2)\\n\\ndef add(a,b):\\n\\treturn a+b'''\n",
    "    f.write(text)\n",
    "    "
   ]
  },
  {
   "cell_type": "markdown",
   "id": "4ab49fdc-858a-4f94-a2b3-5dc570fbca1a",
   "metadata": {},
   "source": [
    "-CMD에서 set PYTHONPATH=D:\\pmj\\python\\mymod\n",
    "-PS에서 $env:PYTHONPATH=\"D:\\pmj\\python\\mymod\""
   ]
  },
  {
   "cell_type": "code",
   "execution_count": 4,
   "id": "0138a6b8-261c-4ccc-9af9-28c0e05f63ca",
   "metadata": {},
   "outputs": [
    {
     "name": "stdout",
     "output_type": "stream",
     "text": [
      "3.141592\n",
      "314.1592\n",
      "7.5415920000000005\n"
     ]
    }
   ],
   "source": [
    "import mod3\n",
    "# 변수\n",
    "print(mod3.PI)\n",
    "\n",
    "# 클래스\n",
    "a = mod3.Math()\n",
    "print(a.solv(10))\n",
    "\n",
    "# 함수\n",
    "print(mod3.add(mod3.PI,4.4))"
   ]
  },
  {
   "cell_type": "markdown",
   "id": "0cb3e8be-1acd-4fcd-bde5-e2c611ee54d0",
   "metadata": {},
   "source": [
    "## 다른 디렉터리에서 모듈 불러오기"
   ]
  },
  {
   "cell_type": "code",
   "execution_count": 1,
   "id": "4ce1d0b4-2763-4095-8a7e-3230fe7c4113",
   "metadata": {},
   "outputs": [
    {
     "data": {
      "text/plain": [
       "['C:\\\\Users\\\\Admin\\\\AppData\\\\Local\\\\Programs\\\\Python\\\\Python313\\\\python313.zip',\n",
       " 'C:\\\\Users\\\\Admin\\\\AppData\\\\Local\\\\Programs\\\\Python\\\\Python313\\\\DLLs',\n",
       " 'C:\\\\Users\\\\Admin\\\\AppData\\\\Local\\\\Programs\\\\Python\\\\Python313\\\\Lib',\n",
       " 'C:\\\\Users\\\\Admin\\\\AppData\\\\Local\\\\Programs\\\\Python\\\\Python313',\n",
       " '',\n",
       " 'C:\\\\Users\\\\Admin\\\\AppData\\\\Local\\\\Programs\\\\Python\\\\Python313\\\\Lib\\\\site-packages',\n",
       " 'C:\\\\Users\\\\Admin\\\\AppData\\\\Local\\\\Programs\\\\Python\\\\Python313\\\\Lib\\\\site-packages\\\\win32',\n",
       " 'C:\\\\Users\\\\Admin\\\\AppData\\\\Local\\\\Programs\\\\Python\\\\Python313\\\\Lib\\\\site-packages\\\\win32\\\\lib',\n",
       " 'C:\\\\Users\\\\Admin\\\\AppData\\\\Local\\\\Programs\\\\Python\\\\Python313\\\\Lib\\\\site-packages\\\\Pythonwin']"
      ]
     },
     "execution_count": 1,
     "metadata": {},
     "output_type": "execute_result"
    }
   ],
   "source": [
    "import sys\n",
    "sys.path"
   ]
  },
  {
   "cell_type": "code",
   "execution_count": 3,
   "id": "2b5a8a50-2c5c-4594-82ef-f6cd401751aa",
   "metadata": {},
   "outputs": [
    {
     "data": {
      "text/plain": [
       "['C:\\\\Users\\\\Admin\\\\AppData\\\\Local\\\\Programs\\\\Python\\\\Python313\\\\python313.zip',\n",
       " 'C:\\\\Users\\\\Admin\\\\AppData\\\\Local\\\\Programs\\\\Python\\\\Python313\\\\DLLs',\n",
       " 'C:\\\\Users\\\\Admin\\\\AppData\\\\Local\\\\Programs\\\\Python\\\\Python313\\\\Lib',\n",
       " 'C:\\\\Users\\\\Admin\\\\AppData\\\\Local\\\\Programs\\\\Python\\\\Python313',\n",
       " '',\n",
       " 'C:\\\\Users\\\\Admin\\\\AppData\\\\Local\\\\Programs\\\\Python\\\\Python313\\\\Lib\\\\site-packages',\n",
       " 'C:\\\\Users\\\\Admin\\\\AppData\\\\Local\\\\Programs\\\\Python\\\\Python313\\\\Lib\\\\site-packages\\\\win32',\n",
       " 'C:\\\\Users\\\\Admin\\\\AppData\\\\Local\\\\Programs\\\\Python\\\\Python313\\\\Lib\\\\site-packages\\\\win32\\\\lib',\n",
       " 'C:\\\\Users\\\\Admin\\\\AppData\\\\Local\\\\Programs\\\\Python\\\\Python313\\\\Lib\\\\site-packages\\\\Pythonwin',\n",
       " 'D:\\\\pmj\\\\python\\\\mymod',\n",
       " 'D:\\\\pmj\\\\python\\\\mymod']"
      ]
     },
     "execution_count": 3,
     "metadata": {},
     "output_type": "execute_result"
    }
   ],
   "source": [
    "sys.path.append('D:\\\\pmj\\\\python\\\\mymod') # 초기화하면 사라짐\n",
    "sys.path"
   ]
  },
  {
   "cell_type": "code",
   "execution_count": 7,
   "id": "c1afc55b-bba6-4f04-91f5-ddd089f211b0",
   "metadata": {},
   "outputs": [],
   "source": [
    "# !python.exe -m pip install --upgrade pip\n",
    "# !pip install python-dotenv"
   ]
  },
  {
   "cell_type": "code",
   "execution_count": 10,
   "id": "f6293ddd-0d4c-480e-ab87-24554d4cf613",
   "metadata": {},
   "outputs": [
    {
     "name": "stdout",
     "output_type": "stream",
     "text": [
      "myphone01077777777\n",
      "https://www.google.com\n",
      "이게 되려나 모르겠네.!\n"
     ]
    }
   ],
   "source": [
    "from dotenv import load_dotenv\n",
    "import os\n",
    "\n",
    "#.env 파일 로드\n",
    "load_dotenv()\n",
    "\n",
    "SKEY = os.getenv('SECRET_KEY')\n",
    "print(SKEY)\n",
    "DBUG = os.getenv('DEBUG')\n",
    "print(DBUG)\n",
    "TEST = os.getenv('TEST')\n",
    "print(TEST)"
   ]
  },
  {
   "cell_type": "code",
   "execution_count": 17,
   "id": "9e2d19fc-6b99-40a3-8e63-298089be09ce",
   "metadata": {},
   "outputs": [
    {
     "name": "stdout",
     "output_type": "stream",
     "text": [
      "{\n",
      "\t\"lastBuildDate\":\"Thu, 13 Feb 2025 15:47:11 +0900\",\n",
      "\t\"total\":2094071,\n",
      "\t\"start\":1,\n",
      "\t\"display\":5,\n",
      "\t\"items\":[\n",
      "\t\t{\n",
      "\t\t\t\"title\":\"잔혹한 학대 당하다 동창 살해한 10대…심신미약 수용 2심서 집행유예\",\n",
      "\t\t\t\"originallink\":\"http:\\/\\/www.kado.net\\/news\\/articleView.html?idxno=1293309\",\n",
      "\t\t\t\"link\":\"https:\\/\\/n.news.naver.com\\/mnews\\/article\\/654\\/0000105899?sid=102\",\n",
      "\t\t\t\"description\":\"<b>속보<\\/b>=잔혹한 괴롭힘을 참지 못하고 살인을 저지 10대 피고인(본지 5월 24일자 5면 등)의 심신미약에 대한 주장이 받아들여지면서 2심에서 집행유예로 감형받아 석방됐다. 13일 서울고법 춘천재판부 형사1부(부장판사... \",\n",
      "\t\t\t\"pubDate\":\"Thu, 13 Feb 2025 15:42:00 +0900\"\n",
      "\t\t},\n",
      "\t\t{\n",
      "\t\t\t\"title\":\"[<b>속보<\\/b>] 코스피 1.36% 오른 2583.17 마감...원·달러 환율 1447.5원\",\n",
      "\t\t\t\"originallink\":\"https:\\/\\/www.gukjenews.com\\/news\\/articleView.html?idxno=3201471\",\n",
      "\t\t\t\"link\":\"https:\\/\\/www.gukjenews.com\\/news\\/articleView.html?idxno=3201471\",\n",
      "\t\t\t\"description\":\"원·달러 환율이 13년 6개월만에 1400원을 돌파한 22일 오전 서울 여의도 국민은행 딜링룸 전광판에 환율이 표시되고 있다. 코스피는 전 거래일(2347.21)보다 27.51포인트(1.17%) 내린 2319.70에, 코스닥은 전... \",\n",
      "\t\t\t\"pubDate\":\"Thu, 13 Feb 2025 15:40:00 +0900\"\n",
      "\t\t},\n",
      "\t\t{\n",
      "\t\t\t\"title\":\"[<b>속보<\\/b>] 국힘 윤리위, 尹 제명·탈당 권유 등 징계 않기로 결정\",\n",
      "\t\t\t\"originallink\":\"https:\\/\\/www.busan.com\\/view\\/busan\\/view.php?code=2025021315294691312\",\n",
      "\t\t\t\"link\":\"https:\\/\\/n.news.naver.com\\/mnews\\/article\\/082\\/0001311655?sid=100\",\n",
      "\t\t\t\"description\":\"국민의힘 중앙윤리위원회가 한동훈 전 대표의 요구로 시작된 윤석열 대통령 징계 절차 종결을 선언하고 제명·탈당 권유 등 징계 조치를 하지 않기로 결론을 내렸다. 13일 여의도 당사에서 윤리위 회의를 마친 여상원 당... \",\n",
      "\t\t\t\"pubDate\":\"Thu, 13 Feb 2025 15:40:00 +0900\"\n",
      "\t\t},\n",
      "\t\t{\n",
      "\t\t\t\"title\":\"[<b>속보<\\/b>] 코스피, 34.78p(1.36%) 오른 2583.17 마감\",\n",
      "\t\t\t\"originallink\":\"https:\\/\\/www.ajunews.com\\/view\\/20250213153604105\",\n",
      "\t\t\t\"link\":\"https:\\/\\/www.ajunews.com\\/view\\/20250213153604105\",\n",
      "\t\t\t\"description\":\"아주경제=홍승우 기자 hongscoop@ajunews.com 코스피, 34.78p(1.36%) 오른 2583.17 마감 코스닥, 4.10p(0.55%) 오른 749.28 마감\",\n",
      "\t\t\t\"pubDate\":\"Thu, 13 Feb 2025 15:38:00 +0900\"\n",
      "\t\t},\n",
      "\t\t{\n",
      "\t\t\t\"title\":\"[ET라씨로]현대건설, 1조 규모 힐튼호텔 계약 수주에 상승세\",\n",
      "\t\t\t\"originallink\":\"https:\\/\\/www.etnews.com\\/20250213000336\",\n",
      "\t\t\t\"link\":\"https:\\/\\/n.news.naver.com\\/mnews\\/article\\/030\\/0003283966?sid=101\",\n",
      "\t\t\t\"description\":\"신청 이 기사는 전자신문과 금융 AI 전문기업 씽크풀이 공동으로 작성한 것입니다. AI를 기반으로 생성된 데이터에 기자의 취재 내용을 추가한 'AI 휴머노이드 기사'입니다. ※ ET라씨로에서 실시간 <b>속보<\\/b> 확인하기\",\n",
      "\t\t\t\"pubDate\":\"Thu, 13 Feb 2025 15:37:00 +0900\"\n",
      "\t\t}\n",
      "\t]\n",
      "}\n"
     ]
    }
   ],
   "source": [
    "# 네이버 검색 API 예제 - 블로그 검색\n",
    "import os\n",
    "import sys\n",
    "import urllib.request\n",
    "from dotenv import load_dotenv\n",
    "\n",
    "load_dotenv()\n",
    "client_id = os.environ.get(\"MY_ID\")\n",
    "client_secret = os.environ.get(\"MY_SECRET\")\n",
    "# client_id = \"IOvodwtgM4FiGEgdk75Z\" #\"MY_ID\"\n",
    "# client_secret = \"oM5gk7MHA5\"#\"MY_SECRET\"\n",
    "\n",
    "encText = urllib.parse.quote(\"속보\")\n",
    "url = \"https://openapi.naver.com/v1/search/news.json?query=\" + encText +'&display=5&start=1&sort=date' # JSON 결과\n",
    "# url = \"https://openapi.naver.com/v1/search/blog.xml?query=\" + encText # XML 결과\n",
    "request = urllib.request.Request(url)\n",
    "request.add_header(\"X-Naver-Client-Id\",client_id)\n",
    "request.add_header(\"X-Naver-Client-Secret\",client_secret)\n",
    "response = urllib.request.urlopen(request)\n",
    "rescode = response.getcode()\n",
    "if(rescode==200):\n",
    "    response_body = response.read()\n",
    "    print(response_body.decode('utf-8'))\n",
    "else:\n",
    "    print(\"Error Code:\" + rescode)"
   ]
  },
  {
   "cell_type": "code",
   "execution_count": 19,
   "id": "6f1ad74a-69b1-47fe-9211-0b56b551fd9f",
   "metadata": {},
   "outputs": [
    {
     "name": "stdout",
     "output_type": "stream",
     "text": [
      "[속보<>]국민의힘 윤리위, 尹 징계 않기로\n",
      "국민의힘 윤리위, 尹 징계 않기로 ※CBS노컷뉴스는 여러분의 제보로 함께 세상을 바꿉니다. 각종 비리와 부당대우, 사건사고와 미담 등 모든 얘깃거리를 알려주세요.이메일 : 카카오톡 : @노컷뉴스사이트 : https... \n",
      "https://www.nocutnews.co.kr/news/6292989?utm_source=naver&utm_medium=article&utm_campaign=20250213035336\n",
      "[속보<>]박지원, 홍장원 인사청탁 부정 “청탁자는 주영대사 역임 前 간부...\n",
      "박지원 더불어민주당 의원이 13일 “홍장원 전 국가정보원 1차장은 정보위 회의에서 첫 대면했다”라면서 홍 전 차장이 자신에게 인사 청탁을 했다는 의혹을 전면 부인했다. 박 의원은 이날 자신의 페이스북에 글을 올려... \n",
      "https://www.munhwa.com/news/view.html?no=2025021301039910289018\n",
      "[속보<>] KT, 올해 2500억 규모 자사주 소각\n",
      "KT는 올해 약 2500억원 규모의 자사주를 소각한다고 13일 밝혔다. 소각할 주식은 보통주 553만7099주다. KT는 지난해 11월 발표한 기업가치 제고 계획(밸류업 프로그램)을 발표하며 연결 자기자본이익률(ROE) 목표를 9... \n",
      "https://www.newsis.com/view/NISX20250213_0003064022\n",
      "[속보<>] 국힘 윤리위, 尹 제명·탈당 권유 등 징계 않기로 결정\n",
      "국민의힘 중앙윤리위원회가 한동훈 전 대표의 요구로 시작된 윤석열 대통령 징계 절차 종결을 선언하고 제명·탈당 권유 등 징계 조치를 하지 않기로 결론을 내렸다. 13일 여의도 당사에서 윤리위 회의를 마친 여상원 당... \n",
      "https://www.busan.com/view/busan/view.php?code=2025021315294691312\n",
      "[속보<>] '이재명 습격' 60대 남성 징역 15년 확정\n",
      "지난해 1월 이재명 더불어민주당 대표를 흉기로 살해하려고 시도한 60대 남성에게 징역 15년이 확정됐다. 13일 대법원 2부(오경미 대법관)는 살인미수와 공직선거법 위반 혐의로 기소된 김모(68)씨에게 징역 15년을... \n",
      "https://www.hankyung.com/article/2025021327947\n"
     ]
    }
   ],
   "source": [
    "# 네이버 검색 API 예제 - 블로그 검색\n",
    "import os\n",
    "import sys\n",
    "import urllib.request\n",
    "from dotenv import load_dotenv\n",
    "import json\n",
    "\n",
    "load_dotenv()\n",
    "client_id = os.environ.get(\"MY_ID\")\n",
    "client_secret = os.environ.get(\"MY_SECRET\")\n",
    "# client_id = \"IOvodwtgM4FiGEgdk75Z\" #\"MY_ID\"\n",
    "# client_secret = \"oM5gk7MHA5\"#\"MY_SECRET\"\n",
    "\n",
    "encText = urllib.parse.quote(\"속보\")\n",
    "url = \"https://openapi.naver.com/v1/search/news.json?query=\" + encText +'&display=5&start=1&sort=sim' # JSON 결과\n",
    "# url = \"https://openapi.naver.com/v1/search/blog.xml?query=\" + encText # XML 결과\n",
    "request = urllib.request.Request(url)\n",
    "request.add_header(\"X-Naver-Client-Id\",client_id)\n",
    "request.add_header(\"X-Naver-Client-Secret\",client_secret)\n",
    "response = urllib.request.urlopen(request)\n",
    "rescode = response.getcode()\n",
    "if(rescode==200):\n",
    "    response_body = response.read()\n",
    "    result = response_body.decode('utf-8')\n",
    "    data = json.loads(result)\n",
    "    ldata = data['items']\n",
    "    for n in ldata:\n",
    "        print(n['title'].replace('<b>','').replace('</b>','<>'))\n",
    "        print(n['description'])\n",
    "        print(n['originallink'])\n",
    "    # print(response_body.decode('utf-8'))\n",
    "else:\n",
    "    print(\"Error Code:\" + rescode)"
   ]
  },
  {
   "cell_type": "code",
   "execution_count": null,
   "id": "76adf09b-4bb2-4239-8b90-962b37279517",
   "metadata": {},
   "outputs": [],
   "source": [
    "!pip install qrcode"
   ]
  },
  {
   "cell_type": "code",
   "execution_count": 1,
   "id": "18acf4c8-a499-4e94-b42e-91273626efc6",
   "metadata": {},
   "outputs": [],
   "source": [
    "import qrcode\n",
    "\n",
    "def qrcode_maker(text,filename='qr.png'):\n",
    "    qr = qrcode.make(text)\n",
    "    qr.save(filename)\n",
    "\n",
    "qrcode_maker('안녕')\n",
    "# qrcode_maker('https://github.com/pmj8298/team_study','team_study.png')"
   ]
  },
  {
   "cell_type": "code",
   "execution_count": 3,
   "id": "c2db1d82-4e47-4f31-9ab6-c1840d734aad",
   "metadata": {},
   "outputs": [
    {
     "data": {
      "text/html": [
       "<img src =\"qr.png\" width=100>"
      ],
      "text/plain": [
       "<IPython.core.display.HTML object>"
      ]
     },
     "metadata": {},
     "output_type": "display_data"
    }
   ],
   "source": [
    "from IPython.display import display ,HTML\n",
    "from PIL import Image\n",
    "\n",
    "# image_path = 'team_study.png'\n",
    "image_path = 'qr.png'\n",
    "img = Image.open(image_path)\n",
    "# htmlcode = '<img src =\"https://github.com/pmj8298/team_study\" width=100>'\n",
    "htmlcode = '<img src =\"qr.png\" width=100>'\n",
    "display(HTML(htmlcode))\n",
    "# display(img)"
   ]
  },
  {
   "cell_type": "markdown",
   "id": "700ffe55-fb50-433b-9793-38ffd0dbddee",
   "metadata": {},
   "source": [
    "# 패키지"
   ]
  },
  {
   "cell_type": "markdown",
   "id": "0b0639a9-97ff-4797-982e-c0e242ef1a1e",
   "metadata": {},
   "source": [
    "## 패키지 만들기"
   ]
  },
  {
   "cell_type": "code",
   "execution_count": 3,
   "id": "6eeb94cf-b072-44c8-b054-a607fef2d067",
   "metadata": {},
   "outputs": [],
   "source": [
    "# %%cmd\n",
    "# set PYTHONPATH= D:\\pmj\\python\\game"
   ]
  },
  {
   "cell_type": "code",
   "execution_count": 12,
   "id": "5ea75ecb-f325-4999-8517-759f772eea1c",
   "metadata": {},
   "outputs": [
    {
     "name": "stdout",
     "output_type": "stream",
     "text": [
      "에코\n",
      "랜더링\n"
     ]
    }
   ],
   "source": [
    "# 테스트1 명시적이다. 그렇지만 길다\n",
    "# 패키지를 만들때는 폴더를 하나 만들어야한다\n",
    "# new file 눌러서 echo.py 만듦\n",
    "# new file 눌러서 render.py 만듦\n",
    "# import echo\n",
    "# import render\n",
    "# echo.echo_test()\n",
    "# render.render_test()\n",
    "# game이라는 폴더를 만들어서 echo.py render.py를 옮김\n",
    "# 폴더로 옮기고 다시 실행시키면 에러가 뜸\n",
    "# 위에\n",
    "# %%cmd\n",
    "# set PYTHONPATH= D:\\pmj\\python\\game\n",
    "# 이거 안해줘도 경로 다 적어주면 된다\n",
    "# 즉 import할 때 경로 설정은 폴더이름.폴더이름.파일이름 이런 식으로 적어주면 된다\n",
    "import game.sound.echo\n",
    "import game.graphic.render\n",
    "game.sound.echo.echo_test()\n",
    "game.graphic.render.render_test()\n",
    "# echo.py를 하나 더 만듦 충돌을 생각해서.."
   ]
  },
  {
   "cell_type": "code",
   "execution_count": 16,
   "id": "95a45878-c1a4-44d1-99b0-3f65c5407d42",
   "metadata": {},
   "outputs": [
    {
     "name": "stdout",
     "output_type": "stream",
     "text": [
      "에코\n",
      "비디오에코\n"
     ]
    }
   ],
   "source": [
    "# graphic 안에 뒀던 echo.py를 echo_v.py로 바꾸고 다 game 폴더로 다시 옮김\n",
    "# import game.echo, game.echo_v\n",
    "# from game.echo import echo_test\n",
    "# from game.echo_v import echo_test \n",
    "# echo_test()\n",
    "# echo_test()\n",
    "# 중복된 내용이 있다면 마지막의 것만 실행된다\n",
    "from game.echo import echo_test as e\n",
    "from game.echo_v import echo_test as ev\n",
    "e()\n",
    "ev()\n",
    "# 이렇게 별칭을 쓰면 해결되긴 하는데 별칭도 충돌이 생길 수 있다"
   ]
  },
  {
   "cell_type": "code",
   "execution_count": null,
   "id": "af7bf96a-4f04-4252-970a-837ee5f01427",
   "metadata": {},
   "outputs": [],
   "source": [
    "# import game.graphic.echo # graphic 내부에 있는 echo_test\n",
    "# import game.sound.echo # sound 내부에 있는 echo_test\n",
    "# 이렇게 변경하면 됨\n",
    "# from game.graphic.echo import echo_test\n",
    "# from game.sound.echo import echo_test\n",
    "# 두 줄을 이렇게 한줄로 변경가능 함\n",
    "from game import graphic.echo, sound.echo\n",
    "graphic.echo_test()"
   ]
  },
  {
   "cell_type": "code",
   "execution_count": 5,
   "id": "733d2d47-15dc-40fe-acd0-c9db65a1669f",
   "metadata": {},
   "outputs": [
    {
     "name": "stdout",
     "output_type": "stream",
     "text": [
      "3.6\n",
      "The version of this game is 3.6\n"
     ]
    }
   ],
   "source": [
    "# game, sound, graphic 폴더에 가서 __init__.py파일을 만들어줌\n",
    "# __init__.py 를 만들어주기 전까지는 파일 경로를 길에 나열해야했지만 __init__.py에 미리 적어두면 간단하게 game만 import 시켜도 실행가능하다\n",
    "import game\n",
    "print(game.VERSION)\n",
    "# print(game.print_version_info()) # -> none이 나오기 때문에 함수만 실행해보기\n",
    "game.print_version_info()"
   ]
  },
  {
   "cell_type": "code",
   "execution_count": 5,
   "id": "779a14f6-c0c9-44de-b3e9-03cd9e36baaa",
   "metadata": {},
   "outputs": [],
   "source": [
    "\n",
    "# game 폴더의 __init__.py 파일에 from .graphic.render import render_test를 적어둠\n",
    "# -> 미리 import 시킬 수 있기때문에 간단해짐\n",
    "import game\n",
    "# game.render_test()"
   ]
  },
  {
   "cell_type": "code",
   "execution_count": 2,
   "id": "9d113426-2f0d-4c94-8480-d625105965c2",
   "metadata": {},
   "outputs": [
    {
     "name": "stdout",
     "output_type": "stream",
     "text": [
      "랜더링\n"
     ]
    }
   ],
   "source": [
    "game.render_test()"
   ]
  },
  {
   "cell_type": "code",
   "execution_count": 4,
   "id": "a6006e13-19c7-422d-9faf-12e48531d186",
   "metadata": {},
   "outputs": [],
   "source": [
    "import game # 이제 안나옴"
   ]
  },
  {
   "cell_type": "code",
   "execution_count": 1,
   "id": "4367c64a-7ee8-483c-b2be-e862af060e3e",
   "metadata": {},
   "outputs": [
    {
     "name": "stdout",
     "output_type": "stream",
     "text": [
      "Initializing Game...\n"
     ]
    }
   ],
   "source": [
    "import game.graphic"
   ]
  },
  {
   "cell_type": "code",
   "execution_count": 3,
   "id": "3a5b923b-da23-4bcf-b1da-9b2a0e0a9688",
   "metadata": {},
   "outputs": [
    {
     "name": "stdout",
     "output_type": "stream",
     "text": [
      "The version of this graphic of game is 3.7\n"
     ]
    }
   ],
   "source": [
    "game.graphic.print_version_info()\n",
    "# 하위 하위에 있는 __init__.py"
   ]
  },
  {
   "cell_type": "code",
   "execution_count": 1,
   "id": "12daf315-db18-4c3f-8a22-a53ea9eaebb8",
   "metadata": {},
   "outputs": [
    {
     "name": "stdout",
     "output_type": "stream",
     "text": [
      "Initializing Game...\n"
     ]
    }
   ],
   "source": [
    "# __all__ 사용하기\n",
    "from game.graphic import * "
   ]
  },
  {
   "cell_type": "code",
   "execution_count": 3,
   "id": "a5459799-38f4-4b17-ba41-46449ed95a40",
   "metadata": {},
   "outputs": [
    {
     "name": "stdout",
     "output_type": "stream",
     "text": [
      "비디오에코\n"
     ]
    }
   ],
   "source": [
    "# 바로 출력시키면 에러 나기때문에\n",
    "# graphic 폴더의 __init__.py파일에 들어가서 __all__ = ['echo']를 미리 추가시켜 주어야한다\n",
    "echo.echo_test()\n",
    "\n",
    "# 착각하기 쉬운데 from game.sound.echo import *은 __all__과 상관없이 import된다. 이렇게 __all__과 상관없이 무조건 import되는 경우는 from a.b.c import *에서 from의 마지막 항목인 c가 모듈인 때이다."
   ]
  },
  {
   "cell_type": "code",
   "execution_count": 1,
   "id": "7b71d1ab-cf96-4071-82a1-f72e0ccfab49",
   "metadata": {},
   "outputs": [
    {
     "name": "stdout",
     "output_type": "stream",
     "text": [
      "Initializing Game...\n"
     ]
    }
   ],
   "source": [
    "# relative 패키지\n",
    "# from game.sound.echo import echo_test -> render.py에 넣어주고  echo_test() 마지막에 분여줌\n",
    "# sound에 있는 echo 를 불러올거라서\n",
    "from game.graphic.render import render_test"
   ]
  },
  {
   "cell_type": "code",
   "execution_count": 3,
   "id": "9ce232f5-fa55-499c-ad9d-1e1e74c90a61",
   "metadata": {},
   "outputs": [
    {
     "name": "stdout",
     "output_type": "stream",
     "text": [
      "랜더링\n",
      "에코\n"
     ]
    }
   ],
   "source": [
    "# 같은 폴더에 있는 비디오 에코가 아닌 사운드 에코를 불러옴\n",
    "render_test()"
   ]
  },
  {
   "cell_type": "markdown",
   "id": "387bdb7b-99bc-4549-96db-4619ef951bc4",
   "metadata": {},
   "source": [
    "# 예외 처리"
   ]
  },
  {
   "cell_type": "markdown",
   "id": "4c0a8368-2c07-4647-a868-e7ddc41e8717",
   "metadata": {},
   "source": [
    "## 오류발생\n",
    "- 오타\n",
    "- 존재하지 않는 파일을 지정 또는 사용\n",
    "- 수학적 오류\n",
    "- 인덱스 오류\n",
    "- 문법 오류\n",
    "## 오류 예외 처리 기법\n",
    "- try-except 문\n",
    "- try-finally 문\n",
    "- 여러개의 오류 처리\n",
    "- try-else 문"
   ]
  },
  {
   "cell_type": "code",
   "execution_count": 9,
   "id": "9944e668-0539-4132-9036-df9a088b642f",
   "metadata": {},
   "outputs": [],
   "source": [
    "# f = open('뜬금파일', 'r')\n",
    "# FileNotFoundError: [Errno 2] No such file or directory: '뜬금파일'"
   ]
  },
  {
   "cell_type": "code",
   "execution_count": 11,
   "id": "7d76dd7b-1db4-4251-a2c4-5fca392590de",
   "metadata": {},
   "outputs": [],
   "source": [
    "# 4/0\n",
    "# ZeroDivisionError: division by zero"
   ]
  },
  {
   "cell_type": "code",
   "execution_count": 10,
   "id": "81f2d9bf-b079-4a22-93d6-412a3e7be44a",
   "metadata": {},
   "outputs": [],
   "source": [
    "# a = [1,2,3]\n",
    "# print(a[7])\n",
    "# IndexError: list index out of range"
   ]
  },
  {
   "cell_type": "code",
   "execution_count": 15,
   "id": "63cf4cbb-6aed-415d-a2e2-110b2542f372",
   "metadata": {},
   "outputs": [
    {
     "name": "stdout",
     "output_type": "stream",
     "text": [
      "없는거 찾지마\n",
      "[Errno 2] No such file or directory: '뜬금파일'\n",
      "코드 끝\n"
     ]
    }
   ],
   "source": [
    "# 테스트1\n",
    "# try except, try finally, try except finally 써도 되는데 try 단독으로 사용 불가\n",
    "try:\n",
    "    f = open('뜬금파일', 'r')\n",
    "except FileNotFoundError as e:\n",
    "    if e:\n",
    "        print('없는거 찾지마')\n",
    "    print(e)\n",
    "finally:\n",
    "    print('코드 끝')\n",
    "    "
   ]
  },
  {
   "cell_type": "code",
   "execution_count": 27,
   "id": "220d907d-6349-41ab-9f2a-318b4e17b6da",
   "metadata": {},
   "outputs": [
    {
     "name": "stdout",
     "output_type": "stream",
     "text": [
      "0으로 나눌 수 없어료 division by zero\n"
     ]
    }
   ],
   "source": [
    "# 지정한 이름의 예외처리 as로 별칭\n",
    "try:\n",
    "    4/0\n",
    "except ZeroDivisionError as e:\n",
    "    print('0으로 나눌 수 없어료',e)"
   ]
  },
  {
   "cell_type": "code",
   "execution_count": 28,
   "id": "ffb33ec4-1c78-411b-ba34-ae2371d4a14f",
   "metadata": {},
   "outputs": [
    {
     "name": "stdout",
     "output_type": "stream",
     "text": [
      "0으로 나누지 마세요\n"
     ]
    }
   ],
   "source": [
    "#try-except-finally 3단계도 가능, finally는 에러가 나도 무조건 처리하는 것(여기서는 파일 닫기를 무조건 처리)\n",
    "try:\n",
    "    f = open('foo.txt','w')\n",
    "    f.write(4/0)\n",
    "except:\n",
    "    print('0으로 나누지 마세요')\n",
    "finally:\n",
    "    f.close()"
   ]
  },
  {
   "cell_type": "code",
   "execution_count": 24,
   "id": "9afee5a9-2c09-4d3f-a4db-44274ad289a8",
   "metadata": {},
   "outputs": [
    {
     "name": "stdout",
     "output_type": "stream",
     "text": [
      "tuple index out of range\n"
     ]
    }
   ],
   "source": [
    "try:\n",
    "    a = 1,2\n",
    "    print(a[4])\n",
    "    4/0\n",
    "except ZeroDivisionError:\n",
    "    print('0으로 나누지 마세요')\n",
    "except IndexError as e:\n",
    "    print(e)\n",
    "\n",
    "# 중복 에러는 처름 만나는 에러만 출력\n",
    "# 정상 중복값은 마지막 값만 출력"
   ]
  },
  {
   "cell_type": "code",
   "execution_count": 26,
   "id": "98221228-85a5-4f01-b6b7-c550b9f6e673",
   "metadata": {},
   "outputs": [
    {
     "name": "stdout",
     "output_type": "stream",
     "text": [
      "tuple index out of range\n"
     ]
    }
   ],
   "source": [
    "# 2개 이상의 오류를 동일하게 처리\n",
    "try:\n",
    "    a = 1,2\n",
    "    print(a[4])\n",
    "    4/0\n",
    "except (ZeroDivisionError,IndexError) as e:\n",
    "    print(e)"
   ]
  },
  {
   "cell_type": "code",
   "execution_count": 31,
   "id": "8fde8a00-1d85-47dd-9a40-094b2e1913bf",
   "metadata": {},
   "outputs": [
    {
     "name": "stdin",
     "output_type": "stream",
     "text": [
      "나이를 입력하세요 18\n"
     ]
    },
    {
     "name": "stdout",
     "output_type": "stream",
     "text": [
      "미성년자는 출입금지\n",
      "====================\n",
      "분석 끝.\n"
     ]
    }
   ],
   "source": [
    "# try-else문\n",
    "try:\n",
    "    age = int(input('나이를 입력하세요'))\n",
    "except:\n",
    "    print('입력이 정확하지 않습니다.')\n",
    "else:\n",
    "    if age <= 18:\n",
    "        print('미성년자는 출입금지')\n",
    "    else:\n",
    "        print('환영합니다')\n",
    "finally:\n",
    "    print('='*20+'\\n분석 끝.')"
   ]
  },
  {
   "cell_type": "code",
   "execution_count": 34,
   "id": "0d43da6a-31db-45f8-ad92-989b0a7e58c6",
   "metadata": {},
   "outputs": [
    {
     "name": "stdout",
     "output_type": "stream",
     "text": [
      "반가워\n"
     ]
    }
   ],
   "source": [
    "# 오류 회피하기\n",
    "try:\n",
    "    print('반가워')\n",
    "    f = open('없는파일','r') # -> 에러가 난 이 지점부터 아무것도 처리 하지 않음\n",
    "    4/0\n",
    "    print('안녕')\n",
    "except FileNotFoundError:\n",
    "    pass"
   ]
  },
  {
   "cell_type": "code",
   "execution_count": 38,
   "id": "2a075d9f-eacf-427b-af15-70f4dd5994e2",
   "metadata": {},
   "outputs": [],
   "source": [
    "# 오류 일부러 발생시키기(클래스 상속 기반)\n",
    "class Bird:\n",
    "    def fly(self):\n",
    "        raise NotImplementedError # 필요한 부분이 빠졌다는 뜻"
   ]
  },
  {
   "cell_type": "code",
   "execution_count": 39,
   "id": "01dbd9af-8c72-471d-8d2d-1ce20f4a531e",
   "metadata": {},
   "outputs": [
    {
     "ename": "NotImplementedError",
     "evalue": "",
     "output_type": "error",
     "traceback": [
      "\u001b[1;31m---------------------------------------------------------------------------\u001b[0m",
      "\u001b[1;31mNotImplementedError\u001b[0m                       Traceback (most recent call last)",
      "Cell \u001b[1;32mIn[39], line 2\u001b[0m\n\u001b[0;32m      1\u001b[0m bird \u001b[38;5;241m=\u001b[39m Bird()\n\u001b[1;32m----> 2\u001b[0m \u001b[43mbird\u001b[49m\u001b[38;5;241;43m.\u001b[39;49m\u001b[43mfly\u001b[49m\u001b[43m(\u001b[49m\u001b[43m)\u001b[49m\n",
      "Cell \u001b[1;32mIn[38], line 4\u001b[0m, in \u001b[0;36mBird.fly\u001b[1;34m(self)\u001b[0m\n\u001b[0;32m      3\u001b[0m \u001b[38;5;28;01mdef\u001b[39;00m\u001b[38;5;250m \u001b[39m\u001b[38;5;21mfly\u001b[39m(\u001b[38;5;28mself\u001b[39m):\n\u001b[1;32m----> 4\u001b[0m     \u001b[38;5;28;01mraise\u001b[39;00m \u001b[38;5;167;01mNotImplementedError\u001b[39;00m\n",
      "\u001b[1;31mNotImplementedError\u001b[0m: "
     ]
    }
   ],
   "source": [
    "bird = Bird()\n",
    "bird.fly()"
   ]
  },
  {
   "cell_type": "code",
   "execution_count": 47,
   "id": "df30e3cf-047e-4d39-b6ef-efbfa1174f5f",
   "metadata": {},
   "outputs": [],
   "source": [
    "class Eagle(Bird):\n",
    "    def fly(self):\n",
    "        print('난 독수리')\n",
    "\n",
    "# def fly(self):\n",
    "#         raise NotImplementedError # 필요한 부분이 빠졌다는 뜻\n",
    "# 이 부분을 \n",
    "# def fly(self):\n",
    "#         print('난 독수리')\n",
    "# 이 부분으로 덮어씌웠기 때문에(메서드 오버라이딩)\n",
    "# 난 독수리가 출력된다"
   ]
  },
  {
   "cell_type": "code",
   "execution_count": 44,
   "id": "089edc58-60a0-4fc4-9fdc-27f76f4286ca",
   "metadata": {},
   "outputs": [
    {
     "name": "stdout",
     "output_type": "stream",
     "text": [
      "난 독수리\n"
     ]
    }
   ],
   "source": [
    "eagle = Eagle()\n",
    "eagle.fly()"
   ]
  },
  {
   "cell_type": "code",
   "execution_count": 45,
   "id": "4ac93813-9829-4080-aee7-4b6930e2fe73",
   "metadata": {},
   "outputs": [],
   "source": [
    "class Eagle(Bird):\n",
    "    pass"
   ]
  },
  {
   "cell_type": "code",
   "execution_count": 46,
   "id": "d5906879-94ed-4950-bbe0-1f262e896cbc",
   "metadata": {},
   "outputs": [
    {
     "ename": "NotImplementedError",
     "evalue": "",
     "output_type": "error",
     "traceback": [
      "\u001b[1;31m---------------------------------------------------------------------------\u001b[0m",
      "\u001b[1;31mNotImplementedError\u001b[0m                       Traceback (most recent call last)",
      "Cell \u001b[1;32mIn[46], line 2\u001b[0m\n\u001b[0;32m      1\u001b[0m eagle \u001b[38;5;241m=\u001b[39m Eagle()\n\u001b[1;32m----> 2\u001b[0m \u001b[43meagle\u001b[49m\u001b[38;5;241;43m.\u001b[39;49m\u001b[43mfly\u001b[49m\u001b[43m(\u001b[49m\u001b[43m)\u001b[49m\n",
      "Cell \u001b[1;32mIn[38], line 4\u001b[0m, in \u001b[0;36mBird.fly\u001b[1;34m(self)\u001b[0m\n\u001b[0;32m      3\u001b[0m \u001b[38;5;28;01mdef\u001b[39;00m\u001b[38;5;250m \u001b[39m\u001b[38;5;21mfly\u001b[39m(\u001b[38;5;28mself\u001b[39m):\n\u001b[1;32m----> 4\u001b[0m     \u001b[38;5;28;01mraise\u001b[39;00m \u001b[38;5;167;01mNotImplementedError\u001b[39;00m\n",
      "\u001b[1;31mNotImplementedError\u001b[0m: "
     ]
    }
   ],
   "source": [
    "eagle = Eagle()\n",
    "eagle.fly()"
   ]
  },
  {
   "cell_type": "code",
   "execution_count": 49,
   "id": "a6c865d6-d03a-4434-8062-b8ab2063ae90",
   "metadata": {},
   "outputs": [],
   "source": [
    "# 예외 만들기\n",
    "class MyError(Exception):\n",
    "    pass"
   ]
  },
  {
   "cell_type": "code",
   "execution_count": 50,
   "id": "eca2fa3d-4460-47ec-bd80-554839e31816",
   "metadata": {},
   "outputs": [],
   "source": [
    "def say_nick(nick):\n",
    "    if nick == '바보':\n",
    "        raise MyError()\n",
    "    print(nick)"
   ]
  },
  {
   "cell_type": "code",
   "execution_count": 51,
   "id": "ae857e47-a9a0-48f0-b43e-eced333dbb45",
   "metadata": {},
   "outputs": [
    {
     "ename": "MyError",
     "evalue": "",
     "output_type": "error",
     "traceback": [
      "\u001b[1;31m---------------------------------------------------------------------------\u001b[0m",
      "\u001b[1;31mMyError\u001b[0m                                   Traceback (most recent call last)",
      "Cell \u001b[1;32mIn[51], line 1\u001b[0m\n\u001b[1;32m----> 1\u001b[0m \u001b[43msay_nick\u001b[49m\u001b[43m(\u001b[49m\u001b[38;5;124;43m'\u001b[39;49m\u001b[38;5;124;43m바보\u001b[39;49m\u001b[38;5;124;43m'\u001b[39;49m\u001b[43m)\u001b[49m\n",
      "Cell \u001b[1;32mIn[50], line 3\u001b[0m, in \u001b[0;36msay_nick\u001b[1;34m(nick)\u001b[0m\n\u001b[0;32m      1\u001b[0m \u001b[38;5;28;01mdef\u001b[39;00m\u001b[38;5;250m \u001b[39m\u001b[38;5;21msay_nick\u001b[39m(nick):\n\u001b[0;32m      2\u001b[0m     \u001b[38;5;28;01mif\u001b[39;00m nick \u001b[38;5;241m==\u001b[39m \u001b[38;5;124m'\u001b[39m\u001b[38;5;124m바보\u001b[39m\u001b[38;5;124m'\u001b[39m:\n\u001b[1;32m----> 3\u001b[0m         \u001b[38;5;28;01mraise\u001b[39;00m MyError()\n\u001b[0;32m      4\u001b[0m     \u001b[38;5;28mprint\u001b[39m(nick)\n",
      "\u001b[1;31mMyError\u001b[0m: "
     ]
    }
   ],
   "source": [
    "say_nick('바보')"
   ]
  },
  {
   "cell_type": "code",
   "execution_count": 55,
   "id": "c7da555b-87dd-4fd3-93c6-9addf00096fe",
   "metadata": {},
   "outputs": [
    {
     "name": "stdout",
     "output_type": "stream",
     "text": [
      "천사\n",
      "욕하지마 나 바보아냐 욕하지마 그래도 사람은 착해\n"
     ]
    }
   ],
   "source": [
    "try:\n",
    "    say_nick('천사')\n",
    "    say_nick('바보')\n",
    "except MyError as e:\n",
    "    print('욕하지마 나 바보아냐', e)"
   ]
  },
  {
   "cell_type": "code",
   "execution_count": 54,
   "id": "ffc9793e-8547-41d2-bfde-42353aa9479b",
   "metadata": {},
   "outputs": [],
   "source": [
    "class MyError(Exception):\n",
    "    def __str__(self):\n",
    "        return '욕하지마 그래도 사람은 착해'"
   ]
  }
 ],
 "metadata": {
  "kernelspec": {
   "display_name": "Python 3 (ipykernel)",
   "language": "python",
   "name": "python3"
  },
  "language_info": {
   "codemirror_mode": {
    "name": "ipython",
    "version": 3
   },
   "file_extension": ".py",
   "mimetype": "text/x-python",
   "name": "python",
   "nbconvert_exporter": "python",
   "pygments_lexer": "ipython3",
   "version": "3.13.1"
  }
 },
 "nbformat": 4,
 "nbformat_minor": 5
}
