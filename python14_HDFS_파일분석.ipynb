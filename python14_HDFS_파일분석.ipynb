{
 "cells": [
  {
   "cell_type": "code",
   "execution_count": 1,
   "id": "bf29d248-ae37-4053-8879-9d1e031cef80",
   "metadata": {},
   "outputs": [
    {
     "name": "stdout",
     "output_type": "stream",
     "text": [
      "172.18.0.2 \n"
     ]
    }
   ],
   "source": [
    "!hostname -I"
   ]
  },
  {
   "cell_type": "code",
   "execution_count": 1,
   "id": "c707ee9c-fd9b-4226-b94c-e1337cf3c1bb",
   "metadata": {},
   "outputs": [
    {
     "name": "stdout",
     "output_type": "stream",
     "text": [
      "172.19.0.6 172.18.0.2 \n"
     ]
    }
   ],
   "source": [
    "!hostname -I"
   ]
  },
  {
   "cell_type": "code",
   "execution_count": 3,
   "id": "aa24b31d-266a-49d1-8fbe-2d47d05298bf",
   "metadata": {},
   "outputs": [
    {
     "name": "stdout",
     "output_type": "stream",
     "text": [
      "Defaulting to user installation because normal site-packages is not writeable\n",
      "Collecting hdfs\n",
      "  Downloading hdfs-2.7.3.tar.gz (43 kB)\n",
      "  Preparing metadata (setup.py) ... \u001b[?25ldone\n",
      "\u001b[?25hCollecting docopt (from hdfs)\n",
      "  Downloading docopt-0.6.2.tar.gz (25 kB)\n",
      "  Preparing metadata (setup.py) ... \u001b[?25ldone\n",
      "\u001b[?25hRequirement already satisfied: requests>=2.7.0 in /home/pkdata/.local/lib/python3.10/site-packages (from hdfs) (2.32.3)\n",
      "Requirement already satisfied: six>=1.9.0 in /home/pkdata/.local/lib/python3.10/site-packages (from hdfs) (1.17.0)\n",
      "Requirement already satisfied: charset-normalizer<4,>=2 in /home/pkdata/.local/lib/python3.10/site-packages (from requests>=2.7.0->hdfs) (3.4.1)\n",
      "Requirement already satisfied: idna<4,>=2.5 in /home/pkdata/.local/lib/python3.10/site-packages (from requests>=2.7.0->hdfs) (3.10)\n",
      "Requirement already satisfied: urllib3<3,>=1.21.1 in /home/pkdata/.local/lib/python3.10/site-packages (from requests>=2.7.0->hdfs) (2.3.0)\n",
      "Requirement already satisfied: certifi>=2017.4.17 in /home/pkdata/.local/lib/python3.10/site-packages (from requests>=2.7.0->hdfs) (2025.1.31)\n",
      "Building wheels for collected packages: hdfs, docopt\n",
      "  Building wheel for hdfs (setup.py) ... \u001b[?25ldone\n",
      "\u001b[?25h  Created wheel for hdfs: filename=hdfs-2.7.3-py3-none-any.whl size=34347 sha256=1816dd72dee3152a9725b921f249281f47c14d74797ebb02ee0546d41f8eab90\n",
      "  Stored in directory: /home/pkdata/.cache/pip/wheels/e5/8d/b6/99c1c0a3ac5788c866b0ecd3f48b0134a5910e6ed26011800b\n",
      "  Building wheel for docopt (setup.py) ... \u001b[?25ldone\n",
      "\u001b[?25h  Created wheel for docopt: filename=docopt-0.6.2-py2.py3-none-any.whl size=13723 sha256=62034504ca12d5e7a356faa5d1d8ff0b49b66a07de541a0f3218197875714d50\n",
      "  Stored in directory: /home/pkdata/.cache/pip/wheels/fc/ab/d4/5da2067ac95b36618c629a5f93f809425700506f72c9732fac\n",
      "Successfully built hdfs docopt\n",
      "Installing collected packages: docopt, hdfs\n",
      "\u001b[33m  WARNING: The scripts hdfscli and hdfscli-avro are installed in '/home/pkdata/.local/bin' which is not on PATH.\n",
      "  Consider adding this directory to PATH or, if you prefer to suppress this warning, use --no-warn-script-location.\u001b[0m\u001b[33m\n",
      "\u001b[0mSuccessfully installed docopt-0.6.2 hdfs-2.7.3\n"
     ]
    }
   ],
   "source": [
    "!pip install hdfs"
   ]
  },
  {
   "cell_type": "code",
   "execution_count": 4,
   "id": "6c385a9c-7efa-4372-ad22-05e7afff63c7",
   "metadata": {},
   "outputs": [],
   "source": [
    "from hdfs import InsecureClient"
   ]
  },
  {
   "cell_type": "code",
   "execution_count": 11,
   "id": "1cbd5d5b-09ea-4c88-8d31-a3f287a63ee5",
   "metadata": {},
   "outputs": [
    {
     "name": "stdout",
     "output_type": "stream",
     "text": [
      "\n",
      "                                 Apache License\n",
      "                           Version 2.0, January 2004\n",
      "                        http://www.apache.org/licenses/\n",
      "\n",
      "   TERMS AND CONDITIONS FOR USE, REPRODUC\n"
     ]
    }
   ],
   "source": [
    "user = 'hadoop'\n",
    "host = 'http://namenode:9870'\n",
    "path = '/user/hadoop/LICENSE.txt'\n",
    "hdfs = InsecureClient(host,user=user)\n",
    "with hdfs.read(path, encoding='utf-8') as reader:\n",
    "    text = reader.read()\n",
    "print(text[:200])"
   ]
  },
  {
   "cell_type": "code",
   "execution_count": 12,
   "id": "fa215ad8-6b7d-4b61-a074-f7723c560dcf",
   "metadata": {},
   "outputs": [
    {
     "name": "stdout",
     "output_type": "stream",
     "text": [
      "Apache      1\n",
      "License      1\n",
      "Version      1\n",
      "2.0,      1\n",
      "January      1\n",
      "2004      1\n",
      "http://www.apache.org/licenses/      1\n",
      "TERMS      1\n",
      "AND      1\n",
      "CONDITIONS      1\n",
      "FOR      1\n",
      "USE,      1\n",
      "REPRODUC      1\n"
     ]
    }
   ],
   "source": [
    "from collections import Counter\n",
    "\n",
    "words = text[:200].strip().split()\n",
    "word_counts = Counter(words)\n",
    "for word, count in word_counts.items():\n",
    "    print(word,'    ',count)"
   ]
  },
  {
   "cell_type": "code",
   "execution_count": 19,
   "id": "71347213-9640-4798-a7a7-5562d604421c",
   "metadata": {},
   "outputs": [
    {
     "name": "stdout",
     "output_type": "stream",
     "text": [
      "부산광역시구군별사업체수종사자수2020.csv\n",
      "LICENSE.txt\n",
      "gps_test.csv\n",
      "grep-output\n",
      "starbucks.csv\n"
     ]
    }
   ],
   "source": [
    "# 경로 내 파일 읽어오기\n",
    "hdfs_dir = '/user/hadoop'\n",
    "show = hdfs.list(hdfs_dir)\n",
    "for s in show:\n",
    "    print(s)"
   ]
  },
  {
   "cell_type": "code",
   "execution_count": 16,
   "id": "d93b9ba9-d330-4145-9bfd-753464a08219",
   "metadata": {},
   "outputs": [
    {
     "name": "stdout",
     "output_type": "stream",
     "text": [
      "/home/pkdata/data\n"
     ]
    }
   ],
   "source": [
    "!pwd"
   ]
  },
  {
   "cell_type": "code",
   "execution_count": 31,
   "id": "a653f04a-3c73-4140-a087-aa456345c832",
   "metadata": {},
   "outputs": [
    {
     "name": "stdout",
     "output_type": "stream",
     "text": [
      "업로드완료\n"
     ]
    }
   ],
   "source": [
    "# 파일 업로드\n",
    "local_path = './ref/starbucks_20250411122227.csv'\n",
    "hdfs_path = '/user/hadoop/starbucks2.csv'\n",
    "hdfs.upload(hdfs_path,local_path,overwrite=True)\n",
    "print('업로드완료')"
   ]
  },
  {
   "cell_type": "code",
   "execution_count": 33,
   "id": "39867ceb-5634-423e-ae34-ab527087caa9",
   "metadata": {},
   "outputs": [
    {
     "name": "stdout",
     "output_type": "stream",
     "text": [
      "/user/hadoop/starbucks22.csv의 파일이 없습니다\n"
     ]
    }
   ],
   "source": [
    "# 파일 확인\n",
    "# hdfs_path = '/user/hadoop/starbucks2.csv'\n",
    "# print(hdfs.status(hdfs_path, strict=False))\n",
    "hdfs_path = '/user/hadoop/'\n",
    "file_name = 'starbucks22.csv'\n",
    "check = hdfs_path + file_name\n",
    "if hdfs.status(check, strict=False) == None:\n",
    "    print(f'{check}의 파일이 없습니다')\n",
    "else:\n",
    "    print(hdfs.status(hdfs_path, strict=False))"
   ]
  },
  {
   "cell_type": "code",
   "execution_count": 35,
   "id": "9e02d358-1c79-49ea-8fa6-119b63fc59d6",
   "metadata": {},
   "outputs": [
    {
     "name": "stdout",
     "output_type": "stream",
     "text": [
      "/user/hadoop/starbucks2.csv의 파일이 없습니다\n"
     ]
    }
   ],
   "source": [
    "hdfs_path = '/user/hadoop/'\n",
    "del_file = 'starbucks2.csv'\n",
    "full_path = hdfs_path + del_file\n",
    "if hdfs.delete(full_path):\n",
    "    print('삭제되었습니다')\n",
    "else:\n",
    "    if hdfs.status(full_path, strict=False) == None:\n",
    "        print(f'{full_path}의 파일이 없습니다')"
   ]
  },
  {
   "cell_type": "code",
   "execution_count": null,
   "id": "d8110c58-1320-4252-b217-edd060b1caf0",
   "metadata": {},
   "outputs": [],
   "source": []
  }
 ],
 "metadata": {
  "kernelspec": {
   "display_name": "Python 3 (ipykernel)",
   "language": "python",
   "name": "python3"
  },
  "language_info": {
   "codemirror_mode": {
    "name": "ipython",
    "version": 3
   },
   "file_extension": ".py",
   "mimetype": "text/x-python",
   "name": "python",
   "nbconvert_exporter": "python",
   "pygments_lexer": "ipython3",
   "version": "3.10.12"
  }
 },
 "nbformat": 4,
 "nbformat_minor": 5
}
