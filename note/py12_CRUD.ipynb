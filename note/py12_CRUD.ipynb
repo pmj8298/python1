{
 "cells": [
  {
   "cell_type": "code",
   "execution_count": 1,
   "id": "85a2ad34-cb06-4106-996b-a40313a5c824",
   "metadata": {},
   "outputs": [
    {
     "name": "stdout",
     "output_type": "stream",
     "text": [
      "eth0: flags=4163<UP,BROADCAST,RUNNING,MULTICAST>  mtu 1500\n",
      "        inet 172.18.0.5  netmask 255.255.0.0  broadcast 172.18.255.255\n",
      "        ether 9e:e2:51:0d:f3:4d  txqueuelen 0  (Ethernet)\n",
      "        RX packets 505  bytes 217824 (217.8 KB)\n",
      "        RX errors 0  dropped 0  overruns 0  frame 0\n",
      "        TX packets 444  bytes 3912658 (3.9 MB)\n",
      "        TX errors 0  dropped 0 overruns 0  carrier 0  collisions 0\n",
      "\n",
      "lo: flags=73<UP,LOOPBACK,RUNNING>  mtu 65536\n",
      "        inet 127.0.0.1  netmask 255.0.0.0\n",
      "        inet6 ::1  prefixlen 128  scopeid 0x10<host>\n",
      "        loop  txqueuelen 1000  (Local Loopback)\n",
      "        RX packets 503  bytes 104527 (104.5 KB)\n",
      "        RX errors 0  dropped 0  overruns 0  frame 0\n",
      "        TX packets 503  bytes 104527 (104.5 KB)\n",
      "        TX errors 0  dropped 0 overruns 0  carrier 0  collisions 0\n",
      "\n"
     ]
    }
   ],
   "source": [
    "!ifconfig"
   ]
  },
  {
   "cell_type": "code",
   "execution_count": 2,
   "id": "7e18ef14-a095-4f73-95e7-140d723a5091",
   "metadata": {},
   "outputs": [
    {
     "name": "stdout",
     "output_type": "stream",
     "text": [
      "PING MONGODB (172.18.0.2) 56(84) bytes of data.\n",
      "64 bytes from mongodb.dbtest_db_net (172.18.0.2): icmp_seq=1 ttl=64 time=0.230 ms\n",
      "64 bytes from mongodb.dbtest_db_net (172.18.0.2): icmp_seq=2 ttl=64 time=0.058 ms\n",
      "64 bytes from mongodb.dbtest_db_net (172.18.0.2): icmp_seq=3 ttl=64 time=0.198 ms\n",
      "64 bytes from mongodb.dbtest_db_net (172.18.0.2): icmp_seq=4 ttl=64 time=0.148 ms\n",
      "64 bytes from mongodb.dbtest_db_net (172.18.0.2): icmp_seq=5 ttl=64 time=0.154 ms\n",
      "64 bytes from mongodb.dbtest_db_net (172.18.0.2): icmp_seq=6 ttl=64 time=0.174 ms\n",
      "64 bytes from mongodb.dbtest_db_net (172.18.0.2): icmp_seq=7 ttl=64 time=0.167 ms\n",
      "64 bytes from mongodb.dbtest_db_net (172.18.0.2): icmp_seq=8 ttl=64 time=0.129 ms\n",
      "64 bytes from mongodb.dbtest_db_net (172.18.0.2): icmp_seq=9 ttl=64 time=0.046 ms\n",
      "64 bytes from mongodb.dbtest_db_net (172.18.0.2): icmp_seq=10 ttl=64 time=0.280 ms\n",
      "64 bytes from mongodb.dbtest_db_net (172.18.0.2): icmp_seq=11 ttl=64 time=0.115 ms\n",
      "64 bytes from mongodb.dbtest_db_net (172.18.0.2): icmp_seq=12 ttl=64 time=0.079 ms\n",
      "64 bytes from mongodb.dbtest_db_net (172.18.0.2): icmp_seq=13 ttl=64 time=0.153 ms\n",
      "64 bytes from mongodb.dbtest_db_net (172.18.0.2): icmp_seq=14 ttl=64 time=0.196 ms\n",
      "64 bytes from mongodb.dbtest_db_net (172.18.0.2): icmp_seq=15 ttl=64 time=0.055 ms\n",
      "64 bytes from mongodb.dbtest_db_net (172.18.0.2): icmp_seq=16 ttl=64 time=0.182 ms\n",
      "64 bytes from mongodb.dbtest_db_net (172.18.0.2): icmp_seq=17 ttl=64 time=0.050 ms\n",
      "64 bytes from mongodb.dbtest_db_net (172.18.0.2): icmp_seq=18 ttl=64 time=0.052 ms\n",
      "64 bytes from mongodb.dbtest_db_net (172.18.0.2): icmp_seq=19 ttl=64 time=0.055 ms\n",
      "64 bytes from mongodb.dbtest_db_net (172.18.0.2): icmp_seq=20 ttl=64 time=0.068 ms\n",
      "64 bytes from mongodb.dbtest_db_net (172.18.0.2): icmp_seq=21 ttl=64 time=0.086 ms\n",
      "64 bytes from mongodb.dbtest_db_net (172.18.0.2): icmp_seq=22 ttl=64 time=0.065 ms\n",
      "64 bytes from mongodb.dbtest_db_net (172.18.0.2): icmp_seq=23 ttl=64 time=0.196 ms\n",
      "64 bytes from mongodb.dbtest_db_net (172.18.0.2): icmp_seq=24 ttl=64 time=0.125 ms\n",
      "64 bytes from mongodb.dbtest_db_net (172.18.0.2): icmp_seq=25 ttl=64 time=0.069 ms\n",
      "64 bytes from mongodb.dbtest_db_net (172.18.0.2): icmp_seq=26 ttl=64 time=0.067 ms\n",
      "64 bytes from mongodb.dbtest_db_net (172.18.0.2): icmp_seq=27 ttl=64 time=0.153 ms\n",
      "64 bytes from mongodb.dbtest_db_net (172.18.0.2): icmp_seq=28 ttl=64 time=0.134 ms\n",
      "64 bytes from mongodb.dbtest_db_net (172.18.0.2): icmp_seq=29 ttl=64 time=0.062 ms\n",
      "64 bytes from mongodb.dbtest_db_net (172.18.0.2): icmp_seq=30 ttl=64 time=0.105 ms\n",
      "64 bytes from mongodb.dbtest_db_net (172.18.0.2): icmp_seq=31 ttl=64 time=0.082 ms\n",
      "64 bytes from mongodb.dbtest_db_net (172.18.0.2): icmp_seq=32 ttl=64 time=0.053 ms\n",
      "64 bytes from mongodb.dbtest_db_net (172.18.0.2): icmp_seq=33 ttl=64 time=0.112 ms\n",
      "64 bytes from mongodb.dbtest_db_net (172.18.0.2): icmp_seq=34 ttl=64 time=0.177 ms\n",
      "64 bytes from mongodb.dbtest_db_net (172.18.0.2): icmp_seq=35 ttl=64 time=0.093 ms\n",
      "64 bytes from mongodb.dbtest_db_net (172.18.0.2): icmp_seq=36 ttl=64 time=0.055 ms\n",
      "64 bytes from mongodb.dbtest_db_net (172.18.0.2): icmp_seq=37 ttl=64 time=0.038 ms\n",
      "64 bytes from mongodb.dbtest_db_net (172.18.0.2): icmp_seq=38 ttl=64 time=0.097 ms\n",
      "64 bytes from mongodb.dbtest_db_net (172.18.0.2): icmp_seq=39 ttl=64 time=0.107 ms\n",
      "64 bytes from mongodb.dbtest_db_net (172.18.0.2): icmp_seq=40 ttl=64 time=0.160 ms\n",
      "^C\n",
      "\n",
      "--- MONGODB ping statistics ---\n",
      "40 packets transmitted, 40 received, 0% packet loss, time 41610ms\n",
      "rtt min/avg/max/mdev = 0.038/0.115/0.280/0.058 ms\n"
     ]
    }
   ],
   "source": [
    "!ping MONGODB"
   ]
  },
  {
   "cell_type": "code",
   "execution_count": 5,
   "id": "791d3259-947d-47e0-9015-3b9ed0e77914",
   "metadata": {},
   "outputs": [
    {
     "name": "stdout",
     "output_type": "stream",
     "text": [
      "PING 172.18.0.5 (172.18.0.5) 56(84) bytes of data.\n",
      "64 bytes from 172.18.0.5: icmp_seq=1 ttl=64 time=0.088 ms\n",
      "64 bytes from 172.18.0.5: icmp_seq=2 ttl=64 time=0.034 ms\n",
      "64 bytes from 172.18.0.5: icmp_seq=3 ttl=64 time=0.075 ms\n",
      "64 bytes from 172.18.0.5: icmp_seq=4 ttl=64 time=0.045 ms\n",
      "64 bytes from 172.18.0.5: icmp_seq=5 ttl=64 time=0.036 ms\n",
      "^C\n",
      "\n",
      "--- 172.18.0.5 ping statistics ---\n",
      "5 packets transmitted, 5 received, 0% packet loss, time 4355ms\n",
      "rtt min/avg/max/mdev = 0.034/0.055/0.088/0.021 ms\n"
     ]
    }
   ],
   "source": [
    "!ping 172.18.0.5"
   ]
  },
  {
   "cell_type": "code",
   "execution_count": null,
   "id": "63887fe4-4d58-4bdb-8be2-65f3840a5250",
   "metadata": {},
   "outputs": [],
   "source": []
  }
 ],
 "metadata": {
  "kernelspec": {
   "display_name": "Python 3 (ipykernel)",
   "language": "python",
   "name": "python3"
  },
  "language_info": {
   "codemirror_mode": {
    "name": "ipython",
    "version": 3
   },
   "file_extension": ".py",
   "mimetype": "text/x-python",
   "name": "python",
   "nbconvert_exporter": "python",
   "pygments_lexer": "ipython3",
   "version": "3.10.12"
  }
 },
 "nbformat": 4,
 "nbformat_minor": 5
}
