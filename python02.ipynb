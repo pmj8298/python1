{
 "cells": [
  {
   "cell_type": "markdown",
   "id": "7c9598a3-4f56-4987-a850-a036a7a05b77",
   "metadata": {},
   "source": [
    "# 자료형"
   ]
  },
  {
   "cell_type": "markdown",
   "id": "c5e6ebe5-e14f-4040-a0d8-3598ba3ea486",
   "metadata": {},
   "source": [
    "## 리스트 자료형"
   ]
  },
  {
   "cell_type": "markdown",
   "id": "6b4bcbd2-920b-47db-a3bd-cbac4171ed5c",
   "metadata": {},
   "source": [
    "### 리스트의 인덱싱과 슬라이싱"
   ]
  },
  {
   "cell_type": "code",
   "execution_count": 1,
   "id": "9feef8fe-91bb-4fb5-b5b3-b78ac9c1bd89",
   "metadata": {},
   "outputs": [],
   "source": [
    "odd = [1,3,5,7,9]"
   ]
  },
  {
   "cell_type": "code",
   "execution_count": 9,
   "id": "d44cb499-21fe-4be2-8e9c-ed8069125ce3",
   "metadata": {},
   "outputs": [
    {
     "name": "stdout",
     "output_type": "stream",
     "text": [
      "3\n",
      "['Life', 'is']\n",
      "Life\n",
      "is\n",
      "5\n",
      "Lifeshort\n",
      "LifeLifeLife\n",
      "short\n"
     ]
    }
   ],
   "source": [
    "a = []\n",
    "b = [1,2,3]\n",
    "c = ['Life','is','too','short']\n",
    "d = [1,2,'Life','is']\n",
    "e = [1,2,['Life','is']]\n",
    "print(b[2])\n",
    "print(e[2])\n",
    "print(e[2][0])\n",
    "print(e[2][1])\n",
    "print(b[2]+b[1]) # 계산도 가능\n",
    "print(c[0]+c[3]) # 계산도 가능\n",
    "print(c[0]*b[2]) # 계산도 가능\n",
    "print(c[-1])"
   ]
  },
  {
   "cell_type": "code",
   "execution_count": 19,
   "id": "d34c498c-c951-4bbb-a255-923ff00870e9",
   "metadata": {},
   "outputs": [
    {
     "name": "stdout",
     "output_type": "stream",
     "text": [
      "[11, 22, 33]\n",
      "[44, 55]\n",
      "[11, 22]\n",
      "[55, 44, 33, 22, 11]\n"
     ]
    }
   ],
   "source": [
    "#리스트의 슬라이싱\n",
    "a=[11,22,33,44,55]\n",
    "print(a[0:3])\n",
    "print(a[-2:])\n",
    "print(a[:-3])\n",
    "print(a[::-1])"
   ]
  },
  {
   "cell_type": "code",
   "execution_count": 20,
   "id": "b597f887-fff7-4b7d-800d-5caba4765940",
   "metadata": {},
   "outputs": [
    {
     "name": "stdout",
     "output_type": "stream",
     "text": [
      "[2, 3]\n"
     ]
    }
   ],
   "source": [
    "a=[1,2,3,4,5]\n",
    "print(a[1:3])"
   ]
  },
  {
   "cell_type": "markdown",
   "id": "1d0a04a6-834c-4491-b2c5-3fdb8c0e0277",
   "metadata": {},
   "source": [
    "### 리스트 연산, 수정, 삭제하기"
   ]
  },
  {
   "cell_type": "code",
   "execution_count": 26,
   "id": "818d93bc-586a-4f7d-92b2-11135d72bcf3",
   "metadata": {},
   "outputs": [
    {
     "name": "stdout",
     "output_type": "stream",
     "text": [
      "[11, 22, 33, 44, 55, 66]\n",
      "[11, 22, 33, 11, 22, 33, 11, 22, 33]\n",
      "9\n"
     ]
    }
   ],
   "source": [
    "a = [11,22,33]\n",
    "b = [44,55,66]\n",
    "#리스트 더하기\n",
    "print(a+b)\n",
    "#리스트 반복하기\n",
    "print(a*3)\n",
    "\n",
    "c = a * 3\n",
    "print(len(c))"
   ]
  },
  {
   "cell_type": "code",
   "execution_count": 48,
   "id": "897a4065-b639-4643-b145-4c47aeb4faf7",
   "metadata": {},
   "outputs": [
    {
     "name": "stdout",
     "output_type": "stream",
     "text": [
      "[11, 22, 55]\n",
      "[11, '', 55]\n",
      "[11, 55]\n"
     ]
    }
   ],
   "source": [
    "#리스트 값 수정하기\n",
    "a = [11,22,33]\n",
    "a[2] = 55\n",
    "print(a)\n",
    "# a[3] = 44\n",
    "# print(a) => 에러남 - 없는 요소를 수정하는 것은 불가\n",
    "##############################################\n",
    "# 리스트 요소 삭제\n",
    "a[1] = '' #삭제되는 것이 아니라 빈칸이 삽입됨\n",
    "print(a)\n",
    "del a[1]\n",
    "print(a)"
   ]
  },
  {
   "cell_type": "code",
   "execution_count": 25,
   "id": "2eba1518-492e-4d67-8006-561c60ead792",
   "metadata": {},
   "outputs": [
    {
     "name": "stdout",
     "output_type": "stream",
     "text": [
      "[11, 22, 33, 44, 55, 667, 77, 88, 99]\n",
      "[55, 667, 77, 88, 99]\n"
     ]
    }
   ],
   "source": [
    "#리스트 값 슬라이싱으로 삭제\n",
    "w = [11,22,33,44,55,667,77,88,99]\n",
    "print(w)\n",
    "del w[:4]\n",
    "print(w)"
   ]
  },
  {
   "cell_type": "markdown",
   "id": "b9778fe1-0bee-4f17-8f4f-96832e25d6e1",
   "metadata": {},
   "source": [
    "### 리스트 관련 함수"
   ]
  },
  {
   "cell_type": "code",
   "execution_count": 58,
   "id": "57a2600e-5fa1-44a7-8436-4ecd987bc692",
   "metadata": {},
   "outputs": [
    {
     "data": {
      "text/plain": [
       "['__add__',\n",
       " '__class__',\n",
       " '__class_getitem__',\n",
       " '__contains__',\n",
       " '__delattr__',\n",
       " '__delitem__',\n",
       " '__dir__',\n",
       " '__doc__',\n",
       " '__eq__',\n",
       " '__format__',\n",
       " '__ge__',\n",
       " '__getattribute__',\n",
       " '__getitem__',\n",
       " '__getstate__',\n",
       " '__gt__',\n",
       " '__hash__',\n",
       " '__iadd__',\n",
       " '__imul__',\n",
       " '__init__',\n",
       " '__init_subclass__',\n",
       " '__iter__',\n",
       " '__le__',\n",
       " '__len__',\n",
       " '__lt__',\n",
       " '__mul__',\n",
       " '__ne__',\n",
       " '__new__',\n",
       " '__reduce__',\n",
       " '__reduce_ex__',\n",
       " '__repr__',\n",
       " '__reversed__',\n",
       " '__rmul__',\n",
       " '__setattr__',\n",
       " '__setitem__',\n",
       " '__sizeof__',\n",
       " '__str__',\n",
       " '__subclasshook__',\n",
       " 'append',\n",
       " 'clear',\n",
       " 'copy',\n",
       " 'count',\n",
       " 'extend',\n",
       " 'index',\n",
       " 'insert',\n",
       " 'pop',\n",
       " 'remove',\n",
       " 'reverse',\n",
       " 'sort']"
      ]
     },
     "execution_count": 58,
     "metadata": {},
     "output_type": "execute_result"
    }
   ],
   "source": [
    "dir(list)"
   ]
  },
  {
   "cell_type": "code",
   "execution_count": 44,
   "id": "fa8f4b73-ea29-4bb1-925d-9e92ffd41341",
   "metadata": {},
   "outputs": [
    {
     "name": "stdout",
     "output_type": "stream",
     "text": [
      "[]\n"
     ]
    }
   ],
   "source": [
    "#리스트 요소 비우기(초기화)\n",
    "c.clear()\n",
    "print(c)"
   ]
  },
  {
   "cell_type": "code",
   "execution_count": null,
   "id": "784fdd91-6017-4714-8218-598486a40339",
   "metadata": {},
   "outputs": [],
   "source": [
    "a=[] #리스트 초기화"
   ]
  },
  {
   "cell_type": "code",
   "execution_count": 45,
   "id": "82e30396-beac-4b65-9a8d-4f7647811272",
   "metadata": {},
   "outputs": [
    {
     "name": "stdout",
     "output_type": "stream",
     "text": [
      "[11, 55, 4, 4, [11, 22], 4, [11, 22], 4]\n",
      "[11, 55, 4, 4, [11, 22], 4, [11, 22], 4, [11, 22]]\n"
     ]
    }
   ],
   "source": [
    "#리스트에 요소 추가하기 - append\n",
    "a.append(4)\n",
    "print(a)\n",
    "a.append([11,22])\n",
    "print(a)"
   ]
  },
  {
   "cell_type": "code",
   "execution_count": 52,
   "id": "048c98f7-a17f-42ce-891e-63c6d54afa5b",
   "metadata": {},
   "outputs": [],
   "source": [
    "b = []\n",
    "num = 0"
   ]
  },
  {
   "cell_type": "code",
   "execution_count": 57,
   "id": "638d861b-d09e-4e40-a5c6-1c8912141228",
   "metadata": {},
   "outputs": [
    {
     "name": "stdout",
     "output_type": "stream",
     "text": [
      "[1, 2, 3, 4, 5]\n"
     ]
    }
   ],
   "source": [
    "num+= 1\n",
    "b.append(num)\n",
    "print(b)"
   ]
  },
  {
   "cell_type": "code",
   "execution_count": 213,
   "id": "df38e18c-b7b3-4e7c-b50e-009fd2a91eae",
   "metadata": {},
   "outputs": [
    {
     "name": "stdout",
     "output_type": "stream",
     "text": [
      "[11, 22, 33, 44, 55]\n"
     ]
    }
   ],
   "source": [
    "#리스트 정렬(오름차순) - sort\n",
    "a = [22,55,44,33,11]\n",
    "a.sort()\n",
    "print(a)"
   ]
  },
  {
   "cell_type": "code",
   "execution_count": 214,
   "id": "c19cccba-7544-4d6d-8a38-079df53b7d74",
   "metadata": {},
   "outputs": [
    {
     "name": "stdout",
     "output_type": "stream",
     "text": [
      "[55, 44, 33, 22, 11]\n"
     ]
    }
   ],
   "source": [
    "#리스트 정렬(내림차순) - sort\n",
    "a = [22,55,44,33,11]\n",
    "a.sort(reverse=True)\n",
    "print(a)"
   ]
  },
  {
   "cell_type": "code",
   "execution_count": 7,
   "id": "fcd5a698-0f39-4b23-af1d-f785d385621b",
   "metadata": {},
   "outputs": [
    {
     "name": "stdout",
     "output_type": "stream",
     "text": [
      "[66, 77, 88, 99, 0]\n",
      "[0, 66, 77, 88, 99]\n",
      "[99, 88, 77, 66, 0]\n"
     ]
    }
   ],
   "source": [
    "#리스트정렬 원본유지하기\n",
    "aa=[66,77,88,99,0]\n",
    "bb=sorted(aa)\n",
    "cc=sorted(aa,reverse=True)\n",
    "\n",
    "print(aa)\n",
    "print(bb)\n",
    "print(cc)"
   ]
  },
  {
   "cell_type": "code",
   "execution_count": 2,
   "id": "f6f19448-e226-4c2d-9bfe-3ce0745fb669",
   "metadata": {},
   "outputs": [
    {
     "name": "stdout",
     "output_type": "stream",
     "text": [
      "[11, 33, 44, 55, 22]\n"
     ]
    }
   ],
   "source": [
    "#리스트 뒤집기 - reverse\n",
    "a = [22,55,44,33,11]\n",
    "a.reverse()\n",
    "print(a)"
   ]
  },
  {
   "cell_type": "code",
   "execution_count": 10,
   "id": "0b2f5f1f-8d64-40d1-9c77-4e8529bf69ca",
   "metadata": {},
   "outputs": [
    {
     "name": "stdout",
     "output_type": "stream",
     "text": [
      "['banana', 'apple', 'orange', 'strawberry', 'pear', 'mango', 'kiwi', 'blueberry']\n",
      "['pear', 'kiwi', 'apple', 'mango', 'banana', 'orange', 'blueberry', 'strawberry']\n",
      "['strawberry', 'blueberry', 'banana', 'orange', 'apple', 'mango', 'pear', 'kiwi']\n"
     ]
    }
   ],
   "source": [
    "#sorted응용\n",
    "fruit = ['banana','apple','orange','strawberry','pear','mango','kiwi','blueberry']\n",
    "result=sorted(fruit,key=len)\n",
    "result2=sorted(fruit,key=len,reverse=True)\n",
    "print(fruit)\n",
    "print(result)\n",
    "print(result2)"
   ]
  },
  {
   "cell_type": "code",
   "execution_count": 18,
   "id": "add7252f-559f-437a-80f5-cdfd72f13c05",
   "metadata": {},
   "outputs": [
    {
     "name": "stdout",
     "output_type": "stream",
     "text": [
      "과일을 먹어보쟈\n",
      "pear 냠냠\n",
      "kiwi 냠냠\n",
      "apple 냠냠\n",
      "mango 냠냠\n",
      "banana 싫어해\n",
      "orange 냠냠\n",
      "blueberry 냠냠\n",
      "strawberry 냠냠\n",
      "다 먹었다\n"
     ]
    }
   ],
   "source": [
    "print('과일을 먹어보쟈')\n",
    "for r in result:\n",
    "    if r == 'banana':\n",
    "        print(r + ' 싫어해')\n",
    "    if r != 'banana': \n",
    "        print(r + ' 냠냠')\n",
    "print('다 먹었다')"
   ]
  },
  {
   "cell_type": "code",
   "execution_count": 21,
   "id": "5820784e-dbbd-454b-81b5-80e583413a78",
   "metadata": {},
   "outputs": [
    {
     "data": {
      "text/plain": [
       "5"
      ]
     },
     "execution_count": 21,
     "metadata": {},
     "output_type": "execute_result"
    }
   ],
   "source": [
    "#인덱스 반환\n",
    "fruit = ['banana','apple','orange','strawberry','pear','mango','kiwi','blueberry']\n",
    "fruit.index('mango')\n",
    "# fruit.index('ma') - 에러"
   ]
  },
  {
   "cell_type": "code",
   "execution_count": 24,
   "id": "29caf168-e5c6-44cf-8dee-fbec001b32d7",
   "metadata": {},
   "outputs": [
    {
     "name": "stdin",
     "output_type": "stream",
     "text": [
      "먹고 싶은 과일을 입력하세요 mango\n"
     ]
    },
    {
     "name": "stdout",
     "output_type": "stream",
     "text": [
      "mango를 좋아해 6번 째에 있어요\n"
     ]
    }
   ],
   "source": [
    "#인덱스 응용\n",
    "fruit = ['banana','apple','orange','strawberry','pear','mango','kiwi','blueberry']\n",
    "want = input('먹고 싶은 과일을 입력하세요')\n",
    "where = fruit.index(want)\n",
    "print(f'{want}를 좋아해 {where+1}번 째에 있어요')"
   ]
  },
  {
   "cell_type": "code",
   "execution_count": 28,
   "id": "2ddeaedd-7a1a-4214-9abe-d6eb22a2ad12",
   "metadata": {},
   "outputs": [
    {
     "name": "stdout",
     "output_type": "stream",
     "text": [
      "[11, 22, 33, 55, 66, 77, 88]\n",
      "[11, 22, 33, 44, 55, 66, 77, 88]\n"
     ]
    }
   ],
   "source": [
    "#리스트에 요소 삽입 - insert\n",
    "num = [11,22,33,55,66,77,88]\n",
    "print(num)\n",
    "num.insert(3,44) #insert는 인자를 2개 받음, 앞에는 위치 뒤에는 넣고 싶은 요소를 넣으면 된다\n",
    "print(num)"
   ]
  },
  {
   "cell_type": "code",
   "execution_count": 29,
   "id": "1a87d7bd-f6df-4178-bd1b-12cb5e4cb959",
   "metadata": {},
   "outputs": [],
   "source": [
    "ex = []"
   ]
  },
  {
   "cell_type": "code",
   "execution_count": 34,
   "id": "b8435f15-9c43-4bd9-8043-eefdf9eaa68e",
   "metadata": {},
   "outputs": [
    {
     "name": "stdout",
     "output_type": "stream",
     "text": [
      "[99, 55, 99, 99, 1]\n"
     ]
    }
   ],
   "source": [
    "ex.insert(len(ex),1) #배열의 끝부분에 숫자를 넣을 수 있음\n",
    "print(ex)"
   ]
  },
  {
   "cell_type": "code",
   "execution_count": 36,
   "id": "8418388b-b713-4854-bd5c-142f87decbfa",
   "metadata": {},
   "outputs": [
    {
     "name": "stdout",
     "output_type": "stream",
     "text": [
      "['맨앞', 99, 55, 99, 99, 1]\n",
      "['맨앞', 99, 55, 99, 99, '-1인덱스', 1]\n",
      "['맨앞', '맨앞', 99, 55, 99, 99, '-1인덱스', 1]\n",
      "['맨앞', '맨앞', 99, 55, 99, 99, '-1인덱스', 1, '제일 끝']\n"
     ]
    }
   ],
   "source": [
    "ex.insert(0,'맨앞')\n",
    "print(ex)\n",
    "ex.insert(-1,'-1인덱스')\n",
    "print(ex)\n",
    "ex.insert(0,'맨앞')\n",
    "print(ex)\n",
    "ex.insert(len(ex),'제일 끝') #배열의 끝부분에 숫자를 넣을 수 있음\n",
    "print(ex)"
   ]
  },
  {
   "cell_type": "code",
   "execution_count": 5,
   "id": "0e287855-fade-4aa6-916b-6c3a0adde2a0",
   "metadata": {},
   "outputs": [
    {
     "name": "stdout",
     "output_type": "stream",
     "text": [
      "[1, 2, 3, 1, 2, 3]\n",
      "[1, 2, 1, 2, 3]\n"
     ]
    }
   ],
   "source": [
    "#리스트 요소 제거 - remove\n",
    "a = [1,2,3,1,2,3]\n",
    "print(a)\n",
    "a.remove(3)\n",
    "print(a)"
   ]
  },
  {
   "cell_type": "code",
   "execution_count": 31,
   "id": "74a6618b-7f51-46dd-a88e-20e3182522a6",
   "metadata": {},
   "outputs": [
    {
     "name": "stdout",
     "output_type": "stream",
     "text": [
      "None\n",
      "44를 제거 하였습니다.\n",
      "[11, 22, 33, 55]\n"
     ]
    }
   ],
   "source": [
    "#remove가 return값을 가지는지 테스트\n",
    "choice = 44\n",
    "a=[11,22,33,44,55]\n",
    "a.remove(choice)\n",
    "print(hands) #none값 반환\n",
    "print(f'{choice}를 제거 하였습니다.')\n",
    "print(a)"
   ]
  },
  {
   "cell_type": "code",
   "execution_count": 97,
   "id": "afad8102-bffe-4c8c-9824-df40af97502b",
   "metadata": {},
   "outputs": [
    {
     "name": "stdout",
     "output_type": "stream",
     "text": [
      "[1, 2, 3]\n",
      "[1, 2]\n",
      "받은거 =  3\n"
     ]
    }
   ],
   "source": [
    "#리스트 요소 꺼내기 - pop\n",
    "a = [1,2,3]\n",
    "print(a)\n",
    "hand = a.pop() # 리턴값을 받음\n",
    "print(a)\n",
    "print('받은거 = ', hand)\n",
    "\n",
    "# 선입선출 FIFO : Queue\n",
    "# 후입선출 LIFO : stack"
   ]
  },
  {
   "cell_type": "code",
   "execution_count": 14,
   "id": "a635e774-37e5-4f76-b1de-7d76375b30c4",
   "metadata": {},
   "outputs": [
    {
     "name": "stdout",
     "output_type": "stream",
     "text": [
      "[1, 2]\n"
     ]
    }
   ],
   "source": [
    "a = [1,2,3]\n",
    "a.pop(2) # pop(x)는 리스트의 x번째 요소를 리턴하고 그 요소는 삭제\n",
    "print(a)"
   ]
  },
  {
   "cell_type": "code",
   "execution_count": 15,
   "id": "ce7c89c0-4445-4a48-9aac-ff913e097ce8",
   "metadata": {},
   "outputs": [
    {
     "name": "stdout",
     "output_type": "stream",
     "text": [
      "2\n",
      "5\n"
     ]
    }
   ],
   "source": [
    "#리스트에 포함된 요소 x의 개수 세기 - count\n",
    "st = '안녕하세요 반가워요'\n",
    "print(st.count('요'))\n",
    "a = [1,2,3,1,1,1,1,2,2,2,3,3,]\n",
    "print(a.count(1))"
   ]
  },
  {
   "cell_type": "code",
   "execution_count": 17,
   "id": "41e7ec8c-4a7f-4d48-a01f-2829972c8ed4",
   "metadata": {},
   "outputs": [
    {
     "name": "stdout",
     "output_type": "stream",
     "text": [
      "[1, 2, 3, 4, 5]\n",
      "[11, 22, 33, 44, 55, 66]\n"
     ]
    }
   ],
   "source": [
    "#리스트 확장\n",
    "a=[1,2,3]\n",
    "a.extend([4,5])\n",
    "print(a)\n",
    "b=[11,22,33]\n",
    "c=[44,55,66]\n",
    "print(b+c)"
   ]
  },
  {
   "cell_type": "code",
   "execution_count": null,
   "id": "002f2ee0-c5f6-4211-a248-556f4118e2cf",
   "metadata": {},
   "outputs": [],
   "source": [
    "#장바구니\n",
    "bag = []"
   ]
  },
  {
   "cell_type": "code",
   "execution_count": 23,
   "id": "c843f42f-bba6-452e-b9b6-ea735908e1da",
   "metadata": {},
   "outputs": [
    {
     "name": "stdin",
     "output_type": "stream",
     "text": [
      "필요한 항목을 넣어주세요. 사과\n"
     ]
    },
    {
     "name": "stdout",
     "output_type": "stream",
     "text": [
      "장바구니에는 ['빵', '빵', '고구마', '호박', '사과']들이 있습니다.\n"
     ]
    }
   ],
   "source": [
    "#create 생성\n",
    "inp = input('필요한 항목을 넣어주세요.')\n",
    "bag.append(inp)\n",
    "print(f'장바구니에는 {bag}들이 있습니다.')"
   ]
  },
  {
   "cell_type": "code",
   "execution_count": 237,
   "id": "52643088-be24-45df-b351-c1ca7859598c",
   "metadata": {},
   "outputs": [
    {
     "name": "stdout",
     "output_type": "stream",
     "text": [
      "초밥 꺼내서 장바구니에 ['피자', '치킨', '소주', '개굴', '맥주'] 남았습니다.\n"
     ]
    }
   ],
   "source": [
    "#FIFO출력(Queue)\n",
    "hand = bag.pop(2)\n",
    "print(f'{hand} 꺼내서 장바구니에 {bag} 남았습니다.')"
   ]
  },
  {
   "cell_type": "code",
   "execution_count": 36,
   "id": "4847ac1b-9a3c-426d-b7e0-a4b45efe5bfd",
   "metadata": {},
   "outputs": [
    {
     "name": "stdout",
     "output_type": "stream",
     "text": [
      "바구니에 ['피자', '치킨', '초밥', '소주', '맥주'] 물품이 있습니다\n"
     ]
    },
    {
     "name": "stdin",
     "output_type": "stream",
     "text": [
      "꺼내고 싶은 물품을 입력하세요. 맥주\n"
     ]
    },
    {
     "name": "stdout",
     "output_type": "stream",
     "text": [
      "바구니에서 맥주 꺼내어 ['피자', '치킨', '초밥', '소주'] 남았습니다.\n"
     ]
    }
   ],
   "source": [
    "#선택출력\n",
    "bag = ['피자','치킨','초밥','소주','맥주']\n",
    "print(f'바구니에 {bag} 물품이 있습니다')\n",
    "bring = input('꺼내고 싶은 물품을 입력하세요.')\n",
    "hand2 = bag.pop(bag.index(bring))\n",
    "print(f'바구니에서 {hand2} 꺼내어 {bag} 남았습니다.')"
   ]
  },
  {
   "cell_type": "code",
   "execution_count": 60,
   "id": "074817d7-7d24-41cf-b9ea-d5a72b422928",
   "metadata": {},
   "outputs": [
    {
     "name": "stdin",
     "output_type": "stream",
     "text": [
      "추가할 물건을 입력해주세요 개구리\n",
      "어느 물품의 오른쪽에 넣어둘까요? 소주\n"
     ]
    },
    {
     "name": "stdout",
     "output_type": "stream",
     "text": [
      "['피자', '치킨', '초밥', '소주', '개구리', '맥주']\n"
     ]
    }
   ],
   "source": [
    "#실습\n",
    "bag = ['피자','치킨','초밥','소주','맥주']\n",
    "#물품 하나를 추가하기 단, 지정한 물품 바로 뒤에 추가하기\n",
    "test1 = input('추가할 물건을 입력해주세요')\n",
    "test2 = input('어느 물품의 오른쪽에 넣어둘까요?')\n",
    "\n",
    "hand = bag.index(test2)\n",
    "bag.insert(hand + 1, test1)\n",
    "\n",
    "print(bag)"
   ]
  },
  {
   "cell_type": "code",
   "execution_count": 64,
   "id": "d768a3e0-bf30-4b17-9cb5-d948a72a83b9",
   "metadata": {},
   "outputs": [
    {
     "name": "stdin",
     "output_type": "stream",
     "text": [
      "추가할 물건을 입력해주세요 개굴\n",
      "어느 물품의 왼쪽에 넣어둘까요? 맥주\n"
     ]
    },
    {
     "name": "stdout",
     "output_type": "stream",
     "text": [
      "['피자', '치킨', '초밥', '소주', '개굴', '맥주']\n"
     ]
    }
   ],
   "source": [
    "#실습\n",
    "bag = ['피자','치킨','초밥','소주','맥주']\n",
    "#물품 하나를 추가하기 단, 지정한 물품 바로 앞에 추가하기\n",
    "test1 = input('추가할 물건을 입력해주세요')\n",
    "test2 = input('어느 물품의 왼쪽에 넣어둘까요?')\n",
    "\n",
    "hand = bag.index(test2)\n",
    "bag.insert(hand, test1)\n",
    "#hand-1 해주니까 두칸 앞으로 감 hand를 해줘야 원래 있던 자리에 추가할 물품이 담기고 그 뒤에 물건이 한칸씩 뒤로 밀려남\n",
    "print(bag)"
   ]
  },
  {
   "cell_type": "code",
   "execution_count": 70,
   "id": "24d74d31-5664-44b0-be51-0762ea55302a",
   "metadata": {},
   "outputs": [
    {
     "name": "stdin",
     "output_type": "stream",
     "text": [
      "숫자를 입력하세요 5\n"
     ]
    },
    {
     "name": "stdout",
     "output_type": "stream",
     "text": [
      "10 <class 'int'>\n"
     ]
    }
   ],
   "source": [
    "#테스트\n",
    "num = int(input('숫자를 입력하세요'))\n",
    "print(num + 5, type(num))"
   ]
  },
  {
   "cell_type": "code",
   "execution_count": 89,
   "id": "0002c643-51af-4b8b-9bd4-f45f5d54cd12",
   "metadata": {},
   "outputs": [
    {
     "name": "stdin",
     "output_type": "stream",
     "text": [
      "원화로 계산할 달러를 입력하세요 33\n"
     ]
    },
    {
     "name": "stdout",
     "output_type": "stream",
     "text": [
      "47848.020000000004\n",
      "원화로 47848.02원 입니다\n"
     ]
    }
   ],
   "source": [
    "#환율 계산기 만들기\n",
    "\n",
    "test1 = float(input('원화로 계산할 달러를 입력하세요'))\n",
    "usd = test1 * 1449.94\n",
    "print(usd)\n",
    "print('원화로 '+'%0.2f' %usd + '원 입니다')"
   ]
  },
  {
   "cell_type": "code",
   "execution_count": 211,
   "id": "c11f71c4-6cbd-476d-819f-1cf699ca740d",
   "metadata": {},
   "outputs": [
    {
     "name": "stdout",
     "output_type": "stream",
     "text": [
      "<class 'list'>\n",
      "1,460.8 <class 'str'>\n",
      "14608 <class 'str'>\n",
      "1460.8 <class 'float'>\n"
     ]
    }
   ],
   "source": [
    "import requests\n",
    "import json\n",
    "\n",
    "url = 'https://www.koreaexim.go.kr/site/program/financial/exchangeJSON?authkey=qLM4EgBJlsALv8840xOD54Qy5b7Ap6de&data=AP01'\n",
    "# url = 'https://www.koreaexim.go.kr/site/program/financial/exchangeJSON?authkey=qLM4EgBJlsALv8840xOD54Qy50831b7Ap6de&data=AP01'\n",
    "res = requests.get(url).text\n",
    "data = json.loads(res)\n",
    "# print(data,type(data))\n",
    "print(type(data))\n",
    "result = data[-1]['deal_bas_r']\n",
    "# print(res[4334:4533])\n",
    "print(result, type(result))\n",
    "#string을 숫자로 바꾸어라 단 쉼표는 전처리하여 사용 가능하게 하라\n",
    "result2 = result.replace(',','').replace('.','')\n",
    "print(result2, type(result2))\n",
    "exc = int(result2) / 10\n",
    "print(exc, type(exc))"
   ]
  },
  {
   "cell_type": "code",
   "execution_count": 212,
   "id": "06c8b5df-8d8b-4ff8-9de1-1390527f2d92",
   "metadata": {},
   "outputs": [
    {
     "name": "stdin",
     "output_type": "stream",
     "text": [
      "원화로 계산할 달러를 입력하세요 20\n"
     ]
    },
    {
     "name": "stdout",
     "output_type": "stream",
     "text": [
      "1달러는 1,460.8원 이므로 \n",
      "요청하신 20달러 변환값은 29,216.0원 입니다.\n"
     ]
    }
   ],
   "source": [
    "# exc = 1450\n",
    "dollar = int(input('원화로 계산할 달러를 입력하세요'))\n",
    "won = dollar * exc\n",
    "print(f'1달러는 {exc:,}원 이므로 \\n요청하신 {dollar}달러 변환값은 {won:,}원 입니다.')"
   ]
  },
  {
   "cell_type": "code",
   "execution_count": 147,
   "id": "645c004c-90cb-4df7-8451-c8e30fd1fe4f",
   "metadata": {},
   "outputs": [
    {
     "name": "stdout",
     "output_type": "stream",
     "text": [
      "111\n",
      "222\n",
      "333\n"
     ]
    }
   ],
   "source": [
    "# test \n",
    "# 앞에 질문 사라지게 만듦\n",
    "from IPython.display import clear_output\n",
    "inp1 = input('질문1')\n",
    "clear_output(wait = True)\n",
    "inp2 = input('질문2')\n",
    "clear_output(wait = True)\n",
    "inp3 = input('질문3')\n",
    "clear_output(wait = True)\n",
    "\n",
    "print(inp1)\n",
    "print(inp2)\n",
    "print(inp3)"
   ]
  },
  {
   "cell_type": "code",
   "execution_count": 148,
   "id": "d59f3208-88bb-460e-8387-1eac57b74dc4",
   "metadata": {},
   "outputs": [
    {
     "data": {
      "text/plain": [
       "0.30000000000000004"
      ]
     },
     "execution_count": 148,
     "metadata": {},
     "output_type": "execute_result"
    }
   ],
   "source": [
    "0.1+0.2"
   ]
  },
  {
   "cell_type": "code",
   "execution_count": 151,
   "id": "71430923-3a86-40b3-a365-3398d56f96a4",
   "metadata": {},
   "outputs": [
    {
     "name": "stdout",
     "output_type": "stream",
     "text": [
      "2898.8\n"
     ]
    }
   ],
   "source": [
    "from decimal import Decimal #더 정밀한 게산\n",
    "rr = 1449.4\n",
    "result  = Decimal(rr)*2\n",
    "print(round(result,1))"
   ]
  },
  {
   "cell_type": "markdown",
   "id": "8bd8ca04-709d-4289-94ce-14754f3ffe70",
   "metadata": {},
   "source": [
    "## 튜플 자료형"
   ]
  },
  {
   "cell_type": "code",
   "execution_count": 152,
   "id": "4b0a9194-f931-484c-b8a3-53cfce085b3d",
   "metadata": {},
   "outputs": [],
   "source": [
    "t1 = ()\n",
    "t2 = (1,)\n",
    "t3 = (1,2,3)\n",
    "t4 = 1,2,3\n",
    "t5 = ('a','b',('ab','cd'))"
   ]
  },
  {
   "cell_type": "code",
   "execution_count": null,
   "id": "241662ab-b83e-47a5-ba62-6364b355ef5d",
   "metadata": {},
   "outputs": [],
   "source": [
    "#튜플의 요솟값을 삭제하려 할 떄\n",
    "t1 = (1, 2, 'a', 'b')\n",
    "del t1[0]"
   ]
  },
  {
   "attachments": {
    "fa65cbde-642e-4e8e-bd60-d15cc12c6846.png": {
     "image/png": "[encoded data removed]"
    }
   },
   "cell_type": "markdown",
   "id": "ed35c8b5-125d-4355-9ec4-bbf588d2440b",
   "metadata": {},
   "source": [
    "![image.png](attachment:fa65cbde-642e-4e8e-bd60-d15cc12c6846.png)"
   ]
  },
  {
   "cell_type": "code",
   "execution_count": null,
   "id": "1b166538-ffe5-4162-b760-7316f492df94",
   "metadata": {},
   "outputs": [],
   "source": [
    "#튜플의 요솟값을 변하려 할 떄\n",
    "t1 = (1, 2, 'a', 'b')\n",
    "t1[0] = 'c'"
   ]
  },
  {
   "attachments": {
    "92e9fc20-3c87-4456-8615-44ce3b52f590.png": {
     "image/png": "[encoded data removed]"
    }
   },
   "cell_type": "markdown",
   "id": "73289c78-edc7-4493-adb4-ec0487c05d55",
   "metadata": {},
   "source": [
    "![image.png](attachment:92e9fc20-3c87-4456-8615-44ce3b52f590.png)"
   ]
  },
  {
   "cell_type": "code",
   "execution_count": 155,
   "id": "5459e7f3-310b-4e75-a95d-f17e8449a299",
   "metadata": {},
   "outputs": [
    {
     "data": {
      "text/plain": [
       "['__add__',\n",
       " '__class__',\n",
       " '__class_getitem__',\n",
       " '__contains__',\n",
       " '__delattr__',\n",
       " '__dir__',\n",
       " '__doc__',\n",
       " '__eq__',\n",
       " '__format__',\n",
       " '__ge__',\n",
       " '__getattribute__',\n",
       " '__getitem__',\n",
       " '__getnewargs__',\n",
       " '__getstate__',\n",
       " '__gt__',\n",
       " '__hash__',\n",
       " '__init__',\n",
       " '__init_subclass__',\n",
       " '__iter__',\n",
       " '__le__',\n",
       " '__len__',\n",
       " '__lt__',\n",
       " '__mul__',\n",
       " '__ne__',\n",
       " '__new__',\n",
       " '__reduce__',\n",
       " '__reduce_ex__',\n",
       " '__repr__',\n",
       " '__rmul__',\n",
       " '__setattr__',\n",
       " '__sizeof__',\n",
       " '__str__',\n",
       " '__subclasshook__',\n",
       " 'count',\n",
       " 'index']"
      ]
     },
     "execution_count": 155,
     "metadata": {},
     "output_type": "execute_result"
    }
   ],
   "source": [
    "dir(tuple)"
   ]
  },
  {
   "cell_type": "code",
   "execution_count": 157,
   "id": "eb84aeaa-240f-406a-8ced-a6e9bf9c08bc",
   "metadata": {},
   "outputs": [
    {
     "name": "stdout",
     "output_type": "stream",
     "text": [
      "1 b\n"
     ]
    }
   ],
   "source": [
    "# 인덱싱\n",
    "t1 = (1,2,'a','b')\n",
    "print(t1[0],t1[3])"
   ]
  },
  {
   "cell_type": "code",
   "execution_count": 158,
   "id": "5bb6c67a-cca1-4666-93d1-4b74d120f900",
   "metadata": {},
   "outputs": [
    {
     "name": "stdout",
     "output_type": "stream",
     "text": [
      "(2, 'a', 'b')\n"
     ]
    }
   ],
   "source": [
    "#슬라이싱\n",
    "t1 = (1,2,'a','b')\n",
    "print(t1[1:])"
   ]
  },
  {
   "cell_type": "code",
   "execution_count": 160,
   "id": "bef938c0-aeb4-4b44-a5de-560f0b2f8ec0",
   "metadata": {},
   "outputs": [
    {
     "name": "stdout",
     "output_type": "stream",
     "text": [
      "(1, 2, 'a', 'b', 3, 4)\n"
     ]
    }
   ],
   "source": [
    "#튜플 더하기\n",
    "t1 = (1,2,'a','b')\n",
    "t2 = (3,4)\n",
    "t3 = t1 + t2\n",
    "print(t3)"
   ]
  },
  {
   "cell_type": "code",
   "execution_count": 161,
   "id": "e1b98587-48e8-4aa5-a3fb-ee6a780cdbce",
   "metadata": {},
   "outputs": [
    {
     "name": "stdout",
     "output_type": "stream",
     "text": [
      "(3, 4, 3, 4, 3, 4)\n"
     ]
    }
   ],
   "source": [
    "#튜플 곱하기\n",
    "t2 = 3,4\n",
    "t3 = t2*3\n",
    "print(t3)"
   ]
  },
  {
   "cell_type": "code",
   "execution_count": 162,
   "id": "62d8f154-2c59-4b96-9487-746f3ff7a5cc",
   "metadata": {},
   "outputs": [
    {
     "data": {
      "text/plain": [
       "6"
      ]
     },
     "execution_count": 162,
     "metadata": {},
     "output_type": "execute_result"
    }
   ],
   "source": [
    "#튜플 길이 구하기\n",
    "len(t3)"
   ]
  },
  {
   "cell_type": "code",
   "execution_count": 187,
   "id": "6c616d80-5963-4b96-a4b4-77095ffae817",
   "metadata": {},
   "outputs": [
    {
     "name": "stdout",
     "output_type": "stream",
     "text": [
      "(1, 2, 3, 4, 5)\n"
     ]
    }
   ],
   "source": [
    "#예제\n",
    "p1 = (1,2,3,4)\n",
    "p2 = (5,)\n",
    "# p2 = (5) 이렇게 하면 에러남 튜플이 단일요소라서 안된다고 함 단일 요소 튜플을 생성할 때는 콤마 ,를 추가해야 함\n",
    "p3 = p1 + p2\n",
    "print(p3)"
   ]
  },
  {
   "cell_type": "markdown",
   "id": "a55477f9-ff48-43ef-ae3a-cea44ae995a5",
   "metadata": {},
   "source": [
    "## 딕셔너리 자료형"
   ]
  },
  {
   "cell_type": "code",
   "execution_count": 172,
   "id": "55e56d34-a885-4916-a83f-ce131a56ec6c",
   "metadata": {},
   "outputs": [],
   "source": [
    "dic = {'name':'pey', 'phone':'010-9999-1234', 'birth':'1118'}"
   ]
  },
  {
   "cell_type": "code",
   "execution_count": 173,
   "id": "25180109-4065-4d47-b405-84b666f27dfd",
   "metadata": {},
   "outputs": [
    {
     "name": "stdout",
     "output_type": "stream",
     "text": [
      "pey\n",
      "010-9999-1234\n",
      "1118\n"
     ]
    }
   ],
   "source": [
    "print(dic['name'])\n",
    "print(dic['phone'])\n",
    "print(dic['birth'])"
   ]
  },
  {
   "cell_type": "code",
   "execution_count": 177,
   "id": "c11dbdd6-35aa-47c4-acee-93ff49feaf54",
   "metadata": {},
   "outputs": [
    {
     "name": "stdout",
     "output_type": "stream",
     "text": [
      "11\n",
      "11\n",
      "11\n"
     ]
    }
   ],
   "source": [
    "al = [11,22,33,44,55]\n",
    "at = 11,22,33,44,55\n",
    "ad = {0:11,1:22,2:33,3:44,4:55}\n",
    "print(al[0])\n",
    "print(at[0])\n",
    "print(ad[0])"
   ]
  },
  {
   "cell_type": "code",
   "execution_count": 183,
   "id": "75ce94f6-fe98-4bd0-b94b-6d3ac3690a27",
   "metadata": {},
   "outputs": [
    {
     "name": "stdout",
     "output_type": "stream",
     "text": [
      "11\n",
      "22\n",
      "33\n",
      "44\n",
      "55\n",
      "----------\n",
      "11\n",
      "22\n",
      "33\n",
      "44\n",
      "55\n"
     ]
    }
   ],
   "source": [
    "#test\n",
    "for l in al:\n",
    "    print(l)\n",
    "print('-'*10)\n",
    "for t in at:\n",
    "    print(t)\n"
   ]
  },
  {
   "cell_type": "code",
   "execution_count": 185,
   "id": "ca87c640-5f79-4c9a-ac7b-580cf66b5cd0",
   "metadata": {},
   "outputs": [
    {
     "name": "stdout",
     "output_type": "stream",
     "text": [
      "[1, 2, 3, 4, 5]\n"
     ]
    }
   ],
   "source": [
    "a = {'aa':[1,2,3,4,5]}\n",
    "print(a['aa'])"
   ]
  },
  {
   "cell_type": "code",
   "execution_count": 186,
   "id": "72dbb083-7829-40ee-84f8-fd0a6974aa53",
   "metadata": {},
   "outputs": [
    {
     "data": {
      "text/plain": [
       "'010-9999-1234'"
      ]
     },
     "execution_count": 186,
     "metadata": {},
     "output_type": "execute_result"
    }
   ],
   "source": [
    "dic2 = {'bb':{'name':'pey', 'phone':'010-9999-1234', 'birth':'1118'}}\n",
    "dic2['bb']['phone']"
   ]
  },
  {
   "cell_type": "markdown",
   "id": "982de2de-6c17-4627-a698-4b1cddcbe6af",
   "metadata": {},
   "source": [
    "### 딕셔너리 쌍 추가, 삭제하기"
   ]
  },
  {
   "cell_type": "code",
   "execution_count": 238,
   "id": "e453b2a2-0834-4df1-ae1e-67d638b8814c",
   "metadata": {},
   "outputs": [
    {
     "name": "stdout",
     "output_type": "stream",
     "text": [
      "{'name': 'pey', 'phone': '010-9999-1234', 'birth': '1118', 'age': '20'}\n"
     ]
    }
   ],
   "source": [
    "dic = {'name':'pey', 'phone':'010-9999-1234', 'birth':'1118'}\n",
    "# 리스트에서는 없는 것을 추가하면 에러가 났었음\n",
    "dic['age'] = '20'\n",
    "print(dic)\n",
    "# 딕셔너리에서는 추가가 가능함"
   ]
  },
  {
   "cell_type": "code",
   "execution_count": 196,
   "id": "29ec97bb-6b1c-43b1-a69a-c947f7a54e15",
   "metadata": {},
   "outputs": [
    {
     "name": "stdout",
     "output_type": "stream",
     "text": [
      "{'name': 'pey', 'phone': '010-9999-1234', 'birth': '1118', 'age': '20', 'adress': 'Korea', 'array': [1, 2, 3, 4, 5], 'address': 'Korea'}\n"
     ]
    }
   ],
   "source": [
    "dic['array'] = [1,2,3,4,5]\n",
    "dic['address'] = 'Korea'\n",
    "print(dic)\n",
    "#딕셔너리에서는 배열도 추가 가능"
   ]
  },
  {
   "cell_type": "code",
   "execution_count": 197,
   "id": "7cf94b48-56e6-4970-a456-7b8b5437dd3f",
   "metadata": {},
   "outputs": [
    {
     "name": "stdout",
     "output_type": "stream",
     "text": [
      "{'name': 'pey', 'phone': '010-9999-1234', 'birth': '1118', 'age': '20', 'adress': 'Korea', 'array': [1, 2, 3, 4, 5], 'address': 'Korea'}\n",
      "{'name': 'pey', 'phone': '010-9999-1234', 'birth': '1118', 'age': '20', 'adress': 'Korea', 'address': 'Korea'}\n"
     ]
    }
   ],
   "source": [
    "print(dic)\n",
    "del dic['array']\n",
    "print(dic)"
   ]
  },
  {
   "cell_type": "code",
   "execution_count": 199,
   "id": "5c6e9512-0cd7-408f-a68d-16c12a73d74a",
   "metadata": {},
   "outputs": [
    {
     "name": "stdout",
     "output_type": "stream",
     "text": [
      "{1: 'b'}\n"
     ]
    }
   ],
   "source": [
    "#딕셔너리 만들 때 주의사항 - 딕셔너리의 Key값은 고유한 값이므로 중복되는 Key값을 설정해놓으면 하나를 제외한 나머지 것들이 모두 무시된다\n",
    "a = {1:'a', 1:'b'}\n",
    "print(a)"
   ]
  },
  {
   "cell_type": "markdown",
   "id": "2d502b1a-eac2-4c2b-997d-55f4cdda226f",
   "metadata": {},
   "source": [
    "### 딕셔너리 관련함수"
   ]
  },
  {
   "cell_type": "code",
   "execution_count": 225,
   "id": "af25bd67-24a5-486f-84d9-8deda886a358",
   "metadata": {},
   "outputs": [
    {
     "name": "stdout",
     "output_type": "stream",
     "text": [
      "dict_keys(['name', 'phone', 'birth', 'age', 'adress', 'array', 'address'])\n",
      "dict_values(['pey', '010-9999-1234', '1118', '20', 'Korea', [1, 2, 3, 4, 5], 'Korea'])\n",
      "['pey', '010-9999-1234', '1118', '20', 'Korea', [1, 2, 3, 4, 5], 'Korea']\n",
      "dict_items([('name', 'pey'), ('phone', '010-9999-1234'), ('birth', '1118'), ('age', '20'), ('adress', 'Korea'), ('array', [1, 2, 3, 4, 5]), ('address', 'Korea')])\n",
      "{'name': 'pey', 'phone': '010-9999-1234', 'birth': '1118', 'age': '20', 'adress': 'Korea', 'array': [1, 2, 3, 4, 5], 'address': 'Korea'}\n",
      "{}\n"
     ]
    }
   ],
   "source": [
    "# 키와 값을 각각 따로 모을 수 있다\n",
    "# 유사 List로 감싸서 꺼내준다\n",
    "a = {'name': 'pey', 'phone': '010-9999-1234', 'birth': '1118', 'age': '20', 'adress': 'Korea', 'array': [1, 2, 3, 4, 5], 'address': 'Korea'}\n",
    "#키 리스트 만들기 - keys\n",
    "print(a.keys())\n",
    "#value 리스트 만들기 - values\n",
    "print(a.values())\n",
    "print(list(a.values()))\n",
    "#key와 value 쌍 얻기 - items\n",
    "print(a.items())\n",
    "\n",
    "# key:value 쌍 모두 지우기 - clear\n",
    "print(a)\n",
    "a.clear()\n",
    "print(a)"
   ]
  },
  {
   "cell_type": "code",
   "execution_count": 220,
   "id": "cb506596-9963-4946-b97c-c787c9a3ba38",
   "metadata": {},
   "outputs": [
    {
     "name": "stdout",
     "output_type": "stream",
     "text": [
      "name\n",
      "phone\n",
      "birth\n",
      "age\n",
      "adress\n",
      "array\n",
      "address\n"
     ]
    }
   ],
   "source": [
    "for k in a.keys():\n",
    "    print(k)"
   ]
  },
  {
   "cell_type": "code",
   "execution_count": 232,
   "id": "3aac0403-37c1-4bd0-b141-7ae0bf09bd1c",
   "metadata": {},
   "outputs": [
    {
     "name": "stdout",
     "output_type": "stream",
     "text": [
      "pey\n",
      "None\n"
     ]
    }
   ],
   "source": [
    "a = {'name': 'pey', 'phone': '010-9999-1234', 'birth': '1118', 'age': '20', 'adress': 'Korea', 'array': [1, 2, 3, 4, 5], 'address': 'Korea'}\n",
    "print(a.get('name'))\n",
    "print(a.get('home'))\n",
    "# print(a.['home'])- 에러\n",
    "#get을 사용할 때 요소가 없으면 none를 띄움"
   ]
  },
  {
   "cell_type": "code",
   "execution_count": 233,
   "id": "3b6f9a5f-474f-4648-a4e7-a2aa2dee6afa",
   "metadata": {},
   "outputs": [
    {
     "name": "stdout",
     "output_type": "stream",
     "text": [
      "True\n"
     ]
    }
   ],
   "source": [
    "a = {'name': 'pey', 'phone': '010-9999-1234', 'birth': '1118', 'age': '20', 'adress': 'Korea', 'array': [1, 2, 3, 4, 5], 'address': 'Korea'}\n",
    "print('name' in a)"
   ]
  },
  {
   "cell_type": "code",
   "execution_count": 236,
   "id": "bb3bf6ab-b495-4eb2-ac60-70dfa80f09ec",
   "metadata": {},
   "outputs": [
    {
     "name": "stdout",
     "output_type": "stream",
     "text": [
      "True\n",
      "False\n"
     ]
    }
   ],
   "source": [
    "al = [11,22,33,44,55]\n",
    "at = 11,22,33,44,55\n",
    "ad = {0:11,1:22,2:33,3:44,4:55}\n",
    "\n",
    "print(11 in al)\n",
    "print(77 in at)"
   ]
  },
  {
   "cell_type": "code",
   "execution_count": 13,
   "id": "2623ae34-82aa-48f3-89f7-011c50be5216",
   "metadata": {},
   "outputs": [
    {
     "name": "stdout",
     "output_type": "stream",
     "text": [
      "0과 1사이의 랜덤소수 0.5734582339914174\n",
      "0과 1사이의 랜덤실수 14\n",
      "오늘 선택된 메뉴는 구내식당!\n",
      "[5, 8, 2, 3, 4, 7, 6, 1, 10, 9]\n"
     ]
    }
   ],
   "source": [
    "#실습 random 모듈\n",
    "import random \n",
    "menu = ['구내식당','편의점','도시락','과자','라면']\n",
    "\n",
    "num1 = random.random()\n",
    "print(f'0과 1사이의 랜덤소수 {num1}')\n",
    "num2 = random.randint(1,100)\n",
    "print(f'0과 1사이의 랜덤실수 {num2}')\n",
    "lunch = random.choice(menu)\n",
    "print(f'오늘 선택된 메뉴는 {lunch}!')\n",
    "deck=[1,2,3,4,5,6,7,8,9,10]\n",
    "random.shuffle(deck) #shuffle은 리턴값을 주지 않아도 값이 반환된\n",
    "print(deck)"
   ]
  },
  {
   "cell_type": "markdown",
   "id": "54743423-4a27-46b1-89ad-2fead6c12295",
   "metadata": {},
   "source": [
    "## 집합 자료형"
   ]
  },
  {
   "cell_type": "code",
   "execution_count": 20,
   "id": "fa97dc1c-010b-4d9a-8690-ce7756857411",
   "metadata": {},
   "outputs": [
    {
     "name": "stdout",
     "output_type": "stream",
     "text": [
      "{1, 2, 3} <class 'set'>\n",
      "{'e', 'H', '!', 'o', 'l'} <class 'set'>\n"
     ]
    }
   ],
   "source": [
    "s1 = set([1,2,3])\n",
    "print(s1, type(s1))\n",
    "s2 = set('Hello!')\n",
    "print(s2, type(s2)) # list와 tuple은 순서가 있어서 순서대로 넣고 빼기가 가능했는데 dictionary와 set은 순서가 없이 출력된다"
   ]
  },
  {
   "cell_type": "code",
   "execution_count": 23,
   "id": "d3953f0a-f9b9-4dd6-9f05-33cf81c5785d",
   "metadata": {},
   "outputs": [
    {
     "name": "stdout",
     "output_type": "stream",
     "text": [
      "[33, 11, 22] <class 'list'>\n",
      "(33, 11, 22) <class 'tuple'>\n"
     ]
    }
   ],
   "source": [
    "#집합 자료형의 특징\n",
    "s1 = set([11,22,33,11,22])\n",
    "l1 = list(s1)\n",
    "print(l1, type(l1)) # set은 중복을 허용하지 않는다\n",
    "t1 = tuple(s1)\n",
    "print(t1, type(t1)) "
   ]
  },
  {
   "cell_type": "code",
   "execution_count": 26,
   "id": "3bf53fa2-369e-4416-874e-125d124a7676",
   "metadata": {},
   "outputs": [
    {
     "name": "stdout",
     "output_type": "stream",
     "text": [
      "{4, 5, 6}\n",
      "{4, 5, 6}\n"
     ]
    }
   ],
   "source": [
    "#교집합 구하기\n",
    "s1 = set([1,2,3,4,5,6])\n",
    "s2 = set([4,5,6,7,8,9])\n",
    "print(s1 & s2)\n",
    "print(s1.intersection(s2))"
   ]
  },
  {
   "cell_type": "code",
   "execution_count": 32,
   "id": "574b3b5c-1574-43a5-996a-a06f3f8b32e8",
   "metadata": {},
   "outputs": [
    {
     "name": "stdout",
     "output_type": "stream",
     "text": [
      "{1, 2, 3, 4, 5, 6, 7, 8, 9}\n",
      "{1, 2, 3, 4, 5, 6, 7, 8, 9}\n"
     ]
    }
   ],
   "source": [
    "# 합집합 구하기\n",
    "print(s1 | s2) # or표시\n",
    "print(s1.union(s2))"
   ]
  },
  {
   "cell_type": "code",
   "execution_count": 34,
   "id": "5eaee6b1-d95e-4a57-888f-a85a3707f687",
   "metadata": {},
   "outputs": [
    {
     "name": "stdout",
     "output_type": "stream",
     "text": [
      "{1, 2, 3}\n",
      "{8, 9, 7}\n"
     ]
    }
   ],
   "source": [
    "# 차집합 구하기\n",
    "print(s1 - s2)\n",
    "print(s2 - s1)"
   ]
  },
  {
   "cell_type": "markdown",
   "id": "a04d6961-b38e-4274-a3aa-665e9bff1f49",
   "metadata": {},
   "source": [
    "### 집합 자료형 관련 함수"
   ]
  },
  {
   "cell_type": "code",
   "execution_count": 35,
   "id": "48ce14c5-0b34-429a-b12a-747f354d6c9c",
   "metadata": {},
   "outputs": [
    {
     "name": "stdout",
     "output_type": "stream",
     "text": [
      "{1, 2, 3, 4}\n"
     ]
    }
   ],
   "source": [
    "# 값 1개 추가하가\n",
    "s1 = set([1,2,3])\n",
    "s1.add(4)\n",
    "print(s1)"
   ]
  },
  {
   "cell_type": "code",
   "execution_count": 38,
   "id": "5f63abc3-b2ee-4b03-b0e1-0005a895fd36",
   "metadata": {},
   "outputs": [
    {
     "name": "stdout",
     "output_type": "stream",
     "text": [
      "{1, 2, 3, 5, 6, 7}\n"
     ]
    }
   ],
   "source": [
    "# 값 여러개 추가하가\n",
    "s1 = set([1,2,3])\n",
    "s1.update([5,6,7])\n",
    "print(s1)"
   ]
  },
  {
   "cell_type": "code",
   "execution_count": 39,
   "id": "692ee682-1c98-4e33-9c5f-af05813ab4b9",
   "metadata": {},
   "outputs": [
    {
     "name": "stdout",
     "output_type": "stream",
     "text": [
      "{1, 3}\n"
     ]
    }
   ],
   "source": [
    "# 특정 값 제거하기-remove\n",
    "s1 = set([1,2,3])\n",
    "s1.remove(2)\n",
    "print(s1)"
   ]
  },
  {
   "cell_type": "markdown",
   "id": "2a00f99d-9192-4cd4-8b1e-708ef6899493",
   "metadata": {},
   "source": [
    "## 불자료형"
   ]
  },
  {
   "cell_type": "code",
   "execution_count": 40,
   "id": "73874244-6678-4468-a8cb-9e61bf5c15d1",
   "metadata": {},
   "outputs": [],
   "source": [
    "# True: 참을 뜻한다(1)\n",
    "# False: 거짓을 뜻한다(0)"
   ]
  },
  {
   "cell_type": "code",
   "execution_count": 42,
   "id": "4dc55c96-de70-4d70-97da-db27778f73fe",
   "metadata": {},
   "outputs": [
    {
     "name": "stdout",
     "output_type": "stream",
     "text": [
      "<class 'bool'>\n",
      "<class 'bool'>\n"
     ]
    }
   ],
   "source": [
    "print(type(True))\n",
    "print(type(False))"
   ]
  },
  {
   "cell_type": "code",
   "execution_count": 46,
   "id": "841f7b1c-0d36-4046-b6ab-5127219c858f",
   "metadata": {},
   "outputs": [
    {
     "data": {
      "text/plain": [
       "True"
      ]
     },
     "execution_count": 46,
     "metadata": {},
     "output_type": "execute_result"
    }
   ],
   "source": [
    "3>10\n",
    "3==3"
   ]
  },
  {
   "cell_type": "code",
   "execution_count": 48,
   "id": "1733596e-74ae-4460-ae6f-02a619daaf17",
   "metadata": {},
   "outputs": [
    {
     "name": "stdout",
     "output_type": "stream",
     "text": [
      "True\n",
      "False\n",
      "True\n",
      "False\n",
      "True\n",
      "False\n",
      "True\n",
      "False\n",
      "True\n",
      "False\n",
      "False\n"
     ]
    }
   ],
   "source": [
    "#자료형의 참과 거짓\n",
    "print(bool('py'))\n",
    "print(bool(''))\n",
    "print(bool([1,2,3]))\n",
    "print(bool([]))\n",
    "print(bool((1,2,3)))\n",
    "print(bool(()))\n",
    "print(bool({'a': 1}))\n",
    "print(bool({}))\n",
    "print(bool(1))\n",
    "print(bool(0))\n",
    "print(bool(None))"
   ]
  },
  {
   "cell_type": "code",
   "execution_count": 55,
   "id": "062bb712-b60e-43de-b8e2-2a03839bd025",
   "metadata": {},
   "outputs": [
    {
     "name": "stdout",
     "output_type": "stream",
     "text": [
      "어느날, 명석한 탐정는 마법의 성으로 모험을 떠나 숨겨진 보물을 발견했다. 그리고 호기심 많은 로봇는 어두운 숲으로 모험을 떠나 비밀 통로를 발견했다.\n"
     ]
    }
   ],
   "source": [
    "# random 으로 스토리 생성기 만들기\n",
    "\n",
    "# 등장인물 리스트\n",
    "characters=['용감한 기사','귀여운 고양이','호기심 많은 로봇','서투른 마법사','명석한 탐정', '바보 현수']\n",
    "places = ['어두운 숲으로','우주 행성으로','마법의 성으로','바닷속 도시로','귀신이 나오는 흉가로','재밌는 회사로']\n",
    "events=['숨겨진 보물을 발견했다.','무시무시한 용과 싸웠다.','비밀 통로를 발견했다.','고대의 미스터리를 풀었다.','왕국을 위험에서 구하였다.','치킨 먹는다.']\n",
    "\n",
    "ch = random.choice(characters)\n",
    "pl = random.choice(places)\n",
    "ev = random.choice(events)\n",
    "ch1 = random.choice(characters)\n",
    "pl1 = random.choice(places)\n",
    "ev1 = random.choice(events)\n",
    "\n",
    "print(f'어느날, {ch}는 {pl} 모험을 떠나 {ev} 그리고 {ch1}는 {pl1} 모험을 떠나 {ev1}')"
   ]
  },
  {
   "cell_type": "markdown",
   "id": "e8aee817-29cd-40ee-8f96-343d807ca68c",
   "metadata": {},
   "source": [
    "# 자료형의 값을 저장하는 공간, 변수"
   ]
  },
  {
   "cell_type": "markdown",
   "id": "e24c4081-a10f-4f34-b53c-f9b130965523",
   "metadata": {},
   "source": [
    "## 리스트의 얕은 복사 깊은 복사"
   ]
  },
  {
   "cell_type": "code",
   "execution_count": 9,
   "id": "cffe1c57-2d90-476d-a018-1df13528308f",
   "metadata": {},
   "outputs": [
    {
     "name": "stdout",
     "output_type": "stream",
     "text": [
      "[1, 2, 3] 2371873214464\n",
      "[1, 2, 3] 2371873214464\n",
      "[1, 7, 3]\n",
      "[1, 7, 3] 2371873214464\n",
      "[1, 7, 3] 2371873214464\n"
     ]
    }
   ],
   "source": [
    "a = [1,2,3]\n",
    "b = a\n",
    "print(a, id(a))\n",
    "print(b, id(a))\n",
    "b[1] = 7\n",
    "print(b)\n",
    "print(a, id(a))\n",
    "print(b, id(a))\n",
    "# a에 저장된 공간에 있는 것을 b는 가리키고만 있다."
   ]
  },
  {
   "cell_type": "code",
   "execution_count": 10,
   "id": "7efbbfe5-0f63-4fac-8f9d-d68cfdd691b2",
   "metadata": {},
   "outputs": [
    {
     "data": {
      "text/plain": [
       "True"
      ]
     },
     "execution_count": 10,
     "metadata": {},
     "output_type": "execute_result"
    }
   ],
   "source": [
    "a is b"
   ]
  },
  {
   "cell_type": "code",
   "execution_count": 15,
   "id": "7f310b01-d389-4f2a-be18-581ea69807ff",
   "metadata": {},
   "outputs": [
    {
     "name": "stdout",
     "output_type": "stream",
     "text": [
      "[11, 22, 33] 2371871520960\n",
      "[11, 22, 33] 2371873213632\n",
      "[11, 22, 33] 2371871520960\n",
      "[11, 22, 77] 2371873213632\n"
     ]
    }
   ],
   "source": [
    "from copy import copy \n",
    "# import copy 1번 방식\n",
    "c = [11,22,33]\n",
    "# d = copy.copy(c) 1번 방식\n",
    "# d = copy(c)  방식 2번\n",
    "# d = c[:]  방식 3번\n",
    "d = c.copy() # 방식 4번\n",
    "print(c, id(c))\n",
    "print(d, id(d))\n",
    "d[2] = 77\n",
    "print(c, id(c))\n",
    "print(d, id(d))\n",
    "#다른 공간에 복사가 되었기때문에 위치가 다르게 나옴"
   ]
  },
  {
   "cell_type": "code",
   "execution_count": 12,
   "id": "858f0db6-bf82-4693-8383-291e887c63c8",
   "metadata": {},
   "outputs": [
    {
     "data": {
      "text/plain": [
       "False"
      ]
     },
     "execution_count": 12,
     "metadata": {},
     "output_type": "execute_result"
    }
   ],
   "source": [
    "c is d"
   ]
  },
  {
   "cell_type": "markdown",
   "id": "0ead5259-17f2-4d47-be09-23cc3e730958",
   "metadata": {},
   "source": [
    "## 변수를 만드는 여러가지 방법"
   ]
  },
  {
   "cell_type": "code",
   "execution_count": 19,
   "id": "62a02ea8-216c-4c27-a2a7-58aaa7ed53f3",
   "metadata": {},
   "outputs": [
    {
     "name": "stdout",
     "output_type": "stream",
     "text": [
      "파이썬 짱짱\n",
      "배고파 밥줘\n",
      "10 10 10\n"
     ]
    }
   ],
   "source": [
    "a,b = '파이썬','짱짱'\n",
    "[c,d] = ['배고파','밥줘']\n",
    "print(a,b)\n",
    "print(c,d)\n",
    "num1 = num2 = num3 = 10\n",
    "print(num1,num2,num3)"
   ]
  },
  {
   "cell_type": "code",
   "execution_count": 21,
   "id": "f8fc48a5-f833-4bef-8382-9f1fbdf41c24",
   "metadata": {},
   "outputs": [
    {
     "name": "stdout",
     "output_type": "stream",
     "text": [
      "3 7\n",
      "7 3\n"
     ]
    }
   ],
   "source": [
    "a = 3\n",
    "b = 7\n",
    "print(a,b)\n",
    "a,b = b,a\n",
    "print(a,b)"
   ]
  },
  {
   "cell_type": "code",
   "execution_count": 22,
   "id": "ef4a13ff-7032-4362-a2a1-081450f4f9c8",
   "metadata": {},
   "outputs": [
    {
     "name": "stdout",
     "output_type": "stream",
     "text": [
      "33 77\n",
      "77 33\n"
     ]
    }
   ],
   "source": [
    "a = 33\n",
    "b = 77\n",
    "print(a,b)\n",
    "temp = a\n",
    "a=b\n",
    "b=temp\n",
    "print(a,b)"
   ]
  }
 ],
 "metadata": {
  "kernelspec": {
   "display_name": "Python 3 (ipykernel)",
   "language": "python",
   "name": "python3"
  },
  "language_info": {
   "codemirror_mode": {
    "name": "ipython",
    "version": 3
   },
   "file_extension": ".py",
   "mimetype": "text/x-python",
   "name": "python",
   "nbconvert_exporter": "python",
   "pygments_lexer": "ipython3",
   "version": "3.13.1"
  }
 },
 "nbformat": 4,
 "nbformat_minor": 5
}
