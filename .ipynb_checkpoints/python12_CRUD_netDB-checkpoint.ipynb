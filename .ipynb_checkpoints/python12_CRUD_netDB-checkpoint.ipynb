{
 "cells": [
  {
   "cell_type": "code",
   "execution_count": 1,
   "id": "236b2409-885f-4a0d-8495-efb5b63ec8fc",
   "metadata": {},
   "outputs": [
    {
     "name": "stdout",
     "output_type": "stream",
     "text": [
      "MySQL 서버1에 성공적으로 연결되었습니다\n",
      "MySQL 서버2에 성공적으로 연결되었습니다\n",
      "연결중..\n"
     ]
    }
   ],
   "source": [
    "import mysql.connector\n",
    "\n",
    "try:\n",
    "    conn1 = mysql.connector.connect(\n",
    "        host=\"mysql\", #MySQL 서버1 주소\n",
    "        user=\"root\",\n",
    "        password=\"1234\"\n",
    "    )\n",
    "    conn2 = mysql.connector.connect(\n",
    "        host=\"210.119.14.81\", #MySQL 서버2 주소\n",
    "        user=\"root\",\n",
    "        password=\"1234\"\n",
    "    )\n",
    "    if conn1.is_connected():\n",
    "        print('MySQL 서버1에 성공적으로 연결되었습니다')\n",
    "    if conn2.is_connected():\n",
    "        print('MySQL 서버2에 성공적으로 연결되었습니다')\n",
    "except mysql.connector.Error as err:\n",
    "    print('MySQL 서버 연결 실패되었습니다', err)\n",
    "finally:\n",
    "    if all([conn1.is_connected(),conn2.is_connected()]):\n",
    "        print('연결중..')"
   ]
  },
  {
   "cell_type": "code",
   "execution_count": 2,
   "id": "b1f36d24-476e-4228-a934-a171669e97b3",
   "metadata": {},
   "outputs": [],
   "source": [
    "cursor1 = conn1.cursor()\n",
    "cursor2 = conn2.cursor()\n",
    "que = 'CREATE DATABASE IF NOT EXISTs mjdb'\n",
    "cursor1.execute(que)\n",
    "cursor2.execute(que)\n",
    "conn1.close()\n",
    "conn2.close()"
   ]
  },
  {
   "cell_type": "code",
   "execution_count": 3,
   "id": "834916dd-49a8-43c3-85bc-e00371cd2790",
   "metadata": {},
   "outputs": [
    {
     "name": "stdout",
     "output_type": "stream",
     "text": [
      "MySQL 연결성공!\n"
     ]
    }
   ],
   "source": [
    "# MySQL 에 연결\n",
    "conn1 = mysql.connector.connect(\n",
    "        host=\"mysql\", # MySQL 서버주소\n",
    "        user=\"root\",\n",
    "        password=\"1234\",\n",
    "        database=\"mjdb\" # 사용할 데이터베이스\n",
    "    )\n",
    "conn2 = mysql.connector.connect(\n",
    "        host=\"210.119.14.81\", # MySQL 서버주소\n",
    "        user=\"root\",\n",
    "        password=\"1234\",\n",
    "        database=\"mjdb\" # 사용할 데이터베이스\n",
    "    )\n",
    "cursor1 = conn1.cursor()\n",
    "cursor2 = conn2.cursor()\n",
    "print('MySQL 연결성공!')"
   ]
  },
  {
   "cell_type": "code",
   "execution_count": 4,
   "id": "9065455f-46ee-4cf0-a17c-1e778f319d23",
   "metadata": {},
   "outputs": [
    {
     "name": "stdout",
     "output_type": "stream",
     "text": [
      "테이블 생성 완료\n"
     ]
    }
   ],
   "source": [
    "# 테이블생성\n",
    "query = 'CREATE TABLE IF NOT EXISTS users(id INT AUTO_INCREMENT PRIMARY KEY, name VARCHAR(50), age INT, city VARCHAR(50))'\n",
    "cursor1.execute(query)\n",
    "cursor2.execute(query)\n",
    "print('테이블 생성 완료')"
   ]
  },
  {
   "cell_type": "code",
   "execution_count": 5,
   "id": "ce6464d3-5cee-4fb7-95d4-9d32a4d91832",
   "metadata": {},
   "outputs": [
    {
     "name": "stdout",
     "output_type": "stream",
     "text": [
      "여러개의 데이터 삽입 완료\n"
     ]
    }
   ],
   "source": [
    "# 여러개의 데이터 삽입\n",
    "sql = 'INSERT INTO users(name, age, city) VALUES (%s, %s, %s)'\n",
    "m_values=[('지민',2,'언제 옴'),('오늘',27,'학식 고'),('Coolboy',22,'Jeju')]\n",
    "cursor1.executemany(sql, m_values)\n",
    "cursor2.executemany(sql, m_values)\n",
    "conn1.commit()\n",
    "conn2.commit()\n",
    "print('여러개의 데이터 삽입 완료')"
   ]
  },
  {
   "cell_type": "code",
   "execution_count": 7,
   "id": "087f05a6-e82e-4f7c-950d-39f745742b71",
   "metadata": {},
   "outputs": [
    {
     "name": "stdout",
     "output_type": "stream",
     "text": [
      "===서버1===\n",
      "(1, 'superman', 33, 'Seoul')\n",
      "(2, 'Cutegirl', 27, 'Suwon')\n",
      "(3, 'Coolboy', 22, 'Jeju')\n",
      "(4, 'superman', 33, 'Seoul')\n",
      "(5, 'Cutegirl', 27, 'Suwon')\n",
      "(6, 'Coolboy', 22, 'Jeju')\n",
      "(7, '지민', 2, 'ㅃㄹ왕')\n",
      "(8, '오늘', 27, '학식 고')\n",
      "(9, '지민', 2, '언제 옴')\n",
      "(13, '지민', 2, '언제 옴')\n",
      "(14, '오늘', 27, '학식 고')\n",
      "(15, 'Coolboy', 22, 'Jeju')\n",
      "===서버2===\n",
      "(1, 'superman', 33, 'Seoul')\n",
      "(2, 'Cutegirl', 27, 'Suwon')\n",
      "(3, 'Coolboy', 22, 'Jeju')\n",
      "(4, 'superman', 33, 'Seoul')\n",
      "(5, 'Cutegirl', 27, 'Suwon')\n",
      "(6, 'Coolboy', 22, 'Jeju')\n",
      "(7, '지민', 2, 'ㅃㄹ왕')\n",
      "(8, '오늘', 27, '학식 고')\n",
      "(9, '지민', 2, '언제 옴')\n",
      "(10, '지민', 2, '언제 옴')\n",
      "(11, '오늘', 27, '학식 고')\n",
      "(12, 'Coolboy', 22, 'Jeju')\n"
     ]
    }
   ],
   "source": [
    "# 모든 데이터 조회\n",
    "que = 'SELECT * FROM users'\n",
    "cursor1.execute(que)\n",
    "users1 = cursor1.fetchall()\n",
    "cursor2.execute(que)\n",
    "users2 = cursor2.fetchall()\n",
    "print('===서버1===')\n",
    "for user in users1:\n",
    "    print(user)\n",
    "print('===서버2===')\n",
    "for user in users2:\n",
    "    print(user)"
   ]
  },
  {
   "cell_type": "code",
   "execution_count": null,
   "id": "61ca2ce8-7e6f-4c25-9409-ecae3bf6ed14",
   "metadata": {},
   "outputs": [],
   "source": []
  }
 ],
 "metadata": {
  "kernelspec": {
   "display_name": "Python 3 (ipykernel)",
   "language": "python",
   "name": "python3"
  },
  "language_info": {
   "codemirror_mode": {
    "name": "ipython",
    "version": 3
   },
   "file_extension": ".py",
   "mimetype": "text/x-python",
   "name": "python",
   "nbconvert_exporter": "python",
   "pygments_lexer": "ipython3",
   "version": "3.10.12"
  }
 },
 "nbformat": 4,
 "nbformat_minor": 5
}
