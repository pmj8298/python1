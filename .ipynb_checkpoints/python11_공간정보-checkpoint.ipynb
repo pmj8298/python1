{
 "cells": [
  {
   "cell_type": "markdown",
   "id": "740edf5b-8e03-4109-99bc-943f32fff2d9",
   "metadata": {},
   "source": [
    "# 공간정보\n",
    "- 브이월드\n",
    "- https://www.vworld.kr/dtmk/dtmk_ntads_s001.do"
   ]
  },
  {
   "cell_type": "code",
   "execution_count": 1,
   "id": "3ec3ef45-7644-4e8e-a1a6-c05bfa25405c",
   "metadata": {},
   "outputs": [],
   "source": [
    "# !echo '1234' | sudo -S apt update"
   ]
  },
  {
   "cell_type": "code",
   "execution_count": 2,
   "id": "746e4aee-052f-4d8d-887d-4bf67e1a474d",
   "metadata": {},
   "outputs": [],
   "source": [
    "# !pip install matplotlib"
   ]
  },
  {
   "cell_type": "code",
   "execution_count": 3,
   "id": "55fdc36b-c082-4c86-aa94-6bddcf2dbb81",
   "metadata": {},
   "outputs": [],
   "source": [
    "# !echo '1234' | sudo apt install -y fonts-nanum"
   ]
  },
  {
   "cell_type": "code",
   "execution_count": 4,
   "id": "6353b850-32e3-44d0-9800-5f426954ef53",
   "metadata": {},
   "outputs": [],
   "source": [
    "import matplotlib\n",
    "import matplotlib.pyplot as plt\n",
    "from matplotlib import rc\n",
    "import matplotlib.font_manager as fm\n",
    "# fontlist = fm.findSystemFonts(fontpaths=None, fontext='ttf')\n",
    "# fontlist"
   ]
  },
  {
   "cell_type": "code",
   "execution_count": 5,
   "id": "3910d841-00a2-46da-8767-2d5a4366702e",
   "metadata": {},
   "outputs": [
    {
     "data": {
      "text/plain": [
       "Text(0.3, 0.3, '한글')"
      ]
     },
     "execution_count": 5,
     "metadata": {},
     "output_type": "execute_result"
    },
    {
     "data": {
      "image/png": "[encoded data removed]",
      "text/plain": [
       "<Figure size 640x480 with 1 Axes>"
      ]
     },
     "metadata": {},
     "output_type": "display_data"
    }
   ],
   "source": [
    "# 윈도우용 폰트 경로 설정\n",
    "# path = \"C:\\\\Windows\\\\Fonts\\\\H2GPRM.TTF\"\n",
    "# font_name = fm.FontProperties(fname=path).get_name()\n",
    "# rc('font',family=font_name)\n",
    "plt.rc('font',family=\"NanumBarunGothic\")\n",
    "plt.text(0.3,0.3,'한글')"
   ]
  },
  {
   "cell_type": "code",
   "execution_count": null,
   "id": "60a0a093-2e3f-4914-9eb8-0598d38dd24c",
   "metadata": {},
   "outputs": [],
   "source": []
  }
 ],
 "metadata": {
  "kernelspec": {
   "display_name": "Python 3 (ipykernel)",
   "language": "python",
   "name": "python3"
  },
  "language_info": {
   "codemirror_mode": {
    "name": "ipython",
    "version": 3
   },
   "file_extension": ".py",
   "mimetype": "text/x-python",
   "name": "python",
   "nbconvert_exporter": "python",
   "pygments_lexer": "ipython3",
   "version": "3.10.12"
  }
 },
 "nbformat": 4,
 "nbformat_minor": 5
}
