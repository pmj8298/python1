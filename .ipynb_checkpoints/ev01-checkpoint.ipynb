{
 "cells": [
  {
   "cell_type": "code",
   "execution_count": 2,
   "id": "c101f0f6-1305-4f8d-b942-d27c88206b14",
   "metadata": {},
   "outputs": [
    {
     "name": "stdout",
     "output_type": "stream",
     "text": [
      "apple\n",
      "banana\n",
      "orange\n",
      "조건이 맞아요\n"
     ]
    }
   ],
   "source": [
    "# 파이썬 if\n",
    "fruit = ['apple','banana','orange']\n",
    "\n",
    "print(fruit[0])\n",
    "print(fruit[1])\n",
    "print(fruit[2])\n",
    "\n",
    "if 5>0 : # 벽에 있는 스위치\n",
    "    print('조건이 맞아요')"
   ]
  },
  {
   "cell_type": "code",
   "execution_count": 3,
   "id": "eb2aa46d-2aad-454b-abeb-35825ea3000e",
   "metadata": {},
   "outputs": [
    {
     "name": "stdout",
     "output_type": "stream",
     "text": [
      "조건이 맞아요\n"
     ]
    }
   ],
   "source": [
    "if True : # 벽에 있는 스위치\n",
    "    print('조건이 맞아요')"
   ]
  },
  {
   "cell_type": "code",
   "execution_count": 4,
   "id": "379c57e9-1df1-4828-9b15-d34e6061a1ed",
   "metadata": {},
   "outputs": [],
   "source": [
    "if False : # 벽에 있는 스위치\n",
    "    print('조건이 맞아요')"
   ]
  },
  {
   "cell_type": "code",
   "execution_count": 5,
   "id": "a764b565-cec7-4e4d-884b-5fdbf8437682",
   "metadata": {},
   "outputs": [
    {
     "name": "stdout",
     "output_type": "stream",
     "text": [
      "조건이 맞아요\n"
     ]
    }
   ],
   "source": [
    "if 5>0 :\n",
    "    print('조건이 맞아요')"
   ]
  },
  {
   "cell_type": "code",
   "execution_count": 6,
   "id": "6498adb1-d999-4594-af9f-6e3b9ab1b9fe",
   "metadata": {},
   "outputs": [
    {
     "name": "stdout",
     "output_type": "stream",
     "text": [
      "조건이 맞아요\n"
     ]
    }
   ],
   "source": [
    "if fruit[0] == 'apple':\n",
    "    print('조건이 맞아요')"
   ]
  },
  {
   "cell_type": "code",
   "execution_count": 7,
   "id": "2d13ef47-8e86-4de3-a69e-5be713392fd8",
   "metadata": {},
   "outputs": [
    {
     "name": "stdout",
     "output_type": "stream",
     "text": [
      "과일이에요\n"
     ]
    }
   ],
   "source": [
    "if 'apple' in fruit:\n",
    "    print('과일이에요')"
   ]
  },
  {
   "cell_type": "code",
   "execution_count": 9,
   "id": "039394d9-61f5-4e9a-840d-3162b2dfd365",
   "metadata": {},
   "outputs": [
    {
     "name": "stdout",
     "output_type": "stream",
     "text": [
      "과일이에요\n"
     ]
    }
   ],
   "source": [
    "if 'kiwi' not in fruit:\n",
    "    print('과일이에요')"
   ]
  },
  {
   "cell_type": "code",
   "execution_count": 10,
   "id": "03482b66-4439-41a7-b608-401a8f2b894d",
   "metadata": {},
   "outputs": [],
   "source": [
    "if 'kiwi' in fruit:\n",
    "    print('과일이에요')"
   ]
  },
  {
   "cell_type": "code",
   "execution_count": 13,
   "id": "d1d0f994-999a-4278-b3b4-d649c74ad60c",
   "metadata": {},
   "outputs": [
    {
     "name": "stdout",
     "output_type": "stream",
     "text": [
      "과일이에요\n"
     ]
    }
   ],
   "source": [
    "if 'apple' in fruit:\n",
    "    print('과일이에요')\n",
    "if 'apple' not in fruit:\n",
    "    print('과일이 아니에요')"
   ]
  },
  {
   "cell_type": "code",
   "execution_count": 16,
   "id": "27716374-be2f-4528-ad70-99e5162754ff",
   "metadata": {},
   "outputs": [
    {
     "name": "stdout",
     "output_type": "stream",
     "text": [
      "과일이에요\n"
     ]
    }
   ],
   "source": [
    "if 'apple' in fruit:\n",
    "    print('과일이에요')\n",
    "else:\n",
    "    print('과일이 아니에요')"
   ]
  },
  {
   "cell_type": "code",
   "execution_count": null,
   "id": "dab0991f-9617-4452-a484-fa1306e7a21b",
   "metadata": {},
   "outputs": [],
   "source": []
  }
 ],
 "metadata": {
  "kernelspec": {
   "display_name": "Python 3 (ipykernel)",
   "language": "python",
   "name": "python3"
  },
  "language_info": {
   "codemirror_mode": {
    "name": "ipython",
    "version": 3
   },
   "file_extension": ".py",
   "mimetype": "text/x-python",
   "name": "python",
   "nbconvert_exporter": "python",
   "pygments_lexer": "ipython3",
   "version": "3.10.12"
  }
 },
 "nbformat": 4,
 "nbformat_minor": 5
}
