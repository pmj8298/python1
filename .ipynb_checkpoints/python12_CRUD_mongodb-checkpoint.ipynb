{
 "cells": [
  {
   "cell_type": "code",
   "execution_count": 1,
   "id": "62849385-480f-4e34-adb8-54551d2d812c",
   "metadata": {},
   "outputs": [
    {
     "name": "stdout",
     "output_type": "stream",
     "text": [
      "Defaulting to user installation because normal site-packages is not writeable\n",
      "Collecting pymongo\n",
      "  Downloading pymongo-4.12.0-cp310-cp310-manylinux_2_17_x86_64.manylinux2014_x86_64.whl.metadata (22 kB)\n",
      "Collecting dnspython<3.0.0,>=1.16.0 (from pymongo)\n",
      "  Downloading dnspython-2.7.0-py3-none-any.whl.metadata (5.8 kB)\n",
      "Downloading pymongo-4.12.0-cp310-cp310-manylinux_2_17_x86_64.manylinux2014_x86_64.whl (1.2 MB)\n",
      "\u001b[2K   \u001b[90m━━━━━━━━━━━━━━━━━━━━━━━━━━━━━━━━━━━━━━━━\u001b[0m \u001b[32m1.2/1.2 MB\u001b[0m \u001b[31m33.5 MB/s\u001b[0m eta \u001b[36m0:00:00\u001b[0m\n",
      "\u001b[?25hDownloading dnspython-2.7.0-py3-none-any.whl (313 kB)\n",
      "Installing collected packages: dnspython, pymongo\n",
      "Successfully installed dnspython-2.7.0 pymongo-4.12.0\n"
     ]
    }
   ],
   "source": [
    "!pip install pymongo"
   ]
  },
  {
   "cell_type": "code",
   "execution_count": 4,
   "id": "a694db13-9c4a-43a2-891b-411169284761",
   "metadata": {},
   "outputs": [
    {
     "name": "stdout",
     "output_type": "stream",
     "text": [
      "{'ok': 1.0}\n",
      "MongoDB 서버에 성공적으로 연결되었습니다\n"
     ]
    }
   ],
   "source": [
    "from pymongo import MongoClient\n",
    "client = MongoClient('mongodb://mongodb:27017')\n",
    "\n",
    "try:\n",
    "    print(client.admin.command('ping'))\n",
    "    print('MongoDB 서버에 성공적으로 연결되었습니다')\n",
    "except Exception as e:\n",
    "    print('MongoDB 서버 연결 실패', e)"
   ]
  },
  {
   "cell_type": "code",
   "execution_count": 5,
   "id": "21c0b75e-83e6-48d3-b692-6c4a4e59bb0f",
   "metadata": {},
   "outputs": [
    {
     "name": "stdout",
     "output_type": "stream",
     "text": [
      "사용할 데이터베이스 선택됨\n",
      "사용할 컬렉션 선택됨\n"
     ]
    }
   ],
   "source": [
    "# 사용할 데이터베이스 선택\n",
    "db = client['mdb']\n",
    "print('사용할 데이터베이스 선택됨')\n",
    "\n",
    "# 사용할 컬렉션 선택\n",
    "collection = db['c1']\n",
    "print('사용할 컬렉션 선택됨')"
   ]
  },
  {
   "cell_type": "code",
   "execution_count": 6,
   "id": "da8b5bbf-3002-4b9c-8655-2cbf30d5957f",
   "metadata": {},
   "outputs": [
    {
     "name": "stdout",
     "output_type": "stream",
     "text": [
      "Inserted ID:  InsertOneResult(ObjectId('67f5deb4526653d912acc0dd'), acknowledged=True)\n"
     ]
    }
   ],
   "source": [
    "# 단일 문서 삽입\n",
    "user = {'name':'Alice', 'age':25, 'city':'Seoul'}\n",
    "insert_result = collection.insert_one(user)\n",
    "print('Inserted ID: ',insert_result)"
   ]
  },
  {
   "cell_type": "code",
   "execution_count": 7,
   "id": "f29df1b7-1565-4952-96bc-79f4ed67a673",
   "metadata": {},
   "outputs": [
    {
     "name": "stdout",
     "output_type": "stream",
     "text": [
      "Inserted ID:  InsertManyResult([ObjectId('67f5df8c526653d912acc0de'), ObjectId('67f5df8c526653d912acc0df'), ObjectId('67f5df8c526653d912acc0e0')], acknowledged=True)\n"
     ]
    }
   ],
   "source": [
    "# 여러개 문서 삽입\n",
    "user = [{'name':'Bob', 'age':30, 'city':'Busan'},\n",
    "        {'name':'Char', 'age':35, 'city':'Incheon'},\n",
    "        {'name':'Max', 'age':15, 'city':'Daegu'}]\n",
    "insert_results = collection.insert_many(user)\n",
    "print('Inserted ID: ',insert_results)"
   ]
  },
  {
   "cell_type": "code",
   "execution_count": 21,
   "id": "361fd915-bb51-4f59-ad47-eba1b0ee678d",
   "metadata": {},
   "outputs": [
    {
     "name": "stdout",
     "output_type": "stream",
     "text": [
      "{'name': 'superman', 'etc': '힘쌤'}\n",
      "{'name': 'coolboy', 'age': 17, 'etc': '잘생김', 'prop': '미성년자'}\n",
      "{'name': 'cutegirl', 'age': 20, 'gender': 'female'}\n",
      "{'name': 'Alice', 'age': 31, 'city': 'Seoul'}\n",
      "{'name': 'Bob', 'age': 30, 'city': 'Busan'}\n",
      "{'name': 'Char', 'age': 35, 'city': 'Incheon'}\n",
      "{'name': 'Max', 'age': 15, 'city': 'Daegu'}\n"
     ]
    }
   ],
   "source": [
    "# 여러개 문서 조회\n",
    "users = collection.find({},{'_id':0})\n",
    "for user in users:\n",
    "    print(user)"
   ]
  },
  {
   "cell_type": "code",
   "execution_count": 16,
   "id": "d669c85d-d3c2-4138-a8d9-e2bd48b667bd",
   "metadata": {},
   "outputs": [
    {
     "name": "stdout",
     "output_type": "stream",
     "text": [
      "{'_id': ObjectId('67f5df8c526653d912acc0e0'), 'name': 'Max', 'age': 15, 'city': 'Daegu'}\n"
     ]
    }
   ],
   "source": [
    "# 단일 문서 조회\n",
    "user = collection.find_one({'name':'Max'})\n",
    "print(user)"
   ]
  },
  {
   "cell_type": "code",
   "execution_count": 17,
   "id": "483a765a-79e6-4aac-a70d-92aaa05b77fb",
   "metadata": {},
   "outputs": [
    {
     "name": "stdout",
     "output_type": "stream",
     "text": [
      "{'name': 'Alice', 'age': 25, 'city': 'Seoul'}\n",
      "{'name': 'Bob', 'age': 30, 'city': 'Busan'}\n",
      "{'name': 'Char', 'age': 35, 'city': 'Incheon'}\n"
     ]
    }
   ],
   "source": [
    "# 특정 조건을 만족하는 문서 조회\n",
    "filters = {'age':{'$gt':20}} # 나이가 20보다 큰 문서 찾기\n",
    "filtered = collection.find(filters,{'_id':0})\n",
    "for f in filtered:\n",
    "    print(f)"
   ]
  },
  {
   "cell_type": "code",
   "execution_count": 18,
   "id": "84bb5b38-8ff2-4f53-81fd-e1f6ae18b660",
   "metadata": {},
   "outputs": [
    {
     "name": "stdout",
     "output_type": "stream",
     "text": [
      "수정됨:  UpdateResult({'n': 1, 'nModified': 1, 'ok': 1.0, 'updatedExisting': True}, acknowledged=True)\n"
     ]
    }
   ],
   "source": [
    "# 특정 문서 한 개 수정\n",
    "update = collection.update_one({'name':'Alice'},{'$set':{'age':26}})\n",
    "print('수정됨: ',update)"
   ]
  },
  {
   "cell_type": "code",
   "execution_count": 22,
   "id": "974feef1-203a-480c-b822-4f5a8f9655a9",
   "metadata": {},
   "outputs": [
    {
     "name": "stdout",
     "output_type": "stream",
     "text": [
      "수정됨:  UpdateResult({'n': 1, 'nModified': 1, 'ok': 1.0, 'updatedExisting': True}, acknowledged=True)\n"
     ]
    }
   ],
   "source": [
    "# 특정 문서 여러개 수정\n",
    "updates = collection.update_many({'name':{'$regex':'^A'}},{'$inc':{'age':5}}) # A로 시작하는 이름은 5살 증가시켜라\n",
    "print('수정됨: ',updates)"
   ]
  },
  {
   "cell_type": "code",
   "execution_count": 23,
   "id": "b13a0b3b-5fbf-49aa-9d2d-415612bd289c",
   "metadata": {},
   "outputs": [
    {
     "name": "stdout",
     "output_type": "stream",
     "text": [
      "DeleteResult({'n': 1, 'ok': 1.0}, acknowledged=True)\n"
     ]
    }
   ],
   "source": [
    "# 특정 문서 한 개 삭제\n",
    "delete = collection.delete_one({'etc':'잘생김'})\n",
    "print(delete)"
   ]
  },
  {
   "cell_type": "code",
   "execution_count": 25,
   "id": "14b987c3-6977-4d45-8f3f-5c464da5e241",
   "metadata": {},
   "outputs": [
    {
     "name": "stdout",
     "output_type": "stream",
     "text": [
      "DeleteResult({'n': 0, 'ok': 1.0}, acknowledged=True)\n"
     ]
    }
   ],
   "source": [
    "# 특정 문서 여러개 삭제\n",
    "deletes = collection.delete_many({'name':{'$regex':'e$'}}) #정규식으로 e로 끝나는 이름을 모두 삭제\n",
    "print(deletes)"
   ]
  },
  {
   "cell_type": "code",
   "execution_count": 27,
   "id": "885c22d5-9981-43ea-8fd5-56060f0ff62f",
   "metadata": {},
   "outputs": [],
   "source": [
    "import json\n",
    "\n",
    "with open('./photos.json') as f:\n",
    "    data = json.load(f)"
   ]
  },
  {
   "cell_type": "code",
   "execution_count": 28,
   "id": "570e9ceb-a6bc-4cdc-8025-7bbf3d2a113f",
   "metadata": {},
   "outputs": [
    {
     "name": "stdout",
     "output_type": "stream",
     "text": [
      "사용할 데이터베이스 선택됨\n",
      "사용할 컬렉션 선택됨\n"
     ]
    }
   ],
   "source": [
    "# 사용할 데이터베이스 선택\n",
    "db = client['jdb']\n",
    "print('사용할 데이터베이스 선택됨')\n",
    "\n",
    "# 사용할 컬렉션 선택\n",
    "collection2 = db['j1']\n",
    "print('사용할 컬렉션 선택됨')"
   ]
  },
  {
   "cell_type": "code",
   "execution_count": 29,
   "id": "f0be9e7d-7996-413c-a404-a57d7dd88bf7",
   "metadata": {},
   "outputs": [
    {
     "name": "stdout",
     "output_type": "stream",
     "text": [
      "로드완료\n"
     ]
    }
   ],
   "source": [
    "collection2.insert_many(data)\n",
    "print('로드완료')"
   ]
  },
  {
   "cell_type": "code",
   "execution_count": 30,
   "id": "14dde248-56a1-4a9b-873e-9c0bbeab74f7",
   "metadata": {},
   "outputs": [
    {
     "name": "stdout",
     "output_type": "stream",
     "text": [
      "{'albumId': 1, 'id': 1, 'title': 'accusamus beatae ad facilis cum similique qui sunt', 'url': 'https://via.placeholder.com/600/92c952', 'thumbnailUrl': 'https://via.placeholder.com/150/92c952'}\n",
      "{'albumId': 1, 'id': 2, 'title': 'reprehenderit est deserunt velit ipsam', 'url': 'https://via.placeholder.com/600/771796', 'thumbnailUrl': 'https://via.placeholder.com/150/771796'}\n",
      "{'albumId': 1, 'id': 3, 'title': 'officia porro iure quia iusto qui ipsa ut modi', 'url': 'https://via.placeholder.com/600/24f355', 'thumbnailUrl': 'https://via.placeholder.com/150/24f355'}\n",
      "{'albumId': 1, 'id': 4, 'title': 'culpa odio esse rerum omnis laboriosam voluptate repudiandae', 'url': 'https://via.placeholder.com/600/d32776', 'thumbnailUrl': 'https://via.placeholder.com/150/d32776'}\n",
      "{'albumId': 1, 'id': 5, 'title': 'natus nisi omnis corporis facere molestiae rerum in', 'url': 'https://via.placeholder.com/600/f66b97', 'thumbnailUrl': 'https://via.placeholder.com/150/f66b97'}\n",
      "{'albumId': 1, 'id': 6, 'title': 'accusamus ea aliquid et amet sequi nemo', 'url': 'https://via.placeholder.com/600/56a8c2', 'thumbnailUrl': 'https://via.placeholder.com/150/56a8c2'}\n",
      "{'albumId': 1, 'id': 7, 'title': 'officia delectus consequatur vero aut veniam explicabo molestias', 'url': 'https://via.placeholder.com/600/b0f7cc', 'thumbnailUrl': 'https://via.placeholder.com/150/b0f7cc'}\n",
      "{'albumId': 1, 'id': 8, 'title': 'aut porro officiis laborum odit ea laudantium corporis', 'url': 'https://via.placeholder.com/600/54176f', 'thumbnailUrl': 'https://via.placeholder.com/150/54176f'}\n",
      "{'albumId': 1, 'id': 9, 'title': 'qui eius qui autem sed', 'url': 'https://via.placeholder.com/600/51aa97', 'thumbnailUrl': 'https://via.placeholder.com/150/51aa97'}\n",
      "{'albumId': 1, 'id': 10, 'title': 'beatae et provident et ut vel', 'url': 'https://via.placeholder.com/600/810b14', 'thumbnailUrl': 'https://via.placeholder.com/150/810b14'}\n",
      "{'albumId': 1, 'id': 11, 'title': 'nihil at amet non hic quia qui', 'url': 'https://via.placeholder.com/600/1ee8a4', 'thumbnailUrl': 'https://via.placeholder.com/150/1ee8a4'}\n",
      "{'albumId': 1, 'id': 12, 'title': 'mollitia soluta ut rerum eos aliquam consequatur perspiciatis maiores', 'url': 'https://via.placeholder.com/600/66b7d2', 'thumbnailUrl': 'https://via.placeholder.com/150/66b7d2'}\n",
      "{'albumId': 1, 'id': 13, 'title': 'repudiandae iusto deleniti rerum', 'url': 'https://via.placeholder.com/600/197d29', 'thumbnailUrl': 'https://via.placeholder.com/150/197d29'}\n",
      "{'albumId': 1, 'id': 14, 'title': 'est necessitatibus architecto ut laborum', 'url': 'https://via.placeholder.com/600/61a65', 'thumbnailUrl': 'https://via.placeholder.com/150/61a65'}\n",
      "{'albumId': 1, 'id': 15, 'title': 'harum dicta similique quis dolore earum ex qui', 'url': 'https://via.placeholder.com/600/f9cee5', 'thumbnailUrl': 'https://via.placeholder.com/150/f9cee5'}\n",
      "{'albumId': 1, 'id': 16, 'title': 'iusto sunt nobis quasi veritatis quas expedita voluptatum deserunt', 'url': 'https://via.placeholder.com/600/fdf73e', 'thumbnailUrl': 'https://via.placeholder.com/150/fdf73e'}\n",
      "{'albumId': 1, 'id': 17, 'title': 'natus doloribus necessitatibus ipsa', 'url': 'https://via.placeholder.com/600/9c184f', 'thumbnailUrl': 'https://via.placeholder.com/150/9c184f'}\n",
      "{'albumId': 1, 'id': 18, 'title': 'laboriosam odit nam necessitatibus et illum dolores reiciendis', 'url': 'https://via.placeholder.com/600/1fe46f', 'thumbnailUrl': 'https://via.placeholder.com/150/1fe46f'}\n",
      "{'albumId': 1, 'id': 19, 'title': 'perferendis nesciunt eveniet et optio a', 'url': 'https://via.placeholder.com/600/56acb2', 'thumbnailUrl': 'https://via.placeholder.com/150/56acb2'}\n",
      "{'albumId': 1, 'id': 20, 'title': 'assumenda voluptatem laboriosam enim consequatur veniam placeat reiciendis error', 'url': 'https://via.placeholder.com/600/8985dc', 'thumbnailUrl': 'https://via.placeholder.com/150/8985dc'}\n",
      "{'albumId': 1, 'id': 21, 'title': 'ad et natus qui', 'url': 'https://via.placeholder.com/600/5e12c6', 'thumbnailUrl': 'https://via.placeholder.com/150/5e12c6'}\n",
      "{'albumId': 1, 'id': 22, 'title': 'et ea illo et sit voluptas animi blanditiis porro', 'url': 'https://via.placeholder.com/600/45601a', 'thumbnailUrl': 'https://via.placeholder.com/150/45601a'}\n",
      "{'albumId': 1, 'id': 23, 'title': 'harum velit vero totam', 'url': 'https://via.placeholder.com/600/e924e6', 'thumbnailUrl': 'https://via.placeholder.com/150/e924e6'}\n",
      "{'albumId': 1, 'id': 24, 'title': 'beatae officiis ut aut', 'url': 'https://via.placeholder.com/600/8f209a', 'thumbnailUrl': 'https://via.placeholder.com/150/8f209a'}\n",
      "{'albumId': 1, 'id': 25, 'title': 'facere non quis fuga fugit vitae', 'url': 'https://via.placeholder.com/600/5e3a73', 'thumbnailUrl': 'https://via.placeholder.com/150/5e3a73'}\n",
      "{'albumId': 1, 'id': 26, 'title': 'asperiores nobis voluptate qui', 'url': 'https://via.placeholder.com/600/474645', 'thumbnailUrl': 'https://via.placeholder.com/150/474645'}\n",
      "{'albumId': 1, 'id': 27, 'title': 'sit asperiores est quos quis nisi veniam error', 'url': 'https://via.placeholder.com/600/c984bf', 'thumbnailUrl': 'https://via.placeholder.com/150/c984bf'}\n",
      "{'albumId': 1, 'id': 28, 'title': 'non neque eligendi molestiae repudiandae illum voluptatem qui aut', 'url': 'https://via.placeholder.com/600/392537', 'thumbnailUrl': 'https://via.placeholder.com/150/392537'}\n",
      "{'albumId': 1, 'id': 29, 'title': 'aut ipsam quos ab placeat omnis', 'url': 'https://via.placeholder.com/600/602b9e', 'thumbnailUrl': 'https://via.placeholder.com/150/602b9e'}\n"
     ]
    }
   ],
   "source": [
    "filters = {'id':{'$lt':30}}\n",
    "filtered = collection.find(filters,{'_id':0})\n",
    "for f in filtered:\n",
    "    print(f)"
   ]
  },
  {
   "cell_type": "code",
   "execution_count": 32,
   "id": "389c4d8d-9281-4df2-9ebd-0d88a041fe0d",
   "metadata": {},
   "outputs": [
    {
     "name": "stdout",
     "output_type": "stream",
     "text": [
      "https://via.placeholder.com/600/92c952\n",
      "https://via.placeholder.com/600/771796\n",
      "https://via.placeholder.com/600/24f355\n",
      "https://via.placeholder.com/600/d32776\n",
      "https://via.placeholder.com/600/f66b97\n",
      "https://via.placeholder.com/600/56a8c2\n",
      "https://via.placeholder.com/600/b0f7cc\n",
      "https://via.placeholder.com/600/54176f\n",
      "https://via.placeholder.com/600/51aa97\n",
      "https://via.placeholder.com/600/810b14\n",
      "https://via.placeholder.com/600/1ee8a4\n",
      "https://via.placeholder.com/600/66b7d2\n",
      "https://via.placeholder.com/600/197d29\n",
      "https://via.placeholder.com/600/61a65\n",
      "https://via.placeholder.com/600/f9cee5\n",
      "https://via.placeholder.com/600/fdf73e\n",
      "https://via.placeholder.com/600/9c184f\n",
      "https://via.placeholder.com/600/1fe46f\n",
      "https://via.placeholder.com/600/56acb2\n",
      "https://via.placeholder.com/600/8985dc\n",
      "https://via.placeholder.com/600/5e12c6\n",
      "https://via.placeholder.com/600/45601a\n",
      "https://via.placeholder.com/600/e924e6\n",
      "https://via.placeholder.com/600/8f209a\n",
      "https://via.placeholder.com/600/5e3a73\n",
      "https://via.placeholder.com/600/474645\n",
      "https://via.placeholder.com/600/c984bf\n",
      "https://via.placeholder.com/600/392537\n",
      "https://via.placeholder.com/600/602b9e\n",
      "https://via.placeholder.com/600/372c93\n"
     ]
    }
   ],
   "source": [
    "out = collection2.find({'id':{'$lte':30}})\n",
    "for o in out:\n",
    "    print(o['url'])"
   ]
  },
  {
   "cell_type": "code",
   "execution_count": null,
   "id": "e88af836-c816-44e2-9d51-9c23172ebe82",
   "metadata": {},
   "outputs": [],
   "source": []
  }
 ],
 "metadata": {
  "kernelspec": {
   "display_name": "Python 3 (ipykernel)",
   "language": "python",
   "name": "python3"
  },
  "language_info": {
   "codemirror_mode": {
    "name": "ipython",
    "version": 3
   },
   "file_extension": ".py",
   "mimetype": "text/x-python",
   "name": "python",
   "nbconvert_exporter": "python",
   "pygments_lexer": "ipython3",
   "version": "3.10.12"
  }
 },
 "nbformat": 4,
 "nbformat_minor": 5
}
