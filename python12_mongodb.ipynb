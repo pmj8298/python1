{
 "cells": [
  {
   "cell_type": "code",
   "execution_count": 1,
   "id": "62849385-480f-4e34-adb8-54551d2d812c",
   "metadata": {},
   "outputs": [
    {
     "name": "stdout",
     "output_type": "stream",
     "text": [
      "Defaulting to user installation because normal site-packages is not writeable\n",
      "Collecting pymongo\n",
      "  Downloading pymongo-4.12.0-cp310-cp310-manylinux_2_17_x86_64.manylinux2014_x86_64.whl.metadata (22 kB)\n",
      "Collecting dnspython<3.0.0,>=1.16.0 (from pymongo)\n",
      "  Downloading dnspython-2.7.0-py3-none-any.whl.metadata (5.8 kB)\n",
      "Downloading pymongo-4.12.0-cp310-cp310-manylinux_2_17_x86_64.manylinux2014_x86_64.whl (1.2 MB)\n",
      "\u001b[2K   \u001b[90m━━━━━━━━━━━━━━━━━━━━━━━━━━━━━━━━━━━━━━━━\u001b[0m \u001b[32m1.2/1.2 MB\u001b[0m \u001b[31m33.5 MB/s\u001b[0m eta \u001b[36m0:00:00\u001b[0m\n",
      "\u001b[?25hDownloading dnspython-2.7.0-py3-none-any.whl (313 kB)\n",
      "Installing collected packages: dnspython, pymongo\n",
      "Successfully installed dnspython-2.7.0 pymongo-4.12.0\n"
     ]
    }
   ],
   "source": [
    "!pip install pymongo"
   ]
  },
  {
   "cell_type": "code",
   "execution_count": 4,
   "id": "a694db13-9c4a-43a2-891b-411169284761",
   "metadata": {},
   "outputs": [
    {
     "name": "stdout",
     "output_type": "stream",
     "text": [
      "{'ok': 1.0}\n",
      "MongoDB 서버에 성공적으로 연결되었습니다\n"
     ]
    }
   ],
   "source": [
    "from pymongo import MongoClient\n",
    "client = MongoClient('mongodb://mongodb:27017')\n",
    "\n",
    "try:\n",
    "    print(client.admin.command('ping'))\n",
    "    print('MongoDB 서버에 성공적으로 연결되었습니다')\n",
    "except Exception as e:\n",
    "    print('MongoDB 서버 연결 실패', e)"
   ]
  },
  {
   "cell_type": "code",
   "execution_count": 5,
   "id": "21c0b75e-83e6-48d3-b692-6c4a4e59bb0f",
   "metadata": {},
   "outputs": [
    {
     "name": "stdout",
     "output_type": "stream",
     "text": [
      "사용할 데이터베이스 선택됨\n",
      "사용할 컬렉션 선택됨\n"
     ]
    }
   ],
   "source": [
    "# 사용할 데이터베이스 선택\n",
    "db = client['mdb']\n",
    "print('사용할 데이터베이스 선택됨')\n",
    "\n",
    "# 사용할 컬렉션 선택\n",
    "collection = db['c1']\n",
    "print('사용할 컬렉션 선택됨')"
   ]
  },
  {
   "cell_type": "code",
   "execution_count": 6,
   "id": "da8b5bbf-3002-4b9c-8655-2cbf30d5957f",
   "metadata": {},
   "outputs": [
    {
     "name": "stdout",
     "output_type": "stream",
     "text": [
      "Inserted ID:  InsertOneResult(ObjectId('67f5deb4526653d912acc0dd'), acknowledged=True)\n"
     ]
    }
   ],
   "source": [
    "# 단일 문서 삽입\n",
    "user = {'name':'Alice', 'age':25, 'city':'Seoul'}\n",
    "insert_result = collection.insert_one(user)\n",
    "print('Inserted ID: ',insert_result)"
   ]
  },
  {
   "cell_type": "code",
   "execution_count": 7,
   "id": "f29df1b7-1565-4952-96bc-79f4ed67a673",
   "metadata": {},
   "outputs": [
    {
     "name": "stdout",
     "output_type": "stream",
     "text": [
      "Inserted ID:  InsertManyResult([ObjectId('67f5df8c526653d912acc0de'), ObjectId('67f5df8c526653d912acc0df'), ObjectId('67f5df8c526653d912acc0e0')], acknowledged=True)\n"
     ]
    }
   ],
   "source": [
    "# 여러개 문서 삽입\n",
    "user = [{'name':'Bob', 'age':30, 'city':'Busan'},\n",
    "        {'name':'Char', 'age':35, 'city':'Incheon'},\n",
    "        {'name':'Max', 'age':15, 'city':'Daegu'}]\n",
    "insert_results = collection.insert_many(user)\n",
    "print('Inserted ID: ',insert_results)"
   ]
  },
  {
   "cell_type": "code",
   "execution_count": 21,
   "id": "361fd915-bb51-4f59-ad47-eba1b0ee678d",
   "metadata": {},
   "outputs": [
    {
     "name": "stdout",
     "output_type": "stream",
     "text": [
      "{'name': 'superman', 'etc': '힘쌤'}\n",
      "{'name': 'coolboy', 'age': 17, 'etc': '잘생김', 'prop': '미성년자'}\n",
      "{'name': 'cutegirl', 'age': 20, 'gender': 'female'}\n",
      "{'name': 'Alice', 'age': 31, 'city': 'Seoul'}\n",
      "{'name': 'Bob', 'age': 30, 'city': 'Busan'}\n",
      "{'name': 'Char', 'age': 35, 'city': 'Incheon'}\n",
      "{'name': 'Max', 'age': 15, 'city': 'Daegu'}\n"
     ]
    }
   ],
   "source": [
    "# 여러개 문서 조회\n",
    "users = collection.find({},{'_id':0})\n",
    "for user in users:\n",
    "    print(user)"
   ]
  },
  {
   "cell_type": "code",
   "execution_count": 16,
   "id": "d669c85d-d3c2-4138-a8d9-e2bd48b667bd",
   "metadata": {},
   "outputs": [
    {
     "name": "stdout",
     "output_type": "stream",
     "text": [
      "{'_id': ObjectId('67f5df8c526653d912acc0e0'), 'name': 'Max', 'age': 15, 'city': 'Daegu'}\n"
     ]
    }
   ],
   "source": [
    "# 단일 문서 조회\n",
    "user = collection.find_one({'name':'Max'})\n",
    "print(user)"
   ]
  },
  {
   "cell_type": "code",
   "execution_count": 17,
   "id": "483a765a-79e6-4aac-a70d-92aaa05b77fb",
   "metadata": {},
   "outputs": [
    {
     "name": "stdout",
     "output_type": "stream",
     "text": [
      "{'name': 'Alice', 'age': 25, 'city': 'Seoul'}\n",
      "{'name': 'Bob', 'age': 30, 'city': 'Busan'}\n",
      "{'name': 'Char', 'age': 35, 'city': 'Incheon'}\n"
     ]
    }
   ],
   "source": [
    "# 특정 조건을 만족하는 문서 조회\n",
    "filters = {'age':{'$gt':20}} # 나이가 20보다 큰 문서 찾기\n",
    "filtered = collection.find(filters,{'_id':0})\n",
    "for f in filtered:\n",
    "    print(f)"
   ]
  },
  {
   "cell_type": "code",
   "execution_count": 18,
   "id": "84bb5b38-8ff2-4f53-81fd-e1f6ae18b660",
   "metadata": {},
   "outputs": [
    {
     "name": "stdout",
     "output_type": "stream",
     "text": [
      "수정됨:  UpdateResult({'n': 1, 'nModified': 1, 'ok': 1.0, 'updatedExisting': True}, acknowledged=True)\n"
     ]
    }
   ],
   "source": [
    "# 특정 문서 한 개 수정\n",
    "update = collection.update_one({'name':'Alice'},{'$set':{'age':26}})\n",
    "print('수정됨: ',update)"
   ]
  },
  {
   "cell_type": "code",
   "execution_count": 22,
   "id": "974feef1-203a-480c-b822-4f5a8f9655a9",
   "metadata": {},
   "outputs": [
    {
     "name": "stdout",
     "output_type": "stream",
     "text": [
      "수정됨:  UpdateResult({'n': 1, 'nModified': 1, 'ok': 1.0, 'updatedExisting': True}, acknowledged=True)\n"
     ]
    }
   ],
   "source": [
    "# 특정 문서 여러개 수정\n",
    "updates = collection.update_many({'name':{'$regex':'^A'}},{'$inc':{'age':5}}) # A로 시작하는 이름은 5살 증가시켜라\n",
    "print('수정됨: ',updates)"
   ]
  },
  {
   "cell_type": "code",
   "execution_count": 23,
   "id": "b13a0b3b-5fbf-49aa-9d2d-415612bd289c",
   "metadata": {},
   "outputs": [
    {
     "name": "stdout",
     "output_type": "stream",
     "text": [
      "DeleteResult({'n': 1, 'ok': 1.0}, acknowledged=True)\n"
     ]
    }
   ],
   "source": [
    "# 특정 문서 한 개 삭제\n",
    "delete = collection.delete_one({'etc':'잘생김'})\n",
    "print(delete)"
   ]
  },
  {
   "cell_type": "code",
   "execution_count": 25,
   "id": "14b987c3-6977-4d45-8f3f-5c464da5e241",
   "metadata": {},
   "outputs": [
    {
     "name": "stdout",
     "output_type": "stream",
     "text": [
      "DeleteResult({'n': 0, 'ok': 1.0}, acknowledged=True)\n"
     ]
    }
   ],
   "source": [
    "# 특정 문서 여러개 삭제\n",
    "deletes = collection.delete_many({'name':{'$regex':'e$'}}) #정규식으로 e로 끝나는 이름을 모두 삭제\n",
    "print(deletes)"
   ]
  },
  {
   "cell_type": "code",
   "execution_count": null,
   "id": "885c22d5-9981-43ea-8fd5-56060f0ff62f",
   "metadata": {},
   "outputs": [],
   "source": []
  }
 ],
 "metadata": {
  "kernelspec": {
   "display_name": "Python 3 (ipykernel)",
   "language": "python",
   "name": "python3"
  },
  "language_info": {
   "codemirror_mode": {
    "name": "ipython",
    "version": 3
   },
   "file_extension": ".py",
   "mimetype": "text/x-python",
   "name": "python",
   "nbconvert_exporter": "python",
   "pygments_lexer": "ipython3",
   "version": "3.10.12"
  }
 },
 "nbformat": 4,
 "nbformat_minor": 5
}
