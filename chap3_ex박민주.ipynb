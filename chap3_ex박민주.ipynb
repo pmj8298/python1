{
 "cells": [
  {
   "cell_type": "markdown",
   "id": "5a577db8-2e67-447b-bc6d-220effda5c45",
   "metadata": {},
   "source": [
    "## 되새김문제"
   ]
  },
  {
   "cell_type": "markdown",
   "id": "d20bbe16-c4a6-4c94-bafc-876ba4c3bc7e",
   "metadata": {},
   "source": [
    "### 조건문의 참과 거짓"
   ]
  },
  {
   "cell_type": "code",
   "execution_count": 1,
   "id": "edd27131-df95-49e7-b65c-aa93f26fd6d4",
   "metadata": {},
   "outputs": [
    {
     "name": "stdout",
     "output_type": "stream",
     "text": [
      "shirt\n"
     ]
    }
   ],
   "source": [
    "a = 'Life is too short, you need python'\n",
    "\n",
    "if 'wife' in a:\n",
    "    print('wife')\n",
    "elif 'python' in a and 'you' not in a:\n",
    "    print('python')\n",
    "elif 'shirt' not in a:\n",
    "    print('shirt')\n",
    "elif 'need' in a:\n",
    "    print('need')\n",
    "else:\n",
    "    print('none')"
   ]
  },
  {
   "cell_type": "markdown",
   "id": "aad72f42-273e-462c-be5e-773384db612e",
   "metadata": {},
   "source": [
    "### 3의 배수 합 구하기"
   ]
  },
  {
   "cell_type": "code",
   "execution_count": 2,
   "id": "df673977-a66c-41d7-a495-0e7f97ada029",
   "metadata": {},
   "outputs": [
    {
     "name": "stdout",
     "output_type": "stream",
     "text": [
      "166833\n"
     ]
    }
   ],
   "source": [
    "result = 0\n",
    "i = 1\n",
    "while i <= 1000:\n",
    "    if i % 3 == 0:\n",
    "        result += i\n",
    "    i += 1\n",
    "print(result)"
   ]
  },
  {
   "cell_type": "markdown",
   "id": "f6b1a66e-710b-40ae-bf37-1f75bb30e1e2",
   "metadata": {},
   "source": [
    "### 별 표시하기"
   ]
  },
  {
   "cell_type": "code",
   "execution_count": 9,
   "id": "52581e68-f977-4769-8221-84146c28b11e",
   "metadata": {},
   "outputs": [
    {
     "name": "stdout",
     "output_type": "stream",
     "text": [
      "*\n",
      "**\n",
      "***\n",
      "****\n",
      "*****\n"
     ]
    }
   ],
   "source": [
    "i = 0\n",
    "while True:\n",
    "    i += 1\n",
    "    if i > 5:\n",
    "        break\n",
    "    print(i * '*')"
   ]
  },
  {
   "cell_type": "markdown",
   "id": "47236ccc-4b37-4fc8-afe5-131f440a706b",
   "metadata": {},
   "source": [
    "### 1부터 100까지 출력하기"
   ]
  },
  {
   "cell_type": "code",
   "execution_count": 10,
   "id": "b01602a6-828c-4d82-9d95-ced6a4ff6b28",
   "metadata": {},
   "outputs": [
    {
     "name": "stdout",
     "output_type": "stream",
     "text": [
      "1\n",
      "2\n",
      "3\n",
      "4\n",
      "5\n",
      "6\n",
      "7\n",
      "8\n",
      "9\n",
      "10\n",
      "11\n",
      "12\n",
      "13\n",
      "14\n",
      "15\n",
      "16\n",
      "17\n",
      "18\n",
      "19\n",
      "20\n",
      "21\n",
      "22\n",
      "23\n",
      "24\n",
      "25\n",
      "26\n",
      "27\n",
      "28\n",
      "29\n",
      "30\n",
      "31\n",
      "32\n",
      "33\n",
      "34\n",
      "35\n",
      "36\n",
      "37\n",
      "38\n",
      "39\n",
      "40\n",
      "41\n",
      "42\n",
      "43\n",
      "44\n",
      "45\n",
      "46\n",
      "47\n",
      "48\n",
      "49\n",
      "50\n",
      "51\n",
      "52\n",
      "53\n",
      "54\n",
      "55\n",
      "56\n",
      "57\n",
      "58\n",
      "59\n",
      "60\n",
      "61\n",
      "62\n",
      "63\n",
      "64\n",
      "65\n",
      "66\n",
      "67\n",
      "68\n",
      "69\n",
      "70\n",
      "71\n",
      "72\n",
      "73\n",
      "74\n",
      "75\n",
      "76\n",
      "77\n",
      "78\n",
      "79\n",
      "80\n",
      "81\n",
      "82\n",
      "83\n",
      "84\n",
      "85\n",
      "86\n",
      "87\n",
      "88\n",
      "89\n",
      "90\n",
      "91\n",
      "92\n",
      "93\n",
      "94\n",
      "95\n",
      "96\n",
      "97\n",
      "98\n",
      "99\n",
      "100\n"
     ]
    }
   ],
   "source": [
    "for n in range(1,101):\n",
    "    print(n)"
   ]
  },
  {
   "cell_type": "markdown",
   "id": "a30a3a71-a114-4791-8daa-bd61032cf4d0",
   "metadata": {},
   "source": [
    "### 평균 점수 구하기"
   ]
  },
  {
   "cell_type": "code",
   "execution_count": 11,
   "id": "38335c80-eb17-4a94-b403-5dfdac77b9c3",
   "metadata": {
    "scrolled": true
   },
   "outputs": [
    {
     "name": "stdout",
     "output_type": "stream",
     "text": [
      "79.0\n"
     ]
    }
   ],
   "source": [
    "score = [70,60,55,75,95,90,80,80,85,100]\n",
    "total = 0\n",
    "for s in score:\n",
    "    total += s\n",
    "average = total / 10\n",
    "print(average)"
   ]
  },
  {
   "cell_type": "markdown",
   "id": "8f54596b-1f38-4d3f-bd7d-84482bcddae5",
   "metadata": {},
   "source": [
    "### 리스트 컴프리헨션 사용하기"
   ]
  },
  {
   "cell_type": "code",
   "execution_count": 14,
   "id": "61b85ae4-d623-4373-870e-9cb02b91fd53",
   "metadata": {},
   "outputs": [
    {
     "name": "stdout",
     "output_type": "stream",
     "text": [
      "[2, 6, 10]\n"
     ]
    }
   ],
   "source": [
    "numbers = [1,2,3,4,5]\n",
    "# result = []\n",
    "result = [n*2 for n in [1,2,3,4,5] if n % 2 == 1]\n",
    "print(result)"
   ]
  },
  {
   "cell_type": "markdown",
   "id": "d290ecf9-dc56-40ed-99c6-ba80763a4a3f",
   "metadata": {},
   "source": [
    "### 로또 생성기\n",
    "\n",
    "1) 1번부터 45번까지 숫자 중 6가지 숫자가 선택되어야 해요\n",
    "2) 중복되면 안됨\n",
    "3) 오름차순으로 정리\n",
    "\n",
    "4) 10만회 돌리고 각각 번호가 나온 것을 카운팅하기\n",
    "5) 각 번호를 퍼센트 내기(소수점 두자리)\n",
    "6) 제일 높게 나온 확률 순서대로 번호 3개 추천해주기"
   ]
  },
  {
   "cell_type": "code",
   "execution_count": 27,
   "id": "ce743ccc-9f7e-4e32-b0e8-e9576d81a6fc",
   "metadata": {},
   "outputs": [
    {
     "name": "stdout",
     "output_type": "stream",
     "text": [
      "[7, 13, 27, 34, 41, 45]\n"
     ]
    }
   ],
   "source": [
    "import random as r\n",
    "lotto = []\n",
    "num = 1\n",
    "# ran = r.randint(1,45)\n",
    "\n",
    "while num < 7:\n",
    "    num = num + 1\n",
    "    ran = r.randint(1,45)\n",
    "    if ran not in lotto:\n",
    "        lotto.append(ran)\n",
    "    # if ran != lotto.append(ran):\n",
    "lotto.sort()\n",
    "print(lotto)\n",
    "\n",
    "\n",
    "    \n"
   ]
  },
  {
   "cell_type": "code",
   "execution_count": 36,
   "id": "e7eb94c4-aa92-4cb1-8352-1795a66e6731",
   "metadata": {},
   "outputs": [
    {
     "name": "stdout",
     "output_type": "stream",
     "text": [
      "[3, 6, 15, 20, 26, 34]\n",
      "[7, 16, 17, 24, 29, 35]\n",
      "[1, 3, 9, 18, 32, 39]\n",
      "[4, 6, 28, 32, 37, 42]\n",
      "[13, 19, 22, 40, 45]\n",
      "[15, 24, 27, 28, 44]\n",
      "[9, 17, 27, 28, 44]\n",
      "[3, 8, 13, 18, 34, 42]\n",
      "[11, 23, 27, 30, 42]\n",
      "[6, 18, 19, 21, 36, 41]\n"
     ]
    }
   ],
   "source": [
    "import random as r\n",
    "\n",
    "for l in range(10):\n",
    "    lotto = []\n",
    "    num = 1\n",
    "\n",
    "    while num < 7:\n",
    "        num = num + 1\n",
    "        ran = r.randint(1,45)\n",
    "        if ran not in lotto:\n",
    "            lotto.append(ran)\n",
    "        \n",
    "    lotto.sort()\n",
    "    print(lotto)\n"
   ]
  },
  {
   "cell_type": "code",
   "execution_count": 4,
   "id": "1445cc2b-43c9-457b-b7c9-db87686e0741",
   "metadata": {},
   "outputs": [
    {
     "name": "stdout",
     "output_type": "stream",
     "text": [
      "[20, 23, 28, 37, 39, 44] 6\n"
     ]
    }
   ],
   "source": [
    "# 풀이\n",
    "import random\n",
    "box = []\n",
    "# ran = random.randint(1,46)\n",
    "while len(box) < 6:\n",
    "    ran = random.randint(1,46)\n",
    "    if ran not in box:\n",
    "        box.append(ran)\n",
    "\n",
    "box.sort()\n",
    "print(box,len(box))\n",
    "\n",
    "# print(list(set(box)),len(list(set(box))))"
   ]
  },
  {
   "cell_type": "code",
   "execution_count": 9,
   "id": "79d1419c-6b51-4001-8f8f-54834c3f4674",
   "metadata": {},
   "outputs": [
    {
     "name": "stdout",
     "output_type": "stream",
     "text": [
      "[8, 11, 12, 22, 31, 32]\n"
     ]
    }
   ],
   "source": [
    "# 참고용\n",
    "\n",
    "lotto = sorted(random.sample(range(1,46),6))\n",
    "print(lotto)"
   ]
  },
  {
   "cell_type": "code",
   "execution_count": 20,
   "id": "d4751b4b-3b54-4d74-9860-119c1a01a1ec",
   "metadata": {},
   "outputs": [
    {
     "name": "stdout",
     "output_type": "stream",
     "text": [
      "숫자 1: 출현한 횟수는 12회 입니다.\n",
      "숫자 2: 출현한 횟수는 17회 입니다.\n",
      "숫자 3: 출현한 횟수는 17회 입니다.\n",
      "숫자 4: 출현한 횟수는 13회 입니다.\n",
      "숫자 5: 출현한 횟수는 14회 입니다.\n",
      "숫자 6: 출현한 횟수는 19회 입니다.\n",
      "숫자 7: 출현한 횟수는 13회 입니다.\n",
      "숫자 8: 출현한 횟수는 6회 입니다.\n",
      "숫자 9: 출현한 횟수는 13회 입니다.\n",
      "숫자 10: 출현한 횟수는 17회 입니다.\n",
      "숫자 11: 출현한 횟수는 14회 입니다.\n",
      "숫자 12: 출현한 횟수는 10회 입니다.\n",
      "숫자 13: 출현한 횟수는 14회 입니다.\n",
      "숫자 14: 출현한 횟수는 11회 입니다.\n",
      "숫자 15: 출현한 횟수는 21회 입니다.\n",
      "숫자 16: 출현한 횟수는 11회 입니다.\n",
      "숫자 17: 출현한 횟수는 12회 입니다.\n",
      "숫자 18: 출현한 횟수는 9회 입니다.\n",
      "숫자 19: 출현한 횟수는 10회 입니다.\n",
      "숫자 20: 출현한 횟수는 10회 입니다.\n",
      "숫자 21: 출현한 횟수는 10회 입니다.\n",
      "숫자 22: 출현한 횟수는 13회 입니다.\n",
      "숫자 23: 출현한 횟수는 12회 입니다.\n",
      "숫자 24: 출현한 횟수는 9회 입니다.\n",
      "숫자 25: 출현한 횟수는 14회 입니다.\n",
      "숫자 26: 출현한 횟수는 9회 입니다.\n",
      "숫자 27: 출현한 횟수는 15회 입니다.\n",
      "숫자 28: 출현한 횟수는 18회 입니다.\n",
      "숫자 29: 출현한 횟수는 14회 입니다.\n",
      "숫자 30: 출현한 횟수는 11회 입니다.\n",
      "숫자 31: 출현한 횟수는 14회 입니다.\n",
      "숫자 32: 출현한 횟수는 11회 입니다.\n",
      "숫자 33: 출현한 횟수는 17회 입니다.\n",
      "숫자 34: 출현한 횟수는 14회 입니다.\n",
      "숫자 35: 출현한 횟수는 15회 입니다.\n",
      "숫자 36: 출현한 횟수는 15회 입니다.\n",
      "숫자 37: 출현한 횟수는 6회 입니다.\n",
      "숫자 38: 출현한 횟수는 17회 입니다.\n",
      "숫자 39: 출현한 횟수는 14회 입니다.\n",
      "숫자 40: 출현한 횟수는 16회 입니다.\n",
      "숫자 41: 출현한 횟수는 18회 입니다.\n",
      "숫자 42: 출현한 횟수는 10회 입니다.\n",
      "숫자 43: 출현한 횟수는 13회 입니다.\n",
      "숫자 44: 출현한 횟수는 10회 입니다.\n",
      "숫자 45: 출현한 횟수는 22회 입니다.\n",
      "[12, 17, 17, 13, 14, 19, 13, 6, 13, 17, 14, 10, 14, 11, 21, 11, 12, 9, 10, 10, 10, 13, 12, 9, 14, 9, 15, 18, 14, 11, 14, 11, 17, 14, 15, 15, 6, 17, 14, 16, 18, 10, 13, 10, 22] True\n",
      "출현횟수 100에 대한 검증이 이상없습니다.\n"
     ]
    }
   ],
   "source": [
    "# 참고용1\n",
    "ls = []\n",
    "la = []\n",
    "how = 100\n",
    "for h in range(how):\n",
    "    lotto = sorted(random.sample(range(1,46),6))\n",
    "    la.append(lotto)\n",
    "    ls = ls + lotto\n",
    "# print(la, type(la))\n",
    "\n",
    "ss = []\n",
    "for n in range(1,46):\n",
    "    ss.append( ls.count(n))\n",
    "    print(f'숫자 {n}: 출현한 횟수는 {ls.count(n)}회 입니다.')\n",
    "print(ss,sum(ss) == how * 6)\n",
    "if sum(ss) == (how * 6):\n",
    "    print(f'출현횟수 {how}에 대한 검증이 이상없습니다.')"
   ]
  },
  {
   "cell_type": "code",
   "execution_count": 25,
   "id": "558fb9f2-795f-4a24-b623-3cdf95fb10f9",
   "metadata": {},
   "outputs": [
    {
     "name": "stdout",
     "output_type": "stream",
     "text": [
      "{'num1': 12, 'num2': 14, 'num3': 10, 'num4': 12, 'num5': 9, 'num6': 17, 'num7': 15, 'num8': 9, 'num9': 16, 'num10': 10, 'num11': 16, 'num12': 9, 'num13': 16, 'num14': 17, 'num15': 6, 'num16': 13, 'num17': 12, 'num18': 13, 'num19': 15, 'num20': 11, 'num21': 9, 'num22': 12, 'num23': 11, 'num24': 15, 'num25': 8, 'num26': 14, 'num27': 14, 'num28': 17, 'num29': 15, 'num30': 13, 'num31': 10, 'num32': 13, 'num33': 17, 'num34': 13, 'num35': 8, 'num36': 13, 'num37': 15, 'num38': 20, 'num39': 6, 'num40': 20, 'num41': 19, 'num42': 19, 'num43': 14, 'num44': 13, 'num45': 20}\n",
      "dict_values([12, 14, 10, 12, 9, 17, 15, 9, 16, 10, 16, 9, 16, 17, 6, 13, 12, 13, 15, 11, 9, 12, 11, 15, 8, 14, 14, 17, 15, 13, 10, 13, 17, 13, 8, 13, 15, 20, 6, 20, 19, 19, 14, 13, 20])\n"
     ]
    }
   ],
   "source": [
    "# 참고용2\n",
    "ls = []\n",
    "la = []\n",
    "how = 100\n",
    "for h in range(how):\n",
    "    lotto = sorted(random.sample(range(1,46),6))\n",
    "    la.append(lotto)\n",
    "    ls = ls + lotto\n",
    "# print(la, type(la))\n",
    "\n",
    "dic = {}\n",
    "for n in range(1,46):\n",
    "   dic[f'num{n}'] = ls.count(n)\n",
    "    # print(f'숫자 {n}: 출현한 횟수는 {ls.count(n)}회 입니다.')\n",
    "print(dic)\n",
    "print(dic.values())"
   ]
  },
  {
   "cell_type": "markdown",
   "id": "b6e0656d-fa73-45eb-8eba-c705146425bd",
   "metadata": {},
   "source": [
    "잔돈 분류 프로그램\n",
    "\n",
    "5000원 투입\n",
    "\n",
    "1330원 구매\n",
    "\n",
    "3670원 잔돈\n",
    "\n",
    "1000원 x 3장\n",
    "500원 x 1개\n",
    "100원 x 1개\n",
    "50원 x 1개\n",
    "10원 x 2개"
   ]
  },
  {
   "cell_type": "markdown",
   "id": "ed5cbba3-f5f5-49f5-a570-fe9f071479c3",
   "metadata": {},
   "source": [
    "1)\n",
    "배열의 요소가 3개일 때 max, min 사용하지 말고 배열요소를 오름차순으로 나열하라"
   ]
  },
  {
   "cell_type": "code",
   "execution_count": 37,
   "id": "9e19a529-6bd3-4d29-a8fb-2609788489fd",
   "metadata": {},
   "outputs": [
    {
     "name": "stdout",
     "output_type": "stream",
     "text": [
      "[11, 33, 22]\n",
      "[11, 22, 33]\n"
     ]
    }
   ],
   "source": [
    "a = [33,11,22]\n",
    "\n",
    "if a[0] > a[1]:\n",
    "    a[0],a[1] = a[1],a[0]\n",
    "print(a)\n",
    "if a[1] > a[2]:\n",
    "    a[1],a[2] = a[2],a[1]\n",
    "print(a)\n"
   ]
  },
  {
   "cell_type": "code",
   "execution_count": 39,
   "id": "331fb316-b85b-497b-84b7-cca53377d756",
   "metadata": {},
   "outputs": [
    {
     "name": "stdout",
     "output_type": "stream",
     "text": [
      "[11, 33, 22, 44]\n",
      "[11, 22, 33, 44]\n",
      "[11, 22, 33, 44]\n"
     ]
    }
   ],
   "source": [
    "a = [33,11,22,44]\n",
    "\n",
    "if a[0] > a[1]:\n",
    "    a[0],a[1] = a[1],a[0]\n",
    "print(a)\n",
    "if a[1] > a[2]:\n",
    "    a[1],a[2] = a[2],a[1]\n",
    "print(a)\n",
    "if a[2] > a[3]:\n",
    "    a[2],a[3] = a[3],a[2]\n",
    "print(a)"
   ]
  },
  {
   "cell_type": "markdown",
   "id": "f4c6455f-b58c-4e99-bdea-9c83a071093a",
   "metadata": {},
   "source": [
    "2) 요소 중 제일 큰 수를 찾아내라"
   ]
  },
  {
   "cell_type": "code",
   "execution_count": 48,
   "id": "99569c4c-09ba-46bd-b486-6248e0ca12d2",
   "metadata": {},
   "outputs": [
    {
     "name": "stdout",
     "output_type": "stream",
     "text": [
      "33\n"
     ]
    }
   ],
   "source": [
    "a = [33,11,22]\n",
    "\n",
    "# if a[0]> a[1]:\n",
    "#     print(a[0])\n",
    "# else:\n",
    "#     print(a[1])\n",
    "    \n",
    "# if a[0]> a[2]:\n",
    "#     print(a[0])\n",
    "# else:\n",
    "#     print(a[2])\n",
    "    \n",
    "# if a[1]> a[2]:\n",
    "#     print(a[1])\n",
    "# else:\n",
    "#     print(a[2])\n",
    "\n",
    "if a[0]> a[1] and a[0]> a[2]:\n",
    "    print(a[0])\n",
    "elif a[1]> a[2]:\n",
    "    print(a[1])\n",
    "else:\n",
    "    print(a[2])\n"
   ]
  },
  {
   "cell_type": "code",
   "execution_count": 50,
   "id": "a3742848-a5c5-4f76-b7a2-46fdaa13da13",
   "metadata": {},
   "outputs": [
    {
     "name": "stdout",
     "output_type": "stream",
     "text": [
      "44\n"
     ]
    }
   ],
   "source": [
    "a = [33,11,22,44]\n",
    "\n",
    "if a[0]> a[1] and a[0]> a[2] and a[0]>a[3]:\n",
    "    print(a[0])\n",
    "elif a[1]>a[2] and a[1]>a[3]:\n",
    "    print(a[1])\n",
    "elif a[2]>a[3]:\n",
    "    print(a[2])\n",
    "else:\n",
    "    print(a[3])"
   ]
  },
  {
   "cell_type": "markdown",
   "id": "e85683b5-ca16-4ef2-a2c4-854b8f8ae979",
   "metadata": {},
   "source": [
    "3) 잔돈 계산 프로그램\n",
    "\n",
    "5000원 투입\n",
    "\n",
    "1330원 구매\n",
    "\n",
    "3670원 잔돈\n",
    "\n",
    "1000원 x 3장\n",
    "500원 x 1개\n",
    "100원 x 1개\n",
    "50원 x 1개\n",
    "10원 x 2개"
   ]
  },
  {
   "cell_type": "code",
   "execution_count": 113,
   "id": "08fabed7-7135-4290-8e54-f5cfc6d56699",
   "metadata": {},
   "outputs": [
    {
     "name": "stdin",
     "output_type": "stream",
     "text": [
      "돈을 입력하세요: 2000\n"
     ]
    },
    {
     "name": "stdout",
     "output_type": "stream",
     "text": [
      "거스름돈: 670원\n",
      "==========\n",
      "1000원 0장\n",
      "==========\n",
      "500원 1개\n",
      "==========\n",
      "100원 1개\n",
      "==========\n",
      "50원 1개\n",
      "==========\n",
      "10원 2개\n"
     ]
    }
   ],
   "source": [
    "\n",
    "# money = 5000\n",
    "money = int(input('돈을 입력하세요:'))\n",
    "buy = 1330\n",
    "exchange = money - buy\n",
    "print(f'거스름돈: {exchange}원')\n",
    "print('='*10)\n",
    "\n",
    "a = 1000\n",
    "b = 500\n",
    "c = 100\n",
    "d = 50\n",
    "e = 10\n",
    "print(f'{a}원 {exchange//a}장')\n",
    "# print(exchange//1000)\n",
    "print('='*10)\n",
    "# print((exchange%1000)//500)\n",
    "print(f'{b}원 {(exchange%a)//b}개')\n",
    "print('='*10)\n",
    "# print(((exchange%1000)%500)//100)\n",
    "print(f'{c}원 {((exchange%a)%b)//c}개')\n",
    "print('='*10)\n",
    "# print(exchange%1000)\n",
    "# print((exchange%1000)%500)\n",
    "# print(((exchange%1000)%500)%100)\n",
    "\n",
    "# print(((exchange%1000)%500)%100//50)\n",
    "print(f'{d}원 {(((exchange%a)%b)%c//d)}개')\n",
    "print('='*10)\n",
    "# print((((exchange%1000)%500)%100%50)//10)\n",
    "print(f'{e}원 {((((exchange%a)%b)%c%d))//e}개')\n"
   ]
  }
 ],
 "metadata": {
  "kernelspec": {
   "display_name": "Python 3 (ipykernel)",
   "language": "python",
   "name": "python3"
  },
  "language_info": {
   "codemirror_mode": {
    "name": "ipython",
    "version": 3
   },
   "file_extension": ".py",
   "mimetype": "text/x-python",
   "name": "python",
   "nbconvert_exporter": "python",
   "pygments_lexer": "ipython3",
   "version": "3.13.1"
  }
 },
 "nbformat": 4,
 "nbformat_minor": 5
}
