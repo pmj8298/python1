{
 "cells": [
  {
   "cell_type": "markdown",
   "id": "b087872f-a5fd-4c23-aa94-c855800bc59d",
   "metadata": {},
   "source": [
    "# 클래스"
   ]
  },
  {
   "cell_type": "markdown",
   "id": "1204a42e-98d2-41ba-b22e-ce2044d04e3e",
   "metadata": {},
   "source": [
    "## 클래스 기본"
   ]
  },
  {
   "cell_type": "code",
   "execution_count": 4,
   "id": "2300a9d4-3795-447d-883a-a0fce1c6e580",
   "metadata": {},
   "outputs": [
    {
     "name": "stdout",
     "output_type": "stream",
     "text": [
      "[1, 2, 3, 4] <class 'list'>\n",
      "['a', 'b', 'c'] <class 'list'>\n",
      "(11, 22, 33, 44) <class 'tuple'>\n"
     ]
    }
   ],
   "source": [
    "what1 = [1,2,3,4]\n",
    "what2 = ['a','b','c']\n",
    "who = 11,22,33,44\n",
    "print(what1, type(what1))\n",
    "print(what2, type(what2))\n",
    "print(who, type(who))"
   ]
  },
  {
   "cell_type": "code",
   "execution_count": 3,
   "id": "c3f49723-a66e-44f1-a495-dc62a0799f59",
   "metadata": {},
   "outputs": [
    {
     "data": {
      "text/plain": [
       "['__add__',\n",
       " '__class__',\n",
       " '__class_getitem__',\n",
       " '__contains__',\n",
       " '__delattr__',\n",
       " '__dir__',\n",
       " '__doc__',\n",
       " '__eq__',\n",
       " '__format__',\n",
       " '__ge__',\n",
       " '__getattribute__',\n",
       " '__getitem__',\n",
       " '__getnewargs__',\n",
       " '__getstate__',\n",
       " '__gt__',\n",
       " '__hash__',\n",
       " '__init__',\n",
       " '__init_subclass__',\n",
       " '__iter__',\n",
       " '__le__',\n",
       " '__len__',\n",
       " '__lt__',\n",
       " '__mul__',\n",
       " '__ne__',\n",
       " '__new__',\n",
       " '__reduce__',\n",
       " '__reduce_ex__',\n",
       " '__repr__',\n",
       " '__rmul__',\n",
       " '__setattr__',\n",
       " '__sizeof__',\n",
       " '__str__',\n",
       " '__subclasshook__',\n",
       " 'count',\n",
       " 'index']"
      ]
     },
     "execution_count": 3,
     "metadata": {},
     "output_type": "execute_result"
    }
   ],
   "source": [
    "dir(tuple)"
   ]
  },
  {
   "cell_type": "code",
   "execution_count": 8,
   "id": "f33a2141-3441-4d4d-8d80-57990cc87a1e",
   "metadata": {},
   "outputs": [
    {
     "name": "stdout",
     "output_type": "stream",
     "text": [
      "3\n",
      "7\n"
     ]
    }
   ],
   "source": [
    "result = 0\n",
    "def add(num):\n",
    "    global result\n",
    "    result += num\n",
    "    return result\n",
    "print(add(3))\n",
    "print(add(4))"
   ]
  },
  {
   "cell_type": "code",
   "execution_count": 21,
   "id": "c6ba1195-6a91-47b5-b652-986ca8bbf209",
   "metadata": {},
   "outputs": [
    {
     "name": "stdout",
     "output_type": "stream",
     "text": [
      "1: 3\n",
      "2: 3\n",
      "1: 7\n",
      "2: 6\n",
      "2: 13\n"
     ]
    }
   ],
   "source": [
    "result1 = 0\n",
    "result2 = 0\n",
    "def add1(num):\n",
    "    global result1\n",
    "    result1 += num\n",
    "    return result1\n",
    "def add2(num):\n",
    "    global result2\n",
    "    result2 += num\n",
    "    return result2\n",
    "print('1:',add1(3))\n",
    "print('2:',add2(3))\n",
    "print('1:',add1(4))\n",
    "print('2:',add2(3))\n",
    "print('2:',add2(7))"
   ]
  },
  {
   "cell_type": "markdown",
   "id": "ed0d3774-efad-4329-899c-55f427809160",
   "metadata": {},
   "source": [
    "1)클래스(class): 객체의 설계도나 청사진과 같은 개념, 속성과 메서드를 정의하여 객체의 구조와 동작을 설명\n",
    "2)인스턴스(instance): 클래스에 정의된 속성과 메서드를 바탕으로 생성된 실제 객체를 인스턴스라고 함 즉 클래스의 구체적인 구현물"
   ]
  },
  {
   "cell_type": "code",
   "execution_count": 17,
   "id": "2c9aae6e-b98b-4462-a343-3dcad450916e",
   "metadata": {},
   "outputs": [
    {
     "name": "stdout",
     "output_type": "stream",
     "text": [
      "3\n",
      "7\n",
      "3\n",
      "10\n"
     ]
    }
   ],
   "source": [
    "# class를 만들 때에는 class를 적고 class명은 대문자로 적어줘야한다\n",
    "class Calculator:\n",
    "# class Cals:\n",
    "# class Muls:\n",
    "# class Hue:\n",
    "# class Cars:\n",
    "# class Senseors:\n",
    "    def __init__(self):\n",
    "        self.result = 0\n",
    "    def add(self, num):\n",
    "        self.result += num\n",
    "        return self.result\n",
    "        \n",
    "cal1 = Calculator()  # cal1하는 순간 인스턴스화 즉, 실체화 시켰다고 말 함\n",
    "cal2 = Calculator()    \n",
    "print(cal1.add(3))\n",
    "print(cal1.add(4))\n",
    "print(cal2.add(3))\n",
    "print(cal2.add(7))"
   ]
  },
  {
   "cell_type": "code",
   "execution_count": 25,
   "id": "75f3185d-85c4-4830-9737-cae644348d5a",
   "metadata": {},
   "outputs": [
    {
     "name": "stdout",
     "output_type": "stream",
     "text": [
      "1: 1\n",
      "2: 1\n",
      "2: 2\n",
      "2: 3\n",
      "1: 2\n",
      "1: 3\n",
      "===============\n",
      "1: 0\n",
      "2: 2\n",
      "2: 1\n"
     ]
    }
   ],
   "source": [
    "# class를 만들 때에는 class를 적고 class명은 대문자로 적어줘야한다\n",
    "class Calculator:\n",
    "    def __init__(self):\n",
    "        self.result = 0\n",
    "    def add(self, num):\n",
    "        self.result += num\n",
    "        return self.result\n",
    "    def sub(self, num):\n",
    "        self.result -= num\n",
    "        return self.result\n",
    "\n",
    "# 인스턴스화\n",
    "cal1 = Calculator()  # cal1하는 순간 인스턴스화 즉, 실체화 시켰다고 말 함\n",
    "cal2 = Calculator()    \n",
    "print('1:', cal1.add(1))\n",
    "print('2:', cal2.add(1))\n",
    "print('2:', cal2.add(1))\n",
    "print('2:', cal2.add(1))\n",
    "print('1:', cal1.add(1))\n",
    "print('1:', cal1.add(1))\n",
    "print('===============')\n",
    "print('1:', cal1.sub(3))\n",
    "print('2:', cal2.sub(1))\n",
    "print('2:', cal2.sub(1))"
   ]
  },
  {
   "cell_type": "markdown",
   "id": "250427d4-e9b0-466d-a7d4-78ca99f86eb6",
   "metadata": {},
   "source": [
    "## 생성자"
   ]
  },
  {
   "cell_type": "code",
   "execution_count": 49,
   "id": "22d48440-6d2c-4033-944e-04a2604844c9",
   "metadata": {},
   "outputs": [],
   "source": [
    "class Tteok:\n",
    "    def __init__(self, won, ea): #초기값으로 사용하는 생성자 설정\n",
    "        # 처음 한번에 다 받아서 self가 전달해주면 간단해짐,,?\n",
    "        # self.won = 0\n",
    "        # self.ea = 0\n",
    "        self.won = won\n",
    "        self.ea = ea\n",
    "    # def tteok(self, won, ea):\n",
    "    def tteok(self):\n",
    "        result = self.won * self.ea\n",
    "        print(f'떡볶이집에서 떡볶이를 {result}원어치 먹었다')\n",
    "    def odeng(self):\n",
    "        result = self.won * 2 * self.ea #2개가 한세트라서 *2 함\n",
    "        print(f'떡볶이집에서 오뎅을 {result}원어치 먹었다')\n",
    "    def sundae(self):\n",
    "        result = self.won * self.ea \n",
    "        print(f'떡볶이집에서 순대를 {result}원어치 먹었다')"
   ]
  },
  {
   "cell_type": "code",
   "execution_count": 50,
   "id": "6f5215bb-6a5f-420a-ba66-797677a3b164",
   "metadata": {},
   "outputs": [],
   "source": [
    "가나 = Tteok(2000,1)\n",
    "나나 = Tteok(3000,5)\n",
    "다나 = Tteok(1000,3)\n",
    "길동 = Tteok(5000,3)"
   ]
  },
  {
   "cell_type": "code",
   "execution_count": 32,
   "id": "c288b370-b5b9-4d3a-a63f-18fde94d9d83",
   "metadata": {},
   "outputs": [
    {
     "name": "stdout",
     "output_type": "stream",
     "text": [
      "떡볶이집에서 떡볶이를 2000원어치 먹었다\n",
      "떡볶이집에서 오뎅을 4000원어치 먹었다\n"
     ]
    }
   ],
   "source": [
    "가나.tteok()\n",
    "가나.odeng()"
   ]
  },
  {
   "cell_type": "code",
   "execution_count": 33,
   "id": "0558b65b-be82-4187-9368-ab4a69317f9c",
   "metadata": {},
   "outputs": [
    {
     "name": "stdout",
     "output_type": "stream",
     "text": [
      "떡볶이집에서 떡볶이를 15000원어치 먹었다\n",
      "떡볶이집에서 오뎅을 30000원어치 먹었다\n"
     ]
    }
   ],
   "source": [
    "나나.tteok()\n",
    "나나.odeng()"
   ]
  },
  {
   "cell_type": "code",
   "execution_count": 34,
   "id": "92cf0b21-130e-47a9-8198-63a3b905363a",
   "metadata": {},
   "outputs": [
    {
     "name": "stdout",
     "output_type": "stream",
     "text": [
      "떡볶이집에서 떡볶이를 3000원어치 먹었다\n",
      "떡볶이집에서 오뎅을 6000원어치 먹었다\n"
     ]
    }
   ],
   "source": [
    "다나.tteok()\n",
    "다나.odeng()"
   ]
  },
  {
   "cell_type": "code",
   "execution_count": 36,
   "id": "836f6466-d1df-4226-9520-b0bf4aaa484f",
   "metadata": {},
   "outputs": [],
   "source": [
    "가나.__init__(3500,2)"
   ]
  },
  {
   "cell_type": "code",
   "execution_count": 38,
   "id": "554a6ec7-3890-44f5-a562-1f359d0687ee",
   "metadata": {},
   "outputs": [
    {
     "name": "stdout",
     "output_type": "stream",
     "text": [
      "떡볶이집에서 떡볶이를 7000원어치 먹었다\n",
      "떡볶이집에서 오뎅을 14000원어치 먹었다\n"
     ]
    }
   ],
   "source": [
    "가나.tteok()\n",
    "가나.odeng()"
   ]
  },
  {
   "cell_type": "code",
   "execution_count": 51,
   "id": "f99b4960-c99a-4c6f-860d-b436fec99378",
   "metadata": {},
   "outputs": [
    {
     "name": "stdout",
     "output_type": "stream",
     "text": [
      "떡볶이집에서 떡볶이를 15000원어치 먹었다\n",
      "떡볶이집에서 오뎅을 30000원어치 먹었다\n",
      "떡볶이집에서 순대를 15000원어치 먹었다\n"
     ]
    }
   ],
   "source": [
    "길동.tteok()\n",
    "길동.odeng()\n",
    "길동.sundae()"
   ]
  },
  {
   "cell_type": "code",
   "execution_count": 52,
   "id": "72883ae6-6054-4cb6-9a77-ec105efc144a",
   "metadata": {},
   "outputs": [],
   "source": [
    "길동.__init__(5500,2)"
   ]
  },
  {
   "cell_type": "code",
   "execution_count": 53,
   "id": "4183bc8c-9243-4309-b760-e1682c3cf5f4",
   "metadata": {},
   "outputs": [
    {
     "name": "stdout",
     "output_type": "stream",
     "text": [
      "떡볶이집에서 떡볶이를 11000원어치 먹었다\n",
      "떡볶이집에서 오뎅을 22000원어치 먹었다\n",
      "떡볶이집에서 순대를 11000원어치 먹었다\n"
     ]
    }
   ],
   "source": [
    "길동.tteok()\n",
    "길동.odeng()\n",
    "길동.sundae()"
   ]
  },
  {
   "cell_type": "markdown",
   "id": "bf2cb169-46e9-43a4-add8-16280637cee9",
   "metadata": {},
   "source": [
    "## 예제들"
   ]
  },
  {
   "cell_type": "code",
   "execution_count": 59,
   "id": "fdbbacaf-d20e-40f9-8c30-8bc09c1af666",
   "metadata": {},
   "outputs": [
    {
     "name": "stdout",
     "output_type": "stream",
     "text": [
      "방가방가 저는 고전 인사입니다!\n",
      "==============================\n",
      "\n",
      "이것은 예로부터 전해오는 고전 인사함수 입니다. Docstring\n",
      "\n",
      "==============================\n",
      "Help on function test in module __main__:\n",
      "\n",
      "test()\n",
      "    이것은 예로부터 전해오는 고전 인사함수 입니다. Docstring\n",
      "\n"
     ]
    }
   ],
   "source": [
    "# 테스트1\n",
    "def test():\n",
    "    '''\n",
    "    이것은 예로부터 전해오는 고전 인사함수 입니다. Docstring\n",
    "    '''\n",
    "    print('방가방가 저는 고전 인사입니다!')\n",
    "test()\n",
    "print('=' * 30)\n",
    "print(test.__doc__)\n",
    "print('=' * 30)\n",
    "help(test)"
   ]
  },
  {
   "cell_type": "code",
   "execution_count": 61,
   "id": "7c3bc68b-1877-4d3e-a54b-88831abbc928",
   "metadata": {},
   "outputs": [],
   "source": [
    "# 테스트2\n",
    "# class의 self없이 함수 만들기\n",
    "def set_car(name, color):\n",
    "    return{'name':name, 'color':color}\n",
    "# print(set_car('HD','Blue'))\n",
    "\n",
    "def get_car_info(car):\n",
    "    return f'Car:{car['name']}, Color:{car['color']}'"
   ]
  },
  {
   "cell_type": "code",
   "execution_count": 62,
   "id": "52242104-008c-4dd8-b529-9ce9bf4ec253",
   "metadata": {},
   "outputs": [
    {
     "name": "stdout",
     "output_type": "stream",
     "text": [
      "{'name': 'HD', 'color': 'Blue'}\n",
      "Car:HD, Color:Blue\n"
     ]
    }
   ],
   "source": [
    "#자동차를 생성\n",
    "car = set_car('HD','Blue')\n",
    "print(car)\n",
    "#자동차 정보를 생성\n",
    "print(get_car_info(car))"
   ]
  },
  {
   "cell_type": "code",
   "execution_count": 63,
   "id": "bed00155-4098-4317-8c0a-e3d38bd6704f",
   "metadata": {},
   "outputs": [
    {
     "name": "stdout",
     "output_type": "stream",
     "text": [
      "Car:kia, Color:blue\n"
     ]
    }
   ],
   "source": [
    "print(get_car_info(set_car('kia','blue')))"
   ]
  },
  {
   "cell_type": "code",
   "execution_count": 64,
   "id": "cb879910-2201-465a-987a-cac286635a4b",
   "metadata": {},
   "outputs": [],
   "source": [
    "# 테스트3\n",
    "class Car:\n",
    "    def set_car(name, color):\n",
    "        return{'name':name, 'color':color}\n",
    "    def get_car_info(car):\n",
    "        return f'Car:{car['name']}, Color:{car['color']}'"
   ]
  },
  {
   "cell_type": "code",
   "execution_count": 65,
   "id": "0fb251ba-1041-4753-9fa7-c886c7d943a4",
   "metadata": {},
   "outputs": [
    {
     "name": "stdout",
     "output_type": "stream",
     "text": [
      "Car:HD, Color:Black\n",
      "Car:kia, Color:white\n"
     ]
    }
   ],
   "source": [
    "car1 = Car.set_car('HD','Black')\n",
    "car2 = Car.set_car('kia','white')\n",
    "print(get_car_info(car1))\n",
    "print(get_car_info(car2))"
   ]
  },
  {
   "cell_type": "code",
   "execution_count": 74,
   "id": "f594678e-26a7-47d3-bd45-46a8570f64ed",
   "metadata": {},
   "outputs": [],
   "source": [
    "# 테스트4\n",
    "class Car:\n",
    "    def __init__(self,name,color): #생성자\n",
    "        self.name = name\n",
    "        self.color = color\n",
    "    # def set_car(name, color):\n",
    "    #     return{'name':name, 'color':color}\n",
    "    # 생략이 가능해 짐\n",
    "    def get_car_info(self):\n",
    "        return f'Car:{self.name}, Color:{self.color}'"
   ]
  },
  {
   "cell_type": "code",
   "execution_count": 75,
   "id": "df8e4726-0b17-43b7-9a65-ee26c089012d",
   "metadata": {},
   "outputs": [],
   "source": [
    "car1 = Car('HD','Black')\n",
    "car2 = Car('kia','white')"
   ]
  },
  {
   "cell_type": "code",
   "execution_count": 76,
   "id": "e4d81b6d-f82c-40c9-bee8-f467bea59155",
   "metadata": {},
   "outputs": [
    {
     "name": "stdout",
     "output_type": "stream",
     "text": [
      "Car:HD, Color:Black\n",
      "Car:kia, Color:white\n"
     ]
    }
   ],
   "source": [
    "print(car1.get_car_info())\n",
    "print(car2.get_car_info())"
   ]
  },
  {
   "cell_type": "code",
   "execution_count": 99,
   "id": "396aab0e-1564-4d4f-b502-3cb49f24c483",
   "metadata": {},
   "outputs": [],
   "source": [
    "# 테스트5\n",
    "class Car:\n",
    "    def __init__(self,name,color): #생성자\n",
    "        self.name = name\n",
    "        self.color = color\n",
    "        self.speed = 0\n",
    "    def get_car_info(self):\n",
    "        return f'Car:{self.name}, Color:{self.color}'\n",
    "    def acc(self, amount):\n",
    "        self.speed += amount\n",
    "        return f'{self.name} {self.color} 속도 올려요. 현재 속도는 {self.speed}km/h'"
   ]
  },
  {
   "cell_type": "code",
   "execution_count": 98,
   "id": "b8f4826e-17d3-472e-8eb8-4ae7c810eeba",
   "metadata": {},
   "outputs": [
    {
     "name": "stdout",
     "output_type": "stream",
     "text": [
      "Car:HD, Color:Black\n",
      "Car:kia, Color:white\n",
      "HD Black 속도 올려요. 현재 속도는 30km/h\n",
      "kia white 속도 올려요. 현재 속도는 50km/h\n",
      "HD Black 속도 올려요. 현재 속도는 40km/h\n"
     ]
    }
   ],
   "source": [
    "car1 = Car('HD','Black')\n",
    "car2 = Car('kia','white')\n",
    "\n",
    "print(car1.get_car_info())\n",
    "print(car2.get_car_info())\n",
    "print(car1.acc(30)) # 만약에 def acc(self, amount): 여기세 self가 없으면 이 구문에서 에러가 남\n",
    "print(car2.acc(50))\n",
    "print(car1.acc(10))"
   ]
  },
  {
   "cell_type": "code",
   "execution_count": 97,
   "id": "0e4cb298-1fd5-4b89-b152-fcec500cf4b4",
   "metadata": {
    "scrolled": true
   },
   "outputs": [
    {
     "name": "stdout",
     "output_type": "stream",
     "text": [
      "HD Black 속도 올려요. 현재 속도는 41km/h\n",
      "HD Black 속도 올려요. 현재 속도는 42km/h\n",
      "HD Black 속도 올려요. 현재 속도는 43km/h\n",
      "HD Black 속도 올려요. 현재 속도는 44km/h\n",
      "HD Black 속도 올려요. 현재 속도는 45km/h\n",
      "HD Black 속도 올려요. 현재 속도는 46km/h\n",
      "HD Black 속도 올려요. 현재 속도는 47km/h\n",
      "HD Black 속도 올려요. 현재 속도는 48km/h\n",
      "HD Black 속도 올려요. 현재 속도는 49km/h\n",
      "HD Black 속도 올려요. 현재 속도는 50km/h\n",
      "HD Black 속도 올려요. 현재 속도는 51km/h\n",
      "HD Black 속도 올려요. 현재 속도는 52km/h\n",
      "HD Black 속도 올려요. 현재 속도는 53km/h\n",
      "HD Black 속도 올려요. 현재 속도는 54km/h\n",
      "HD Black 속도 올려요. 현재 속도는 55km/h\n",
      "HD Black 속도 올려요. 현재 속도는 56km/h\n",
      "HD Black 속도 올려요. 현재 속도는 57km/h\n",
      "HD Black 속도 올려요. 현재 속도는 58km/h\n",
      "HD Black 속도 올려요. 현재 속도는 59km/h\n",
      "HD Black 속도 올려요. 현재 속도는 60km/h\n",
      "HD Black 속도 올려요. 현재 속도는 61km/h\n",
      "HD Black 속도 올려요. 현재 속도는 62km/h\n",
      "HD Black 속도 올려요. 현재 속도는 63km/h\n",
      "HD Black 속도 올려요. 현재 속도는 64km/h\n",
      "HD Black 속도 올려요. 현재 속도는 65km/h\n",
      "HD Black 속도 올려요. 현재 속도는 66km/h\n",
      "HD Black 속도 올려요. 현재 속도는 67km/h\n",
      "HD Black 속도 올려요. 현재 속도는 68km/h\n",
      "HD Black 속도 올려요. 현재 속도는 69km/h\n",
      "HD Black 속도 올려요. 현재 속도는 70km/h\n",
      "HD Black 속도 올려요. 현재 속도는 71km/h\n",
      "HD Black 속도 올려요. 현재 속도는 72km/h\n",
      "HD Black 속도 올려요. 현재 속도는 73km/h\n",
      "HD Black 속도 올려요. 현재 속도는 74km/h\n",
      "HD Black 속도 올려요. 현재 속도는 75km/h\n",
      "HD Black 속도 올려요. 현재 속도는 76km/h\n",
      "HD Black 속도 올려요. 현재 속도는 77km/h\n",
      "HD Black 속도 올려요. 현재 속도는 78km/h\n",
      "HD Black 속도 올려요. 현재 속도는 79km/h\n",
      "HD Black 속도 올려요. 현재 속도는 80km/h\n",
      "HD Black 속도 올려요. 현재 속도는 81km/h\n",
      "HD Black 속도 올려요. 현재 속도는 82km/h\n",
      "HD Black 속도 올려요. 현재 속도는 83km/h\n",
      "HD Black 속도 올려요. 현재 속도는 84km/h\n",
      "HD Black 속도 올려요. 현재 속도는 85km/h\n",
      "HD Black 속도 올려요. 현재 속도는 86km/h\n",
      "HD Black 속도 올려요. 현재 속도는 87km/h\n",
      "HD Black 속도 올려요. 현재 속도는 88km/h\n",
      "HD Black 속도 올려요. 현재 속도는 89km/h\n",
      "HD Black 속도 올려요. 현재 속도는 90km/h\n",
      "90km/h 속도유지중..\n"
     ]
    }
   ],
   "source": [
    "import time as t\n",
    "for n in range(50):\n",
    "    print(car1.acc(1))\n",
    "    t.sleep(1)\n",
    "print('90km/h 속도유지중..')"
   ]
  },
  {
   "cell_type": "code",
   "execution_count": 108,
   "id": "205d2194-ab1d-4d64-ae9d-a4066eb1ff49",
   "metadata": {},
   "outputs": [],
   "source": [
    "# 테스트6 상속\n",
    "class Mycar(Car):\n",
    "    def turbo(self):\n",
    "        self.speed += 50\n",
    "        return(f'내차의 속도 {self.speed} km/h')"
   ]
  },
  {
   "cell_type": "code",
   "execution_count": 109,
   "id": "d8de6994-94eb-4e4a-ac3c-03c577c1d946",
   "metadata": {},
   "outputs": [],
   "source": [
    "my = Mycar('mycar','black')"
   ]
  },
  {
   "cell_type": "code",
   "execution_count": 110,
   "id": "d366448b-ed52-4a05-b0fa-46c494f3efb5",
   "metadata": {},
   "outputs": [
    {
     "name": "stdout",
     "output_type": "stream",
     "text": [
      "내차의 속도 50 km/h\n",
      "내차의 속도 100 km/h\n"
     ]
    }
   ],
   "source": [
    "print(my.turbo())\n",
    "print(my.turbo())"
   ]
  },
  {
   "cell_type": "code",
   "execution_count": 116,
   "id": "390084d0-459a-4103-b6d8-0c38a42bd86f",
   "metadata": {},
   "outputs": [],
   "source": [
    "# 테스트7\n",
    "class Pet:\n",
    "    def __init__(self, name, species):\n",
    "        '''펫을 생성'''\n",
    "        self.name = name\n",
    "        self.species = species\n",
    "        self.hungry = 50 # 초기 배고픔 수치(0 ~ 100)\n",
    "\n",
    "    def feed(self):\n",
    "        '''밥을 주면 배고픔 감소'''\n",
    "        if self.hungry > 10:\n",
    "            self.hungry -= 10\n",
    "        return f'{self.name}에게 밥을 주었습니다. 배고픔:{self.hungry}'\n",
    "    def play(self):\n",
    "        '''놀아주면 배고픔이 증가'''\n",
    "        if self.hungry < 80:\n",
    "            self.hungry += 20\n",
    "        # else:\n",
    "        #     self.hungry = 100\n",
    "        return f'{self.name}와 아주 잘 놀아줬어요~ 배고픔:{self.hungry}'    "
   ]
  },
  {
   "cell_type": "code",
   "execution_count": 119,
   "id": "50d5e790-b5af-4e68-89b7-a699232c9579",
   "metadata": {},
   "outputs": [
    {
     "name": "stdout",
     "output_type": "stream",
     "text": [
      "콩에게 밥을 주었습니다. 배고픔:40\n",
      "콩에게 밥을 주었습니다. 배고픔:30\n",
      "두부와 아주 잘 놀아줬어요~ 배고픔:70\n",
      "두부와 아주 잘 놀아줬어요~ 배고픔:90\n",
      "두부와 아주 잘 놀아줬어요~ 배고픔:90\n",
      "콩와 아주 잘 놀아줬어요~ 배고픔:50\n",
      "콩와 아주 잘 놀아줬어요~ 배고픔:70\n",
      "깡와 아주 잘 놀아줬어요~ 배고픔:70\n",
      "깡와 아주 잘 놀아줬어요~ 배고픔:90\n",
      "깡에게 밥을 주었습니다. 배고픔:80\n"
     ]
    }
   ],
   "source": [
    "# 펫 생성\n",
    "dog1 = Pet('콩', '푸들')\n",
    "dog2 = Pet('두부', '말티푸')\n",
    "cat1 = Pet('깡', '냥냥')\n",
    "print(dog1.feed())\n",
    "print(dog1.feed())\n",
    "print(dog2.play())\n",
    "print(dog2.play())\n",
    "print(dog2.play())\n",
    "print(dog1.play())\n",
    "print(dog1.play())\n",
    "print(cat1.play())\n",
    "print(cat1.play())\n",
    "print(cat1.feed())"
   ]
  },
  {
   "cell_type": "code",
   "execution_count": 127,
   "id": "1f828f1d-0524-40e8-9a4b-0427a12571bc",
   "metadata": {},
   "outputs": [],
   "source": [
    "# 테스트8\n",
    "class Bacteria:\n",
    "    def __init__(self, initial_population, growth_rate):\n",
    "        '''세균초기화'''\n",
    "        self.population = initial_population\n",
    "        self.growth_rate = growth_rate\n",
    "        self.time = 0 #시작시간\n",
    "\n",
    "    def grow(self, hours):\n",
    "        '''일정 시간이 지나면 세균이 증식함'''\n",
    "        self.time += hours\n",
    "        self.population *= self.growth_rate**hours\n",
    "        return f'{self.time}시간 후 세균 수: {int(self.population)}마리'\n",
    "\n",
    "    def check(self):\n",
    "        '''현재 세균 수 확인'''\n",
    "        return f'현재 세균 수: {int(self.population)}마리'"
   ]
  },
  {
   "cell_type": "code",
   "execution_count": 128,
   "id": "0aee84bd-c774-48ae-8e9a-d7c6d946de11",
   "metadata": {},
   "outputs": [],
   "source": [
    "bacteria = Bacteria(100,2)"
   ]
  },
  {
   "cell_type": "code",
   "execution_count": 129,
   "id": "8a663ec6-dbc6-4f11-9ec6-d7d156ada6d7",
   "metadata": {},
   "outputs": [
    {
     "name": "stdout",
     "output_type": "stream",
     "text": [
      "1시간 후 세균 수: 200마리\n",
      "3시간 후 세균 수: 800마리\n",
      "6시간 후 세균 수: 6400마리\n"
     ]
    }
   ],
   "source": [
    "print(bacteria.grow(1))\n",
    "print(bacteria.grow(2))\n",
    "print(bacteria.grow(3))"
   ]
  },
  {
   "cell_type": "code",
   "execution_count": 188,
   "id": "0f16feca-51e8-48ba-b4e1-594edd729df6",
   "metadata": {},
   "outputs": [],
   "source": [
    "# 테스트9 은행예금 캡슐화, 클래스 변수 예제\n",
    "# 캡슐화 안된 예제\n",
    "class BankAccount:\n",
    "    interest_rate = 0.02 # 클래스 변수\n",
    "    def __init__(self, owner, balance):\n",
    "        self.owner = owner\n",
    "        self.balance = balance or 0\n",
    "    def bprint(self):\n",
    "        return f'{self.owner}님의 잔고는 {self.balance}입니다.'"
   ]
  },
  {
   "cell_type": "code",
   "execution_count": 189,
   "id": "a268b38d-62c6-46aa-bd90-3ad7ba0a7e91",
   "metadata": {},
   "outputs": [
    {
     "name": "stdout",
     "output_type": "stream",
     "text": [
      "철수님의 잔고는 5000입니다.\n",
      "영희님의 잔고는 20000입니다.\n",
      "철수님의 잔고는 9000000입니다.\n"
     ]
    }
   ],
   "source": [
    "acc1 = BankAccount('철수',5000)\n",
    "acc2 = BankAccount('영희',20000)\n",
    "\n",
    "print(acc1.bprint())\n",
    "print(acc2.bprint())\n",
    "\n",
    "acc1.balance = 9000000\n",
    "print(acc1.bprint())"
   ]
  },
  {
   "cell_type": "code",
   "execution_count": 184,
   "id": "b719c2f6-4ebc-4acd-a07a-c45f09954b24",
   "metadata": {},
   "outputs": [],
   "source": [
    "# 테스트9 은행예금 캡슐화, 클래스 변수 예제\n",
    "# 캡슐화 된 예제1\n",
    "class BankAccount:\n",
    "    interest_rate = 0.02 # 클래스 변수\n",
    "    def __init__(self, owner, balance):\n",
    "        self.owner = owner\n",
    "        self.__balance = balance or 0\n",
    "    def bprint(self):\n",
    "        return f'{self.owner}님의 잔고는 {self.__balance}입니다.'\n",
    "    "
   ]
  },
  {
   "cell_type": "code",
   "execution_count": 185,
   "id": "7aa33cac-2faa-4a77-bd9b-5eb094ab6a12",
   "metadata": {},
   "outputs": [
    {
     "name": "stdout",
     "output_type": "stream",
     "text": [
      "철수님의 잔고는 5000입니다.\n",
      "영희님의 잔고는 20000입니다.\n",
      "철수님의 잔고는 5000입니다.\n",
      "9000000\n"
     ]
    }
   ],
   "source": [
    "acc3 = BankAccount('철수',5000)\n",
    "acc4 = BankAccount('영희',20000)\n",
    "\n",
    "print(acc3.bprint())\n",
    "print(acc4.bprint())\n",
    "\n",
    "#self.__balance이렇게 __로 감싸서 외부에서 개입을 해도 값이 변하지 않음\n",
    "acc3.balance = 9000000\n",
    "print(acc3.bprint())\n",
    "print(acc3.balance)"
   ]
  },
  {
   "cell_type": "code",
   "execution_count": 186,
   "id": "b4891df9-5eed-40b5-a5b2-f27dae4ef0e4",
   "metadata": {},
   "outputs": [],
   "source": [
    "# 테스트9 은행예금 캡슐화, 클래스 변수 예제\n",
    "# 캡슐화 된 예제2\n",
    "class BankAccount:\n",
    "    interest_rate = 0.02 # 클래스 변수는 함수의 밖에 있더라도 접근하려면 self를 달아줘야한다\n",
    "    def __init__(self, owner, balance):\n",
    "        self.owner = owner\n",
    "        self.__balance = balance or 0\n",
    "    def bprint(self):\n",
    "        return f'{self.owner}님의 잔고는 {self.__balance}입니다.'\n",
    "    def deposit(self, amount):\n",
    "        self.__balance += amount\n",
    "        return f'{self.owner}님의 계좌에 {amount}원이 입금 되었습니다. 현재 잔액: {self.__balance}원'\n",
    "    def withdraw(self, amount):\n",
    "        if self.__balance >= amount:\n",
    "            self.__balance -= amount\n",
    "            return f'{self.owner}님의 계좌에 {amount}원이 출금되었습니다. 현재 잔액: {self.__balance}원'\n",
    "        return '잔액이 부족합니다.'\n",
    "    def interest(self):\n",
    "        total = self.__balance * (1 + self.interest_rate)\n",
    "        return f'{self.interest_rate}%의 이자가 반영된 금액은 {total:.0f}원 입니다.'"
   ]
  },
  {
   "cell_type": "code",
   "execution_count": 187,
   "id": "d80d1c46-6b24-42c1-aeac-b9f225c6062d",
   "metadata": {},
   "outputs": [
    {
     "name": "stdout",
     "output_type": "stream",
     "text": [
      "철수님의 잔고는 50000입니다.\n",
      "영희님의 잔고는 200000입니다.\n",
      "0.02%의 이자가 반영된 금액은 51000원 입니다.\n",
      "0.02%의 이자가 반영된 금액은 204000원 입니다.\n",
      "0.03%의 이자가 반영된 금액은 51500원 입니다.\n",
      "0.03%의 이자가 반영된 금액은 206000원 입니다.\n",
      "철수님의 계좌에 3000원이 입금 되었습니다. 현재 잔액: 53000원\n",
      "철수님의 계좌에 5500원이 출금되었습니다. 현재 잔액: 47500원\n"
     ]
    }
   ],
   "source": [
    "acc3 = BankAccount('철수',50000)\n",
    "acc4 = BankAccount('영희',200000)\n",
    "\n",
    "# 인스턴스화\n",
    "print(acc3.bprint())\n",
    "print(acc4.bprint())\n",
    "print(acc3.interest())\n",
    "print(acc4.interest())\n",
    "# 클래스 변수 바꾸기\n",
    "BankAccount.interest_rate = 0.03\n",
    "print(acc3.interest())\n",
    "print(acc4.interest())\n",
    "#내장메소드로 캡슐화된 변수 접근\n",
    "print(acc3.deposit(3000))\n",
    "print(acc3.withdraw(5500))"
   ]
  },
  {
   "cell_type": "code",
   "execution_count": 190,
   "id": "87572f07-052b-4f6c-b2d2-b12daca551b2",
   "metadata": {},
   "outputs": [
    {
     "name": "stdout",
     "output_type": "stream",
     "text": [
      "잔액이 2000원으로 증가했습니다.\n",
      "콜라을 구매했습니다! 남은 잔액: 500원\n",
      "잔액이 부족합니다! (사이다 가격: 1400원, 현재 잔액: 500원\n",
      "잔액 500원이 반환되었습니다.\n"
     ]
    }
   ],
   "source": [
    "# 테스트10\n",
    "class VendingMachine:\n",
    "    def __init__(self):\n",
    "        '''자동판매기 초기화'''\n",
    "        self.balance = 0 #사용자의 잔액\n",
    "        self.items = {# 상품 목록(이름: 가격)\n",
    "            '콜라': 1500,\n",
    "            '사이다': 1400,\n",
    "            '물': 1000\n",
    "        }\n",
    "\n",
    "    def insert_money(self, amount):\n",
    "        '''잔액충전'''\n",
    "        self.balance += amount\n",
    "        return f'잔액이 {self.balance}원으로 증가했습니다.'\n",
    "    def buy_item(self, item_name):\n",
    "        '''상품구매'''\n",
    "        if item_name not in self.items:\n",
    "            return f'{item_name}은 판매하지 않는 상품입니다.'\n",
    "        price = self.items[item_name]\n",
    "        if self.balance < price:\n",
    "            return f'잔액이 부족합니다! ({item_name} 가격: {price}원, 현재 잔액: {self.balance}원'\n",
    "        self.balance -= price\n",
    "        return f'{item_name}을 구매했습니다! 남은 잔액: {self.balance}원'\n",
    "    def refund(self):\n",
    "        '''잔액반환'''\n",
    "        amount = self.balance\n",
    "        self.balance = 0\n",
    "        return f'잔액 {amount}원이 반환되었습니다.'\n",
    "# 자동판매기 객체 생성\n",
    "vm = VendingMachine()\n",
    "# 잔액 충전\n",
    "print(vm.insert_money(2000))\n",
    "# 상품 구매\n",
    "print(vm.buy_item('콜라'))\n",
    "print(vm.buy_item('사이다'))\n",
    "#잔액 반환\n",
    "print(vm.refund())"
   ]
  },
  {
   "cell_type": "code",
   "execution_count": null,
   "id": "ec0447dd-9258-4dc4-aab0-23b24ec6f5ed",
   "metadata": {},
   "outputs": [],
   "source": [
    "import turtle\n",
    "window = turtle.Screen()\n",
    "window.bgcolor('black')\n",
    "\n",
    "#거북이 생성\n",
    "my_turtle = turtle.Turtle()\n",
    "my_turtle.shape('turtle')\n",
    "my_turtle.color('lightpink')\n",
    "\n",
    "#사각형 그리기\n",
    "for _ in range(4):\n",
    "    my_turtle.forward(100) #앞으로 100픽셀 이동\n",
    "    my_turtle.right(90)    #오른쪽으로 90도 회전\n",
    "    my_turtle.forward(100)\n",
    "    my_turtle.left(45)\n",
    "    my_turtle.back(100)\n",
    "\n",
    "# 창 닫기\n",
    "window.mainloop()"
   ]
  },
  {
   "cell_type": "code",
   "execution_count": 2,
   "id": "12bd9d65-dc32-49f7-8adc-37253fc11715",
   "metadata": {},
   "outputs": [
    {
     "name": "stdout",
     "output_type": "stream",
     "text": [
      "1 2\n"
     ]
    }
   ],
   "source": [
    "# 테스트\n",
    "a, _, c = 1, 77, 2\n",
    "print(a,c)"
   ]
  },
  {
   "cell_type": "code",
   "execution_count": 3,
   "id": "223c8436-9f14-4bab-b4da-785818e7d0fa",
   "metadata": {},
   "outputs": [
    {
     "name": "stdout",
     "output_type": "stream",
     "text": [
      "안녕\n",
      "안녕\n",
      "안녕\n",
      "안녕\n",
      "안녕\n"
     ]
    }
   ],
   "source": [
    "for _ in range(5):\n",
    "    print(f'안녕')"
   ]
  },
  {
   "cell_type": "code",
   "execution_count": 1,
   "id": "68f7b87f-7059-431d-94fa-c4ab36b0b697",
   "metadata": {},
   "outputs": [],
   "source": [
    "import random\n",
    "\n",
    "class Character: #class 만들때에는 괄호 안적음 괄호 적으면 상속 받는 것\n",
    "    def __init__(self, name, hp, attack_p):\n",
    "        '''캐릭터 초기화'''\n",
    "        self.name = name\n",
    "        self.hp = hp\n",
    "        self.attack_p = attack_p\n",
    "\n",
    "    def attack(self, opponent):\n",
    "        '''상대방을 공격'''\n",
    "        damage = random.randint(2,self.attack_p)\n",
    "        opponent.hp -= damage\n",
    "        print(f'{self.name}가 {opponent.name}를 공격하여 {damage}데미지를 입혔습니다.')\n",
    "\n",
    "    def now_status(self):\n",
    "        '''현재 체력 상태 확인'''\n",
    "        return f'{self.name}의 체력: {self.hp}'\n",
    "\n",
    "    def is_alive(self):\n",
    "        '''캐릭터 생존 여부 확인'''\n",
    "        return self.hp > 0 # 부등호를 넣은 것은 참인지 거짓인지를 반환하는 것"
   ]
  },
  {
   "cell_type": "code",
   "execution_count": 3,
   "id": "808d0b25-3da3-47dc-859f-b67e31d72205",
   "metadata": {},
   "outputs": [],
   "source": [
    "# 히어로와 몬스터 생성\n",
    "player = Character(hp=50,name='영웅',attack_p=15)\n",
    "monster= Character('고블린', 60, 9)"
   ]
  },
  {
   "cell_type": "code",
   "execution_count": 4,
   "id": "afe6502f-0427-4732-94da-75e5beccf423",
   "metadata": {},
   "outputs": [
    {
     "name": "stdout",
     "output_type": "stream",
     "text": [
      "전투시작\n"
     ]
    },
    {
     "name": "stdin",
     "output_type": "stream",
     "text": [
      "공격하려면 엔터를 치세요 \n"
     ]
    },
    {
     "name": "stdout",
     "output_type": "stream",
     "text": [
      "영웅가 고블린를 공격하여 4데미지를 입혔습니다.\n",
      "고블린가 영웅를 공격하여 7데미지를 입혔습니다.\n",
      "영웅의 체력: 43  vs  고블린의 체력: 56\n"
     ]
    },
    {
     "name": "stdin",
     "output_type": "stream",
     "text": [
      "공격하려면 엔터를 치세요 \n"
     ]
    },
    {
     "name": "stdout",
     "output_type": "stream",
     "text": [
      "영웅가 고블린를 공격하여 11데미지를 입혔습니다.\n",
      "고블린가 영웅를 공격하여 3데미지를 입혔습니다.\n",
      "영웅의 체력: 40  vs  고블린의 체력: 45\n"
     ]
    },
    {
     "name": "stdin",
     "output_type": "stream",
     "text": [
      "공격하려면 엔터를 치세요 \n"
     ]
    },
    {
     "name": "stdout",
     "output_type": "stream",
     "text": [
      "영웅가 고블린를 공격하여 9데미지를 입혔습니다.\n",
      "고블린가 영웅를 공격하여 9데미지를 입혔습니다.\n",
      "영웅의 체력: 31  vs  고블린의 체력: 36\n"
     ]
    },
    {
     "name": "stdin",
     "output_type": "stream",
     "text": [
      "공격하려면 엔터를 치세요 \n"
     ]
    },
    {
     "name": "stdout",
     "output_type": "stream",
     "text": [
      "영웅가 고블린를 공격하여 3데미지를 입혔습니다.\n",
      "고블린가 영웅를 공격하여 5데미지를 입혔습니다.\n",
      "영웅의 체력: 26  vs  고블린의 체력: 33\n"
     ]
    },
    {
     "name": "stdin",
     "output_type": "stream",
     "text": [
      "공격하려면 엔터를 치세요 \n"
     ]
    },
    {
     "name": "stdout",
     "output_type": "stream",
     "text": [
      "영웅가 고블린를 공격하여 2데미지를 입혔습니다.\n",
      "고블린가 영웅를 공격하여 2데미지를 입혔습니다.\n",
      "영웅의 체력: 24  vs  고블린의 체력: 31\n"
     ]
    },
    {
     "name": "stdin",
     "output_type": "stream",
     "text": [
      "공격하려면 엔터를 치세요 \n"
     ]
    },
    {
     "name": "stdout",
     "output_type": "stream",
     "text": [
      "영웅가 고블린를 공격하여 10데미지를 입혔습니다.\n",
      "고블린가 영웅를 공격하여 9데미지를 입혔습니다.\n",
      "영웅의 체력: 15  vs  고블린의 체력: 21\n"
     ]
    },
    {
     "name": "stdin",
     "output_type": "stream",
     "text": [
      "공격하려면 엔터를 치세요 \n"
     ]
    },
    {
     "name": "stdout",
     "output_type": "stream",
     "text": [
      "영웅가 고블린를 공격하여 12데미지를 입혔습니다.\n",
      "고블린가 영웅를 공격하여 9데미지를 입혔습니다.\n",
      "영웅의 체력: 6  vs  고블린의 체력: 9\n"
     ]
    },
    {
     "name": "stdin",
     "output_type": "stream",
     "text": [
      "공격하려면 엔터를 치세요 \n"
     ]
    },
    {
     "name": "stdout",
     "output_type": "stream",
     "text": [
      "영웅가 고블린를 공격하여 10데미지를 입혔습니다.\n",
      "영웅의 체력: 6  vs  고블린의 체력: -1\n",
      "🎉당신이 승리하였습니다.🎉\n"
     ]
    }
   ],
   "source": [
    "# 전투진행\n",
    "print('전투시작')\n",
    "while player.is_alive() and monster.is_alive():\n",
    "    input('공격하려면 엔터를 치세요')\n",
    "    player.attack(monster)\n",
    "    if monster.is_alive():\n",
    "        monster.attack(player)\n",
    "    print(player.now_status(),' vs ',monster.now_status())\n",
    "\n",
    "# 결과\n",
    "if player.is_alive():\n",
    "    print('🎉당신이 승리하였습니다.🎉')\n",
    "else:\n",
    "    print('😭패배하였습니다...to be continue...')\n"
   ]
  },
  {
   "cell_type": "code",
   "execution_count": null,
   "id": "99addd23-7ab8-48ba-bf3f-33f85ec63d25",
   "metadata": {},
   "outputs": [],
   "source": []
  }
 ],
 "metadata": {
  "kernelspec": {
   "display_name": "Python 3 (ipykernel)",
   "language": "python",
   "name": "python3"
  },
  "language_info": {
   "codemirror_mode": {
    "name": "ipython",
    "version": 3
   },
   "file_extension": ".py",
   "mimetype": "text/x-python",
   "name": "python",
   "nbconvert_exporter": "python",
   "pygments_lexer": "ipython3",
   "version": "3.13.1"
  }
 },
 "nbformat": 4,
 "nbformat_minor": 5
}
