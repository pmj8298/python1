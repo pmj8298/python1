{
 "cells": [
  {
   "cell_type": "markdown",
   "id": "b63d68c2-8fc6-4670-9352-2a3db97efc10",
   "metadata": {},
   "source": [
    "### 홀수, 짝수 판별하기"
   ]
  },
  {
   "cell_type": "code",
   "execution_count": 7,
   "id": "1c22f0a3-6c43-42a7-bff1-a353d2db4834",
   "metadata": {},
   "outputs": [
    {
     "data": {
      "text/plain": [
       "True"
      ]
     },
     "execution_count": 7,
     "metadata": {},
     "output_type": "execute_result"
    }
   ],
   "source": [
    "def is_odd(num):\n",
    "    if num % 2 == 1:\n",
    "        return True\n",
    "    else:\n",
    "        return False\n",
    "is_odd(3)"
   ]
  },
  {
   "cell_type": "markdown",
   "id": "eea53061-668b-4dd1-8e03-3e356e4e9629",
   "metadata": {},
   "source": [
    "### 모든 입력의 평균값 구하기"
   ]
  },
  {
   "cell_type": "code",
   "execution_count": 28,
   "id": "20d32655-767e-4b94-a444-33bf83ebf939",
   "metadata": {},
   "outputs": [
    {
     "name": "stdout",
     "output_type": "stream",
     "text": [
      "1.5\n",
      "3.0\n"
     ]
    }
   ],
   "source": [
    "def avg_nums(*args):\n",
    "    result = 0\n",
    "    for i in args:\n",
    "        result += i\n",
    "    return result/len(args)\n",
    "print(avg_nums(1,2))\n",
    "print(avg_nums(1,2,3,4,5))"
   ]
  },
  {
   "cell_type": "markdown",
   "id": "6d681918-cd2b-4550-8f69-91ae99b7b288",
   "metadata": {},
   "source": [
    "### 프로그램 오류 수정하기1"
   ]
  },
  {
   "cell_type": "code",
   "execution_count": 29,
   "id": "3fae9ef5-1753-470f-b33a-9ea960d72be4",
   "metadata": {},
   "outputs": [
    {
     "name": "stdin",
     "output_type": "stream",
     "text": [
      "첫번째 숫자를 입력하세요 5\n",
      "두번째 숫자를 입력하세요 3\n"
     ]
    },
    {
     "name": "stdout",
     "output_type": "stream",
     "text": [
      "두 수의 합은 8입니다\n"
     ]
    }
   ],
   "source": [
    "input1 = int(input('첫번째 숫자를 입력하세요'))\n",
    "input2 = int(input('두번째 숫자를 입력하세요'))\n",
    "\n",
    "tot = input1 + input2\n",
    "print(f'두 수의 합은 {tot}입니다')"
   ]
  },
  {
   "cell_type": "markdown",
   "id": "b1f6d64b-f7eb-4af3-81ff-ce651f857af8",
   "metadata": {},
   "source": [
    "### 출력 결과가 다른 것"
   ]
  },
  {
   "cell_type": "code",
   "execution_count": 34,
   "id": "940cfaa2-cd71-495d-b000-7dfca224907b",
   "metadata": {},
   "outputs": [
    {
     "name": "stdout",
     "output_type": "stream",
     "text": [
      "youneedpython\n",
      "youneedpython\n",
      "you need python\n",
      "youneedpython\n"
     ]
    }
   ],
   "source": [
    "print('you''need''python')\n",
    "print('you'+'need'+'python')\n",
    "print('you','need','python') # ,를 이용하여 연결하면 공백 삽입\n",
    "print(''.join(['you','need','python']))"
   ]
  },
  {
   "cell_type": "markdown",
   "id": "00dab08e-1983-45a9-9c64-a362d510d9eb",
   "metadata": {},
   "source": [
    "### 프로그램 오류 수정하기2"
   ]
  },
  {
   "cell_type": "code",
   "execution_count": null,
   "id": "39eb83d5-4dd1-455f-a5c6-8940745419b5",
   "metadata": {},
   "outputs": [],
   "source": []
  }
 ],
 "metadata": {
  "kernelspec": {
   "display_name": "Python 3 (ipykernel)",
   "language": "python",
   "name": "python3"
  },
  "language_info": {
   "codemirror_mode": {
    "name": "ipython",
    "version": 3
   },
   "file_extension": ".py",
   "mimetype": "text/x-python",
   "name": "python",
   "nbconvert_exporter": "python",
   "pygments_lexer": "ipython3",
   "version": "3.13.1"
  }
 },
 "nbformat": 4,
 "nbformat_minor": 5
}
