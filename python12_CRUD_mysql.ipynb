{
 "cells": [
  {
   "cell_type": "code",
   "execution_count": 1,
   "id": "aaa2596c-854e-4f20-a508-2f13210710ed",
   "metadata": {},
   "outputs": [
    {
     "name": "stdout",
     "output_type": "stream",
     "text": [
      "Defaulting to user installation because normal site-packages is not writeable\n",
      "Requirement already satisfied: mysql-connector-python in /home/pkdata/.local/lib/python3.10/site-packages (9.2.0)\n"
     ]
    }
   ],
   "source": [
    "!pip install mysql-connector-python"
   ]
  },
  {
   "cell_type": "code",
   "execution_count": 2,
   "id": "d6b00fb0-654c-472f-aabe-822117f50025",
   "metadata": {},
   "outputs": [
    {
     "name": "stdout",
     "output_type": "stream",
     "text": [
      "MySQL 서버에 성공적으로 연결되었습니다\n",
      "연결중..\n"
     ]
    }
   ],
   "source": [
    "import mysql.connector\n",
    "\n",
    "try:\n",
    "    conn = mysql.connector.connect(\n",
    "        host=\"mysql\", #MySQL 서버주소\n",
    "        user=\"root\",\n",
    "        password=\"1234\"\n",
    "    )\n",
    "    if conn.is_connected():\n",
    "        print('MySQL 서버에 성공적으로 연결되었습니다')\n",
    "except mysql.connector.Error as err:\n",
    "    print('MySQL 서버 연결 실패되었습니다', err)\n",
    "finally:\n",
    "    if conn.is_connected():\n",
    "        print('연결중..')"
   ]
  },
  {
   "cell_type": "code",
   "execution_count": 3,
   "id": "8bf1b4f5-702d-41b6-bd5f-26c44842bbe1",
   "metadata": {},
   "outputs": [],
   "source": [
    "# 커서 생성\n",
    "cursor = conn.cursor()\n",
    "que = 'CREATE DATABASE IF NOT EXISTS judb'\n",
    "cursor.execute(que)\n",
    "conn.close()"
   ]
  },
  {
   "cell_type": "code",
   "execution_count": 4,
   "id": "2b95cc21-d0a0-4811-b09c-5c391c424ce1",
   "metadata": {},
   "outputs": [
    {
     "name": "stdout",
     "output_type": "stream",
     "text": [
      "MySQL 연결성공!\n"
     ]
    }
   ],
   "source": [
    "# MySQL 에 연결\n",
    "conn = mysql.connector.connect(\n",
    "        host=\"mysql\", # MySQL 서버주소\n",
    "        user=\"root\",\n",
    "        password=\"1234\",\n",
    "        database=\"judb\" # 사용할 데이터베이스\n",
    "    )\n",
    "cursor = conn.cursor()\n",
    "print('MySQL 연결성공!')"
   ]
  },
  {
   "cell_type": "code",
   "execution_count": 6,
   "id": "0461d73d-2db1-4a6a-aa46-ff42636d3463",
   "metadata": {},
   "outputs": [
    {
     "name": "stdout",
     "output_type": "stream",
     "text": [
      "테이블 생성 완료\n"
     ]
    }
   ],
   "source": [
    "# 테이블생성\n",
    "query = 'CREATE TABLE IF NOT EXISTS users(id INT AUTO_INCREMENT PRIMARY KEY, name VARCHAR(50), age INT, city VARCHAR(50))'\n",
    "cursor.execute(query)\n",
    "print('테이블 생성 완료')"
   ]
  },
  {
   "attachments": {
    "b6806792-e5d0-4003-ab38-577c9d0712dc.png": {
     "image/png": "[encoded data removed]"
    }
   },
   "cell_type": "markdown",
   "id": "861299c1-91f7-405e-baf0-9e6142d86a5f",
   "metadata": {},
   "source": [
    "![image.png](attachment:b6806792-e5d0-4003-ab38-577c9d0712dc.png)"
   ]
  },
  {
   "cell_type": "code",
   "execution_count": 7,
   "id": "c30ce911-5a85-46fd-83df-3e5b0b9e83db",
   "metadata": {},
   "outputs": [
    {
     "name": "stdout",
     "output_type": "stream",
     "text": [
      "1개의 데이터 삽입 완료, ID:  1\n"
     ]
    }
   ],
   "source": [
    "# 단일 데이터 삽입\n",
    "sql = 'INSERT INTO users(name, age, city) VALUES (%s, %s, %s)'\n",
    "values = ('Alice', 25, 'Busan')\n",
    "cursor.execute(sql, values)\n",
    "conn.commit()\n",
    "print('1개의 데이터 삽입 완료, ID: ', cursor.lastrowid)"
   ]
  },
  {
   "cell_type": "code",
   "execution_count": 10,
   "id": "571268d2-cc74-4a0c-8587-71e7edd4d27b",
   "metadata": {},
   "outputs": [
    {
     "name": "stdout",
     "output_type": "stream",
     "text": [
      "여러개의 데이터 삽입 완료, ID:  2\n"
     ]
    }
   ],
   "source": [
    "# 여러개의 데이터 삽입\n",
    "m_values=[('superman',33,'Seoul'),('Cutegirl',27,'Suwon'),('Coolboy',22,'Jeju')]\n",
    "cursor.executemany(sql, m_values)\n",
    "conn.commit()\n",
    "print('여러개의 데이터 삽입 완료, ID: ', cursor.lastrowid)"
   ]
  },
  {
   "cell_type": "code",
   "execution_count": 12,
   "id": "66546ac8-aed0-4fe5-93be-da5f74f54f29",
   "metadata": {},
   "outputs": [
    {
     "name": "stdout",
     "output_type": "stream",
     "text": [
      "[(1, 'Alice', 25, 'Busan'), (2, 'superman', 33, 'Seoul'), (3, 'Cutegirl', 27, 'Suwon'), (4, 'Coolboy', 22, 'Jeju')]\n",
      "(1, 'Alice', 25, 'Busan')\n",
      "(2, 'superman', 33, 'Seoul')\n",
      "(3, 'Cutegirl', 27, 'Suwon')\n",
      "(4, 'Coolboy', 22, 'Jeju')\n"
     ]
    }
   ],
   "source": [
    "# 모든 데이터 조회\n",
    "que = 'SELECT * FROM users'\n",
    "cursor.execute(que)\n",
    "users = cursor.fetchall()\n",
    "print(users)\n",
    "for user in users:\n",
    "    print(user)"
   ]
  },
  {
   "cell_type": "code",
   "execution_count": 17,
   "id": "77ff6f58-ed48-4025-9baa-8ef1daafd4a2",
   "metadata": {},
   "outputs": [
    {
     "name": "stdout",
     "output_type": "stream",
     "text": [
      "(1, 'Alice', 29, 'Busan')\n",
      "(2, 'superman', 33, 'Seoul')\n",
      "(3, 'Cutegirl', 27, 'Suwon')\n"
     ]
    }
   ],
   "source": [
    "# 특정 조건 데이터 조회(24살 이상만 조회)\n",
    "que = 'SELECT * FROM users'\n",
    "filters = ' WHERE age >= 24'\n",
    "cursor.execute(que+filters)\n",
    "\n",
    "filtered = cursor.fetchall()\n",
    "for f in filtered:\n",
    "    print(f)"
   ]
  },
  {
   "cell_type": "code",
   "execution_count": 16,
   "id": "f7e462a7-6e50-44a6-9dc2-2666e9d5c402",
   "metadata": {},
   "outputs": [
    {
     "name": "stdout",
     "output_type": "stream",
     "text": [
      "수정된 행 개수:  1\n"
     ]
    }
   ],
   "source": [
    "# 특정 사용자의 나이 수정\n",
    "sql = 'UPDATE users SET age = %s WHERE name = %s'\n",
    "values = (29,'Alice')\n",
    "cursor.execute(sql, values)\n",
    "conn.commit()\n",
    "print('수정된 행 개수: ', cursor.rowcount)"
   ]
  },
  {
   "cell_type": "code",
   "execution_count": 23,
   "id": "bef53e0c-f0d8-47ce-a5c0-0da954ae91d1",
   "metadata": {},
   "outputs": [
    {
     "name": "stdout",
     "output_type": "stream",
     "text": [
      "['Jeju']에 해당하는 목록을 삭제하였습니다.\n"
     ]
    }
   ],
   "source": [
    "# 특정 사용자 삭제\n",
    "que = 'DELETE FROM users WHERE city = %s'\n",
    "filters = ['Jeju']\n",
    "cursor.execute(que, filters)\n",
    "conn.commit()\n",
    "print(f'{filters}에 해당하는 목록을 삭제하였습니다.')"
   ]
  },
  {
   "cell_type": "code",
   "execution_count": null,
   "id": "38afcb5e-d23b-4b2a-82d7-54270d1a0eb6",
   "metadata": {},
   "outputs": [],
   "source": []
  }
 ],
 "metadata": {
  "kernelspec": {
   "display_name": "Python 3 (ipykernel)",
   "language": "python",
   "name": "python3"
  },
  "language_info": {
   "codemirror_mode": {
    "name": "ipython",
    "version": 3
   },
   "file_extension": ".py",
   "mimetype": "text/x-python",
   "name": "python",
   "nbconvert_exporter": "python",
   "pygments_lexer": "ipython3",
   "version": "3.10.12"
  }
 },
 "nbformat": 4,
 "nbformat_minor": 5
}
