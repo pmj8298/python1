{
 "cells": [
  {
   "cell_type": "markdown",
   "id": "283c8c5a-0fa6-431c-82a1-832b1e7f06e0",
   "metadata": {},
   "source": [
    "# 내장함수"
   ]
  },
  {
   "cell_type": "code",
   "execution_count": 3,
   "id": "a4b9d004-2775-4dd0-bd79-7bedb9f3bf2b",
   "metadata": {},
   "outputs": [
    {
     "name": "stdout",
     "output_type": "stream",
     "text": [
      "3\n",
      "1.2\n"
     ]
    }
   ],
   "source": [
    "# abs * -> 절댓값 리턴\n",
    "print(abs(-3))\n",
    "print(abs(-1.2))"
   ]
  },
  {
   "cell_type": "code",
   "execution_count": 12,
   "id": "5beadbec-c4ca-4510-bc22-dd3a99f2c1fb",
   "metadata": {},
   "outputs": [
    {
     "name": "stdout",
     "output_type": "stream",
     "text": [
      "True\n",
      "False\n",
      "True\n"
     ]
    }
   ],
   "source": [
    "# all *\n",
    "print(all([1,2,3]))\n",
    "\n",
    "print(all([11,22,0,33,44]))\n",
    "# 0이 들어가서 False 뜸\n",
    "\n",
    "print(all([]))\n",
    "# all의 입력 인수가 빈 값인 경우에는 True를 리턴한다. 특이사항"
   ]
  },
  {
   "cell_type": "code",
   "execution_count": 18,
   "id": "46fb8529-4471-45e7-b8be-b131da19e20e",
   "metadata": {},
   "outputs": [
    {
     "name": "stdout",
     "output_type": "stream",
     "text": [
      "True\n",
      "False\n",
      "False\n"
     ]
    }
   ],
   "source": [
    "# any *\n",
    "# any(x)는 반복 가능한 데이터 x를 입력으로 받아 x의 요소 중 하나라도 참이 있으면 True를 리턴하고 x가 모두 거짓일 때만 False를 리턴한다. 즉, all(x)의 반대로 작동한다.\n",
    "print(any([1,2,3,0]))\n",
    "\n",
    "print(any([0,'',[],False]))\n",
    "\n",
    "print(any([]))"
   ]
  },
  {
   "cell_type": "code",
   "execution_count": 24,
   "id": "21ba5e26-3968-46d1-89cd-dc780eb0378e",
   "metadata": {},
   "outputs": [
    {
     "name": "stdout",
     "output_type": "stream",
     "text": [
      "A\n",
      "가\n",
      "44032\n",
      "65\n"
     ]
    }
   ],
   "source": [
    "#아스키코드\n",
    "print(chr(65))\n",
    "print(chr(44032))\n",
    "\n",
    "print(ord('가'))\n",
    "print(ord('A'))"
   ]
  },
  {
   "cell_type": "code",
   "execution_count": 35,
   "id": "a97d46d0-fc68-4d7a-96c4-1f0645351b88",
   "metadata": {},
   "outputs": [
    {
     "name": "stdout",
     "output_type": "stream",
     "text": [
      "A B C D E F G H I J K L M N O P Q R S T U V W X Y Z "
     ]
    }
   ],
   "source": [
    "for x in range(65,91):\n",
    "    print(chr(x), end=' ')"
   ]
  },
  {
   "cell_type": "code",
   "execution_count": 51,
   "id": "d722430c-5a31-421e-ab62-455ece148c0c",
   "metadata": {},
   "outputs": [
    {
     "name": "stdout",
     "output_type": "stream",
     "text": [
      "z y x w v u t s r q p o n m l k j i h g f e d c b a "
     ]
    }
   ],
   "source": [
    "# for i in range(97,123):\n",
    "#     print(chr(i), end=' ')\n",
    "for i in range(122,96,-1):\n",
    "    print(chr(i), end=' ')"
   ]
  },
  {
   "cell_type": "code",
   "execution_count": 71,
   "id": "079f95aa-5a5c-424a-b31c-082177bd38ea",
   "metadata": {},
   "outputs": [
    {
     "name": "stdout",
     "output_type": "stream",
     "text": [
      "A1, A2, A3, A4, A5, A6, A7, A8, A9, A10, B1, B2, B3, B4, B5, B6, B7, B8, B9, B10, C1, C2, C3, C4, C5, C6, C7, C8, C9, C10, "
     ]
    }
   ],
   "source": [
    "for a in range(1,11):\n",
    "    print(chr(65)+f'{a},',end=' ')\n",
    "for b in range(1,11):\n",
    "    print(chr(66)+f'{b},',end=' ')\n",
    "for c in range(1,11):\n",
    "    print(chr(67)+f'{c},',end=' ')"
   ]
  },
  {
   "cell_type": "code",
   "execution_count": 10,
   "id": "6582b1bc-aedf-41c1-a655-dc690f7bd38b",
   "metadata": {},
   "outputs": [],
   "source": [
    "class Example:\n",
    "    def __init__(self):\n",
    "        # self.result = 0\n",
    "        pass\n",
    "    def ex1(self):\n",
    "        for x in range(65, 91):\n",
    "            print(chr(x), end=' ')\n",
    "        # retuen self.result"
   ]
  },
  {
   "cell_type": "code",
   "execution_count": 11,
   "id": "d8d50835-4f0f-4559-8219-a8975d20037e",
   "metadata": {},
   "outputs": [
    {
     "name": "stdout",
     "output_type": "stream",
     "text": [
      "A B C D E F G H I J K L M N O P Q R S T U V W X Y Z "
     ]
    }
   ],
   "source": [
    "example = Example()\n",
    "example.ex1()"
   ]
  },
  {
   "cell_type": "code",
   "execution_count": 22,
   "id": "4c6bcdd3-d0a1-457f-a980-f80a9560cfad",
   "metadata": {},
   "outputs": [
    {
     "name": "stdout",
     "output_type": "stream",
     "text": [
      "A B C D E F G H I J K L M N O P Q R S T U V W X Y Z \n",
      "\n",
      "z y x w v u t s r q p o n m l k j i h g f e d c b a \n",
      "\n",
      "A1 A2 A3 A4 A5 A6 A7 A8 A9 A10 \n",
      "\n",
      "B1 B2 B3 B4 B5 B6 B7 B8 B9 B10 \n",
      "\n",
      "C1 C2 C3 C4 C5 C6 C7 C8 C9 C10 \n",
      "\n"
     ]
    }
   ],
   "source": [
    "class Example:\n",
    "    def __init__(self):\n",
    "        self.result = 0\n",
    "\n",
    "    def ex1(self):\n",
    "        for x in range(65, 91):\n",
    "            print(chr(x), end=' ')\n",
    "\n",
    "    def ex2(self):\n",
    "    \tfor x in range(122,96,-1):\n",
    "    \t\tprint(chr(x), end=\" \")\n",
    "\n",
    "        # retuen self.result\n",
    "\n",
    "    def ex3(self):\n",
    "        for k in range(65,68):\n",
    "            for l in range(1,11):\n",
    "                print(f\"{chr(k)}{l} \",end='')\n",
    "            print(\"\\n\")\n",
    "\n",
    "ex = Example()\n",
    "ex.ex1()  # 예제1\n",
    "print('\\n')\n",
    "ex.ex2()  # 예제2\n",
    "print('\\n')\n",
    "ex.ex3()  # 예제3"
   ]
  },
  {
   "cell_type": "code",
   "execution_count": 8,
   "id": "a389a7c9-35bf-4362-8d4b-6edb966c6164",
   "metadata": {},
   "outputs": [
    {
     "data": {
      "text/plain": [
       "['__add__',\n",
       " '__class__',\n",
       " '__class_getitem__',\n",
       " '__contains__',\n",
       " '__delattr__',\n",
       " '__delitem__',\n",
       " '__dir__',\n",
       " '__doc__',\n",
       " '__eq__',\n",
       " '__format__',\n",
       " '__ge__',\n",
       " '__getattribute__',\n",
       " '__getitem__',\n",
       " '__getstate__',\n",
       " '__gt__',\n",
       " '__hash__',\n",
       " '__iadd__',\n",
       " '__imul__',\n",
       " '__init__',\n",
       " '__init_subclass__',\n",
       " '__iter__',\n",
       " '__le__',\n",
       " '__len__',\n",
       " '__lt__',\n",
       " '__mul__',\n",
       " '__ne__',\n",
       " '__new__',\n",
       " '__reduce__',\n",
       " '__reduce_ex__',\n",
       " '__repr__',\n",
       " '__reversed__',\n",
       " '__rmul__',\n",
       " '__setattr__',\n",
       " '__setitem__',\n",
       " '__sizeof__',\n",
       " '__str__',\n",
       " '__subclasshook__',\n",
       " 'append',\n",
       " 'clear',\n",
       " 'copy',\n",
       " 'count',\n",
       " 'extend',\n",
       " 'index',\n",
       " 'insert',\n",
       " 'pop',\n",
       " 'remove',\n",
       " 'reverse',\n",
       " 'sort']"
      ]
     },
     "execution_count": 8,
     "metadata": {},
     "output_type": "execute_result"
    }
   ],
   "source": [
    "# dir 객체가 가지고 있는 함수(메서드)를 보여줌*\n",
    "dir([1,2,3])"
   ]
  },
  {
   "cell_type": "code",
   "execution_count": 4,
   "id": "4a58004b-f96a-4695-864e-eea14af2e49b",
   "metadata": {},
   "outputs": [
    {
     "data": {
      "text/plain": [
       "['__class__',\n",
       " '__class_getitem__',\n",
       " '__contains__',\n",
       " '__delattr__',\n",
       " '__delitem__',\n",
       " '__dir__',\n",
       " '__doc__',\n",
       " '__eq__',\n",
       " '__format__',\n",
       " '__ge__',\n",
       " '__getattribute__',\n",
       " '__getitem__',\n",
       " '__getstate__',\n",
       " '__gt__',\n",
       " '__hash__',\n",
       " '__init__',\n",
       " '__init_subclass__',\n",
       " '__ior__',\n",
       " '__iter__',\n",
       " '__le__',\n",
       " '__len__',\n",
       " '__lt__',\n",
       " '__ne__',\n",
       " '__new__',\n",
       " '__or__',\n",
       " '__reduce__',\n",
       " '__reduce_ex__',\n",
       " '__repr__',\n",
       " '__reversed__',\n",
       " '__ror__',\n",
       " '__setattr__',\n",
       " '__setitem__',\n",
       " '__sizeof__',\n",
       " '__str__',\n",
       " '__subclasshook__',\n",
       " 'clear',\n",
       " 'copy',\n",
       " 'fromkeys',\n",
       " 'get',\n",
       " 'items',\n",
       " 'keys',\n",
       " 'pop',\n",
       " 'popitem',\n",
       " 'setdefault',\n",
       " 'update',\n",
       " 'values']"
      ]
     },
     "execution_count": 4,
     "metadata": {},
     "output_type": "execute_result"
    }
   ],
   "source": [
    "dir({'1':'a'})"
   ]
  },
  {
   "cell_type": "code",
   "execution_count": 7,
   "id": "a41b158a-6373-471f-8ef8-b3fcf9bd1965",
   "metadata": {},
   "outputs": [
    {
     "name": "stdout",
     "output_type": "stream",
     "text": [
      "(4, 1)\n",
      "4 1\n"
     ]
    }
   ],
   "source": [
    "# divmod 몫과 나머지\n",
    "print(divmod(13,3))\n",
    "print(13//3,13%3)"
   ]
  },
  {
   "cell_type": "code",
   "execution_count": 9,
   "id": "b139233d-fa9f-4ff0-a176-fdb39a699a77",
   "metadata": {},
   "outputs": [
    {
     "name": "stdout",
     "output_type": "stream",
     "text": [
      "1 순위 과일은: apple\n",
      "2 순위 과일은: banana\n",
      "3 순위 과일은: grape\n",
      "4 순위 과일은: orange\n",
      "5 순위 과일은: blueberry\n"
     ]
    }
   ],
   "source": [
    "# enumerate * : 열거하다\n",
    "fruit = ['apple','banana','grape','orange','blueberry']\n",
    "for i, f in enumerate(fruit, start=1):\n",
    "    print(i, '순위 과일은:',f)"
   ]
  },
  {
   "cell_type": "code",
   "execution_count": 10,
   "id": "425a966a-0383-48bc-bffc-4066701844f0",
   "metadata": {},
   "outputs": [
    {
     "name": "stdout",
     "output_type": "stream",
     "text": [
      "3\n",
      "A1\n"
     ]
    }
   ],
   "source": [
    "print(eval('1+2'))\n",
    "print(eval(\"'A'+'1'\"))"
   ]
  },
  {
   "cell_type": "code",
   "execution_count": 54,
   "id": "67f9663b-9e21-45ec-af49-0d0aceb3424c",
   "metadata": {},
   "outputs": [
    {
     "name": "stdout",
     "output_type": "stream",
     "text": [
      "[1, 2, 6]\n"
     ]
    }
   ],
   "source": [
    "# filter(함수, 이터러블)**\n",
    "def positive(l):\n",
    "    result = []\n",
    "    for i in l:\n",
    "        if i > 0:\n",
    "            result.append(i)\n",
    "    return result\n",
    "\n",
    "print(positive([1,-3,2,0,-5,6]))"
   ]
  },
  {
   "cell_type": "code",
   "execution_count": 16,
   "id": "e3e4bd4b-bf33-498d-82b3-b91c1884fb41",
   "metadata": {},
   "outputs": [
    {
     "name": "stdout",
     "output_type": "stream",
     "text": [
      "[1, 2, 6]\n"
     ]
    }
   ],
   "source": [
    "def pos(l):\n",
    "    return [i for i in l if i>0]\n",
    "print(pos([1,-3,2,0,-5,6]))"
   ]
  },
  {
   "cell_type": "code",
   "execution_count": 21,
   "id": "89513be4-5af2-4132-8706-ee2e1f451929",
   "metadata": {},
   "outputs": [
    {
     "name": "stdout",
     "output_type": "stream",
     "text": [
      "[1, 2, 6]\n"
     ]
    }
   ],
   "source": [
    "l = [1,-3,2,0,-5,6]\n",
    "def positive(x):\n",
    "    return x > 0\n",
    "print(list(filter(positive,l)))"
   ]
  },
  {
   "cell_type": "code",
   "execution_count": 20,
   "id": "0afc3266-d28d-47ed-9c09-d841c54a3d03",
   "metadata": {},
   "outputs": [
    {
     "name": "stdout",
     "output_type": "stream",
     "text": [
      "[1, 2, 6]\n"
     ]
    }
   ],
   "source": [
    "print(list(filter(lambda x : x > 0, l)))"
   ]
  },
  {
   "cell_type": "code",
   "execution_count": 23,
   "id": "d432fee2-413e-47e6-8c3d-55572ccf576b",
   "metadata": {},
   "outputs": [
    {
     "name": "stdout",
     "output_type": "stream",
     "text": [
      "1\n",
      "2\n",
      "6\n"
     ]
    }
   ],
   "source": [
    "for n in filter(lambda x : x > 0, l): #range(4)\n",
    "    print(n)"
   ]
  },
  {
   "cell_type": "code",
   "execution_count": 26,
   "id": "359a062f-9393-4e8c-8ea5-34e09b0294b8",
   "metadata": {},
   "outputs": [
    {
     "name": "stdout",
     "output_type": "stream",
     "text": [
      "0xea\n",
      "0o11\n",
      "0b1001\n",
      "\u001e",
      "\n"
     ]
    }
   ],
   "source": [
    "#hex, oct, bin\n",
    "print(hex(234))\n",
    "print(oct(9))\n",
    "print(bin(9))\n",
    "print(chr(int(hex(30)[2:],16)))"
   ]
  },
  {
   "cell_type": "code",
   "execution_count": 56,
   "id": "14632988-1679-4525-8474-068184948419",
   "metadata": {},
   "outputs": [
    {
     "name": "stdout",
     "output_type": "stream",
     "text": [
      "140736335119336\n",
      "140736335119336\n",
      "140736335119336\n",
      "True\n"
     ]
    }
   ],
   "source": [
    "# id : 고유 주솟값을 리턴\n",
    "a = 3\n",
    "print(id(3))\n",
    "print(id(a))\n",
    "b = a\n",
    "print(id(b))\n",
    "print(all([id(3)==id(a),id(a)==id(b),id(b)==id(3)]))"
   ]
  },
  {
   "cell_type": "code",
   "execution_count": 3,
   "id": "2c5f2c60-9600-4c5f-b387-dfe8abde776d",
   "metadata": {},
   "outputs": [],
   "source": [
    "# input *\n",
    "# input은 string으로 값을 전달 받는다, 그러므로 int나 float으로 변경할 것"
   ]
  },
  {
   "cell_type": "code",
   "execution_count": 4,
   "id": "22a5c4c4-1e9d-4f4a-aa93-fa2b83a00a8a",
   "metadata": {},
   "outputs": [],
   "source": [
    "# int *\n",
    "# 문자를 숫자로 변환, 정수로 변환, 소수점이 사라짐"
   ]
  },
  {
   "cell_type": "code",
   "execution_count": 63,
   "id": "c7caaa6d-7e39-426f-b01b-b95ea7ef3816",
   "metadata": {},
   "outputs": [
    {
     "name": "stdout",
     "output_type": "stream",
     "text": [
      "사람입니다.\n",
      "사람입니다.\n",
      "True\n",
      "True\n",
      "False\n",
      "True\n"
     ]
    }
   ],
   "source": [
    "# isinstance(object, class) 인스턴스 확인용\n",
    "\n",
    "class Person:\n",
    "    def p(self):\n",
    "        return('사람입니다.')\n",
    "class Dog:pass\n",
    "a = Person()\n",
    "b = Person()\n",
    "c = Dog()\n",
    "print(a.p())\n",
    "print(b.p())\n",
    "print(isinstance(a,Person))\n",
    "print(isinstance(b,Person))\n",
    "print(isinstance(c,Person))\n",
    "print(isinstance(c,Dog))"
   ]
  },
  {
   "cell_type": "code",
   "execution_count": 10,
   "id": "8bb9d530-04fd-4ae2-a6d7-b4db67ff3b3f",
   "metadata": {},
   "outputs": [
    {
     "name": "stdout",
     "output_type": "stream",
     "text": [
      "6\n",
      "4\n",
      "2\n"
     ]
    }
   ],
   "source": [
    "# len **\n",
    "print(len('python'))\n",
    "print(len([1,2,3,4]))\n",
    "print(len((1,'a')))"
   ]
  },
  {
   "cell_type": "code",
   "execution_count": 11,
   "id": "6b3fd2cf-9fae-480e-9bd9-5f6064753716",
   "metadata": {},
   "outputs": [],
   "source": [
    "# list **"
   ]
  },
  {
   "cell_type": "code",
   "execution_count": 53,
   "id": "260ba2c6-7f4e-4dad-939d-64df351b68d4",
   "metadata": {},
   "outputs": [
    {
     "name": "stdout",
     "output_type": "stream",
     "text": [
      "[2, 4, 6, 8]\n"
     ]
    }
   ],
   "source": [
    "# map **\n",
    "def two_items(nl):\n",
    "    result = []\n",
    "    for n in nl:\n",
    "        result.append(n*2)\n",
    "    return result\n",
    "result = two_items([1,2,3,4])\n",
    "print(result)"
   ]
  },
  {
   "cell_type": "code",
   "execution_count": 17,
   "id": "5b042980-8c0b-4123-8187-ae976da86184",
   "metadata": {},
   "outputs": [
    {
     "name": "stdout",
     "output_type": "stream",
     "text": [
      "[2, 4, 6, 8]\n"
     ]
    }
   ],
   "source": [
    "# map(함수, iterable(반복가능한 데이터))\n",
    "def two_items(x):\n",
    "    return x * 2\n",
    "\n",
    "print(list(map(two_items,[1,2,3,4])))"
   ]
  },
  {
   "cell_type": "code",
   "execution_count": 16,
   "id": "92e3d9b7-9987-42b3-94b1-b6ce63f21bbe",
   "metadata": {},
   "outputs": [
    {
     "name": "stdout",
     "output_type": "stream",
     "text": [
      "[2, 4, 6, 8]\n"
     ]
    }
   ],
   "source": [
    "print(list(map(lambda x : x * 2, [1,2,3,4])))"
   ]
  },
  {
   "cell_type": "code",
   "execution_count": 20,
   "id": "409fb9ed-b022-4186-8cec-8d577b4b7391",
   "metadata": {},
   "outputs": [
    {
     "name": "stdout",
     "output_type": "stream",
     "text": [
      "[1, 3, 5]\n",
      "[1, 2, 3, 4, 5, 6]\n",
      "[11, 12, 13, 14, 15, 16]\n",
      "[1, 4, 9, 16, 25, 36]\n",
      "[11, 24, 39, 56, 75, 96]\n"
     ]
    }
   ],
   "source": [
    "# 테스트\n",
    "li = [1,2,3,4,5,6]\n",
    "def odd(x):\n",
    "    return x%2 != 0\n",
    "def even(x):\n",
    "    return x%2 == 0\n",
    "def add(x):\n",
    "    return x + 10\n",
    "def mul(x):\n",
    "    return x * x\n",
    "def addmul(x):\n",
    "    return (x + 10) * x\n",
    "print(list(filter(odd, li)))\n",
    "print(list(filter(add, li)))\n",
    "# filter는 계산식에 관심 없음 그냥 true니까 다 출력\n",
    "print(list(map(add, li)))\n",
    "print(list(map(mul, li)))\n",
    "print(list(map(addmul, li)))"
   ]
  },
  {
   "cell_type": "code",
   "execution_count": 25,
   "id": "d98726a6-9441-401c-b8fc-a336f2a0eca4",
   "metadata": {},
   "outputs": [
    {
     "name": "stdout",
     "output_type": "stream",
     "text": [
      "333\n",
      "y\n",
      "1\n",
      "h\n"
     ]
    }
   ],
   "source": [
    "# max *\n",
    "# min *\n",
    "print(max([1,333,4,2,10,50,6]))\n",
    "print(max('python')) #문자일 경우 유니코드 값으로 판당\n",
    "print(min([1,333,4,2,10,50,6]))\n",
    "print(min('python')) #문자일 경우 유니코드 값으로 판당"
   ]
  },
  {
   "cell_type": "code",
   "execution_count": 26,
   "id": "e94c8cac-1874-443e-953d-f1d3b6a8bed8",
   "metadata": {},
   "outputs": [
    {
     "data": {
      "text/plain": [
       "''"
      ]
     },
     "execution_count": 26,
     "metadata": {},
     "output_type": "execute_result"
    }
   ],
   "source": [
    "# open *\n",
    "f = open('foo.txt','r',encoding='utf=8')\n",
    "f.read()"
   ]
  },
  {
   "cell_type": "code",
   "execution_count": 27,
   "id": "cce25857-7b1d-4fd0-93a0-715ff16a172c",
   "metadata": {},
   "outputs": [
    {
     "name": "stdout",
     "output_type": "stream",
     "text": [
      "32\n"
     ]
    }
   ],
   "source": [
    "# pow *\n",
    "# x를 y제곱한 결과값을 리턴\n",
    "print(pow(2,5))"
   ]
  },
  {
   "cell_type": "code",
   "execution_count": 31,
   "id": "2f2f403e-2c64-4c86-ab32-ffbf33a72397",
   "metadata": {},
   "outputs": [
    {
     "name": "stdout",
     "output_type": "stream",
     "text": [
      "[0, 1, 2, 3, 4]\n",
      "[5, 6, 7, 8, 9]\n",
      "[5, 7, 9]\n",
      "[15, 14, 13, 12, 11, 10, 9, 8, 7, 6, 5, 4, 3, 2, 1]\n"
     ]
    }
   ],
   "source": [
    "# range **\n",
    "# 인수가 하나\n",
    "print(list(range(5)))\n",
    "# 인수가 2개\n",
    "print(list(range(5,10)))\n",
    "# 인수가 3개\n",
    "print(list(range(5,10,2)))\n",
    "# 역순\n",
    "print(list(range(15,0,-1)))"
   ]
  },
  {
   "cell_type": "code",
   "execution_count": 36,
   "id": "3af5b9ac-b17c-4a3d-a4cf-1bb74fb5f987",
   "metadata": {},
   "outputs": [
    {
     "name": "stdout",
     "output_type": "stream",
     "text": [
      "3\n",
      "4\n",
      "4\n",
      "3.5\n",
      "3\n",
      "4\n"
     ]
    }
   ],
   "source": [
    "# round * : 반올림\n",
    "print(round(3.4))\n",
    "print(round(3.5))\n",
    "print(round(3.9))\n",
    "print(round(3.499,2))\n",
    "print(round(3.499))\n",
    "print(round(3.899))"
   ]
  },
  {
   "cell_type": "code",
   "execution_count": 41,
   "id": "adc26867-b23f-41be-88c4-1c73ed092eef",
   "metadata": {},
   "outputs": [
    {
     "name": "stdout",
     "output_type": "stream",
     "text": [
      "[4, 77, 5, 86, 1]\n",
      "[1, 4, 5, 77, 86]\n",
      "[4, 77, 5, 86, 1]\n",
      "[86, 77, 5, 4, 1]\n"
     ]
    }
   ],
   "source": [
    "# sorted(iterable) 정렬된 리스트로 리턴\n",
    "s0 = [4,77,5,86,1]\n",
    "s1 = sorted(s0)\n",
    "s2 = sorted(s0, reverse=True)\n",
    "print(s0) # 원본이 손상되지 않았음\n",
    "print(s1)\n",
    "print(s0)\n",
    "print(s2)"
   ]
  },
  {
   "cell_type": "code",
   "execution_count": 44,
   "id": "de587b3b-82a6-47bc-8c1c-877bb9a58497",
   "metadata": {},
   "outputs": [
    {
     "name": "stdout",
     "output_type": "stream",
     "text": [
      "23 <class 'int'>\n",
      "23 <class 'str'>\n"
     ]
    }
   ],
   "source": [
    "# str * 문자열로 변환\n",
    "num = 23\n",
    "st = str(num)\n",
    "print(num, type(num))\n",
    "print(st, type(st))"
   ]
  },
  {
   "cell_type": "code",
   "execution_count": 45,
   "id": "a6d02b62-a70a-4456-864c-939a7dfc92a9",
   "metadata": {},
   "outputs": [
    {
     "name": "stdout",
     "output_type": "stream",
     "text": [
      "15\n"
     ]
    }
   ],
   "source": [
    "# sum * iterable의 합을 리턴\n",
    "print(sum([1,2,3,4,5]))"
   ]
  },
  {
   "cell_type": "code",
   "execution_count": 48,
   "id": "5352f9a8-a790-48ff-9e36-811c4348d396",
   "metadata": {},
   "outputs": [
    {
     "name": "stdout",
     "output_type": "stream",
     "text": [
      "('a', 'b', 'b', 'b', 'c')\n",
      "(1, 2, 3, 4, 5, 6)\n",
      "(1, 2, 3, 4, 5, 6)\n"
     ]
    }
   ],
   "source": [
    "# tuple * \n",
    "print(tuple('abbbc'))\n",
    "print(tuple([1,2,3,4,5,6]))\n",
    "print(tuple((1,2,3,4,5,6)))"
   ]
  },
  {
   "cell_type": "code",
   "execution_count": 50,
   "id": "52d29e1e-361c-44a1-a614-1c875c27eec6",
   "metadata": {},
   "outputs": [
    {
     "name": "stdout",
     "output_type": "stream",
     "text": [
      "<class 'str'>\n",
      "<class 'int'>\n",
      "<class '_io.TextIOWrapper'>\n"
     ]
    }
   ],
   "source": [
    "# type * 자료형을 확인\n",
    "print(type('abc'))\n",
    "print(type(11234))\n",
    "print(type(open('foo.txt','r'))) #파일 자료형"
   ]
  },
  {
   "cell_type": "code",
   "execution_count": 52,
   "id": "39d06e8b-b635-4ad8-a7ff-13d9299a8bf6",
   "metadata": {},
   "outputs": [
    {
     "name": "stdout",
     "output_type": "stream",
     "text": [
      "1 : apple => dog\n",
      "2 : banana => cat\n",
      "3 : orange => monkey\n",
      "4 : mango => rabbit\n",
      "5 : grape => bird\n"
     ]
    }
   ],
   "source": [
    "# zip ** 묶어서 리턴\n",
    "fruit = ['apple','banana','orange','mango','grape']\n",
    "animal = ['dog','cat','monkey','rabbit','bird']\n",
    "num = [1,2,3,4,5]\n",
    "for f, a, n in zip(fruit, animal, num):\n",
    "    print(n, ':', f, '=>', a)"
   ]
  },
  {
   "cell_type": "markdown",
   "id": "8b76943d-b9ba-460c-9208-e3d92865b4aa",
   "metadata": {},
   "source": [
    "# 표준 라이브러리"
   ]
  },
  {
   "cell_type": "markdown",
   "id": "44d48a37-a483-42ff-84c6-7d43b32c273e",
   "metadata": {},
   "source": [
    "## datetime.date"
   ]
  },
  {
   "cell_type": "code",
   "execution_count": 1,
   "id": "86ec67b9-6a04-45ee-a1a5-b7a3214b711f",
   "metadata": {},
   "outputs": [
    {
     "name": "stdout",
     "output_type": "stream",
     "text": [
      "2025-02-03 2025-07-25\n",
      "전체 수업 기간: 172 일\n",
      "남은 수업기간: 157 일\n",
      "지난 수업기간: 15 일\n"
     ]
    }
   ],
   "source": [
    "import datetime\n",
    "day1 = datetime.date(2025,2,3)\n",
    "day2 = datetime.date(2025,7,25)\n",
    "print(day1,day2)\n",
    "diff = day2 - day1\n",
    "print('전체 수업 기간:', diff.days,'일')\n",
    "diff2 = day2 - datetime.datetime.now().date()\n",
    "#print(diff.days -15)\n",
    "print('남은 수업기간:' , diff2.days, '일')\n",
    "print('지난 수업기간:' , diff.days - diff2.days, '일')\n"
   ]
  },
  {
   "cell_type": "code",
   "execution_count": 9,
   "id": "209872a7-c6c5-4aeb-b3e3-10eb96a601f2",
   "metadata": {},
   "outputs": [
    {
     "data": {
      "text/plain": [
       "datetime.date(2025, 2, 18)"
      ]
     },
     "execution_count": 9,
     "metadata": {},
     "output_type": "execute_result"
    }
   ],
   "source": [
    "# date()를 넣으면 date 타입으로 변환\n",
    "datetime.datetime.now() #datetime.datetime(2025, 2, 18, 11, 21, 40, 996620)\n",
    "datetime.datetime.now().date() #datetime.date(2025, 2, 18)"
   ]
  },
  {
   "cell_type": "code",
   "execution_count": 4,
   "id": "4466ca0e-5e4e-40e2-b5b4-26d52001dec0",
   "metadata": {},
   "outputs": [
    {
     "name": "stdout",
     "output_type": "stream",
     "text": [
      "6\n"
     ]
    }
   ],
   "source": [
    "day = datetime.date(2020,2,2)\n",
    "print(day.weekday())\n",
    "# 6 -> 일요일"
   ]
  },
  {
   "cell_type": "code",
   "execution_count": 6,
   "id": "20b63dc1-1b73-46ef-87c9-4d94dc59815d",
   "metadata": {},
   "outputs": [
    {
     "name": "stdout",
     "output_type": "stream",
     "text": [
      "그날은 일요일 입니다.\n"
     ]
    }
   ],
   "source": [
    "days = ['월','화','수','목','금','토','일']\n",
    "day = datetime.date(2020,2,2)\n",
    "print('그날은 ' + days[day.weekday()] + '요일 입니다.')"
   ]
  },
  {
   "cell_type": "code",
   "execution_count": 23,
   "id": "9cb5225d-a20b-47ba-a33e-a5dc6090283d",
   "metadata": {},
   "outputs": [
    {
     "name": "stdout",
     "output_type": "stream",
     "text": [
      "2025-02-18에서 크리스마스까지 310일 남았습니다 그 날은 목요일 입니다\n"
     ]
    }
   ],
   "source": [
    "import datetime\n",
    "day1 = datetime.datetime.now().date()\n",
    "day2 = datetime.date(2025,12,25)\n",
    "diff = (day2 - day1).days\n",
    "days = ['월','화','수','목','금','토','일']\n",
    "print(f'{day1}에서 크리스마스까지 {diff}일 남았습니다 그 날은 {days[day2.weekday()]}요일 입니다')"
   ]
  },
  {
   "cell_type": "code",
   "execution_count": 51,
   "id": "8ad888d0-0781-4f38-8663-b59bd440ba5d",
   "metadata": {
    "scrolled": true
   },
   "outputs": [
    {
     "name": "stdin",
     "output_type": "stream",
     "text": [
      "생일을 입력하세요:  19980824\n"
     ]
    },
    {
     "name": "stdout",
     "output_type": "stream",
     "text": [
      "2025-02-18\n",
      "1998-08-24\n",
      "1998-08-24로부터 오늘은 9675일 째 입니다\n",
      "생일까지 187일 남았습니다\n"
     ]
    }
   ],
   "source": [
    "import datetime\n",
    "birth = input('생일을 입력하세요: ')\n",
    "today = datetime.datetime.now().date()\n",
    "days = ['월','화','수','목','금','토','일']\n",
    "\n",
    "y = int(birth[0:4])\n",
    "# print(y)\n",
    "m = int(birth[4:6])\n",
    "# print(m)\n",
    "d = int(birth[6:])\n",
    "# print(d)\n",
    "\n",
    "birth2 = datetime.date(y,m,d)\n",
    "print(today)\n",
    "print(birth2)\n",
    "\n",
    "diff = (today - birth2).days\n",
    "print(f'{birth2}로부터 오늘은 {diff}일 째 입니다')\n",
    "\n",
    "birth3 = datetime.date(2025,m,d)\n",
    "# print(birth3)\n",
    "diff2 = (birth3 - today).days\n",
    "# print(diff2)\n",
    "print(f'생일까지 {diff2}일 남았습니다')"
   ]
  },
  {
   "cell_type": "markdown",
   "id": "6cb79751-0c92-4350-abfa-620c4c6fed9d",
   "metadata": {},
   "source": [
    "## time"
   ]
  },
  {
   "cell_type": "code",
   "execution_count": 53,
   "id": "fb1ba933-ec86-4f0d-8e78-45d97cb46f4f",
   "metadata": {},
   "outputs": [
    {
     "data": {
      "text/plain": [
       "1739855644.9500036"
      ]
     },
     "execution_count": 53,
     "metadata": {},
     "output_type": "execute_result"
    }
   ],
   "source": [
    "# time.time\n",
    "import time\n",
    "time.time()"
   ]
  },
  {
   "cell_type": "code",
   "execution_count": 54,
   "id": "86049672-b10c-41e0-8c85-f524fc77da5c",
   "metadata": {},
   "outputs": [
    {
     "name": "stdout",
     "output_type": "stream",
     "text": [
      "time.struct_time(tm_year=2025, tm_mon=2, tm_mday=18, tm_hour=14, tm_min=15, tm_sec=23, tm_wday=1, tm_yday=49, tm_isdst=0)\n"
     ]
    }
   ],
   "source": [
    "# time.localtime\n",
    "tt=time.localtime(time.time())\n",
    "print(tt)"
   ]
  },
  {
   "cell_type": "code",
   "execution_count": 55,
   "id": "f9e9255b-3878-4ce8-87b2-815e17bf08ba",
   "metadata": {},
   "outputs": [
    {
     "data": {
      "text/plain": [
       "'Tue Feb 18 14:16:00 2025'"
      ]
     },
     "execution_count": 55,
     "metadata": {},
     "output_type": "execute_result"
    }
   ],
   "source": [
    "#time.asctime\n",
    "time.asctime(time.localtime(time.time()))"
   ]
  },
  {
   "cell_type": "code",
   "execution_count": 56,
   "id": "639cbcbd-444d-4b5f-b701-bea2ed261f8c",
   "metadata": {},
   "outputs": [
    {
     "data": {
      "text/plain": [
       "'Tue Feb 18 14:16:14 2025'"
      ]
     },
     "execution_count": 56,
     "metadata": {},
     "output_type": "execute_result"
    }
   ],
   "source": [
    "# time.ctime()\n",
    "time.ctime()"
   ]
  },
  {
   "cell_type": "code",
   "execution_count": 66,
   "id": "8db14440-991d-4a3a-a40e-89c720536fde",
   "metadata": {},
   "outputs": [
    {
     "name": "stdout",
     "output_type": "stream",
     "text": [
      "02/18/25\n",
      "Tue Feb 18 14:21:51 2025\n",
      "18\n",
      "02\n",
      "25\n",
      "Tue\n"
     ]
    }
   ],
   "source": [
    "# time.strftime\n",
    "print(time.strftime('%x',time.localtime(time.time())))\n",
    "print(time.strftime('%c',time.localtime(time.time())))\n",
    "print(time.strftime('%d',time.localtime(time.time())))\n",
    "print(time.strftime('%m',time.localtime(time.time())))\n",
    "print(time.strftime('%y',time.localtime(time.time())))\n",
    "print(time.strftime('%a',time.localtime(time.time())))"
   ]
  },
  {
   "cell_type": "code",
   "execution_count": 65,
   "id": "cf9bc046-700a-439c-9887-4debe193eaee",
   "metadata": {},
   "outputs": [
    {
     "name": "stdout",
     "output_type": "stream",
     "text": [
      "10"
     ]
    }
   ],
   "source": [
    "#time.sleep\n",
    "import time as t\n",
    "for i in range(1,11):\n",
    "    print(i, end='\\r')\n",
    "    t.sleep(1)\n"
   ]
  },
  {
   "cell_type": "markdown",
   "id": "1e6cdf72-3e84-4f36-8920-8123fb26757e",
   "metadata": {},
   "source": [
    "<table style=\"width=100\">\n",
    "<thead>\n",
    "<tr>\n",
    "<th>포맷코드</th>\n",
    "<th>설명</th>\n",
    "<th>예</th>\n",
    "</tr>\n",
    "</thead>\n",
    "<tbody>\n",
    "<tr>\n",
    "<td>%a</td>\n",
    "<td>요일의 줄임말</td>\n",
    "<td>Mon</td>\n",
    "</tr>\n",
    "<tr>\n",
    "<td>%A</td>\n",
    "<td>요일</td>\n",
    "<td>Monday</td>\n",
    "</tr>\n",
    "<tr>\n",
    "<td>%b</td>\n",
    "<td>달의 줄임말</td>\n",
    "<td>Jan</td>\n",
    "</tr>\n",
    "<tr>\n",
    "<td>%B</td>\n",
    "<td>달</td>\n",
    "<td>January</td>\n",
    "</tr>\n",
    "<tr>\n",
    "<td>%c</td>\n",
    "<td>날짜와 시간을 출력함.</td>\n",
    "<td>Thu May 25 10:13:52 2023</td>\n",
    "</tr>\n",
    "<tr>\n",
    "<td>%d</td>\n",
    "<td>일(day)</td>\n",
    "<td>[01,31]</td>\n",
    "</tr>\n",
    "<tr>\n",
    "<td>%H</td>\n",
    "<td>시간(hour): 24시간 출력 형태</td>\n",
    "<td>[00,23]</td>\n",
    "</tr>\n",
    "<tr>\n",
    "<td>%I</td>\n",
    "<td>시간(hour): 12시간 출력 형태</td>\n",
    "<td>[01,12]</td>\n",
    "</tr>\n",
    "<tr>\n",
    "<td>%j</td>\n",
    "<td>1년 중 누적 날짜</td>\n",
    "<td>[001,366]</td>\n",
    "</tr>\n",
    "<tr>\n",
    "<td>%m</td>\n",
    "<td>달</td>\n",
    "<td>[01,12]</td>\n",
    "</tr>\n",
    "<tr>\n",
    "<td>%M</td>\n",
    "<td>분</td>\n",
    "<td>[01,59]</td>\n",
    "</tr>\n",
    "<tr>\n",
    "<td>%p</td>\n",
    "<td>AM or PM</td>\n",
    "<td>AM</td>\n",
    "</tr>\n",
    "<tr>\n",
    "<td>%S</td>\n",
    "<td>초</td>\n",
    "<td>[00,59]</td>\n",
    "</tr>\n",
    "<tr>\n",
    "<td>%U</td>\n",
    "<td>1년 중 누적 주(일요일 시작)</td>\n",
    "<td>[00,53]</td>\n",
    "</tr>\n",
    "<tr>\n",
    "<td>%w</td>\n",
    "<td>숫자로 된 요일</td>\n",
    "<td>[0(일), 6(토)]</td>\n",
    "</tr>\n",
    "<tr>\n",
    "<td>%W</td>\n",
    "<td>1년 중 누적 주(월요일 시작)</td>\n",
    "<td>[00,53]</td>\n",
    "</tr>\n",
    "<tr>\n",
    "<td>%x</td>\n",
    "<td>현재 설정된 지역에 기반한 날짜 출력</td>\n",
    "<td>05/25/23</td>\n",
    "</tr>\n",
    "<tr>\n",
    "<td>%X</td>\n",
    "<td>현재 설정된 지역에 기반한 시간 출력</td>\n",
    "<td>17:22:21</td>\n",
    "</tr>\n",
    "<tr>\n",
    "<td>%Y</td>\n",
    "<td>연도 출력</td>\n",
    "<td>2023</td>\n",
    "</tr>\n",
    "<tr>\n",
    "<td>%Z</td>\n",
    "<td>시간대 출력</td>\n",
    "<td>대한민국 표준시</td>\n",
    "</tr>\n",
    "<tr>\n",
    "<td>%%</td>\n",
    "<td>문자 %</td>\n",
    "<td>%</td>\n",
    "</tr>\n",
    "<tr>\n",
    "<td>%y</td>\n",
    "<td>세기 부분을 제외한 연도 출력</td>\n",
    "<td>01</td>\n",
    "</tr>\n",
    "</tbody>\n",
    "</table>"
   ]
  },
  {
   "cell_type": "markdown",
   "id": "737efe89-3f5f-4444-afa8-f2e6b438e9c4",
   "metadata": {},
   "source": [
    "## math.gcd, math.lcm"
   ]
  },
  {
   "cell_type": "code",
   "execution_count": 1,
   "id": "a0f8c361-12e6-418e-a601-1a5ba8bf3111",
   "metadata": {},
   "outputs": [],
   "source": [
    "import math"
   ]
  },
  {
   "cell_type": "code",
   "execution_count": 3,
   "id": "0a9930c8-3167-4277-9f5e-78623050ce6d",
   "metadata": {},
   "outputs": [
    {
     "name": "stdout",
     "output_type": "stream",
     "text": [
      "3.141592653589793\n",
      "20\n",
      "75\n"
     ]
    }
   ],
   "source": [
    "print(math.pi) #pi값\n",
    "print(math.gcd(60,100,80)) #최대공약수\n",
    "print(math.lcm(15,25)) #최소공배수"
   ]
  },
  {
   "cell_type": "markdown",
   "id": "65f2d4eb-8db1-4640-a98f-3e0f64778654",
   "metadata": {},
   "source": [
    "## random"
   ]
  },
  {
   "cell_type": "code",
   "execution_count": 21,
   "id": "496f41ae-f33e-4d6e-b68a-5a0fec328816",
   "metadata": {},
   "outputs": [
    {
     "name": "stdout",
     "output_type": "stream",
     "text": [
      "0.7810012297764831\n",
      "10\n"
     ]
    }
   ],
   "source": [
    "import random as r\n",
    "# r.random()\n",
    "print(r.random()) # 0.0에서 1.0 사이의 난수\n",
    "# r.randint()\n",
    "print(r.randint(1,10)) # a에서 b까지의 난수"
   ]
  },
  {
   "cell_type": "code",
   "execution_count": 22,
   "id": "64cbc281-e9dd-4961-9f84-51a9982b8bf0",
   "metadata": {},
   "outputs": [
    {
     "name": "stdout",
     "output_type": "stream",
     "text": [
      "33 66 55 55 33 33 "
     ]
    }
   ],
   "source": [
    "#r.choice()\n",
    "data = [11,22,33,44,55,66]\n",
    "for n in range(6):\n",
    "    print(r.choice(data), end=' ')"
   ]
  },
  {
   "cell_type": "code",
   "execution_count": 23,
   "id": "53cdf1ff-c4d8-45de-8f22-8380c1b9046e",
   "metadata": {},
   "outputs": [
    {
     "name": "stdout",
     "output_type": "stream",
     "text": [
      "19 20 18 10 4 16 3 5 12 7 8 17 13 15 6 2 9 1 14 11 "
     ]
    }
   ],
   "source": [
    "#r.sample()\n",
    "li = list(range(1,21))\n",
    "for n in r.sample(li, len(li)):\n",
    "    print(n, end=' ')"
   ]
  },
  {
   "cell_type": "code",
   "execution_count": 18,
   "id": "90453863-1b12-4bab-a807-fc2c774b3fef",
   "metadata": {},
   "outputs": [
    {
     "name": "stdout",
     "output_type": "stream",
     "text": [
      "[8, 16, 17, 3, 14, 6, 1, 12, 20, 7, 2, 5, 13, 19, 9, 18, 10, 4, 15, 11] 20\n",
      "{1, 2, 3, 4, 5, 6, 7, 8, 9, 10, 11, 12, 13, 14, 15, 16, 17, 18, 19, 20} 20\n"
     ]
    }
   ],
   "source": [
    "li = list(range(1,21))\n",
    "arr = []\n",
    "for n in r.sample(li, len(li)):\n",
    "    arr.append(n)\n",
    "print(arr, len(arr))\n",
    "sarr = set(arr)\n",
    "print(sarr, len(sarr))"
   ]
  },
  {
   "cell_type": "markdown",
   "id": "f771e530-40f9-4807-934e-33e6afb20a77",
   "metadata": {},
   "source": [
    "## itertools"
   ]
  },
  {
   "cell_type": "code",
   "execution_count": 5,
   "id": "c987d5d3-ac05-4ab4-93fa-801175b4240f",
   "metadata": {},
   "outputs": [
    {
     "name": "stdout",
     "output_type": "stream",
     "text": [
      "[('한민서', '사탕'), ('황지민', '초컬릿'), ('이영철', '젤리'), ('이광수', '초코송이'), ('김승민', '초코송이')]\n"
     ]
    }
   ],
   "source": [
    "#itertools.zip_longest\n",
    "import itertools\n",
    "students = ['한민서', '황지민', '이영철', '이광수', '김승민']\n",
    "snacks = ['사탕', '초컬릿', '젤리']\n",
    "\n",
    "# result = zip(students, snacks)\n",
    "#[('한민서', '사탕'), ('황지민', '초컬릿'), ('이영철', '젤리')]\n",
    "result = itertools.zip_longest(students, snacks, fillvalue='초코송이')\n",
    "print(list(result))\n"
   ]
  },
  {
   "cell_type": "code",
   "execution_count": 9,
   "id": "69c8e16e-0e83-4c2b-9f0a-408ec7d0d806",
   "metadata": {},
   "outputs": [
    {
     "name": "stdout",
     "output_type": "stream",
     "text": [
      "[('1', '2'), ('1', '3'), ('2', '1'), ('2', '3'), ('3', '1'), ('3', '2')]\n"
     ]
    }
   ],
   "source": [
    "# itertools.permutation\n",
    "import itertools\n",
    "# 3장의 카드로 2장의 카드를 고름\n",
    "print(list(itertools.permutations(['1','2','3'],2)))"
   ]
  },
  {
   "cell_type": "code",
   "execution_count": 11,
   "id": "3d82e236-cab4-4799-bf01-c1868e733b86",
   "metadata": {},
   "outputs": [
    {
     "name": "stdout",
     "output_type": "stream",
     "text": [
      "[('1', '2'), ('1', '3'), ('2', '3')]\n"
     ]
    }
   ],
   "source": [
    "import itertools\n",
    "# 순서 상관 없이 2장 고른거임\n",
    "print(list(itertools.combinations(['1','2','3'],2)))"
   ]
  },
  {
   "cell_type": "code",
   "execution_count": 14,
   "id": "00b3e116-4c20-45bd-ae1f-977876ffa418",
   "metadata": {},
   "outputs": [
    {
     "name": "stdout",
     "output_type": "stream",
     "text": [
      "8145060\n"
     ]
    }
   ],
   "source": [
    "# itertools.combinations 응용\n",
    "import itertools\n",
    "lotto = itertools.combinations(range(1,46),6)\n",
    "\n",
    "ls = list(lotto)\n",
    "# for num in ls[:20]:\n",
    "#     print(num)\n",
    "\n",
    "print(len(ls))"
   ]
  },
  {
   "cell_type": "markdown",
   "id": "ec67841d-857b-45ed-8cd1-15349ee505ae",
   "metadata": {},
   "source": [
    "## functools.reduce"
   ]
  },
  {
   "cell_type": "code",
   "execution_count": 17,
   "id": "75dc010d-fa5f-49db-9a57-d01507cdcea9",
   "metadata": {},
   "outputs": [
    {
     "name": "stdout",
     "output_type": "stream",
     "text": [
      "15\n"
     ]
    }
   ],
   "source": [
    "# 함수(function)를 반복 가능한 객체(iterable)의 요소에 차례대로(왼쪽에서 오른쪽으로) 누적 적용하여 이 객체를 하나의 값으로 줄이는 함수\n",
    "import functools\n",
    "data = [1,2,3,4,5]\n",
    "result = functools.reduce(lambda x,y: x+y, data)\n",
    "print(result)"
   ]
  },
  {
   "cell_type": "code",
   "execution_count": 19,
   "id": "c787049e-1a18-4fae-b897-4f8d05a18a63",
   "metadata": {},
   "outputs": [
    {
     "name": "stdout",
     "output_type": "stream",
     "text": [
      "8\n",
      "1\n"
     ]
    }
   ],
   "source": [
    "import functools\n",
    "num_list = [3,2,8,1,6,7]\n",
    "max_num = functools.reduce(lambda x,y: x if x > y else y, num_list)\n",
    "min_num = functools.reduce(lambda x,y: x if x < y else y, num_list)\n",
    "print(max_num)\n",
    "print(min_num)"
   ]
  },
  {
   "cell_type": "markdown",
   "id": "f60460d2-bd4c-46ed-8c52-da73393dbbf5",
   "metadata": {},
   "source": [
    "## operator.itemgetter"
   ]
  },
  {
   "cell_type": "code",
   "execution_count": 3,
   "id": "21098fa8-e8e7-4419-bb54-b06ca6e7a332",
   "metadata": {},
   "outputs": [
    {
     "name": "stdout",
     "output_type": "stream",
     "text": [
      "[('sally', 17, 'B'), ('jane', 22, 'A'), ('dave', 32, 'B')]\n"
     ]
    }
   ],
   "source": [
    "#operator.itemgetter *\n",
    "from operator import itemgetter\n",
    "name = ['jane','dave', 'sally']\n",
    "age = [22,32,17]\n",
    "grade = ['A','B','B']\n",
    "students = zip(name, age, grade)\n",
    "# print(list(students))->[('jane', 22, 'A'), ('dave', 32, 'B'), ('sally', 17, 'B')]\n",
    "\n",
    "# students = [\n",
    "#     ('jane',22,'A'),\n",
    "#     ('dave',32,'B'),\n",
    "#     ('sally',17,'B'),\n",
    "# ]\n",
    "result = sorted(students, key=itemgetter(1))\n",
    "print(result)"
   ]
  },
  {
   "cell_type": "code",
   "execution_count": 7,
   "id": "8c9422df-ca0b-40fc-a23b-cdee8211fea1",
   "metadata": {},
   "outputs": [
    {
     "name": "stdout",
     "output_type": "stream",
     "text": [
      "[{'name': 'sally', 'age': 17, 'grade': 'B'}, {'name': 'jane', 'age': 22, 'grade': 'A'}, {'name': 'dave', 'age': 32, 'grade': 'B'}]\n"
     ]
    }
   ],
   "source": [
    "from operator import itemgetter\n",
    "\n",
    "students = [\n",
    "    {\"name\": \"jane\", \"age\": 22, \"grade\": 'A'},\n",
    "    {\"name\": \"dave\", \"age\": 32, \"grade\": 'B'},\n",
    "    {\"name\": \"sally\", \"age\": 17, \"grade\": 'B'},\n",
    "]\n",
    "\n",
    "result = sorted(students, key=itemgetter('age'))\n",
    "print(result)\n"
   ]
  },
  {
   "cell_type": "code",
   "execution_count": 8,
   "id": "6089c176-6f86-43f4-bf40-c66b1abe794c",
   "metadata": {},
   "outputs": [
    {
     "name": "stdout",
     "output_type": "stream",
     "text": [
      "{'name': 'jane', 'age': 'jane', 'grade': 'jane'}\n",
      "{'name': 'dave', 'age': 'dave', 'grade': 'dave'}\n",
      "{'name': 'sally', 'age': 'sally', 'grade': 'sally'}\n"
     ]
    }
   ],
   "source": [
    "from operator import itemgetter\n",
    "name = ['jane','dave', 'sally']\n",
    "age = [22,32,17]\n",
    "grade = ['A','B','B']\n",
    "\n",
    "students = []\n",
    "for n in name:\n",
    "    print({'name':n, 'age':n, 'grade':n})"
   ]
  },
  {
   "cell_type": "code",
   "execution_count": 10,
   "id": "05eabf1b-3e96-4e91-b33f-8ab4ce5c286b",
   "metadata": {},
   "outputs": [
    {
     "name": "stdout",
     "output_type": "stream",
     "text": [
      "[{'name': 'jane', 'age': 22, 'grade': 'A'}, {'name': 'dave', 'age': 32, 'grade': 'B'}, {'name': 'sally', 'age': 17, 'grade': 'B'}]\n"
     ]
    }
   ],
   "source": [
    "from operator import itemgetter\n",
    "name = ['jane','dave', 'sally']\n",
    "age = [22,32,17]\n",
    "grade = ['A','B','B']\n",
    "\n",
    "students = []\n",
    "for n,a,g in zip(name,age,grade):\n",
    "    students.append({'name':n, 'age':a, 'grade':g})\n",
    "print(students)\n",
    "    "
   ]
  },
  {
   "cell_type": "code",
   "execution_count": 16,
   "id": "5583a33e-e9cf-41cc-9539-65e55cef7d7a",
   "metadata": {},
   "outputs": [
    {
     "name": "stdout",
     "output_type": "stream",
     "text": [
      "[{'name': 'jane', 'age': 22, 'grade': 'A'}, {'name': 'dave', 'age': 32, 'grade': 'B'}, {'name': 'sally', 'age': 17, 'grade': 'B'}]\n",
      "[{'name': 'sally', 'age': 17, 'grade': 'B'}, {'name': 'jane', 'age': 22, 'grade': 'A'}, {'name': 'dave', 'age': 32, 'grade': 'B'}]\n"
     ]
    }
   ],
   "source": [
    "from operator import itemgetter\n",
    "name = ['jane','dave', 'sally']\n",
    "age = [22,32,17]\n",
    "grade = ['A','B','B']\n",
    "\n",
    "students = [{'name':n, 'age':a, 'grade':g}\n",
    "for n,a,g in zip(name,age,grade)]\n",
    "print(students)\n",
    "\n",
    "result = sorted(students, key=itemgetter('age'))\n",
    "print(result)"
   ]
  },
  {
   "cell_type": "code",
   "execution_count": 20,
   "id": "b981334f-14f0-4a03-89f0-b7db47b4c92b",
   "metadata": {},
   "outputs": [
    {
     "name": "stdout",
     "output_type": "stream",
     "text": [
      "('sally', 17, 'B')\n",
      "('jane', 22, 'A')\n",
      "('dave', 32, 'B')\n"
     ]
    }
   ],
   "source": [
    "from operator import attrgetter\n",
    "\n",
    "class Student:\n",
    "    def __init__(self, name, age, grade):\n",
    "        self.name = name\n",
    "        self.age = age\n",
    "        self.grade = grade\n",
    "    def pr(self):\n",
    "        return self.name,self.age,self.grade\n",
    "\n",
    "students = [\n",
    "    Student('jane', 22, 'A'),\n",
    "    Student('dave', 32, 'B'),\n",
    "    Student('sally', 17, 'B'),\n",
    "]\n",
    "\n",
    "result = sorted(students, key=attrgetter('age'))\n",
    "for r in result:\n",
    "    print(r.pr())"
   ]
  },
  {
   "cell_type": "markdown",
   "id": "1cc8c1fd-621a-422c-99c6-c80ac3cc3c17",
   "metadata": {},
   "source": [
    "## shutil"
   ]
  },
  {
   "cell_type": "code",
   "execution_count": 26,
   "id": "ac4b5390-0698-4e8a-ae31-3838ac7f04fc",
   "metadata": {},
   "outputs": [
    {
     "name": "stdout",
     "output_type": "stream",
     "text": [
      "29143\n",
      "29148\n",
      "29153\n",
      "29158\n",
      "29163\n"
     ]
    }
   ],
   "source": [
    "#shutil\n",
    "\n",
    "import shutil, time as t\n",
    "\n",
    "for n in range(5):\n",
    "    tstamp = str(round(t.time()))[-5:]\n",
    "    print(tstamp)\n",
    "    shutil.copy('foo.txt',f'./backup/foo_{tstamp}.txt.bak')\n",
    "    t.sleep(5)"
   ]
  },
  {
   "cell_type": "markdown",
   "id": "f5199410-5f77-4f0b-b14c-5bb1e649c9dd",
   "metadata": {},
   "source": [
    "## glob"
   ]
  },
  {
   "cell_type": "code",
   "execution_count": 28,
   "id": "06b541d6-2e8f-4555-aec1-d688768d4cf3",
   "metadata": {},
   "outputs": [
    {
     "name": "stdout",
     "output_type": "stream",
     "text": [
      "['./backup\\\\foo.txt', './backup\\\\foo_29143.txt.bak', './backup\\\\foo_29148.txt.bak', './backup\\\\foo_29153.txt.bak', './backup\\\\foo_29158.txt.bak', './backup\\\\foo_29163.txt.bak']\n"
     ]
    }
   ],
   "source": [
    "# glob\n",
    "import glob\n",
    "print(glob.glob('./backup/*'))"
   ]
  },
  {
   "cell_type": "code",
   "execution_count": 32,
   "id": "5968034d-77c0-45dc-af99-e5cc695fdf8e",
   "metadata": {},
   "outputs": [
    {
     "name": "stdout",
     "output_type": "stream",
     "text": [
      "./backup\\foo_29143.txt.bak\n",
      "./backup\\foo_29148.txt.bak\n",
      "./backup\\foo_29153.txt.bak\n",
      "./backup\\foo_29158.txt.bak\n",
      "./backup\\foo_29163.txt.bak\n"
     ]
    }
   ],
   "source": [
    "import glob\n",
    "\n",
    "#필요한 파일만 불러오고 싶을때 사용\n",
    "for f in glob.glob('./backup/*.bak'):\n",
    "    print(f)"
   ]
  },
  {
   "cell_type": "markdown",
   "id": "8ee32382-b4e4-46bb-a068-17ae16a1b1e1",
   "metadata": {},
   "source": [
    "## pickle"
   ]
  },
  {
   "cell_type": "code",
   "execution_count": 36,
   "id": "43870439-d16b-4854-b2d4-153280a3cc83",
   "metadata": {},
   "outputs": [],
   "source": [
    "import pickle\n",
    "\n",
    "\n",
    "f= open('test.txt','wb')\n",
    "data = {1: 'python', 2: 'you need'}\n",
    "pickle.dump(data, f)\n",
    "\n",
    "f.close()"
   ]
  },
  {
   "cell_type": "code",
   "execution_count": 38,
   "id": "d8558445-dcfe-41bc-92b9-e1829674cdc0",
   "metadata": {},
   "outputs": [
    {
     "name": "stdout",
     "output_type": "stream",
     "text": [
      "{1: 'python', 2: 'you need'}\n"
     ]
    }
   ],
   "source": [
    "import pickle\n",
    "\n",
    "\n",
    "f= open('test.txt','rb')\n",
    "data = pickle.load(f)\n",
    "f.close()\n",
    "print(data)\n"
   ]
  },
  {
   "cell_type": "markdown",
   "id": "1c4e3b4e-6e17-4a4f-8f77-3fca2df8e938",
   "metadata": {},
   "source": [
    "## os"
   ]
  },
  {
   "cell_type": "code",
   "execution_count": 42,
   "id": "76ef3e48-909e-4b18-80ef-65daa03aef86",
   "metadata": {},
   "outputs": [
    {
     "data": {
      "text/plain": [
       "'C:\\\\WINDOWS'"
      ]
     },
     "execution_count": 42,
     "metadata": {},
     "output_type": "execute_result"
    }
   ],
   "source": [
    "import os\n",
    "# print(os.environ['PATH'])\n",
    "os.environ['PATH']\n",
    "# 디렉토리 변경\n",
    "os.chdir('C:\\\\WINDOWS')\n",
    "# 디렉토리 위치 받기\n",
    "os. getcwd()"
   ]
  },
  {
   "cell_type": "code",
   "execution_count": 44,
   "id": "13e6a725-7302-4e5c-b078-0f6c4a60f675",
   "metadata": {},
   "outputs": [
    {
     "data": {
      "text/plain": [
       "0"
      ]
     },
     "execution_count": 44,
     "metadata": {},
     "output_type": "execute_result"
    }
   ],
   "source": [
    "# os.system('ls')\n",
    "#에러시 1을 반환\n",
    "os.system('python')"
   ]
  },
  {
   "cell_type": "code",
   "execution_count": 45,
   "id": "906aca47-64b6-4561-8f51-a94bff3f0637",
   "metadata": {},
   "outputs": [
    {
     "data": {
      "text/plain": [
       "' C 드라이브의 볼륨에는 이름이 없습니다.\\n 볼륨 일련 번호: AC8F-6757\\n\\n C:\\\\Windows 디렉터리\\n\\n2025-02-14  오전 08:31    <DIR>          .\\n2025-01-10  오후 01:33    <DIR>          appcompat\\n2025-02-14  오전 10:30    <DIR>          apppatch\\n2025-02-19  오전 08:37    <DIR>          AppReadiness\\n2024-12-31  오전 10:42    <DIR>          assembly\\n2025-01-24  오전 09:21    <DIR>          bcastdvr\\n2025-01-02  오후 01:32           126,976 bfsvc.exe\\n2024-04-01  오후 04:34    <DIR>          Boot\\n2024-04-01  오후 04:26    <DIR>          Branding\\n2024-10-05  오전 09:25    <DIR>          BrowserCore\\n2025-02-19  오전 10:26    <DIR>          CbsTemp\\n2024-04-02  오전 01:34    <DIR>          Containers\\n2024-12-31  오전 09:52    <DIR>          CSC\\n2024-04-01  오후 04:26    <DIR>          Cursors\\n2025-01-10  오후 01:55    <DIR>          debug\\n2024-04-01  오후 04:34    <DIR>          diagnostics\\n2024-04-01  오후 04:34    <DIR>          DiagTrack\\n2024-04-02  오전 01:31    <DIR>          DigitalLocker\\n2024-12-31  오전 10:15               190 driverdvd.log\\n2024-12-31  오전 09:52             2,522 DtcInstall.log\\n2024-04-02  오전 01:31    <DIR>          en-US\\n2025-01-02  오후 01:32         2,864,984 explorer.exe\\n2024-04-01  오후 04:26    <DIR>          GameBarPresenceWriter\\n2024-04-02  오전 01:33    <DIR>          Globalization\\n2024-12-31  오전 10:49    <DIR>          HancomIME\\n2024-04-02  오전 01:31    <DIR>          Help\\n2025-01-02  오후 01:32         1,085,440 HelpPane.exe\\n2024-10-05  오전 09:17            40,960 hh.exe\\n2024-04-01  오후 04:34    <DIR>          IdentityCRL\\n2024-10-05  오전 09:25    <DIR>          IME\\n2025-01-10  오후 01:55    <DIR>          ImmersiveControlPanel\\n2024-10-05  오전 09:11    <DIR>          InboxApps\\n2025-02-11  오전 09:14    <DIR>          INF\\n2024-04-01  오후 04:34    <DIR>          InputMethod\\n2024-10-05  오전 09:25    <DIR>          ko-KR\\n2024-04-01  오후 04:26    <DIR>          L2Schemas\\n2024-12-31  오전 10:21    <DIR>          LiveKernelReports\\n2025-02-11  오전 09:06    <DIR>          Logs\\n2024-12-31  오전 09:50             1,406 lsasetup.log\\n2024-04-01  오후 04:22            43,131 mib.bin\\n2025-02-19  오전 08:26    <DIR>          Microsoft.NET\\n2024-04-01  오후 04:26    <DIR>          Migration\\n2024-04-01  오후 04:26    <DIR>          ModemLogs\\n2024-10-05  오전 09:17           360,448 notepad.exe\\n2024-04-02  오전 01:33    <DIR>          OCR\\n2024-04-01  오후 04:26    <DIR>          Offline Web Pages\\n2024-12-31  오전 09:52    <DIR>          Panther\\n2024-04-01  오후 04:26    <DIR>          Performance\\n2025-02-10  오후 04:52            19,292 PFRO.log\\n2024-04-01  오후 04:34    <DIR>          PLA\\n2025-01-10  오후 01:55    <DIR>          PolicyDefinitions\\n2025-02-19  오전 08:37    <DIR>          Prefetch\\n2024-04-01  오후 04:22            25,359 Professional.xml\\n2025-01-10  오후 01:55    <DIR>          Provisioning\\n2025-01-02  오후 01:32           606,208 regedit.exe\\n2024-04-01  오후 04:34    <DIR>          Registration\\n2024-04-02  오전 01:34    <DIR>          RemotePackages\\n2024-04-01  오후 04:26    <DIR>          rescache\\n2024-04-01  오후 04:34    <DIR>          Resources\\n2024-04-01  오후 04:26    <DIR>          SchCache\\n2025-02-10  오후 04:52    <DIR>          schemas\\n2024-04-02  오전 01:34    <DIR>          security\\n2024-12-31  오전 09:50    <DIR>          ServiceProfiles\\n2024-12-31  오전 09:52    <DIR>          ServiceState\\n2024-10-05  오전 09:25    <DIR>          servicing\\n2024-04-01  오후 04:29    <DIR>          Setup\\n2024-12-31  오전 11:15            25,760 setupact.log\\n2024-12-31  오전 09:51                 0 setuperr.log\\n2025-01-10  오후 01:55    <DIR>          ShellComponents\\n2025-01-10  오후 01:55    <DIR>          ShellExperiences\\n2024-04-01  오후 04:34    <DIR>          SKB\\n2024-12-31  오전 09:55    <DIR>          SoftwareDistribution\\n2024-04-01  오후 04:26    <DIR>          Speech\\n2024-04-01  오후 04:26    <DIR>          Speech_OneCore\\n2025-01-02  오후 01:32           241,664 splwow64.exe\\n2024-04-01  오후 04:26    <DIR>          System\\n2024-04-01  오후 04:24               219 system.ini\\n2025-02-17  오후 04:41    <DIR>          System32\\n2024-10-05  오전 09:25    <DIR>          SystemApps\\n2025-01-24  오전 09:21    <DIR>          SystemResources\\n2025-02-19  오전 08:42    <DIR>          SystemTemp\\n2025-02-17  오후 04:41    <DIR>          SysWOW64\\n2024-04-01  오후 04:26    <DIR>          TAPI\\n2024-12-31  오전 09:51    <DIR>          Tasks\\n2025-02-19  오전 08:42    <DIR>          Temp\\n2024-04-01  오후 04:26    <DIR>          tracing\\n2024-04-01  오후 04:26    <DIR>          twain_32\\n2024-04-01  오후 04:22            69,120 twain_32.dll\\n2025-01-10  오후 01:55    <DIR>          UUS\\n2024-04-01  오후 04:26    <DIR>          Vss\\n2024-04-01  오후 04:26    <DIR>          WaaS\\n2024-04-01  오후 04:34    <DIR>          Web\\n2024-04-01  오후 04:24                92 win.ini\\n2025-02-19  오전 08:26               276 WindowsUpdate.log\\n2024-04-01  오후 04:22            12,288 winhlp32.exe\\n2025-02-14  오전 08:36    <DIR>          WinSxS\\n2024-04-02  오전 01:34           316,640 WMSysPr9.prx\\n2024-10-05  오전 09:11    <DIR>          WUModels\\n              21개 파일           5,842,975 바이트\\n              77개 디렉터리  561,184,374,784 바이트 남음\\n'"
      ]
     },
     "execution_count": 45,
     "metadata": {},
     "output_type": "execute_result"
    }
   ],
   "source": [
    "f = os.popen('dir')\n",
    "f.read()"
   ]
  },
  {
   "cell_type": "code",
   "execution_count": 51,
   "id": "71155701-2ed3-4266-8b4a-613a1c73c875",
   "metadata": {},
   "outputs": [],
   "source": [
    "#시스템 명령어 호출\n",
    "def what(what):\n",
    "    if not os.system(what):\n",
    "        f = os.popen(f'{what} -V')\n",
    "        print(f.read())\n",
    "    else:\n",
    "        print('없는 명령어 입니다.')"
   ]
  },
  {
   "cell_type": "code",
   "execution_count": 52,
   "id": "849efd7a-874c-40dc-bf6f-f619339c1256",
   "metadata": {},
   "outputs": [
    {
     "name": "stdout",
     "output_type": "stream",
     "text": [
      "Python 3.13.1\n",
      "\n"
     ]
    }
   ],
   "source": [
    "what('python')"
   ]
  },
  {
   "cell_type": "markdown",
   "id": "09900e10-5434-4016-b38b-318480c56b58",
   "metadata": {},
   "source": [
    "## zipfile"
   ]
  },
  {
   "cell_type": "code",
   "execution_count": 60,
   "id": "3c4ebbf6-db90-4c0c-8571-c17f24111220",
   "metadata": {},
   "outputs": [],
   "source": [
    "# import zipfile\n",
    "\n",
    "# # 파일 합치기\n",
    "# with zipfile.ZipFile('mytext.zip', 'w') as myzip:\n",
    "#     myzip.write('a.txt')\n",
    "#     myzip.write('b.txt')\n",
    "#     myzip.write('c.txt')\n",
    "\n",
    "# # 해제하기\n",
    "# with zipfile.ZipFile('mytext.zip') as myzip:\n",
    "#     myzip.extractall()\n",
    "    \n",
    "# # 특정 파일만 해제하기\n",
    "# with zipfile.ZipFile('mytext.zip') as myzip:\n",
    "#     myzip.extract('a.txt')\n",
    "\n",
    "# # 압축하여 묶기\n",
    "# with zipfile.ZipFile('mytext.zip', 'w', compression=zipfile.ZIP_LZMA, compresslevel=9) as myzip:\n",
    "# (... 생략 ...)"
   ]
  },
  {
   "cell_type": "markdown",
   "id": "d778b557-a46f-49f9-8f65-635a274511b9",
   "metadata": {},
   "source": [
    "## threading"
   ]
  },
  {
   "cell_type": "code",
   "execution_count": 1,
   "id": "b18db220-bd53-4dbc-b6f3-08a7e1194f17",
   "metadata": {},
   "outputs": [],
   "source": [
    "import time\n",
    "\n",
    "def long_tesk():\n",
    "    for i in range(5):\n",
    "        time.sleep(1)\n",
    "        print(f'일 하는 중...{i}')"
   ]
  },
  {
   "cell_type": "code",
   "execution_count": 3,
   "id": "5ec245bd-737c-49a2-b9c3-9fce310ff170",
   "metadata": {},
   "outputs": [
    {
     "name": "stdout",
     "output_type": "stream",
     "text": [
      "=====start=====\n",
      "일 하는 중...0\n",
      "일 하는 중...1\n",
      "일 하는 중...2\n",
      "일 하는 중...3\n",
      "일 하는 중...4\n",
      "일 하는 중...0\n",
      "일 하는 중...1\n",
      "일 하는 중...2\n",
      "일 하는 중...3\n",
      "일 하는 중...4\n",
      "일 하는 중...0\n",
      "일 하는 중...1\n",
      "일 하는 중...2\n",
      "일 하는 중...3\n",
      "일 하는 중...4\n",
      "일 하는 중...0\n",
      "일 하는 중...1\n",
      "일 하는 중...2\n",
      "일 하는 중...3\n",
      "일 하는 중...4\n",
      "일 하는 중...0\n",
      "일 하는 중...1\n",
      "일 하는 중...2\n",
      "일 하는 중...3\n",
      "일 하는 중...4\n",
      "=====end=====\n",
      "25.02116560935974\n"
     ]
    }
   ],
   "source": [
    "start = time.time()\n",
    "print('=====start=====')\n",
    "for i in range(5):\n",
    "    long_tesk()\n",
    "print('=====end=====')\n",
    "print(time.time()-start)"
   ]
  },
  {
   "cell_type": "code",
   "execution_count": 12,
   "id": "1576e8d0-bce7-4a67-8612-693dca1f0b78",
   "metadata": {},
   "outputs": [
    {
     "name": "stdout",
     "output_type": "stream",
     "text": [
      "=====start=====\n",
      "일 하는 중...0일 하는 중...0\n",
      "일 하는 중...0\n",
      "일 하는 중...0\n",
      "일 하는 중...0\n",
      "\n",
      "일 하는 중...1일 하는 중...1\n",
      "일 하는 중...1\n",
      "일 하는 중...1\n",
      "일 하는 중...1\n",
      "\n",
      "일 하는 중...2일 하는 중...2\n",
      "일 하는 중...2\n",
      "일 하는 중...2\n",
      "일 하는 중...2\n",
      "\n",
      "일 하는 중...3\n",
      "일 하는 중...3\n",
      "일 하는 중...3\n",
      "일 하는 중...3\n",
      "일 하는 중...3\n",
      "일 하는 중...4일 하는 중...4\n",
      "일 하는 중...4\n",
      "일 하는 중...4\n",
      "\n",
      "일 하는 중...4\n",
      "=====end=====\n",
      "5.026998281478882\n"
     ]
    }
   ],
   "source": [
    "#thread를 사용\n",
    "import threading\n",
    "start = time.time()\n",
    "print('=====start=====')\n",
    "threads = []\n",
    "for n in range(5):\n",
    "    t = threading.Thread(target=long_tesk)\n",
    "    threads.append(t)\n",
    "for t in threads:\n",
    "    t.start()\n",
    "for t in threads:\n",
    "    t.join()\n",
    "print('=====end=====')\n",
    "print(time.time() -start)"
   ]
  },
  {
   "cell_type": "markdown",
   "id": "f881957b-e720-42c3-b807-d4db71ec45b9",
   "metadata": {},
   "source": [
    "## tempfile"
   ]
  },
  {
   "cell_type": "code",
   "execution_count": 14,
   "id": "15d16160-1d79-4b3b-afa3-55eb3d255da9",
   "metadata": {},
   "outputs": [],
   "source": [
    "# import tempfile\n",
    "# filename = tempfile.mkstemp()\n",
    "# filename\n",
    "# f.close()"
   ]
  },
  {
   "cell_type": "markdown",
   "id": "a8e437f5-f4cc-48a1-8b24-c4a6e800883e",
   "metadata": {},
   "source": [
    "## traceback"
   ]
  },
  {
   "cell_type": "code",
   "execution_count": 18,
   "id": "d431ba2c-441a-42ca-ab48-13fc7b2335eb",
   "metadata": {},
   "outputs": [
    {
     "name": "stdout",
     "output_type": "stream",
     "text": [
      "오류가 발생했습니다.\n",
      "Traceback (most recent call last):\n",
      "  File \"C:\\Users\\Admin\\AppData\\Local\\Temp\\ipykernel_4468\\4169031240.py\", line 11, in main\n",
      "    b()\n",
      "    ~^^\n",
      "  File \"C:\\Users\\Admin\\AppData\\Local\\Temp\\ipykernel_4468\\4169031240.py\", line 7, in b\n",
      "    a()\n",
      "    ~^^\n",
      "  File \"C:\\Users\\Admin\\AppData\\Local\\Temp\\ipykernel_4468\\4169031240.py\", line 4, in a\n",
      "    return 1/0\n",
      "           ~^~\n",
      "ZeroDivisionError: division by zero\n",
      "\n"
     ]
    }
   ],
   "source": [
    "#traceback\n",
    "import traceback\n",
    "def a():\n",
    "    return 1/0\n",
    "\n",
    "def b():\n",
    "    a()\n",
    "\n",
    "def main():\n",
    "    try:\n",
    "        b()\n",
    "    except:\n",
    "        print(\"오류가 발생했습니다.\")\n",
    "        print(traceback.format_exc())\n",
    "\n",
    "main()\n"
   ]
  },
  {
   "cell_type": "markdown",
   "id": "05a2e81d-8f53-4bb6-b79c-015469cc7989",
   "metadata": {},
   "source": [
    "## JSON"
   ]
  },
  {
   "cell_type": "code",
   "execution_count": 19,
   "id": "e35ae902-d3a6-43fc-a0cc-1cba0ca09650",
   "metadata": {},
   "outputs": [
    {
     "data": {
      "text/plain": [
       "{'name': '홍길동', 'birth': '0525', 'age': 30}"
      ]
     },
     "execution_count": 19,
     "metadata": {},
     "output_type": "execute_result"
    }
   ],
   "source": [
    "{\n",
    "    'name':'홍길동',\n",
    "    'birth':'0525',\n",
    "    'age': 30\n",
    "}"
   ]
  },
  {
   "cell_type": "code",
   "execution_count": 42,
   "id": "ad2a7c25-8782-419e-8e98-a0b0e44edc6b",
   "metadata": {},
   "outputs": [
    {
     "name": "stdout",
     "output_type": "stream",
     "text": [
      "{\"userId\": 1, \"id\": 1, \"title\": \"delectus aut autem\", \"completed\": false, \"test\": \"한글도 되나 보자꾸낭\"}\n"
     ]
    }
   ],
   "source": [
    "import requests\n",
    "import json\n",
    "url = 'https://jsonplaceholder.typicode.com/todos' #J SON 파일 읽어오기\n",
    "# res = requests.get(url)\n",
    "# for n in res.json():\n",
    "#     print(n)\n",
    "data = requests.get(url).json()[0] # JSON 을 DICT 으로 변경\n",
    "data['test'] = '한글도 되나 보자꾸낭'# DICT 에 자료 삽입\n",
    "# dump(), dumps() 함수는 기본적으로 데이터를 아스키 형태로 저장하기 때문이다. 유니코드 문자열을 아스키 형태로 저장하다 보니 한글 문자열이 마치 깨진 것처럼 보인다.\n",
    "# print(res.json()[0])\n",
    "with open('todo.json','w') as f:\n",
    "    json.dump(data,f)             # DICT 을 JSON 으로 변경\n",
    "# print(json.dumps(data))\n",
    "# data_s = json.dumps(data) -> 한글 깨짐 {\"userId\": 1, \"id\": 1, \"title\": \"delectus aut autem\", \"completed\": false, \"test\": \"\\ud55c\\uae00\\ub3c4 \\ub418\\ub098 \\ubcf4\\uc790\\uafb8\\ub0ad\"}\n",
    "data_s = json.dumps(data, ensure_ascii=False) # 한글 깨짐 방지\n",
    "print(data_s)"
   ]
  },
  {
   "cell_type": "code",
   "execution_count": 43,
   "id": "751ce102-7dbe-42af-8f05-a17700a60009",
   "metadata": {},
   "outputs": [
    {
     "name": "stdout",
     "output_type": "stream",
     "text": [
      "{'userId': 1, 'id': 1, 'title': 'delectus aut autem', 'completed': False, 'test': '한글도 되나 보자꾸낭'}\n",
      "{'userId': 1, 'id': 1, 'title': 'delectus aut autem', 'completed': False, 'test': '한글도 되나 보자꾸낭'}\n"
     ]
    }
   ],
   "source": [
    "with open('todo.json') as f:\n",
    "    data = json.load(f) # JSON을 DICT으로 변경\n",
    "print(json.loads(data_s))\n",
    "print(data)"
   ]
  },
  {
   "cell_type": "markdown",
   "id": "4bfa311d-6d1b-4a9e-b37b-94ffc5c0e26a",
   "metadata": {},
   "source": [
    "## urllib"
   ]
  },
  {
   "cell_type": "code",
   "execution_count": 44,
   "id": "1f72d320-e4dc-48a1-9b8a-420cde801183",
   "metadata": {},
   "outputs": [],
   "source": [
    "import urllib.request\n",
    "\n",
    "def get_wikidocs(page):\n",
    "    resource = 'https://wikidocs.net/{}'.format(page)\n",
    "    with urllib.request.urlopen(resource) as s:\n",
    "        with open('wikidocs_%s.html' % page, 'wb') as f:\n",
    "            f.write(s.read())"
   ]
  },
  {
   "cell_type": "code",
   "execution_count": 46,
   "id": "39afcc43-f9e0-4874-ad34-0c2173f049b7",
   "metadata": {},
   "outputs": [],
   "source": [
    "get_wikidocs(15)"
   ]
  },
  {
   "cell_type": "code",
   "execution_count": 51,
   "id": "c4f38246-3d93-4132-9407-426f16087346",
   "metadata": {},
   "outputs": [],
   "source": [
    "import urllib.request\n",
    "import time as t\n",
    "def get_posts(page):\n",
    "    resource = f'https://jsonplaceholder.typicode.com/posts/{page}'\n",
    "    with urllib.request.urlopen(resource) as s:\n",
    "        with open(f'./data/posts_{page}.html', 'wb') as f:\n",
    "            f.write(s.read())\n",
    "for n in range(1,11):\n",
    "    get_posts(n)\n",
    "    t.sleep(0.1)"
   ]
  },
  {
   "cell_type": "markdown",
   "id": "33b63fb3-421e-4eaf-8107-9010562ce58d",
   "metadata": {},
   "source": [
    "## webbrowser"
   ]
  },
  {
   "cell_type": "code",
   "execution_count": 47,
   "id": "e1c34435-9ea7-4aa8-9818-4d0ccbdc9874",
   "metadata": {},
   "outputs": [
    {
     "data": {
      "text/plain": [
       "True"
      ]
     },
     "execution_count": 47,
     "metadata": {},
     "output_type": "execute_result"
    }
   ],
   "source": [
    "import webbrowser\n",
    "\n",
    "webbrowser.open_new('http://python.org')"
   ]
  },
  {
   "cell_type": "code",
   "execution_count": null,
   "id": "48ff3c7a-d0ff-4034-a17e-5a76b03ba53d",
   "metadata": {},
   "outputs": [],
   "source": []
  }
 ],
 "metadata": {
  "kernelspec": {
   "display_name": "Python 3 (ipykernel)",
   "language": "python",
   "name": "python3"
  },
  "language_info": {
   "codemirror_mode": {
    "name": "ipython",
    "version": 3
   },
   "file_extension": ".py",
   "mimetype": "text/x-python",
   "name": "python",
   "nbconvert_exporter": "python",
   "pygments_lexer": "ipython3",
   "version": "3.13.1"
  }
 },
 "nbformat": 4,
 "nbformat_minor": 5
}
