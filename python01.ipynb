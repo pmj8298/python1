{
 "cells": [
  {
   "cell_type": "markdown",
   "id": "720e8ab6-964f-4fe9-a2a9-07735594b800",
   "metadata": {},
   "source": [
    "# 주피터랩 단축키\n",
    "- a: 위 셀 추가\n",
    "- b: 아래 셀 추가\n",
    "- Ctrl + shift + 방향키 위: 셀 위로 이동\n",
    "- Ctrl + shift + 방향키 아래: 셀 아래로 이동\n",
    "- shift + enter: 셀 실행\n",
    "- dd: 셀 삭제\n",
    "- x: 셀 잘라내기\n",
    "- c: 셀 복사\n",
    "- v: 셀 붙여넣기\n",
    "- z: undo\n",
    "- shift + z: redo\n",
    "- M: Markdown\n",
    "- Y: Code"
   ]
  },
  {
   "cell_type": "markdown",
   "id": "51755477-ebcc-479c-a5a5-bcac809436b4",
   "metadata": {},
   "source": [
    "# print 기초"
   ]
  },
  {
   "cell_type": "code",
   "execution_count": 7,
   "id": "313a28bf-306a-4951-abd6-52986949b34d",
   "metadata": {},
   "outputs": [
    {
     "name": "stdout",
     "output_type": "stream",
     "text": [
      "주피터랩에 처음이에요\n",
      "사실은 두번째\n"
     ]
    }
   ],
   "source": [
    "#print('주피터랩에 처음이에요') - code에서 #은 주석처리\n",
    "print('주피터랩에 처음이에요')\n",
    "print('사실은 두번째')"
   ]
  },
  {
   "cell_type": "code",
   "execution_count": 2,
   "id": "1afb651f-1df5-4c3e-b7d7-260904de637c",
   "metadata": {},
   "outputs": [
    {
     "name": "stdout",
     "output_type": "stream",
     "text": [
      "3333\n"
     ]
    }
   ],
   "source": [
    "print(1111+2222)"
   ]
  },
  {
   "cell_type": "code",
   "execution_count": 3,
   "id": "d7650a44-ed55-437e-9cd2-dc1d7bd39034",
   "metadata": {},
   "outputs": [
    {
     "name": "stdout",
     "output_type": "stream",
     "text": [
      "문자1111\n"
     ]
    }
   ],
   "source": [
    "print('문자'+'1111')"
   ]
  },
  {
   "cell_type": "code",
   "execution_count": 90,
   "id": "f6bf5e96-3402-4017-80af-12d91faabb96",
   "metadata": {},
   "outputs": [
    {
     "name": "stdout",
     "output_type": "stream",
     "text": [
      "배고프다말입니다배고프다배고프다\n",
      "근데말입니다"
     ]
    }
   ],
   "source": [
    "print('배고프다',end='말입니다')\n",
    "print('배고프다',end='')\n",
    "print('배고프다',end='\\n')\n",
    "print('배고프다',end='\\r')\n",
    "print('배안고프다',end='\\r')\n",
    "print('근데',end='말입니다')\n",
    "#end=''사용하면 문장이 붙어서 출력된다\n",
    "#\\r은 덮어쓰기 가능"
   ]
  },
  {
   "cell_type": "code",
   "execution_count": 13,
   "id": "95256cb4-9c18-43a0-bf9b-65ee89cad3f7",
   "metadata": {},
   "outputs": [
    {
     "name": "stdout",
     "output_type": "stream",
     "text": [
      "시간이 많이 남았어\n"
     ]
    }
   ],
   "source": [
    "import time as t\n",
    "print('배고프다',end='\\r')\n",
    "t.sleep(1)\n",
    "print('근데  ',end='\\r')\n",
    "t.sleep(1)\n",
    "print('시간이 많이 남았어')"
   ]
  },
  {
   "cell_type": "code",
   "execution_count": 15,
   "id": "ea9984b5-ebac-4b55-a7ba-0b738bb257bf",
   "metadata": {},
   "outputs": [
    {
     "name": "stdout",
     "output_type": "stream",
     "text": [
      "1*2*3*4*5\n",
      "1/2/3/4/5\n"
     ]
    }
   ],
   "source": [
    "print(1,2,3,4,5, sep='*')\n",
    "print(1,2,3,4,5, sep='/')"
   ]
  },
  {
   "cell_type": "markdown",
   "id": "08165edc-b15d-4592-ba9c-e37de57352e9",
   "metadata": {},
   "source": [
    "# 자료형"
   ]
  },
  {
   "cell_type": "markdown",
   "id": "cd1c210c-c43e-47a8-9ede-c4390b62312d",
   "metadata": {},
   "source": [
    "## 숫자형"
   ]
  },
  {
   "cell_type": "code",
   "execution_count": 89,
   "id": "f3a87245-702b-4353-9ac5-ace6d13c11c0",
   "metadata": {},
   "outputs": [
    {
     "name": "stdout",
     "output_type": "stream",
     "text": [
      "덧셈:  556\n",
      "뺄셈:  356\n",
      "곱셈:  45600\n",
      "승:  207936\n",
      "나눗셈:  4.56\n",
      "몫:  4\n",
      "나머지:  56\n"
     ]
    }
   ],
   "source": [
    "# 사칙연산 예시1\n",
    "print('덧셈: ', 456+100)\n",
    "print('뺄셈: ', 456-100)\n",
    "print('곱셈: ', 456*100)\n",
    "print('승: ', 456**2)\n",
    "print('나눗셈: ', 456/100)\n",
    "print('몫: ', 456//100)\n",
    "print('나머지: ', 456%100)"
   ]
  },
  {
   "cell_type": "code",
   "execution_count": 26,
   "id": "cae2567b-43eb-440d-8b57-675cc2c9d173",
   "metadata": {},
   "outputs": [
    {
     "name": "stdout",
     "output_type": "stream",
     "text": [
      "덧셈:  989\n",
      "====================\n",
      "뺄셈:  589\n",
      "====================\n",
      "곱셈:  157800\n",
      "====================\n",
      "승:  622521\n",
      "====================\n",
      "나눗셈:  3.945\n",
      "====================\n",
      "몫:  3\n",
      "====================\n",
      "나머지:  189\n",
      "====================\n"
     ]
    }
   ],
   "source": [
    "# 사칙연산 예시2 - 변수사용\n",
    "sachik = 789\n",
    "sem = 200 \n",
    "print('덧셈: ', sachik+sem, end='\\n====================\\n')\n",
    "print('뺄셈: ', sachik-sem, end='\\n====================\\n')\n",
    "print('곱셈: ', sachik*sem, end='\\n====================\\n')\n",
    "print('승: ', sachik**2, end='\\n====================\\n')\n",
    "print('나눗셈: ', sachik/sem, end='\\n====================\\n')\n",
    "print('몫: ', sachik//sem, end='\\n====================\\n')\n",
    "print('나머지: ', sachik%sem, end='\\n====================\\n')"
   ]
  },
  {
   "cell_type": "code",
   "execution_count": 16,
   "id": "ed4df433-8da4-4755-8e62-706110659811",
   "metadata": {},
   "outputs": [
    {
     "name": "stdout",
     "output_type": "stream",
     "text": [
      "123 -456 0\n"
     ]
    }
   ],
   "source": [
    "# 정수형\n",
    "a = 123\n",
    "b = -456\n",
    "c = 0\n",
    "print(a,b,c)"
   ]
  },
  {
   "cell_type": "code",
   "execution_count": 29,
   "id": "802dc495-8bd4-487c-8754-e99a092914c0",
   "metadata": {},
   "outputs": [
    {
     "name": "stdout",
     "output_type": "stream",
     "text": [
      "1.2 -3.14 42400000000.0 4.24e-10\n"
     ]
    }
   ],
   "source": [
    "# 실수형\n",
    "aa = 1.2\n",
    "bb = -3.14\n",
    "cc = 4.24e10\n",
    "ee = 4.24e-10\n",
    "print(aa,bb,cc,ee)"
   ]
  },
  {
   "cell_type": "code",
   "execution_count": 35,
   "id": "6f069764-f80a-4823-9e9f-5a1570c5ac34",
   "metadata": {},
   "outputs": [
    {
     "name": "stdout",
     "output_type": "stream",
     "text": [
      "15\n",
      "127\n",
      "2748\n"
     ]
    }
   ],
   "source": [
    "# 2진수(bin), 8진수(oct)와 16진수(hex)\n",
    "aaa = 0b1111\n",
    "print(aaa)\n",
    "\n",
    "bbb = 0o177\n",
    "ccc = 0xABC\n",
    "print(bbb)\n",
    "print(ccc)"
   ]
  },
  {
   "cell_type": "code",
   "execution_count": 43,
   "id": "a2abad88-dd56-403e-9e09-576cccc5fe97",
   "metadata": {},
   "outputs": [
    {
     "name": "stdout",
     "output_type": "stream",
     "text": [
      "7\n",
      "-1\n",
      "12\n",
      "0.75\n",
      "0\n",
      "81\n",
      "1\n",
      "3\n"
     ]
    }
   ],
   "source": [
    "x = 3\n",
    "y = 4\n",
    "print(x + y)\n",
    "print(x - y)\n",
    "print(x * y)\n",
    "print(x / y)\n",
    "print(x // y)\n",
    "print(x ** y)\n",
    "print(y % x)\n",
    "print(x % y)"
   ]
  },
  {
   "cell_type": "code",
   "execution_count": 88,
   "id": "170ad16d-87a1-4e7d-b5e7-7bcdd4bbdf02",
   "metadata": {},
   "outputs": [
    {
     "name": "stdout",
     "output_type": "stream",
     "text": [
      "2\n",
      "3\n",
      "4\n"
     ]
    }
   ],
   "source": [
    "a = 1\n",
    "\n",
    "a = a + 1 # a += 1\n",
    "print(a)\n",
    "# 실행하면 계속 업데이트 되어서 a가 변경됨\n",
    "a = a + 1\n",
    "print(a)\n",
    "a = a + 1\n",
    "print(a)\n"
   ]
  },
  {
   "cell_type": "code",
   "execution_count": 57,
   "id": "8bac3105-ea2e-469a-8ab2-f2cf08ba5f4e",
   "metadata": {},
   "outputs": [
    {
     "name": "stdout",
     "output_type": "stream",
     "text": [
      "12\n"
     ]
    }
   ],
   "source": [
    "a += 1\n",
    "print(a)"
   ]
  },
  {
   "cell_type": "code",
   "execution_count": null,
   "id": "e7ea521c-d4b9-48a0-9c65-b217b67e0240",
   "metadata": {},
   "outputs": [],
   "source": [
    "b = 10"
   ]
  },
  {
   "cell_type": "code",
   "execution_count": 61,
   "id": "8a198874-5853-4556-8bc8-834fd35b5fa8",
   "metadata": {},
   "outputs": [
    {
     "name": "stdout",
     "output_type": "stream",
     "text": [
      "7\n"
     ]
    }
   ],
   "source": [
    "b -= 1\n",
    "print(b)"
   ]
  },
  {
   "cell_type": "code",
   "execution_count": 62,
   "id": "a046c2a5-172a-432a-98ad-cc8d2061dbbf",
   "metadata": {},
   "outputs": [
    {
     "name": "stdout",
     "output_type": "stream",
     "text": [
      "9\n",
      "8\n",
      "7\n"
     ]
    }
   ],
   "source": [
    "b = 10\n",
    "b -= 1\n",
    "print(b)\n",
    "b -= 1\n",
    "print(b)\n",
    "b -= 1\n",
    "print(b)"
   ]
  },
  {
   "cell_type": "code",
   "execution_count": null,
   "id": "3983f0d6-d273-42cf-8972-3b962f8acc4b",
   "metadata": {},
   "outputs": [],
   "source": [
    "#복합연산자\n",
    "#+=, -=, *=, /=, //=, %=, **="
   ]
  },
  {
   "cell_type": "markdown",
   "id": "ef151429-411f-44f5-bd1c-69689eafc411",
   "metadata": {},
   "source": [
    "## 문자열 자료형"
   ]
  },
  {
   "cell_type": "markdown",
   "id": "e33d1a22-8fd3-4a54-a1a4-efc6c710918d",
   "metadata": {},
   "source": [
    "###  문자열 연산하기"
   ]
  },
  {
   "cell_type": "code",
   "execution_count": 81,
   "id": "343b31ba-ff2c-4314-a4df-db5a11238777",
   "metadata": {},
   "outputs": [
    {
     "name": "stdout",
     "output_type": "stream",
     "text": [
      "문자형입니다.\n",
      "\n",
      "이\n",
      "것은\n",
      "여러 줄 주석 처리 방법\n",
      "이다\n",
      "\n",
      "\n",
      "이\n",
      "것은\n",
      "여러 줄 주석 처리 방법\n",
      "이다\n",
      "\n"
     ]
    }
   ],
   "source": [
    "str1 = '문자형입니다.'\n",
    "print(str1)\n",
    "\n",
    "str2 = '''\n",
    "이\n",
    "것은\n",
    "여러 줄 주석 처리 방법\n",
    "이다\n",
    "'''\n",
    "print(str2)\n",
    "\n",
    "str3 = \"\"\"\n",
    "이\n",
    "것은\n",
    "여러 줄 주석 처리 방법\n",
    "이다\n",
    "\"\"\"\n",
    "print(str3)\n",
    "#주석처리\n",
    "#걍 여러줄 주석은 블럭 잡고 ctrl + / 누르면 된다"
   ]
  },
  {
   "cell_type": "code",
   "execution_count": 80,
   "id": "4ca9fa2c-230f-49c4-b535-f40b36b754ff",
   "metadata": {},
   "outputs": [
    {
     "name": "stdout",
     "output_type": "stream",
     "text": [
      "Python's favorite food is perl\n"
     ]
    }
   ],
   "source": [
    "# food = \"Python's favorite food is perl\" -Python's favorite food is perl 출력\n",
    "# food = 'Python's favorite food is perl' - 따옴표 짝이 안맞다고 에러뜸\n",
    "food = 'Python\\'s favorite food is perl'\n",
    "print(food)"
   ]
  },
  {
   "cell_type": "code",
   "execution_count": 76,
   "id": "d5345ef1-0700-48a1-8576-da58f0c06b2b",
   "metadata": {},
   "outputs": [
    {
     "name": "stdout",
     "output_type": "stream",
     "text": [
      "Life is too short\n",
      "You need python\n"
     ]
    }
   ],
   "source": [
    "multiline = \"Life is too short\\nYou need python\"\n",
    "print(multiline)"
   ]
  },
  {
   "cell_type": "code",
   "execution_count": 78,
   "id": "aeb5dae0-9686-4337-bf78-a0c8f19fe76c",
   "metadata": {},
   "outputs": [
    {
     "name": "stdout",
     "output_type": "stream",
     "text": [
      "\n",
      "Life is too short\n",
      "You need python\n",
      "\n"
     ]
    }
   ],
   "source": [
    "multiline = '''\n",
    "Life is too short\n",
    "You need python\n",
    "'''\n",
    "print(multiline)"
   ]
  },
  {
   "cell_type": "markdown",
   "id": "f0e44ebe-c37f-401e-ac71-8ca29cef3110",
   "metadata": {},
   "source": [
    "\n",
    "<table>\n",
    "<thead>\n",
    "<tr>\n",
    "<th>코드</th>\n",
    "<th>설명</th>\n",
    "</tr>\n",
    "</thead>\n",
    "<tbody>\n",
    "<tr>\n",
    "<td><code>\\n</code></td>\n",
    "<td>문자열 안에서 줄을 바꿀 때 사용</td>\n",
    "</tr>\n",
    "<tr>\n",
    "<td><code>\\t</code></td>\n",
    "<td>문자열 사이에 탭 간격을 줄 때 사용</td>\n",
    "</tr>\n",
    "<tr>\n",
    "<td><code>\\\\</code></td>\n",
    "<td><code>\\</code>를 그대로 표현할 때 사용</td>\n",
    "</tr>\n",
    "<tr>\n",
    "<td><code>\\'</code></td>\n",
    "<td>작은따옴표(')를 그대로 표현할 때 사용</td>\n",
    "</tr>\n",
    "<tr>\n",
    "<td><code>\\\"</code></td>\n",
    "<td>큰따옴표(\")를 그대로 표현할 때 사용</td>\n",
    "</tr>\n",
    "<tr>\n",
    "<td><code>\\r</code></td>\n",
    "<td>캐리지 리턴(줄 바꿈 문자, 커서를 현재 줄의 가장 앞으로 이동)</td>\n",
    "</tr>\n",
    "<tr>\n",
    "<td><code>\\f</code></td>\n",
    "<td>폼 피드(줄 바꿈 문자, 커서를 현재 줄의 다음 줄로 이동)</td>\n",
    "</tr>\n",
    "<tr>\n",
    "<td><code>\\a</code></td>\n",
    "<td>벨 소리(출력할 때 PC 스피커에서 '삑' 소리가 난다)</td>\n",
    "</tr>\n",
    "<tr>\n",
    "<td><code>\\b</code></td>\n",
    "<td>백 스페이스</td>\n",
    "</tr>\n",
    "<tr>\n",
    "<td><code>\\000</code></td>\n",
    "<td>널 문자</td>\n",
    "</tr>\n",
    "</tbody>\n",
    "</table>"
   ]
  },
  {
   "cell_type": "code",
   "execution_count": 82,
   "id": "47328059-f683-4615-ac9a-b011a1f24bd4",
   "metadata": {},
   "outputs": [
    {
     "name": "stdout",
     "output_type": "stream",
     "text": [
      "Python Is Fun\n"
     ]
    }
   ],
   "source": [
    "# 문자열 연산하기\n",
    "head = 'Python'\n",
    "tail = ' Is Fun'\n",
    "print(head + tail)"
   ]
  },
  {
   "cell_type": "code",
   "execution_count": 85,
   "id": "cba36a5f-7bb5-4d9c-aed5-6e13e0a13792",
   "metadata": {},
   "outputs": [
    {
     "name": "stdout",
     "output_type": "stream",
     "text": [
      "Python\n",
      "Python\n",
      "Python\n",
      "Python\n",
      "Python\n",
      "\n"
     ]
    }
   ],
   "source": [
    "a = 'Python' + '\\n'\n",
    "print(a * 5)"
   ]
  },
  {
   "cell_type": "code",
   "execution_count": 117,
   "id": "d2d1b719-225f-42d5-a5a2-e63dd0dbfc8c",
   "metadata": {},
   "outputs": [
    {
     "name": "stdout",
     "output_type": "stream",
     "text": [
      "===============\n",
      "   영 수 증\n",
      "===============\n",
      "아메리카노: 16500원\n",
      "라테: 14400원\n",
      "허브티: 24000원\n",
      "=============== 93\n"
     ]
    }
   ],
   "source": [
    "p1 = 5500 * 3\n",
    "p2 = 7200 * 2\n",
    "p3 = 6000 * 4\n",
    "\n",
    "#문자열 계산\n",
    "# m1 = '아메리카노' + 11 + '\\n' - 에러\n",
    "# m1 = '아메리카노' + str(11) + '\\n'\n",
    "# m1 = '아메리카노' + p1 + '\\n' - 에러\n",
    "m1 = '아메리카노: ' + str(p1) + '원\\n' # 문자랑 숫자는 더할 수 없다.\n",
    "m2 = '라테: ' + str(p2)  + '원\\n'\n",
    "m3 = '허브티: ' + str(p3)+ '원'\n",
    "title = '   ' + '영 수 증' # 문자와 숫자는 더할 수 있다.\n",
    "\n",
    "# 출력방법\n",
    "# print('=' * 15) # 문자랑 숫자는 곱할 수 있다.\n",
    "# print(title)\n",
    "# print('=' * 15)\n",
    "# print(m1+m2+m3)\n",
    "# print('=' * 15)\n",
    "\n",
    "#=================================\n",
    "\n",
    "# print(\n",
    "#     ('=' * 15) + '\\n' + title + '\\n' + ('=' * 15) +'\\n' +(m1+m2+m3)+'\\n' + ('=' * 15))\n",
    "\n",
    "#===================================\n",
    "pp = ''\n",
    "pp+=('=' * 15)+ '\\n' # 문자랑 숫자는 곱할 수 있다.\n",
    "pp+=(title)+ '\\n'\n",
    "pp+=('=' * 15)+ '\\n'\n",
    "pp+=(m1+m2+m3)+ '\\n'\n",
    "pp+=('=' * 15)\n",
    "print(pp, len(pp))"
   ]
  },
  {
   "cell_type": "code",
   "execution_count": 118,
   "id": "55e74339-a8a5-4aa3-8f57-50ffa5b17c9c",
   "metadata": {},
   "outputs": [
    {
     "name": "stdout",
     "output_type": "stream",
     "text": [
      "17\n"
     ]
    }
   ],
   "source": [
    "a = 'Life is too short'\n",
    "print(len(a))"
   ]
  },
  {
   "cell_type": "markdown",
   "id": "ac9051df-bd58-49ab-a305-084f648ed885",
   "metadata": {},
   "source": [
    "### 문자열 인덱싱과 슬라이싱"
   ]
  },
  {
   "cell_type": "code",
   "execution_count": 126,
   "id": "dcb6ab30-e9ad-44bc-a039-bdd7869ca537",
   "metadata": {},
   "outputs": [
    {
     "name": "stdout",
     "output_type": "stream",
     "text": [
      "L\n",
      "i\n",
      "t\n",
      "t o o\n",
      "too\n",
      "t r\n"
     ]
    }
   ],
   "source": [
    "print(a[0])\n",
    "print(a[5])\n",
    "print(a[16])\n",
    "print(a[8],a[9],a[10]) # ,를 붙이면 글자 사이에 공백이 생기고, +로 연결하면 따닥따닥 붙음\n",
    "print(a[8]+a[9]+a[10])\n",
    "print(a[-1], a[-2]) # index - 앞에서부터는 0으로 시작, 뒤에서부터는 -1부터 시작"
   ]
  },
  {
   "cell_type": "code",
   "execution_count": 154,
   "id": "2dcf4561-c122-48fe-972e-064ad04ade18",
   "metadata": {},
   "outputs": [
    {
     "name": "stdout",
     "output_type": "stream",
     "text": [
      "too\n",
      "too\n",
      "need\n",
      "Life is too short, You need\n",
      "Life is too short, You need\n",
      "Python\n",
      "Life is too short, You need Python\n",
      "Life is too short, You need Python\n",
      "Lf stosot o edPto\n",
      "nohtyP deen uoY ,trohs oot si efiL\n"
     ]
    }
   ],
   "source": [
    "# 0 <= a < 3 -의 개념과 같음 앞에는 같고 뒤보다는 하나 작음\n",
    "a = 'Life is too short, You need Python'\n",
    "print(a[8]+a[9]+a[10])\n",
    "print(a[8:11]) # 8보다 크거나 같고 11보다 작다 8 <= a < 11\n",
    "print(a[23:27])\n",
    "print(a[0:27])\n",
    "print(a[:27]) # 0은 생략 가능\n",
    "print(a[28:]) # 끝까지 출력\n",
    "print(a[:]) # 처음부터 끝까지 뒤에 :1이 생략\n",
    "print(a[::1]) # 위와 동일\n",
    "print(a[::2]) # 처음부터 끝까지 2개씩\n",
    "print(a[::-1]) # 거꾸로"
   ]
  },
  {
   "cell_type": "code",
   "execution_count": 159,
   "id": "03c76f64-1fa5-4748-8202-72171fdfe271",
   "metadata": {},
   "outputs": [
    {
     "name": "stdout",
     "output_type": "stream",
     "text": [
      "Year: 2025년\n",
      "Day: 02월03일\n",
      "Weather: 오늘은 화창하다!\n",
      "===================================\n",
      "2025년 02월 03일 오늘은 화창하다!\n",
      "화창하다!\n",
      "화창!\n"
     ]
    }
   ],
   "source": [
    "today = '20250203오늘은 화창하다'\n",
    "print('Year: ' + today[:4] + '년')\n",
    "print('Day: ' + today[4:6] + '월' + today[6:8] + '일' )\n",
    "print('Weather: ' + today[8:] + '!')\n",
    "print('===================================')\n",
    "print(today[:4] + '년 ' + today[4:6] + '월 ' + today[6:8] + '일 '+ today[8:] + '!' )\n",
    "print(today[-4:] + '!' )\n",
    "print(today[-4:-2] + '!' )"
   ]
  },
  {
   "cell_type": "code",
   "execution_count": 121,
   "id": "e3a7f382-b219-45cd-836c-1ef14d27fe06",
   "metadata": {},
   "outputs": [
    {
     "name": "stdout",
     "output_type": "stream",
     "text": [
      "한국서 돈벌고 '나 몰라라' 코스트코… 연회비 인상률은 미국의 2배\n",
      "한국서 돈벌고 '나 몰라라' 코스트코… 연회비 인상률은 미국의 3배\n",
      "한국서 돈벌고 '나 몰라라' 코스트코… 연회비 인상률은 미국의 3배\n"
     ]
    }
   ],
   "source": [
    "import requests\n",
    "url = 'https://v.daum.net/v/20250203151815463'\n",
    "res = requests.get(url).text\n",
    "print(res[374:411])\n",
    "print(res[374:409] + '3' + res[410:411])\n",
    "\n",
    "result = res[374:411]\n",
    "out = result[:-2] + '3' + result[-1]\n",
    "print(out)"
   ]
  },
  {
   "cell_type": "code",
   "execution_count": 193,
   "id": "1af6f859-f68a-4842-aca4-4bc8b7b4c944",
   "metadata": {},
   "outputs": [
    {
     "name": "stdout",
     "output_type": "stream",
     "text": [
      "뿌요의 톡쏘는 일상 : 네이버 블로그\n",
      "민주의 톡쏘는 일상 : 네이버 블로그\n"
     ]
    }
   ],
   "source": [
    "import requests\n",
    "url = 'https://blog.naver.com/droad777' \n",
    "res = requests.get(url).text\n",
    "print(res[895:915])\n",
    "result = res[895:915]\n",
    "out = '민주' + result[2:]\n",
    "print(out)"
   ]
  },
  {
   "cell_type": "markdown",
   "id": "8d42447f-b3ce-4406-98ca-a367f7f4d0c9",
   "metadata": {},
   "source": [
    "### 문자열 포매팅"
   ]
  },
  {
   "cell_type": "code",
   "execution_count": 40,
   "id": "bf6efb29-7f16-4e33-bf88-17b2d413e50d",
   "metadata": {},
   "outputs": [
    {
     "name": "stdout",
     "output_type": "stream",
     "text": [
      "I eat 3 apples.\n",
      "I eat 33 apples.\n",
      "I eat two apples.\n",
      "I eat 13 apples.\n"
     ]
    }
   ],
   "source": [
    "print('I eat 3 apples.')\n",
    "print('I eat %d apples.' %33)\n",
    "# print('I eat %d apples.' %'two') - 에러\n",
    "print('I eat %s apples.' %'two')\n",
    "print('I eat %s apples.' %13) # %d: 숫자, %s:문자가 원칙"
   ]
  },
  {
   "cell_type": "markdown",
   "id": "bd51eebb-ab0b-41d0-8df7-d77482142580",
   "metadata": {},
   "source": [
    "<table>\n",
    "<thead>\n",
    "<tr>\n",
    "<th>코드</th>\n",
    "<th>설명</th>\n",
    "</tr>\n",
    "</thead>\n",
    "<tbody>\n",
    "<tr>\n",
    "<td>%s</td>\n",
    "<td>문자열(String)</td>\n",
    "</tr>\n",
    "<tr>\n",
    "<td>%c</td>\n",
    "<td>문자 1개(character)</td>\n",
    "</tr>\n",
    "<tr>\n",
    "<td>%d</td>\n",
    "<td>정수(Integer)</td>\n",
    "</tr>\n",
    "<tr>\n",
    "<td>%f</td>\n",
    "<td>부동소수(floating-point)</td>\n",
    "</tr>\n",
    "<tr>\n",
    "<td>%o</td>\n",
    "<td>8진수</td>\n",
    "</tr>\n",
    "<tr>\n",
    "<td>%x</td>\n",
    "<td>16진수</td>\n",
    "</tr>\n",
    "<tr>\n",
    "<td>%%</td>\n",
    "<td>Literal % (문자 <code>%</code> 자체)</td>\n",
    "</tr>\n",
    "</tbody>\n",
    "</table>"
   ]
  },
  {
   "cell_type": "code",
   "execution_count": 11,
   "id": "d152325a-9fbb-4272-8e01-19c7ea08f341",
   "metadata": {},
   "outputs": [
    {
     "name": "stdout",
     "output_type": "stream",
     "text": [
      "사람 몸의 수분은 60% 이다\n",
      "사람 몸의 수분은 60% 이다\n"
     ]
    }
   ],
   "source": [
    "print('사람 몸의 수분은 60% 이다')\n",
    "print('사람 몸의 수분은 %d%% 이다' %60)"
   ]
  },
  {
   "cell_type": "code",
   "execution_count": 21,
   "id": "82e41330-64e8-48a9-a022-057ce61b67bd",
   "metadata": {
    "scrolled": true
   },
   "outputs": [
    {
     "name": "stdout",
     "output_type": "stream",
     "text": [
      "십진수로 123은 123이다\n",
      "십진수로 123은 123이다\n",
      "십진수로 123은 777이다\n",
      "십진수로 123은 16진수로 7b이다\n",
      "십진수로 123은 8진수로 173이다\n",
      "십진수로 123은 16진수로 7b이고, 8진수로 173이다 \n"
     ]
    }
   ],
   "source": [
    "print('십진수로 123은 123이다')\n",
    "print('십진수로 123은 %d이다' %123)\n",
    "print('십진수로 %d은 %d이다' %(123,777))\n",
    "print('십진수로 %d은 16진수로 %x이다' %(123,123))\n",
    "print('십진수로 %d은 8진수로 %o이다' %(123,123))\n",
    "print('십진수로 %d은 16진수로 %x이고, 8진수로 %o이다 ' %(123,123,123))"
   ]
  },
  {
   "cell_type": "code",
   "execution_count": 37,
   "id": "00b5fafe-fc5d-4b50-af5d-e218b34c001d",
   "metadata": {},
   "outputs": [
    {
     "name": "stdout",
     "output_type": "stream",
     "text": [
      "        hi\n",
      "hi        \n"
     ]
    }
   ],
   "source": [
    "# 정렬과 공백(오른쪽 정렬)\n",
    "print('%10s' % 'hi')\n",
    "print('%-10s' % 'hi')"
   ]
  },
  {
   "attachments": {
    "d3550be0-58f6-4b3b-bab9-5547d66a3d95.png": {
     "image/png": "[encoded data removed]"
    }
   },
   "cell_type": "markdown",
   "id": "aa69e0ad-1d95-4905-b258-2ede993faf64",
   "metadata": {},
   "source": [
    "<img src=\"attachment:d3550be0-58f6-4b3b-bab9-5547d66a3d95.png\" width:300></img>"
   ]
  },
  {
   "cell_type": "code",
   "execution_count": 38,
   "id": "3b6dc433-18ef-435d-ba06-7ea564b1de8a",
   "metadata": {},
   "outputs": [
    {
     "name": "stdout",
     "output_type": "stream",
     "text": [
      "hi        jane\n"
     ]
    }
   ],
   "source": [
    "# 정렬과 공백(음수일때 왼쪽 정렬)\n",
    "print('%-10sjane'%'hi')"
   ]
  },
  {
   "attachments": {
    "61779e7b-2325-4f2d-8d0d-bbc9ff243284.png": {
     "image/png": "[encoded data removed]"
    }
   },
   "cell_type": "markdown",
   "id": "8f65c360-486f-4784-989b-2a47e41175e7",
   "metadata": {},
   "source": [
    "<img src='attachment:61779e7b-2325-4f2d-8d0d-bbc9ff243284.png' width:300>"
   ]
  },
  {
   "cell_type": "code",
   "execution_count": 33,
   "id": "08801e80-9bd8-4a30-83ab-11d09db6107b",
   "metadata": {},
   "outputs": [
    {
     "name": "stdout",
     "output_type": "stream",
     "text": [
      "3.141592\n",
      "3.141592\n",
      "3.14\n",
      "3.14159\n",
      "   3.14159\n"
     ]
    }
   ],
   "source": [
    "# 소숫점 표현하기\n",
    "print('%s' %3.141592)\n",
    "print('%f' %3.141592) # %s는 계산이 안되지만 %f는 계산이 됨\n",
    "print('%0.2f' %3.141592)\n",
    "print('%.5f' %3.141592) # 0은 생략도 가능\n",
    "print('%10.5f' %3.141592)"
   ]
  },
  {
   "attachments": {
    "19d0f84f-3511-4c25-97e0-3ec9020b6b11.png": {
     "image/png": "[encoded data removed]"
    }
   },
   "cell_type": "markdown",
   "id": "1b47e89a-5265-4ce7-93ff-e134ea1eb528",
   "metadata": {},
   "source": [
    "<img src='attachment:19d0f84f-3511-4c25-97e0-3ec9020b6b11.png' width:300>"
   ]
  },
  {
   "cell_type": "markdown",
   "id": "6b540edb-5ded-4e92-a763-5cb6eea42760",
   "metadata": {},
   "source": [
    "### Format 함수를 사용한 포매팅"
   ]
  },
  {
   "cell_type": "code",
   "execution_count": 46,
   "id": "811534fc-f543-488a-a18c-87be06de4489",
   "metadata": {},
   "outputs": [
    {
     "name": "stdout",
     "output_type": "stream",
     "text": [
      "I eat 3 of 10 apples.\n"
     ]
    }
   ],
   "source": [
    "# 바로대입하기\n",
    "print('I eat {0} of {1} apples.'.format(3,10))"
   ]
  },
  {
   "cell_type": "code",
   "execution_count": 45,
   "id": "1ebe8225-7024-401e-8f7a-c2d3ffd7efe1",
   "metadata": {},
   "outputs": [
    {
     "name": "stdout",
     "output_type": "stream",
     "text": [
      "I eat two of 10 apples.\n"
     ]
    }
   ],
   "source": [
    "#변수로 대입하기\n",
    "total = 10\n",
    "ea = 'two'\n",
    "print('I eat {0} of {1} apples.'.format(ea,total))"
   ]
  },
  {
   "cell_type": "code",
   "execution_count": 44,
   "id": "179fd92a-9102-4e4c-a456-aa4e69f71b14",
   "metadata": {},
   "outputs": [
    {
     "name": "stdout",
     "output_type": "stream",
     "text": [
      "I eat two of 10 apples.\n"
     ]
    }
   ],
   "source": [
    "print('I eat {ea} of {total} apples.'.format(ea = 'two',total = 10))"
   ]
  },
  {
   "cell_type": "code",
   "execution_count": 51,
   "id": "95f5d532-24ca-4e9b-adf9-c8c680eef8af",
   "metadata": {},
   "outputs": [
    {
     "name": "stdout",
     "output_type": "stream",
     "text": [
      "I eat two of 10 apples.\n"
     ]
    }
   ],
   "source": [
    "#인덱스와 이름 혼용\n",
    "print('I eat {0} of {total} apples.'.format('two',total = 10))"
   ]
  },
  {
   "cell_type": "code",
   "execution_count": 60,
   "id": "ebb83f5a-1848-4265-84f0-29e1b5818878",
   "metadata": {},
   "outputs": [
    {
     "name": "stdout",
     "output_type": "stream",
     "text": [
      "        hi\n",
      "    hi    \n",
      "hi        \n",
      "hi        \n"
     ]
    }
   ],
   "source": [
    "#우측 정렬\n",
    "print('{0:>10}'.format('hi'))\n",
    "#가운데 정렬\n",
    "print('{0:^10}'.format('hi'))\n",
    "#좌측 정렬(기본)\n",
    "print('{0:<10}'.format('hi'))\n",
    "print('{0:10}'.format('hi'))"
   ]
  },
  {
   "cell_type": "code",
   "execution_count": 62,
   "id": "9b55bffd-ea6c-4d74-b7dd-0c101ba4dd96",
   "metadata": {},
   "outputs": [
    {
     "name": "stdout",
     "output_type": "stream",
     "text": [
      "ㅋㅋㅋㅋㅋㅋㅋㅋㅋhiㅋㅋㅋㅋㅋㅋㅋㅋㅋ\n"
     ]
    }
   ],
   "source": [
    "#가운데 정렬 + 글자 채우기\n",
    "print('{0:ㅋ^20}'.format('hi'))"
   ]
  },
  {
   "cell_type": "code",
   "execution_count": 67,
   "id": "9ca000ae-3693-463a-9150-66af14591574",
   "metadata": {},
   "outputs": [
    {
     "name": "stdout",
     "output_type": "stream",
     "text": [
      "3.1416\n"
     ]
    }
   ],
   "source": [
    "# 소수점 표현하기\n",
    "pi = 3.141592\n",
    "print('{0:0.4f}'.format(pi))"
   ]
  },
  {
   "cell_type": "code",
   "execution_count": 69,
   "id": "60928a02-97cd-4cfc-82e2-1f7d02a4782e",
   "metadata": {},
   "outputs": [
    {
     "name": "stdout",
     "output_type": "stream",
     "text": [
      "중괄호은 {과} 입니다.\n"
     ]
    }
   ],
   "source": [
    "print('{0}은 {{과}} 입니다.'.format('중괄호'))\n",
    "# 위의 %%와 같은 맥락으로 {{}} 두번씩 쓰면 된다"
   ]
  },
  {
   "cell_type": "code",
   "execution_count": 82,
   "id": "99637467-fde2-4609-9566-675fac411f15",
   "metadata": {},
   "outputs": [
    {
     "name": "stdout",
     "output_type": "stream",
     "text": [
      "1111011\n",
      "01111011\n"
     ]
    }
   ],
   "source": [
    "# 2진수 처리\n",
    "print('{0:b}'.format(123))\n",
    "print('{0:0>8b}'.format(123))"
   ]
  },
  {
   "cell_type": "markdown",
   "id": "c7021cf6-2fbe-4cbc-8d90-8e43591398bc",
   "metadata": {},
   "source": [
    "### f문자열 포매팅"
   ]
  },
  {
   "cell_type": "code",
   "execution_count": 87,
   "id": "66816a4c-cca5-4e9b-bf11-bc17479084d7",
   "metadata": {},
   "outputs": [
    {
     "name": "stdout",
     "output_type": "stream",
     "text": [
      "나의 이름은 배트맨입니다. 나이는 30입니다.\n",
      "내년이면 31살이 됩니다.\n"
     ]
    }
   ],
   "source": [
    "name='배트맨'\n",
    "age=30\n",
    "print(f'나의 이름은 {name}입니다. 나이는 {age}입니다.')\n",
    "print(f'내년이면 {age+1}살이 됩니다.')"
   ]
  },
  {
   "cell_type": "code",
   "execution_count": 96,
   "id": "4697fb56-1f9a-4b02-a240-355078edf1ee",
   "metadata": {},
   "outputs": [
    {
     "name": "stdout",
     "output_type": "stream",
     "text": [
      "나의 이름은 홍길동입니다. 나이는 30입니다. 성별은 m입니다.\n"
     ]
    }
   ],
   "source": [
    "d = {'name':'홍길동', 'age':30, 'gender':'m'}\n",
    "print(f'나의 이름은 {d['name']}입니다. 나이는 {d['age']}입니다. 성별은 {d['gender']}입니다.') "
   ]
  },
  {
   "cell_type": "code",
   "execution_count": 104,
   "id": "65a2f867-02bf-4a50-8cef-ed045f00531f",
   "metadata": {},
   "outputs": [
    {
     "name": "stdout",
     "output_type": "stream",
     "text": [
      "hi        \n",
      "        hi\n",
      "    hi    \n",
      "****hi****\n",
      "hi********\n",
      "********hi\n"
     ]
    }
   ],
   "source": [
    "#왼쪽 정렬\n",
    "print(f'{'hi':<10}')\n",
    "#오른쪽 정렬\n",
    "print(f'{'hi':>10}')\n",
    "#가운데 정렬\n",
    "print(f'{'hi':^10}')\n",
    "\n",
    "# 정렬하고 공백채우기\n",
    "print(f'{'hi':*^10}')\n",
    "print(f'{'hi':*<10}')\n",
    "print(f'{'hi':*>10}')"
   ]
  },
  {
   "cell_type": "code",
   "execution_count": 110,
   "id": "8085c1ff-8e97-4e4a-8632-3fc453f55538",
   "metadata": {},
   "outputs": [
    {
     "name": "stdout",
     "output_type": "stream",
     "text": [
      "3.2457\n",
      "    3.2457\n"
     ]
    }
   ],
   "source": [
    "# 소수점 표현\n",
    "y = 3.24567\n",
    "print(f'{y:0.4f}')\n",
    "print(f'{y:10.4f}')"
   ]
  },
  {
   "cell_type": "code",
   "execution_count": 111,
   "id": "5bac6e02-91b2-460f-9586-d930d606a25c",
   "metadata": {},
   "outputs": [
    {
     "name": "stdout",
     "output_type": "stream",
     "text": [
      "{and}\n"
     ]
    }
   ],
   "source": [
    "print(f'{{and}}')"
   ]
  },
  {
   "cell_type": "markdown",
   "id": "57ccb5fa-1095-4479-89f5-9ebee79128b7",
   "metadata": {},
   "source": [
    "### 문자열 관련 함수들"
   ]
  },
  {
   "cell_type": "code",
   "execution_count": 119,
   "id": "519084a1-abc6-441d-a41f-8295b2a938b6",
   "metadata": {},
   "outputs": [
    {
     "name": "stdout",
     "output_type": "stream",
     "text": [
      "2\n",
      "2\n"
     ]
    }
   ],
   "source": [
    "#문자 개수 세기 count\n",
    "a='hobby'\n",
    "print(a.count('b'))\n",
    "print('hobby'.count('b'))"
   ]
  },
  {
   "cell_type": "code",
   "execution_count": 125,
   "id": "f00c323b-a892-4b21-8c10-e9770b0b7bb0",
   "metadata": {},
   "outputs": [
    {
     "name": "stdout",
     "output_type": "stream",
     "text": [
      "한국서 돈벌고 '나 몰라라' 코스트코… 연회비 인상률은 미국의 2배\n",
      "--------------------------\n",
      "한국서 돈벌고 '나 몰라라' 코스트코… 연회비 인상률은 미국의 3배\n",
      "한국서 돈벌고 '나 몰라라' 코스트코… 연회비 인상률은 미국의 3배\n",
      "--------------------------\n",
      "2\n",
      "1\n"
     ]
    }
   ],
   "source": [
    "import requests\n",
    "url = 'https://v.daum.net/v/20250203151815463'\n",
    "res = requests.get(url).text\n",
    "print(res[374:411])\n",
    "print('--------------------------')\n",
    "print(res[374:409] + '3' + res[410:411])\n",
    "#-------------------------------------\n",
    "result = res[374:411]\n",
    "out = result[:-2] + '3' + result[-1]\n",
    "print(out)\n",
    "print('--------------------------')\n",
    "print(out.count('코'))\n",
    "print(out.count('한국'))"
   ]
  },
  {
   "cell_type": "code",
   "execution_count": 129,
   "id": "84a1c685-2df8-47fc-b525-fa062a4149fe",
   "metadata": {},
   "outputs": [
    {
     "name": "stdout",
     "output_type": "stream",
     "text": [
      "한국서 돈벌고 '나 몰라라' 코스트코… 연회비 인상률은 미국의 3배\n",
      "16\n",
      "-1\n"
     ]
    }
   ],
   "source": [
    "# 위치 알려주기1 find\n",
    "print(out)\n",
    "print(out.find('코'))\n",
    "print(out.find('밥')) # 해당 값이 없음"
   ]
  },
  {
   "cell_type": "code",
   "execution_count": 132,
   "id": "612c9596-a3c8-473d-aa89-ded03a043c4b",
   "metadata": {},
   "outputs": [
    {
     "name": "stdout",
     "output_type": "stream",
     "text": [
      "374\n"
     ]
    }
   ],
   "source": [
    "import requests\n",
    "url = 'https://v.daum.net/v/20250203151815463'\n",
    "res = requests.get(url).text\n",
    "print(res.find('한')) #어제는 수동으로 위치를 찾았다면 오늘은 바로 찾을 수 있음"
   ]
  },
  {
   "cell_type": "code",
   "execution_count": 152,
   "id": "4f38b70b-095f-4419-90c1-9d3d194dd7fa",
   "metadata": {},
   "outputs": [
    {
     "name": "stdout",
     "output_type": "stream",
     "text": [
      "41529\n",
      "41529\n",
      "좋아하는 노래 제목:  toxic till the end\n"
     ]
    }
   ],
   "source": [
    "import requests\n",
    "url = 'https://music.apple.com/kr/playlist/%EC%98%A4%EB%8A%98%EC%9D%98-top-100-%EB%8C%80%ED%95%9C%EB%AF%BC%EA%B5%AD/pl.d3d10c32fbc540b38e266367dc8cb00c' \n",
    "res = requests.get(url).text\n",
    "print(res.find('toxic till the end'))\n",
    "print(res.index('toxic till the end')) #find와 index의 차이: index는 찾고자 하는 글자가 없으면 오류뜸\n",
    "print('좋아하는 노래 제목: ', res[41529:41547])"
   ]
  },
  {
   "cell_type": "markdown",
   "id": "f7268c22-4da8-4704-9ae7-4172d996afb6",
   "metadata": {},
   "source": [
    "dir(str) - 사용할 수 있는 기능 보여줌"
   ]
  },
  {
   "cell_type": "code",
   "execution_count": 155,
   "id": "6270168a-d3e3-4fef-be54-cc33df41309f",
   "metadata": {},
   "outputs": [
    {
     "name": "stdout",
     "output_type": "stream",
     "text": [
      "a,b,c,d,e,f,g\n"
     ]
    }
   ],
   "source": [
    "# 문자열 삽입 join *\n",
    "# 배열[리스트], 튜플을 문자로\n",
    "print(','.join('abcdefg'))"
   ]
  },
  {
   "cell_type": "code",
   "execution_count": 157,
   "id": "ff299aaa-e53f-496e-a8d4-91e9803c5bb6",
   "metadata": {},
   "outputs": [
    {
     "name": "stdout",
     "output_type": "stream",
     "text": [
      "a,b,c,d,e\n"
     ]
    }
   ],
   "source": [
    "print(','.join(['a','b','c','d','e']))"
   ]
  },
  {
   "cell_type": "code",
   "execution_count": 159,
   "id": "c56b7c9e-7b54-4da0-b535-171edfdeb8d2",
   "metadata": {},
   "outputs": [
    {
     "name": "stdout",
     "output_type": "stream",
     "text": [
      "HI\n",
      "hi\n"
     ]
    }
   ],
   "source": [
    "# 소문자를 대문자로 바꾸기\n",
    "a='hi'\n",
    "print(a.upper())\n",
    "# 대문자를 소문자로 바꾸기\n",
    "b='HI'\n",
    "print(b.lower())"
   ]
  },
  {
   "cell_type": "code",
   "execution_count": 161,
   "id": "3296fe90-4b61-4563-98be-263c9563cd52",
   "metadata": {},
   "outputs": [
    {
     "name": "stdout",
     "output_type": "stream",
     "text": [
      "Life is Egg\n",
      "LIFE IS EGG\n",
      "life is egg\n"
     ]
    }
   ],
   "source": [
    "v = 'Life is Egg'\n",
    "big = v.upper()\n",
    "small = v.lower()\n",
    "print(v)\n",
    "print(big)\n",
    "print(small)"
   ]
  },
  {
   "cell_type": "code",
   "execution_count": 168,
   "id": "21bb5080-82a6-4d5e-a63a-807661a12318",
   "metadata": {},
   "outputs": [
    {
     "name": "stdout",
     "output_type": "stream",
     "text": [
      "    !      hi  ! \n",
      "!      hi  ! \n",
      "    !      hi  !\n",
      "!      hi  !\n"
     ]
    }
   ],
   "source": [
    "# 공백 지우기\n",
    "a = '    !      hi  ! '\n",
    "aa = a.lstrip()\n",
    "bb = a.rstrip()\n",
    "cc = a.strip() # 양쪽 공백 다 삭제\n",
    "print(a)\n",
    "print(aa)\n",
    "print(bb)\n",
    "print(cc)"
   ]
  },
  {
   "cell_type": "code",
   "execution_count": 167,
   "id": "2231f650-646b-40cc-ac3b-d64b29b9d7ac",
   "metadata": {},
   "outputs": [
    {
     "name": "stdout",
     "output_type": "stream",
     "text": [
      "         hi         \n",
      "hi         \n",
      "         hi\n",
      "hi\n"
     ]
    }
   ],
   "source": [
    "f = f'{'hi':^20}'\n",
    "f1 = f.lstrip()\n",
    "f2 = f.rstrip()\n",
    "f3 = f.strip()\n",
    "print(f)\n",
    "print(f1)\n",
    "print(f2)\n",
    "print(f3)"
   ]
  },
  {
   "cell_type": "code",
   "execution_count": 170,
   "id": "e59dd515-62c3-4e17-b896-329b8e6463ee",
   "metadata": {},
   "outputs": [
    {
     "name": "stdout",
     "output_type": "stream",
     "text": [
      "Life is Egg\n",
      "Life is Beautiful\n"
     ]
    }
   ],
   "source": [
    "# 문자열 바꾸기 replace **\n",
    "a = 'Life is Egg'\n",
    "c = a.replace('Egg','Beautiful')\n",
    "print(a)\n",
    "print(c)"
   ]
  },
  {
   "cell_type": "code",
   "execution_count": 173,
   "id": "d18872b6-b3d2-4514-93a5-06e4517f7e3c",
   "metadata": {},
   "outputs": [
    {
     "name": "stdout",
     "output_type": "stream",
     "text": [
      "Life is Egg\n",
      "['Life', 'is', 'Egg']\n",
      "Life-is-Egg\n",
      "['Life is Egg']\n"
     ]
    }
   ],
   "source": [
    "# 문자열 나누기 split *\n",
    "# 뮨자열을 배열로\n",
    "a = 'Life is Egg'\n",
    "aa = a.split()\n",
    "print(a)\n",
    "print(aa)\n",
    "b = 'Life-is-Egg'\n",
    "bb = a.split('-')\n",
    "print(b)\n",
    "print(bb)"
   ]
  },
  {
   "cell_type": "code",
   "execution_count": 181,
   "id": "813666fc-1a7a-4aa4-a497-f613bf9ce85d",
   "metadata": {},
   "outputs": [
    {
     "name": "stdout",
     "output_type": "stream",
     "text": [
      "['abcdefghi']\n",
      "a=b=c=d=e=f=g=h=i\n",
      "['a', 'b', 'c', 'd', 'e', 'f', 'g', 'h', 'i']\n",
      "a*b*c*d*e*f*g*h*i\n"
     ]
    }
   ],
   "source": [
    "ex = 'abcdefghi'\n",
    "ex2 = ex.split()\n",
    "print(ex2)\n",
    "ex_join = '='.join(ex)\n",
    "print(ex_join)\n",
    "ex_split = ex_join.split('=')\n",
    "print(ex_split)\n",
    "ex_replace = ex_join.replace('=','*')\n",
    "print(ex_replace)"
   ]
  },
  {
   "cell_type": "code",
   "execution_count": null,
   "id": "349a5996-348d-4aa9-aad9-b2542ba43a62",
   "metadata": {},
   "outputs": [],
   "source": []
  }
 ],
 "metadata": {
  "kernelspec": {
   "display_name": "Python 3 (ipykernel)",
   "language": "python",
   "name": "python3"
  },
  "language_info": {
   "codemirror_mode": {
    "name": "ipython",
    "version": 3
   },
   "file_extension": ".py",
   "mimetype": "text/x-python",
   "name": "python",
   "nbconvert_exporter": "python",
   "pygments_lexer": "ipython3",
   "version": "3.13.1"
  }
 },
 "nbformat": 4,
 "nbformat_minor": 5
}
