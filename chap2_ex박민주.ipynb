{
 "cells": [
  {
   "cell_type": "markdown",
   "id": "3787c52a-f623-4d78-b8a2-83bbb06c162c",
   "metadata": {},
   "source": [
    "## 되새김 문제"
   ]
  },
  {
   "cell_type": "markdown",
   "id": "613b2a77-7525-42b7-8f97-d9abd14145fe",
   "metadata": {},
   "source": [
    "### 평균 점수 구하기"
   ]
  },
  {
   "cell_type": "code",
   "execution_count": 2,
   "id": "11b57a56-95fe-4301-8303-777558edb5c5",
   "metadata": {},
   "outputs": [
    {
     "name": "stdout",
     "output_type": "stream",
     "text": [
      "70.0\n"
     ]
    }
   ],
   "source": [
    "ko = 80\n",
    "en  = 75\n",
    "ma = 55\n",
    "total = ko + en + ma\n",
    "avg = total / 3\n",
    "print(avg)"
   ]
  },
  {
   "cell_type": "markdown",
   "id": "2eb2bed7-fda6-48c5-96e2-a8e625488863",
   "metadata": {},
   "source": [
    "### 홀수, 짝수 판별하기"
   ]
  },
  {
   "cell_type": "code",
   "execution_count": 61,
   "id": "a742820f-ddb5-46e0-8be4-6c82f436c4ce",
   "metadata": {},
   "outputs": [
    {
     "name": "stdout",
     "output_type": "stream",
     "text": [
      "0\n",
      "짝수\n"
     ]
    }
   ],
   "source": [
    "num = 16 % 2\n",
    "print(num)\n",
    "\n",
    "if num==0:\n",
    "    print('짝수')\n",
    "else:\n",
    "    print('홀수')"
   ]
  },
  {
   "cell_type": "markdown",
   "id": "edf7901d-e0f3-4741-a62c-89648e9f12c1",
   "metadata": {},
   "source": [
    "### 주민등록번호 나누기"
   ]
  },
  {
   "cell_type": "code",
   "execution_count": 7,
   "id": "3bae5b41-dca3-4d93-9640-ae1903cc1ff1",
   "metadata": {},
   "outputs": [
    {
     "name": "stdout",
     "output_type": "stream",
     "text": [
      "881120\n",
      "1068234\n"
     ]
    }
   ],
   "source": [
    "pin = '881120-1068234'\n",
    "yyyymmdd = pin[0:6]\n",
    "num = pin[7:]\n",
    "print(yyyymmdd)\n",
    "print(num)"
   ]
  },
  {
   "cell_type": "markdown",
   "id": "e476eceb-8def-468e-a25b-fb5c67a2247e",
   "metadata": {},
   "source": [
    "### 주민등록번호 인덱싱"
   ]
  },
  {
   "cell_type": "code",
   "execution_count": 64,
   "id": "b68b260d-9fce-45b2-8952-bb778fce9572",
   "metadata": {},
   "outputs": [
    {
     "name": "stdout",
     "output_type": "stream",
     "text": [
      "2\n",
      "여\n"
     ]
    }
   ],
   "source": [
    "pin = '881120-2068234'\n",
    "gender = pin[7:8]\n",
    "print(gender)\n",
    "\n",
    "if gender=='1':\n",
    "    print('남')\n",
    "else:\n",
    "    print('여')"
   ]
  },
  {
   "cell_type": "markdown",
   "id": "008dbefa-cb17-4b41-8a5c-009b810cc730",
   "metadata": {},
   "source": [
    "### 문자열 바꾸기"
   ]
  },
  {
   "cell_type": "code",
   "execution_count": 18,
   "id": "70e18810-0ac8-49b1-9bd3-835a5596c66d",
   "metadata": {},
   "outputs": [
    {
     "name": "stdout",
     "output_type": "stream",
     "text": [
      "a#b#c#d\n"
     ]
    }
   ],
   "source": [
    "a = \"a:b:c:d\"\n",
    "b = a.replace(':','#')\n",
    "print(b)"
   ]
  },
  {
   "cell_type": "markdown",
   "id": "cd49a510-05cf-406d-b5a7-1e92cd1b40bd",
   "metadata": {},
   "source": [
    "### 리스트 역순 정리하기"
   ]
  },
  {
   "cell_type": "code",
   "execution_count": 22,
   "id": "079571a0-e4b2-49df-b8c8-6fee1138c720",
   "metadata": {},
   "outputs": [
    {
     "name": "stdout",
     "output_type": "stream",
     "text": [
      "[1, 2, 3, 4, 5]\n",
      "[5, 4, 3, 2, 1]\n"
     ]
    }
   ],
   "source": [
    "a = [1,3,5,4,2]\n",
    "a.sort()\n",
    "print(a)\n",
    "a.sort(reverse=True)\n",
    "print(a)"
   ]
  },
  {
   "cell_type": "markdown",
   "id": "63b33431-3f64-41da-b7e5-31676532ef23",
   "metadata": {},
   "source": [
    "### 리스트를 문자열로 만들기"
   ]
  },
  {
   "cell_type": "code",
   "execution_count": 25,
   "id": "aa972dac-d9f6-4c07-88e3-02f9e34a190a",
   "metadata": {},
   "outputs": [
    {
     "name": "stdout",
     "output_type": "stream",
     "text": [
      "Life is too short\n"
     ]
    }
   ],
   "source": [
    "a=['Life','is','too','short']\n",
    "print(' '.join(a))"
   ]
  },
  {
   "cell_type": "markdown",
   "id": "2b4c35be-3dfd-4aae-87b2-c4f02101f181",
   "metadata": {},
   "source": [
    "### 튜플 더하기"
   ]
  },
  {
   "cell_type": "code",
   "execution_count": 26,
   "id": "669a8f37-45f6-4d25-b662-3d3d7c62b187",
   "metadata": {},
   "outputs": [
    {
     "name": "stdout",
     "output_type": "stream",
     "text": [
      "(1, 2, 3, 4)\n"
     ]
    }
   ],
   "source": [
    "a = (1,2,3)\n",
    "b = (4,)\n",
    "print(a+b)"
   ]
  },
  {
   "cell_type": "markdown",
   "id": "e78013a6-f00a-4983-8f3c-49574e008c72",
   "metadata": {},
   "source": [
    "### 딕셔너리의 키"
   ]
  },
  {
   "cell_type": "code",
   "execution_count": 56,
   "id": "b433fbfb-fb35-491f-832a-3aa804211749",
   "metadata": {
    "jp-MarkdownHeadingCollapsed": true
   },
   "outputs": [
    {
     "name": "stdout",
     "output_type": "stream",
     "text": [
      "{'name': 'python', ('a',): 'python', 250: 'python'}\n"
     ]
    }
   ],
   "source": [
    "a = dict()\n",
    "a['name'] = 'python'\n",
    "a[('a',)] = 'python' # 튜플을 이용해도 가능, 튜플은 변경 불가해서\n",
    "# a[[1]] = 'python' -리스트는 변경 가능한 값이기 때문에 딕셔너리에서 사용x\n",
    "a[250] = 'python'\n",
    "print(a)"
   ]
  },
  {
   "cell_type": "markdown",
   "id": "72b780bd-160b-4800-897d-1bb09bb16e6f",
   "metadata": {},
   "source": [
    "### 딕셔너리 값 추출하기"
   ]
  },
  {
   "cell_type": "code",
   "execution_count": 49,
   "id": "2e2c32bb-c5bc-4339-84f0-00292f1d92c1",
   "metadata": {},
   "outputs": [
    {
     "name": "stdout",
     "output_type": "stream",
     "text": [
      "{'A': 90, 'C': 70}\n",
      "80\n"
     ]
    }
   ],
   "source": [
    "a = {'A':90, 'B':80, 'C':70}\n",
    "result = a.pop('B')\n",
    "print(a)\n",
    "print(result)"
   ]
  },
  {
   "cell_type": "code",
   "execution_count": null,
   "id": "9df56081-a52f-40a3-9000-5674656dcae9",
   "metadata": {},
   "outputs": [],
   "source": []
  },
  {
   "cell_type": "markdown",
   "id": "6934c38d-c89d-412a-bd1c-56d888d155f4",
   "metadata": {},
   "source": [
    "### 딕셔너리 값 추출하기 "
   ]
  },
  {
   "cell_type": "code",
   "execution_count": 50,
   "id": "4fbb215e-e1b3-44fd-bee2-627e9aff0a93",
   "metadata": {},
   "outputs": [
    {
     "name": "stdout",
     "output_type": "stream",
     "text": [
      "{'A': 90, 'C': 70}\n",
      "80\n"
     ]
    }
   ],
   "source": [
    "a = {'A':90,'B':80,'C':70}\n",
    "result = a.pop('B')\n",
    "print(a)\n",
    "print(result)"
   ]
  },
  {
   "cell_type": "markdown",
   "id": "c4f45f48-8a76-46bf-be41-610e5c3489e7",
   "metadata": {},
   "source": [
    "### 리스트에서 중복 제거하기"
   ]
  },
  {
   "cell_type": "code",
   "execution_count": 51,
   "id": "89730907-97dc-4d9e-bc0f-e1ebf3cbdc3a",
   "metadata": {},
   "outputs": [
    {
     "name": "stdout",
     "output_type": "stream",
     "text": [
      "[1, 2, 3, 4, 5]\n"
     ]
    }
   ],
   "source": [
    "a = [1,1,1,2,2,3,3,3,4,4,5]\n",
    "aSet = set([1,1,1,2,2,3,3,3,4,4,5])\n",
    "b = list(aSet)\n",
    "print(b)"
   ]
  },
  {
   "cell_type": "markdown",
   "id": "89994a0d-6824-460b-87f0-8e15f4bd1f5f",
   "metadata": {},
   "source": [
    "### 파이썬 변수"
   ]
  },
  {
   "cell_type": "code",
   "execution_count": 52,
   "id": "87389937-cc22-481e-b4ec-6dc7ad2b1029",
   "metadata": {},
   "outputs": [
    {
     "name": "stdout",
     "output_type": "stream",
     "text": [
      "[1, 4, 3]\n"
     ]
    }
   ],
   "source": [
    "a=b=[1,2,3]\n",
    "a[1]=4\n",
    "print(b)"
   ]
  },
  {
   "cell_type": "code",
   "execution_count": null,
   "id": "e8110eaa-1a92-4e12-a15e-2f4e195986a7",
   "metadata": {},
   "outputs": [],
   "source": []
  }
 ],
 "metadata": {
  "kernelspec": {
   "display_name": "Python 3 (ipykernel)",
   "language": "python",
   "name": "python3"
  },
  "language_info": {
   "codemirror_mode": {
    "name": "ipython",
    "version": 3
   },
   "file_extension": ".py",
   "mimetype": "text/x-python",
   "name": "python",
   "nbconvert_exporter": "python",
   "pygments_lexer": "ipython3",
   "version": "3.13.1"
  }
 },
 "nbformat": 4,
 "nbformat_minor": 5
}
