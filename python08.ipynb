{
 "cells": [
  {
   "cell_type": "markdown",
   "id": "10319ea6-04e5-4848-9e00-6b106f9b7138",
   "metadata": {},
   "source": [
    "# 외부 라이브러리"
   ]
  },
  {
   "cell_type": "markdown",
   "id": "9e9f73a4-5d40-436c-ab2d-3c0a9166bc6a",
   "metadata": {},
   "source": [
    "## pip *"
   ]
  },
  {
   "cell_type": "markdown",
   "id": "e2641365-d751-4a07-a1c2-58bc7a82c252",
   "metadata": {},
   "source": [
    "백업 pip freeze > requirements.txt<br>\n",
    "복구 pip install -r requirements.txt"
   ]
  },
  {
   "cell_type": "markdown",
   "id": "6debeb96-f78f-4869-a302-e430e6dabe47",
   "metadata": {},
   "source": [
    "## Faker"
   ]
  },
  {
   "cell_type": "code",
   "execution_count": 1,
   "id": "e12af9cb-af1f-4b4a-a0ec-3ca040c39a60",
   "metadata": {},
   "outputs": [
    {
     "name": "stdout",
     "output_type": "stream",
     "text": [
      "Collecting Faker\n",
      "  Downloading Faker-36.1.1-py3-none-any.whl.metadata (15 kB)\n",
      "Collecting tzdata (from Faker)\n",
      "  Downloading tzdata-2025.1-py2.py3-none-any.whl.metadata (1.4 kB)\n",
      "Downloading Faker-36.1.1-py3-none-any.whl (1.9 MB)\n",
      "   ---------------------------------------- 0.0/1.9 MB ? eta -:--:--\n",
      "   ---------------------------------------- 1.9/1.9 MB 51.2 MB/s eta 0:00:00\n",
      "Downloading tzdata-2025.1-py2.py3-none-any.whl (346 kB)\n",
      "Installing collected packages: tzdata, Faker\n",
      "Successfully installed Faker-36.1.1 tzdata-2025.1\n"
     ]
    }
   ],
   "source": [
    "!pip install Faker"
   ]
  },
  {
   "cell_type": "code",
   "execution_count": 5,
   "id": "ff060fc7-449b-4813-b0b5-5246e3d079b0",
   "metadata": {},
   "outputs": [
    {
     "data": {
      "text/plain": [
       "[{'name': '김선영',\n",
       "  'id': 'pi',\n",
       "  'phone': '070-4141-0928',\n",
       "  'email': 'bagsangceol@example.com'},\n",
       " {'name': '최시우',\n",
       "  'id': 'kno',\n",
       "  'phone': '043-723-0178',\n",
       "  'email': 'bno@example.com'},\n",
       " {'name': '김성진',\n",
       "  'id': 'jeongsig21',\n",
       "  'phone': '051-124-6302',\n",
       "  'email': 'hyeonjun36@example.net'},\n",
       " {'name': '안예진',\n",
       "  'id': 'gimmyeongja',\n",
       "  'phone': '032-518-7560',\n",
       "  'email': 'ancunja@example.org'},\n",
       " {'name': '장영수',\n",
       "  'id': 'sugjasong',\n",
       "  'phone': '063-120-7346',\n",
       "  'email': 'ngim@example.org'},\n",
       " {'name': '이영호',\n",
       "  'id': 'seohyeoncoe',\n",
       "  'phone': '042-411-8875',\n",
       "  'email': 'hyeonju54@example.org'},\n",
       " {'name': '배민재',\n",
       "  'id': 'sangceolsong',\n",
       "  'phone': '063-115-0680',\n",
       "  'email': 'seonghun68@example.org'},\n",
       " {'name': '박준호',\n",
       "  'id': 'vgim',\n",
       "  'phone': '070-6767-8097',\n",
       "  'email': 'hongyeonghwan@example.com'},\n",
       " {'name': '이지원',\n",
       "  'id': 'jeongung00',\n",
       "  'phone': '033-209-1088',\n",
       "  'email': 'jungsuhan@example.net'},\n",
       " {'name': '나현숙',\n",
       "  'id': 'seojungim',\n",
       "  'phone': '054-504-2529',\n",
       "  'email': 'ncoe@example.org'}]"
      ]
     },
     "execution_count": 5,
     "metadata": {},
     "output_type": "execute_result"
    }
   ],
   "source": [
    "from faker import Faker\n",
    "fake = Faker('ko-KR')\n",
    "[{'name':fake.name(), 'id':fake.user_name(), 'phone': fake.phone_number(), 'email':fake.email()} for n in range(10)]"
   ]
  },
  {
   "cell_type": "markdown",
   "id": "b561cc8c-c2eb-4e24-995d-6a92133947d4",
   "metadata": {},
   "source": [
    "<table style='float:left; width:500px'>\n",
    "<thead>\n",
    "<tr>\n",
    "<th>항목</th>\n",
    "<th>설명</th>\n",
    "</tr>\n",
    "</thead>\n",
    "<tbody>\n",
    "<tr>\n",
    "<td>fake.name()</td>\n",
    "<td>이름</td>\n",
    "</tr>\n",
    "<tr>\n",
    "<td>fake.address()</td>\n",
    "<td>주소</td>\n",
    "</tr>\n",
    "<tr>\n",
    "<td>fake.postcode()</td>\n",
    "<td>우편 번호</td>\n",
    "</tr>\n",
    "<tr>\n",
    "<td>fake.country()</td>\n",
    "<td>국가명</td>\n",
    "</tr>\n",
    "<tr>\n",
    "<td>fake.company()</td>\n",
    "<td>회사명</td>\n",
    "</tr>\n",
    "<tr>\n",
    "<td>fake.job()</td>\n",
    "<td>직업명</td>\n",
    "</tr>\n",
    "<tr>\n",
    "<td>fake.phone_number()</td>\n",
    "<td>휴대전화 번호</td>\n",
    "</tr>\n",
    "<tr>\n",
    "<td>fake.email()</td>\n",
    "<td>이메일 주소</td>\n",
    "</tr>\n",
    "<tr>\n",
    "<td>fake.user_name()</td>\n",
    "<td>사용자명</td>\n",
    "</tr>\n",
    "<tr>\n",
    "<td>fake.pyint(min_value=0, max_value=100)</td>\n",
    "<td>0부터 100 사이의 임의의 숫자</td>\n",
    "</tr>\n",
    "<tr>\n",
    "<td>fake.ipv4_private()</td>\n",
    "<td>IP 주소</td>\n",
    "</tr>\n",
    "<tr>\n",
    "<td>fake.text()</td>\n",
    "<td>임의의 문장 (한글 임의의 문장은 <code>fake.catch_phrase()</code> 사용)</td>\n",
    "</tr>\n",
    "<tr>\n",
    "<td>fake.color_name()</td>\n",
    "<td>색상명</td>\n",
    "</tr>\n",
    "</tbody>\n",
    "</table>"
   ]
  },
  {
   "cell_type": "markdown",
   "id": "dd8e348d-830f-4107-b391-ddf8494e2e07",
   "metadata": {},
   "source": [
    "## sympy"
   ]
  },
  {
   "cell_type": "code",
   "execution_count": 7,
   "id": "8fc9bcf0-02f3-4950-8fc8-e6cf3fd26cd5",
   "metadata": {},
   "outputs": [
    {
     "name": "stdout",
     "output_type": "stream",
     "text": [
      "Collecting sympy\n",
      "  Downloading sympy-1.13.3-py3-none-any.whl.metadata (12 kB)\n",
      "Collecting mpmath<1.4,>=1.1.0 (from sympy)\n",
      "  Downloading mpmath-1.3.0-py3-none-any.whl.metadata (8.6 kB)\n",
      "Downloading sympy-1.13.3-py3-none-any.whl (6.2 MB)\n",
      "   ---------------------------------------- 0.0/6.2 MB ? eta -:--:--\n",
      "   ------------------------------ --------- 4.7/6.2 MB 27.0 MB/s eta 0:00:01\n",
      "   ---------------------------------------- 6.2/6.2 MB 27.7 MB/s eta 0:00:00\n",
      "Downloading mpmath-1.3.0-py3-none-any.whl (536 kB)\n",
      "   ---------------------------------------- 0.0/536.2 kB ? eta -:--:--\n",
      "   --------------------------------------- 536.2/536.2 kB 20.9 MB/s eta 0:00:00\n",
      "Installing collected packages: mpmath, sympy\n",
      "Successfully installed mpmath-1.3.0 sympy-1.13.3\n"
     ]
    }
   ],
   "source": [
    "!pip install sympy"
   ]
  },
  {
   "cell_type": "code",
   "execution_count": 9,
   "id": "387fc956-6a6a-49cc-9c2e-f0f5f3c8a12b",
   "metadata": {},
   "outputs": [
    {
     "name": "stdout",
     "output_type": "stream",
     "text": [
      "남은 돈은 2640원 입니다.\n"
     ]
    }
   ],
   "source": [
    "from fractions import Fraction\n",
    "import sympy\n",
    "\n",
    "# 가지고 있던 돈을 x라고 하자.\n",
    "x = sympy.symbols(\"x\")\n",
    "\n",
    "# 가지고 있던 돈의 2/5가 1760원이므로 방정식은 x * (2/5) = 1760 이다.\n",
    "f = sympy.Eq(x*Fraction('2/5'), 1760)\n",
    "\n",
    "# 방정식을 만족하는 값(result)을 구한다.\n",
    "result = sympy.solve(f)  # 결괏값은 리스트\n",
    "\n",
    "# 남은 돈은 다음과 같이 가지고 있던 돈에서 1760원을 빼면 된다.\n",
    "remains = result[0] - 1760\n",
    "\n",
    "print('남은 돈은 {}원 입니다.'.format(remains))\n"
   ]
  },
  {
   "cell_type": "code",
   "execution_count": 19,
   "id": "e712d30c-68e5-4ff2-800c-4f83207da9ae",
   "metadata": {},
   "outputs": [
    {
     "name": "stdout",
     "output_type": "stream",
     "text": [
      "1위:  REBEL HEART / IVE (아이브)\n"
     ]
    }
   ],
   "source": [
    "import requests as req\n",
    "from bs4 import BeautifulSoup as bs\n",
    "\n",
    "url = 'https://www.melon.com/chart/index.htm'\n",
    "headers = {'User-Agent':'Mozilla/5.0 (Windows NT 10.0; Win64; x64) AppleWebKit/537.36 (KHTML, like Gecko) Chrome/132.0.0.0 Safari/537.36'}\n",
    "\n",
    "web = req.get(url, headers = headers)\n",
    "# print(web)\n",
    "soup = bs(web.content, 'html.parser')\n",
    "# print(soup)\n",
    "title = soup.select_one('.wrap_song_info')\n",
    "# print(title)\n",
    "# <div class=\"wrap_song_info\">\n",
    "# <div class=\"ellipsis rank01\"><span>\n",
    "# <a href=\"javascript:melon.play.playSong('1000002721',38444825);\" title=\"REBEL HEART 재생\">REBEL HEART</a>\n",
    "# </span></div><br/>\n",
    "# <div class=\"ellipsis rank02\">\n",
    "# <a href=\"javascript:melon.link.goArtistDetail('3055146');\" title=\"IVE (아이브) - 페이지 이동\">IVE (아이브)</a><span class=\"checkEllipsis\" style=\"display:none\"><a href=\"javascript:melon.link.goArtistDetail('3055146');\" title=\"IVE (아이브) - 페이지 이동\">IVE (아이브)</a></span>\n",
    "# </div>\n",
    "# </div>\n",
    "atitle = title.select_one('a')\n",
    "#print(atitle) # <a href=\"javascript:melon.play.playSong('1000002721',38444825);\" title=\"REBEL HEART 재생\">REBEL HEART</a>\n",
    "# print(atitle.text)\n",
    "aname0 = title.select_one('.checkEllipsis')\n",
    "aname = aname0.select_one('a')\n",
    "\n",
    "print('1위: ', atitle.text, '/', aname.text)"
   ]
  },
  {
   "cell_type": "code",
   "execution_count": 34,
   "id": "ca731880-d66d-4760-a1ff-816fb866bdb3",
   "metadata": {},
   "outputs": [
    {
     "name": "stdout",
     "output_type": "stream",
     "text": [
      "1위: REBEL HEART / IVE (아이브)\n",
      "2위: HOME SWEET HOME (feat. 태양, 대성) / G-DRAGON\n",
      "3위: 나는 반딧불 / 황가람\n",
      "4위: Whiplash / aespa\n",
      "5위: APT. / 로제 (ROSÉ)\n",
      "6위: 오늘만 I LOVE YOU / Bruno Mars\n",
      "7위: Drowning / BOYNEXTDOOR\n",
      "8위: ATTITUDE / WOODZ\n",
      "9위: toxic till the end / IVE (아이브)\n",
      "10위: Dash / 로제 (ROSÉ)\n",
      "11위: POWER / PLAVE\n",
      "12위: HAPPY / G-DRAGON\n",
      "13위: 내게 사랑이 뭐냐고 물어본다면 / DAY6 (데이식스)\n",
      "14위: RIZZ / 로이킴\n",
      "15위: DRIP / PLAVE\n",
      "16위: Chroma Drift / BABYMONSTER\n",
      "17위: Island / PLAVE\n",
      "18위: 소나기 / PLAVE\n",
      "19위: 12:32 (A to T) / 이클립스 (ECLIPSE)\n",
      "20위: 너와의 모든 지금 / PLAVE\n",
      " "
     ]
    }
   ],
   "source": [
    "import requests as req\n",
    "from bs4 import BeautifulSoup as bs\n",
    "\n",
    "url = 'https://www.melon.com/chart/index.htm'\n",
    "headers = {'User-Agent':'Mozilla/5.0 (Windows NT 10.0; Win64; x64) AppleWebKit/537.36 (KHTML, like Gecko) Chrome/132.0.0.0 Safari/537.36'}\n",
    "\n",
    "web = req.get(url, headers = headers)\n",
    "\n",
    "soup = bs(web.content, 'html.parser')\n",
    "\n",
    "title = soup.select('.rank01')\n",
    "name = soup.select('.checkEllipsis a')[:20]\n",
    "str = ''\n",
    "# print(title)\n",
    "for i, (t,n) in enumerate(zip(title,name),1):\n",
    "    # print(f'{1}위:', t.text.strip(),'/',n.text)\n",
    "    str += f'{i}위: {t.text.strip()} / {n.text}\\n'\n",
    "print(str,end=' ')\n",
    "    # aname = name.select_one('a')\n",
    "\n",
    "# atitle = title.select_one('a')\n",
    "\n",
    "# aname0 = title.select_one('.checkEllipsis')\n",
    "# aname = aname0.select_one('a')\n",
    "\n",
    "# print('1위: ', atitle.text, '/', aname.text)"
   ]
  },
  {
   "cell_type": "code",
   "execution_count": 35,
   "id": "c0a9ab50-3428-4d7c-9fcd-4d011e3b9c16",
   "metadata": {},
   "outputs": [
    {
     "name": "stdout",
     "output_type": "stream",
     "text": [
      "1위: REBEL HEART / IVE (아이브)\n",
      "2위: HOME SWEET HOME (feat. 태양, 대성) / G-DRAGON\n",
      "3위: 나는 반딧불 / 황가람\n",
      "4위: Whiplash / aespa\n",
      "5위: APT. / 로제 (ROSÉ)\n",
      "6위: 오늘만 I LOVE YOU / Bruno Mars\n",
      "7위: Drowning / BOYNEXTDOOR\n",
      "8위: ATTITUDE / WOODZ\n",
      "9위: toxic till the end / IVE (아이브)\n",
      "10위: Dash / 로제 (ROSÉ)\n",
      "11위: POWER / PLAVE\n",
      "12위: HAPPY / G-DRAGON\n",
      "13위: 내게 사랑이 뭐냐고 물어본다면 / DAY6 (데이식스)\n",
      "14위: RIZZ / 로이킴\n",
      "15위: DRIP / PLAVE\n",
      "16위: Chroma Drift / BABYMONSTER\n",
      "17위: Island / PLAVE\n",
      "18위: 소나기 / PLAVE\n",
      "19위: 12:32 (A to T) / 이클립스 (ECLIPSE)\n",
      "20위: 너와의 모든 지금 / PLAVE\n",
      " "
     ]
    }
   ],
   "source": [
    "import melon\n",
    "melon.mel()"
   ]
  },
  {
   "cell_type": "code",
   "execution_count": 3,
   "id": "b26cee80-0a55-4461-9b09-ced1b7d2652c",
   "metadata": {},
   "outputs": [
    {
     "name": "stdout",
     "output_type": "stream",
     "text": [
      "1위: 삼성전자 58,500원\n",
      "2위: SK하이닉스 216,500원\n",
      "3위: LG에너지솔루션 374,500원\n",
      "4위: 삼성바이오로직스 1,131,000원\n",
      "5위: 현대차 202,000원\n",
      "6위: 삼성전자우 49,250원\n",
      "7위: 셀트리온 180,400원\n",
      "8위: 기아 93,800원\n",
      "9위: NAVER 219,500원\n",
      "10위: KB금융 82,500원\n",
      "11위: 한화에어로스페이스 615,000원\n",
      "12위: HD현대중공업 315,500원\n",
      "13위: 신한지주 47,600원\n",
      "14위: 삼성물산 132,500원\n",
      "15위: 메리츠금융지주 123,300원\n",
      "16위: 현대모비스 250,000원\n",
      "17위: 한화오션 72,600원\n",
      "18위: POSCO홀딩스 263,500원\n",
      "19위: 삼성생명 100,900원\n",
      "20위: SK이노베이션 131,500원\n",
      "21위: 삼성화재 404,000원\n",
      "22위: 두산에너빌리티 28,450원\n",
      "23위: 하나금융지주 62,300원\n",
      "24위: 카카오 40,100원\n",
      "25위: LG화학 248,500원\n",
      "26위: 고려아연 821,000원\n",
      "27위: HMM 18,530원\n",
      "28위: 크래프톤 333,000원\n",
      "29위: HD한국조선해양 223,000원\n",
      "30위: 삼성SDI 229,500원\n",
      "31위: 한국전력 21,600원\n",
      "32위: SK스퀘어 102,500원\n",
      "33위: HD현대일렉트릭 376,500원\n",
      "34위: LG전자 81,800원\n",
      "35위: KT&G 105,400원\n",
      "36위: 우리금융지주 17,420원\n",
      "37위: SK텔레콤 58,000원\n",
      "38위: 기업은행 15,600원\n",
      "39위: 삼성중공업 13,850원\n",
      "40위: KT 47,400원\n",
      "41위: 카카오뱅크 23,850원\n",
      "42위: 포스코퓨처엠 143,300원\n",
      "43위: LG 70,400원\n",
      "44위: SK 149,900원\n",
      "45위: 삼성전기 141,500원\n",
      "46위: 하이브 250,500원\n",
      "47위: 한미반도체 104,700원\n",
      "48위: 삼성에스디에스 130,600원\n",
      "49위: 유한양행 123,200원\n",
      "50위: 현대글로비스 128,100원\n"
     ]
    }
   ],
   "source": [
    "import requests as req\n",
    "from bs4 import BeautifulSoup as bs\n",
    "\n",
    "url = 'https://finance.naver.com/sise/sise_market_sum.naver'\n",
    "web = req.get(url)\n",
    "# print(web)\n",
    "soup = bs(web.content, 'html.parser')\n",
    "# soup = bs(web.content, 'html5lib')\n",
    "# print(soup)\n",
    "title = soup.select('.type_2')\n",
    "name = soup.select('.tltle')\n",
    "# print(title)\n",
    "# print(name)\n",
    "atitle = soup.select('.type_2')\n",
    "# atitle = soup.select('tbody')\n",
    "# aname = soup.select('.number')\n",
    "# aname = soup.select('tbody')[0:2]\n",
    "# aname = soup.select('td:first-child')\n",
    "# aname = soup.select('table.type_2 tbody tr td.number')\n",
    "aname = soup.select('td.number:nth-child(3)')\n",
    "# print(aname)\n",
    "for i, (n,a) in enumerate(zip(name,aname),1):\n",
    "# for i, n, a in enumerate(name,1, aname):\n",
    "    print(f'{i}위: {n.text} {a.text}원')"
   ]
  },
  {
   "cell_type": "code",
   "execution_count": 2,
   "id": "ca9451ea-cc14-4a8e-ad6b-d19a151a96e0",
   "metadata": {},
   "outputs": [
    {
     "name": "stdout",
     "output_type": "stream",
     "text": [
      "1위: 삼성전자 58,800\n",
      "2위: SK하이닉스 217,500\n",
      "3위: LG에너지솔루션 374,000\n",
      "4위: 삼성바이오로직스 1,129,000\n",
      "5위: 현대차 202,000\n",
      "6위: 삼성전자우 49,250\n",
      "7위: 셀트리온 180,200\n",
      "8위: 기아 93,800\n",
      "9위: NAVER 220,500\n",
      "10위: KB금융 82,300\n",
      "11위: HD현대중공업 318,500\n",
      "12위: 한화에어로스페이스 611,000\n",
      "13위: 신한지주 47,600\n",
      "14위: 삼성물산 133,000\n",
      "15위: 메리츠금융지주 123,900\n",
      "16위: 현대모비스 250,500\n",
      "17위: 한화오션 73,200\n",
      "18위: POSCO홀딩스 264,000\n",
      "19위: 삼성생명 100,900\n",
      "20위: SK이노베이션 131,100\n",
      "21위: 삼성화재 405,000\n",
      "22위: 두산에너빌리티 28,550\n",
      "23위: 하나금융지주 62,300\n",
      "24위: 카카오 40,150\n",
      "25위: LG화학 248,000\n",
      "26위: 고려아연 817,000\n",
      "27위: HMM 18,550\n",
      "28위: 크래프톤 331,000\n",
      "29위: HD한국조선해양 223,500\n",
      "30위: 삼성SDI 229,500\n",
      "31위: 한국전력 21,450\n",
      "32위: SK스퀘어 102,500\n",
      "33위: HD현대일렉트릭 377,000\n",
      "34위: LG전자 81,900\n",
      "35위: KT&G 105,300\n",
      "36위: 우리금융지주 17,400\n",
      "37위: SK텔레콤 57,900\n",
      "38위: 기업은행 15,550\n",
      "39위: 삼성중공업 13,970\n",
      "40위: KT 47,200\n",
      "41위: 카카오뱅크 23,850\n",
      "42위: 포스코퓨처엠 143,500\n",
      "43위: LG 70,200\n",
      "44위: SK 150,200\n",
      "45위: 삼성전기 141,500\n",
      "46위: 하이브 250,500\n",
      "47위: 한미반도체 106,100\n",
      "48위: 삼성에스디에스 130,100\n",
      "49위: 유한양행 123,300\n",
      "50위: 현대글로비스 128,200\n"
     ]
    }
   ],
   "source": [
    "import sise\n",
    "sise.nsise()"
   ]
  },
  {
   "cell_type": "code",
   "execution_count": 62,
   "id": "fb706d02-c5bb-48cd-9c91-2ba0cfd632e5",
   "metadata": {},
   "outputs": [
    {
     "name": "stdout",
     "output_type": "stream",
     "text": [
      "Collecting html5lib\n",
      "  Downloading html5lib-1.1-py2.py3-none-any.whl.metadata (16 kB)\n",
      "Requirement already satisfied: six>=1.9 in c:\\users\\admin\\appdata\\local\\programs\\python\\python313\\lib\\site-packages (from html5lib) (1.17.0)\n",
      "Requirement already satisfied: webencodings in c:\\users\\admin\\appdata\\local\\programs\\python\\python313\\lib\\site-packages (from html5lib) (0.5.1)\n",
      "Downloading html5lib-1.1-py2.py3-none-any.whl (112 kB)\n",
      "Installing collected packages: html5lib\n",
      "Successfully installed html5lib-1.1\n"
     ]
    }
   ],
   "source": [
    "!pip install html5lib"
   ]
  },
  {
   "cell_type": "code",
   "execution_count": 17,
   "id": "5d3946f8-cfb3-4823-849b-7051bae17cdc",
   "metadata": {},
   "outputs": [
    {
     "name": "stdout",
     "output_type": "stream",
     "text": [
      "월 2025.02.17\n",
      "정식-5,500원\n",
      "강황밥\n",
      "김치콩나물국\n",
      "돈육바싹불고기\n",
      "모듬잡채\n",
      "멸치새우견과볶음\n",
      "상추겉절이\n",
      "포기김치\n",
      "\n",
      "--------------------\n",
      "화 2025.02.18\n",
      "정식-5,500원\n",
      "백미밥\n",
      "물만두국\n",
      "순살닭매콤조림\n",
      "쫄면야채무침\n",
      "파래무무침\n",
      "참나물겉절이\n",
      "포기김치\n",
      "\n",
      "--------------------\n",
      "수 2025.02.19\n",
      "정식-5,500원\n",
      "백미밥\n",
      "모듬어묵국\n",
      "함박스테이크/치즈/소스\n",
      "스파게티/소스\n",
      "치커리유자청샐러드\n",
      "콩나물무침\n",
      "포기김치\n",
      "\n",
      "--------------------\n",
      "목 2025.02.20\n",
      "정식-5,500원\n",
      "잡곡밥\n",
      "홍합미역국\n",
      "순살치킨/맛초킹소스\n",
      "꼬시레기두부무침\n",
      "잡채어묵조림\n",
      "상추겉절이\n",
      "포기김치\n",
      "\n",
      "--------------------\n",
      "금 2025.02.21\n",
      "정식-5,500원\n",
      "백미밥\n",
      "국수\n",
      "깐풍기/소스\n",
      "알감자버터구이\n",
      "도토리묵김치무침\n",
      "열무겉절이\n",
      "포기김치\n",
      "\n",
      "--------------------\n"
     ]
    }
   ],
   "source": [
    "import requests as req\n",
    "from bs4 import BeautifulSoup as bs\n",
    "\n",
    "\n",
    "url = 'https://www.pusan.ac.kr/kor/CMS/MenuMgr/menuListOnBuilding.do?mCode=MN202'\n",
    "headers = {'User-Agent':'Mozilla/5.0 (Windows NT 10.0; Win64; x64) AppleWebKit/537.36 (KHTML, like Gecko) Chrome/132.0.0.0 Safari/537.36'}\n",
    "\n",
    "web = req.get(url, headers = headers)\n",
    "soup = bs(web.content, 'html5lib')\n",
    "# print(soup)\n",
    "menucard = soup.select('.menu-tbl')\n",
    "# print(menucard)\n",
    "won = soup.select('.menu-tit01')\n",
    "# print(won)\n",
    "menu = soup.select('.menu-tit01+p')\n",
    "# print(menu)\n",
    "day = soup.select('.day') \n",
    "date = soup.select('.date') \n",
    "for d, dd, w, m in zip (day, date, won, menu):\n",
    "    print(d.text, dd.text)\n",
    "    print(w.text+'\\n'+m.text)\n",
    "    print('-'*20)"
   ]
  },
  {
   "cell_type": "code",
   "execution_count": 20,
   "id": "533ced2b-419a-46e7-a5a1-e033e5b88eb8",
   "metadata": {},
   "outputs": [
    {
     "name": "stdout",
     "output_type": "stream",
     "text": [
      "월 2025.02.17\n",
      "정식-5,500원\n",
      "강황밥\n",
      "김치콩나물국\n",
      "돈육바싹불고기\n",
      "모듬잡채\n",
      "멸치새우견과볶음\n",
      "상추겉절이\n",
      "포기김치\n",
      "\n",
      "--------------------\n",
      "화 2025.02.18\n",
      "정식-5,500원\n",
      "백미밥\n",
      "물만두국\n",
      "순살닭매콤조림\n",
      "쫄면야채무침\n",
      "파래무무침\n",
      "참나물겉절이\n",
      "포기김치\n",
      "\n",
      "--------------------\n",
      "수 2025.02.19\n",
      "정식-5,500원\n",
      "백미밥\n",
      "모듬어묵국\n",
      "함박스테이크/치즈/소스\n",
      "스파게티/소스\n",
      "치커리유자청샐러드\n",
      "콩나물무침\n",
      "포기김치\n",
      "\n",
      "--------------------\n",
      "목 2025.02.20\n",
      "정식-5,500원\n",
      "잡곡밥\n",
      "홍합미역국\n",
      "순살치킨/맛초킹소스\n",
      "꼬시레기두부무침\n",
      "잡채어묵조림\n",
      "상추겉절이\n",
      "포기김치\n",
      "\n",
      "--------------------\n",
      "금 2025.02.21\n",
      "정식-5,500원\n",
      "백미밥\n",
      "국수\n",
      "깐풍기/소스\n",
      "알감자버터구이\n",
      "도토리묵김치무침\n",
      "열무겉절이\n",
      "포기김치\n",
      "\n",
      "--------------------\n"
     ]
    }
   ],
   "source": [
    "import bab\n",
    "bab.bbab()"
   ]
  },
  {
   "cell_type": "code",
   "execution_count": 12,
   "id": "8c18c6ba-85f1-45ac-9162-2c39a80c8dba",
   "metadata": {},
   "outputs": [
    {
     "name": "stdout",
     "output_type": "stream",
     "text": [
      "1위: REBEL HEART / IVE (아이브)\n",
      "2위: 나는 반딧불 / 황가람\n",
      "3위: HOME SWEET HOME (Feat. 태양 & 대성) / G-DRAGON\n",
      "4위: Whiplash / aespa\n",
      "5위: APT. / 로제 (ROSÉ) & Bruno Mars\n",
      "6위: Drowning / WOODZ\n",
      "7위: ATTITUDE / IVE (아이브)\n",
      "8위: 모르시나요 (Prod. by 로코베리) / 조째즈\n",
      "9위: HAPPY / DAY6 (데이식스)\n",
      "10위: 내게 사랑이 뭐냐고 물어본다면 / 로이킴\n",
      "11위: toxic till the end / 로제 (ROSÉ)\n",
      "12위: POWER / G-DRAGON\n",
      "13위: 내 이름 맑음 / QWER\n",
      "14위: Welcome to the Show / DAY6 (데이식스)\n",
      "15위: 한 페이지가 될 수 있게 / DAY6 (데이식스)\n",
      "16위: 소나기 / 이클립스 (ECLIPSE)\n",
      "17위: Supernova / aespa\n",
      "18위: 너와의 모든 지금 / 재쓰비 (JAESSBEE)\n",
      "19위: 오늘만 I LOVE YOU / BOYNEXTDOOR\n",
      "20위: 고민중독 / QWER\n",
      "21위: 예뻤어 / DAY6 (데이식스)\n",
      "22위: 슬픈 초대장 / 순순희 (지환)\n",
      "23위: 천상연 / 이창섭\n",
      "24위: UP (KARINA Solo) / aespa\n",
      "25위: DRIP / BABYMONSTER\n",
      "26위: 사랑은 늘 도망가 / 임영웅\n",
      "27위: Die With A Smile / Lady Gaga & Bruno Mars\n",
      "28위: 에피소드 / 이무진\n",
      "29위: 나는 아픈 건 딱 질색이니까 / (여자)아이들\n",
      "30위: How Sweet / NewJeans\n",
      "31위: 비의 랩소디 / 임재현\n",
      "32위: Mantra / 제니 (JENNIE)\n",
      "33위: Love wins all / 아이유 (IU)\n",
      "34위: 어떻게 이별까지 사랑하겠어, 널 사랑하는 거지 / AKMU (악뮤)\n",
      "35위: 첫 만남은 계획대로 되지 않아 / TWS (투어스)\n",
      "36위: 봄여름가을겨울 (Still Life) / BIGBANG (빅뱅)\n",
      "37위: 미치게 그리워서 / 황가람\n",
      "38위: 청춘만화 / 이무진\n",
      "39위: Small girl (Feat. 도경수 (D.O.)) / 이영지\n",
      "40위: I AM / IVE (아이브)\n",
      "41위: 헤어지자 말해요 / 박재정\n",
      "42위: Magnetic / 아일릿 (ILLIT)\n",
      "43위: 이제 나만 믿어요 / 임영웅\n",
      "44위: 심 (心) / DK (디셈버)\n",
      "45위: Storm / 김보경 (NEON)\n",
      "46위: 해야 (HEYA) / IVE (아이브)\n",
      "47위: 다정히 내 이름을 부르면 / 경서예지 & 전건호\n",
      "48위: 클락션 (Klaxon) / (여자)아이들\n",
      "49위: 너의 모든 순간 / 성시경\n",
      "50위: 우리들의 블루스 / 임영웅\n"
     ]
    }
   ],
   "source": [
    "import requests as req\n",
    "from bs4 import BeautifulSoup as bs\n",
    "url = \"https://www.genie.co.kr/chart/top200\"\n",
    "headers = {'User-Agent':'Mozilla/5.0 (Windows NT 10.0; Win64; x64) AppleWebKit/537.36 (KHTML, like Gecko) Chrome/133.0.0.0 Safari/537.36 Edg/133.0.0.0'}\n",
    "web = req.get(url, headers = headers)\n",
    "soup = bs(web.content, 'html.parser')\n",
    "#위에서 여기까지 쭉 적어주기\n",
    "title = soup.select('.info .title') #앞은 상위, 띄어쓰기 하고 뒤에 하위를 적어주면 된다\n",
    "artist = soup.select('.info .artist')\n",
    "# print(title)\n",
    "for i,(t,a) in enumerate(zip(title,artist),1):\n",
    "    print(f'{i}위: {t.text.strip()} / {a.text.strip()}') #strip()공백 없앰"
   ]
  },
  {
   "cell_type": "code",
   "execution_count": 15,
   "id": "740b067d-a88f-4345-bb9c-fc39028358fd",
   "metadata": {},
   "outputs": [
    {
     "name": "stdout",
     "output_type": "stream",
     "text": [
      "Collecting python-telegram-bot\n",
      "  Downloading python_telegram_bot-21.10-py3-none-any.whl.metadata (17 kB)\n",
      "Requirement already satisfied: httpx~=0.27 in c:\\users\\admin\\appdata\\local\\programs\\python\\python313\\lib\\site-packages (from python-telegram-bot) (0.28.1)\n",
      "Requirement already satisfied: anyio in c:\\users\\admin\\appdata\\local\\programs\\python\\python313\\lib\\site-packages (from httpx~=0.27->python-telegram-bot) (4.8.0)\n",
      "Requirement already satisfied: certifi in c:\\users\\admin\\appdata\\local\\programs\\python\\python313\\lib\\site-packages (from httpx~=0.27->python-telegram-bot) (2025.1.31)\n",
      "Requirement already satisfied: httpcore==1.* in c:\\users\\admin\\appdata\\local\\programs\\python\\python313\\lib\\site-packages (from httpx~=0.27->python-telegram-bot) (1.0.7)\n",
      "Requirement already satisfied: idna in c:\\users\\admin\\appdata\\local\\programs\\python\\python313\\lib\\site-packages (from httpx~=0.27->python-telegram-bot) (3.10)\n",
      "Requirement already satisfied: h11<0.15,>=0.13 in c:\\users\\admin\\appdata\\local\\programs\\python\\python313\\lib\\site-packages (from httpcore==1.*->httpx~=0.27->python-telegram-bot) (0.14.0)\n",
      "Requirement already satisfied: sniffio>=1.1 in c:\\users\\admin\\appdata\\local\\programs\\python\\python313\\lib\\site-packages (from anyio->httpx~=0.27->python-telegram-bot) (1.3.1)\n",
      "Downloading python_telegram_bot-21.10-py3-none-any.whl (669 kB)\n",
      "   ---------------------------------------- 0.0/669.5 kB ? eta -:--:--\n",
      "   ---------------------------------------- 669.5/669.5 kB 4.9 MB/s eta 0:00:00\n",
      "Installing collected packages: python-telegram-bot\n",
      "Successfully installed python-telegram-bot-21.10\n"
     ]
    }
   ],
   "source": [
    "!pip install python-telegram-bot"
   ]
  },
  {
   "cell_type": "code",
   "execution_count": 1,
   "id": "32e4abc0-1151-4490-945e-ee9502c569b9",
   "metadata": {},
   "outputs": [
    {
     "name": "stdout",
     "output_type": "stream",
     "text": [
      "봇이 실행중입니다.\n"
     ]
    }
   ],
   "source": [
    "import asyncio\n",
    "import nest_asyncio #주피터랩용\n",
    "from dotenv import load_dotenv\n",
    "import os\n",
    "\n",
    "# .env 파일 로드\n",
    "load_dotenv()\n",
    "\n",
    "\n",
    "from telegram import Update\n",
    "from telegram.ext import Application, CommandHandler, MessageHandler, filters, CallbackContext\n",
    "nest_asyncio.apply()\n",
    "\n",
    "TELEGRAM_TOKEN = os.getenv(\"TELEGRAM_TOKEN\")\n",
    "\n",
    "# async def start(update: Update, context: CallbackContext):\n",
    "async def start(update, context):\n",
    "    await context.bot.send_message(chat_id=update.effective_chat.id, text='봇이 가동되었습니다!')\n",
    "\n",
    "# async def handle_message(update: Update, context: CallbackContext):\n",
    "async def handle_message(update, context):\n",
    "    user_message = update.message.text.lower() #Text -> text\n",
    "\n",
    "    if '선생님' in user_message:\n",
    "        response='수업 열심히 해봅시다!'\n",
    "    elif '날씨' in user_message:\n",
    "        response='오늘은 추워요~'\n",
    "    print(response)\n",
    "\n",
    "    #응답 메시지 전송\n",
    "    await context.bot.send_message(chat_id=update.effective_chat.id, text=response)\n",
    "\n",
    "async def main():\n",
    "    application = Application.builder().token(TELEGRAM_TOKEN).build()\n",
    "    await application.initialize() #초기화 필수\n",
    "\n",
    "    #핸들러 추가\n",
    "    application.add_handler(CommandHandler('start',start))\n",
    "    application.add_handler(MessageHandler(filters.TEXT & ~filters.COMMAND, handle_message))\n",
    "\n",
    "    await application.start()\n",
    "    print('봇이 실행중입니다.')\n",
    "\n",
    "    await application.updater.start_polling()\n",
    "\n",
    "if __name__=='__main__':\n",
    "    asyncio.run(main())"
   ]
  },
  {
   "cell_type": "code",
   "execution_count": 3,
   "id": "7918c8da-86f3-4bd5-b3c5-c1735f0f32f5",
   "metadata": {},
   "outputs": [
    {
     "data": {
      "text/plain": [
       "<coroutine object main at 0x000001A6F6BFA6C0>"
      ]
     },
     "execution_count": 3,
     "metadata": {},
     "output_type": "execute_result"
    }
   ],
   "source": [
    "import bot\n",
    "bot.main()"
   ]
  },
  {
   "cell_type": "code",
   "execution_count": 2,
   "id": "2d37d36e-7fe0-4fef-bd19-e32bfa4d9a6a",
   "metadata": {},
   "outputs": [
    {
     "name": "stdout",
     "output_type": "stream",
     "text": [
      "□  (종합) 대기 매우 건조, 기온 낮아 춥겠음, 강풍 및 풍랑 유의\n",
      "○  (오늘, 21일) 구름많다가 오후에 맑아짐\n",
      "○  (내일, 22일) 대체로 맑음\n",
      "○  (모레, 23일) 대체로 맑겠으나, 경남서부내륙 가끔 구름많음\n",
      "○  (글피, 24일) 대체로 맑음\n"
     ]
    }
   ],
   "source": [
    "import requests as req\n",
    "from bs4 import BeautifulSoup as bs #정적웹용\n",
    "url = \"https://www.weather.go.kr/w/weather/forecast/short-term.do?stnId=159\"\n",
    "# headers = {'User-Agent':'Mozilla/5.0 (Windows NT 10.0; Win64; x64) AppleWebKit/537.36 (KHTML, like Gecko) Chrome/133.0.0.0 Safari/537.36 Edg/133.0.0.0'}\n",
    "web = req.get(url)\n",
    "soup = bs(web.content, 'html.parser')\n",
    "#위에서 여기까지 쭉 적어주기\n",
    "# print(soup)\n",
    "summary = soup.select('p.summary') \n",
    "# print(summary) #배열로 가져옴\n",
    "# print(summary.text)-> 이터러블해서 바꿀 수 없다함 오류남\n",
    "# print(summary[0].text) -> 이렇게 적으면 겉의 대괄호가 벗겨지면서 해결 가능\n",
    "for s in summary:\n",
    "    print(s.text.replace('○','\\n○'))"
   ]
  },
  {
   "cell_type": "code",
   "execution_count": 40,
   "id": "ef48bdad-f021-4620-b55b-b39d120f6a4d",
   "metadata": {},
   "outputs": [
    {
     "name": "stdout",
     "output_type": "stream",
     "text": [
      "예보요소 :최저기온 / 최고기온\n",
      "평년(오늘): -5.1 ~ 2.1 / 9.0 ~ 11.7\n",
      "어제(20일): -9.7 ~ -2.0 / 4.4 ~ 8.8\n",
      "오늘(21일): - / 3 ~ 7\n",
      "내일(22일): -7 ~ -3 / 4 ~ 7\n",
      "모레(23일): -8 ~ -3 / 1 ~ 5\n",
      "글피(24일): -9 ~ -4 / 5 ~ 8\n"
     ]
    }
   ],
   "source": [
    "# tb = soup.select_one('.table-col')\n",
    "tb = soup.select('.table-col')[0]\n",
    "# print(tb[0].text)\n",
    "# print(tb.text)\n",
    "data = tb.select('tr')\n",
    "# print(data)\n",
    "header = data[0].select('th')\n",
    "line1 = ['최저기온'] + data[1].select('td')\n",
    "line2 = ['최고기온'] + data[2].select('td')\n",
    "raw_data = []\n",
    "# print(header) \n",
    "# print(line1) \n",
    "# print(line2) \n",
    "for h, l1, l2 in zip(header,line1,line2):\n",
    "    try:\n",
    "        out = h.text+': '+l1.text+' / '+l2.text\n",
    "        # raw_data.append(h.text, ':', l1.text, '/', l2.text) 원래는 이렇게 해야하는데 중복되니까 finally를 써도 됨\n",
    "    except:\n",
    "        out = h.text+' :'+l1+' / '+l2\n",
    "        # pass\n",
    "    finally:\n",
    "        print(out)\n",
    "        raw_data.append(out)"
   ]
  },
  {
   "cell_type": "code",
   "execution_count": 33,
   "id": "04edce42-08bc-4246-b98e-3701bc4284e3",
   "metadata": {},
   "outputs": [
    {
     "name": "stdout",
     "output_type": "stream",
     "text": [
      "Collecting pandas\n",
      "  Downloading pandas-2.2.3-cp313-cp313-win_amd64.whl.metadata (19 kB)\n",
      "Requirement already satisfied: numpy>=1.26.0 in c:\\users\\admin\\appdata\\local\\programs\\python\\python313\\lib\\site-packages (from pandas) (2.2.2)\n",
      "Requirement already satisfied: python-dateutil>=2.8.2 in c:\\users\\admin\\appdata\\local\\programs\\python\\python313\\lib\\site-packages (from pandas) (2.9.0.post0)\n",
      "Collecting pytz>=2020.1 (from pandas)\n",
      "  Downloading pytz-2025.1-py2.py3-none-any.whl.metadata (22 kB)\n",
      "Requirement already satisfied: tzdata>=2022.7 in c:\\users\\admin\\appdata\\local\\programs\\python\\python313\\lib\\site-packages (from pandas) (2025.1)\n",
      "Requirement already satisfied: six>=1.5 in c:\\users\\admin\\appdata\\local\\programs\\python\\python313\\lib\\site-packages (from python-dateutil>=2.8.2->pandas) (1.17.0)\n",
      "Downloading pandas-2.2.3-cp313-cp313-win_amd64.whl (11.5 MB)\n",
      "   ---------------------------------------- 0.0/11.5 MB ? eta -:--:--\n",
      "   -------------------- ------------------- 5.8/11.5 MB 31.0 MB/s eta 0:00:01\n",
      "   -------------------------------------- - 11.0/11.5 MB 28.2 MB/s eta 0:00:01\n",
      "   ---------------------------------------- 11.5/11.5 MB 25.3 MB/s eta 0:00:00\n",
      "Downloading pytz-2025.1-py2.py3-none-any.whl (507 kB)\n",
      "Installing collected packages: pytz, pandas\n",
      "Successfully installed pandas-2.2.3 pytz-2025.1\n"
     ]
    }
   ],
   "source": [
    "!pip install pandas"
   ]
  },
  {
   "cell_type": "code",
   "execution_count": 51,
   "id": "49bbc7b3-b473-43f8-85c8-d21ce63b020c",
   "metadata": {},
   "outputs": [],
   "source": [
    "import pandas as pd\n",
    "# print(raw_data)\n",
    "# 데이터 파싱작업\n",
    "parsed_data = []\n",
    "for entry in raw_data[1:]:\n",
    "   # print(entry.split(':'))\n",
    "    date, temps = entry.split(':')\n",
    "    low_temp, high_temp = temps.split('/')\n",
    "    parsed_data.append([date.strip(),low_temp.strip(),high_temp.strip()])\n",
    "# parsed_data\n",
    "\n",
    "#데이터프레임 생성\n",
    "df = pd.DataFrame(parsed_data, columns=['날짜','최저기온','최고기온'])\n",
    "# df.to_csv('weather.csv',index=False, encoding='utf-8') -엑셀에서 글자깨짐\n",
    "df.to_csv('weather_x.csv',index=False, encoding='utf-8-sig')"
   ]
  },
  {
   "cell_type": "code",
   "execution_count": 54,
   "id": "3f6320ad-a1ba-4027-a34e-fc7bd15c2b71",
   "metadata": {},
   "outputs": [
    {
     "data": {
      "text/html": [
       "<div>\n",
       "<style scoped>\n",
       "    .dataframe tbody tr th:only-of-type {\n",
       "        vertical-align: middle;\n",
       "    }\n",
       "\n",
       "    .dataframe tbody tr th {\n",
       "        vertical-align: top;\n",
       "    }\n",
       "\n",
       "    .dataframe thead th {\n",
       "        text-align: right;\n",
       "    }\n",
       "</style>\n",
       "<table border=\"1\" class=\"dataframe\">\n",
       "  <thead>\n",
       "    <tr style=\"text-align: right;\">\n",
       "      <th></th>\n",
       "      <th>날짜</th>\n",
       "      <th>최저기온</th>\n",
       "      <th>최고기온</th>\n",
       "    </tr>\n",
       "  </thead>\n",
       "  <tbody>\n",
       "    <tr>\n",
       "      <th>0</th>\n",
       "      <td>평년(오늘)</td>\n",
       "      <td>-5.1 ~ 2.1</td>\n",
       "      <td>9.0 ~ 11.7</td>\n",
       "    </tr>\n",
       "    <tr>\n",
       "      <th>1</th>\n",
       "      <td>어제(20일)</td>\n",
       "      <td>-9.7 ~ -2.0</td>\n",
       "      <td>4.4 ~ 8.8</td>\n",
       "    </tr>\n",
       "    <tr>\n",
       "      <th>2</th>\n",
       "      <td>오늘(21일)</td>\n",
       "      <td>-</td>\n",
       "      <td>3 ~ 7</td>\n",
       "    </tr>\n",
       "    <tr>\n",
       "      <th>3</th>\n",
       "      <td>내일(22일)</td>\n",
       "      <td>-7 ~ -3</td>\n",
       "      <td>4 ~ 7</td>\n",
       "    </tr>\n",
       "    <tr>\n",
       "      <th>4</th>\n",
       "      <td>모레(23일)</td>\n",
       "      <td>-8 ~ -3</td>\n",
       "      <td>1 ~ 5</td>\n",
       "    </tr>\n",
       "    <tr>\n",
       "      <th>5</th>\n",
       "      <td>글피(24일)</td>\n",
       "      <td>-9 ~ -4</td>\n",
       "      <td>5 ~ 8</td>\n",
       "    </tr>\n",
       "  </tbody>\n",
       "</table>\n",
       "</div>"
      ],
      "text/plain": [
       "        날짜          최저기온         최고기온\n",
       "0   평년(오늘)   -5.1 ~ 2.1    9.0 ~ 11.7\n",
       "1  어제(20일)  -9.7 ~ -2.0     4.4 ~ 8.8\n",
       "2  오늘(21일)            -         3 ~ 7\n",
       "3  내일(22일)      -7 ~ -3         4 ~ 7\n",
       "4  모레(23일)      -8 ~ -3         1 ~ 5\n",
       "5  글피(24일)      -9 ~ -4         5 ~ 8"
      ]
     },
     "execution_count": 54,
     "metadata": {},
     "output_type": "execute_result"
    }
   ],
   "source": [
    "df = pd.DataFrame( [entry.split(':')[0].strip(),*entry.split(':')[1].strip().split('/')] for entry in raw_data[1:])\n",
    "df.columns=['날짜','최저기온','최고기온']\n",
    "df"
   ]
  },
  {
   "cell_type": "code",
   "execution_count": null,
   "id": "a5402a79-b7ae-45f7-bc2e-553368ee2ef4",
   "metadata": {},
   "outputs": [],
   "source": []
  }
 ],
 "metadata": {
  "kernelspec": {
   "display_name": "Python 3 (ipykernel)",
   "language": "python",
   "name": "python3"
  },
  "language_info": {
   "codemirror_mode": {
    "name": "ipython",
    "version": 3
   },
   "file_extension": ".py",
   "mimetype": "text/x-python",
   "name": "python",
   "nbconvert_exporter": "python",
   "pygments_lexer": "ipython3",
   "version": "3.13.1"
  }
 },
 "nbformat": 4,
 "nbformat_minor": 5
}
