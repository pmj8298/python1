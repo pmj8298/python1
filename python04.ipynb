{
 "cells": [
  {
   "cell_type": "markdown",
   "id": "e1a0b656-7821-4706-bd8a-505adf805146",
   "metadata": {},
   "source": [
    "# 함수"
   ]
  },
  {
   "cell_type": "code",
   "execution_count": 1,
   "id": "fbf274a5-14cd-42ee-a6f8-f6ec0fec1b10",
   "metadata": {},
   "outputs": [],
   "source": [
    "def 덧셈(a,b):\n",
    "    return a+b"
   ]
  },
  {
   "cell_type": "code",
   "execution_count": 2,
   "id": "ddf336cf-81e5-45d0-ac33-6be296bd1003",
   "metadata": {},
   "outputs": [
    {
     "name": "stdout",
     "output_type": "stream",
     "text": [
      "7\n"
     ]
    }
   ],
   "source": [
    "c = 덧셈(3,4)\n",
    "print(c)"
   ]
  },
  {
   "cell_type": "code",
   "execution_count": 6,
   "id": "6704f405-6b3a-451d-a03a-63e1cb8cad19",
   "metadata": {},
   "outputs": [
    {
     "name": "stdout",
     "output_type": "stream",
     "text": [
      "[3, 9, 10, 31, 32, 35] 6\n"
     ]
    }
   ],
   "source": [
    "import random\n",
    "def 로또():\n",
    "# def 로또(파라미터, 매개변수):\n",
    "    box = []\n",
    "    while len(box) < 6:\n",
    "        ran = random.randint(1,46)\n",
    "        if ran not in box:\n",
    "            box.append(ran)\n",
    "    \n",
    "    box.sort()\n",
    "    print(box,len(box))\n",
    "로또()"
   ]
  },
  {
   "cell_type": "code",
   "execution_count": 5,
   "id": "b1bab2a2-54b4-4eca-9bf5-c75864f91208",
   "metadata": {},
   "outputs": [
    {
     "name": "stdout",
     "output_type": "stream",
     "text": [
      "[6, 7, 11, 27, 31, 44] 6\n",
      "[11, 21, 22, 26, 30, 42] 6\n",
      "[19, 24, 30, 33, 34, 46] 6\n",
      "[4, 8, 20, 22, 24, 26] 6\n",
      "[12, 16, 19, 21, 23, 26] 6\n"
     ]
    }
   ],
   "source": [
    "for n in range(5):\n",
    "    로또()"
   ]
  },
  {
   "cell_type": "code",
   "execution_count": 8,
   "id": "44b98271-cd16-4d4d-ad72-36c7189e5850",
   "metadata": {},
   "outputs": [
    {
     "name": "stdout",
     "output_type": "stream",
     "text": [
      "[2, 4, 7, 14, 23, 31] 6\n"
     ]
    }
   ],
   "source": [
    "import random\n",
    "def 로또(파라미터=6, 매개변수=46):\n",
    "    box = []\n",
    "    while len(box) < 파라미터:\n",
    "        ran = random.randint(1,매개변수)\n",
    "        if ran not in box:\n",
    "            box.append(ran)\n",
    "    \n",
    "    box.sort()\n",
    "    print(box,len(box))\n",
    "로또()"
   ]
  },
  {
   "cell_type": "code",
   "execution_count": 12,
   "id": "1624e3e6-d8f6-459f-ace1-02b4c774aa4a",
   "metadata": {},
   "outputs": [
    {
     "name": "stdout",
     "output_type": "stream",
     "text": [
      "====2단====\n",
      "2 x 1 = 2\n",
      "2 x 2 = 4\n",
      "2 x 3 = 6\n",
      "2 x 4 = 8\n",
      "2 x 5 = 10\n",
      "2 x 6 = 12\n",
      "2 x 7 = 14\n",
      "2 x 8 = 16\n",
      "2 x 9 = 18\n",
      "====3단====\n",
      "3 x 1 = 3\n",
      "3 x 2 = 6\n",
      "3 x 3 = 9\n",
      "3 x 4 = 12\n",
      "3 x 5 = 15\n",
      "3 x 6 = 18\n",
      "3 x 7 = 21\n",
      "3 x 8 = 24\n",
      "3 x 9 = 27\n",
      "====4단====\n",
      "4 x 1 = 4\n",
      "4 x 2 = 8\n",
      "4 x 3 = 12\n",
      "4 x 4 = 16\n",
      "4 x 5 = 20\n",
      "4 x 6 = 24\n",
      "4 x 7 = 28\n",
      "4 x 8 = 32\n",
      "4 x 9 = 36\n",
      "====5단====\n",
      "5 x 1 = 5\n",
      "5 x 2 = 10\n",
      "5 x 3 = 15\n",
      "5 x 4 = 20\n",
      "5 x 5 = 25\n",
      "5 x 6 = 30\n",
      "5 x 7 = 35\n",
      "5 x 8 = 40\n",
      "5 x 9 = 45\n",
      "====6단====\n",
      "6 x 1 = 6\n",
      "6 x 2 = 12\n",
      "6 x 3 = 18\n",
      "6 x 4 = 24\n",
      "6 x 5 = 30\n",
      "6 x 6 = 36\n",
      "6 x 7 = 42\n",
      "6 x 8 = 48\n",
      "6 x 9 = 54\n",
      "====7단====\n",
      "7 x 1 = 7\n",
      "7 x 2 = 14\n",
      "7 x 3 = 21\n",
      "7 x 4 = 28\n",
      "7 x 5 = 35\n",
      "7 x 6 = 42\n",
      "7 x 7 = 49\n",
      "7 x 8 = 56\n",
      "7 x 9 = 63\n",
      "====8단====\n",
      "8 x 1 = 8\n",
      "8 x 2 = 16\n",
      "8 x 3 = 24\n",
      "8 x 4 = 32\n",
      "8 x 5 = 40\n",
      "8 x 6 = 48\n",
      "8 x 7 = 56\n",
      "8 x 8 = 64\n",
      "8 x 9 = 72\n",
      "====9단====\n",
      "9 x 1 = 9\n",
      "9 x 2 = 18\n",
      "9 x 3 = 27\n",
      "9 x 4 = 36\n",
      "9 x 5 = 45\n",
      "9 x 6 = 54\n",
      "9 x 7 = 63\n",
      "9 x 8 = 72\n",
      "9 x 9 = 81\n"
     ]
    }
   ],
   "source": [
    "def gugu():\n",
    "    for j in range(2,10):\n",
    "        print(f'{str(j)+'단':=^10}')\n",
    "        for i in range(1,10):\n",
    "            print(f'{j} x {i} = {j * i}')\n",
    "gugu()"
   ]
  },
  {
   "cell_type": "code",
   "execution_count": 15,
   "id": "86cf0cc3-baf3-48e3-8b90-30ed8263d001",
   "metadata": {},
   "outputs": [
    {
     "name": "stdout",
     "output_type": "stream",
     "text": [
      "====2단====\n",
      "2 x 1 = 2\n",
      "2 x 2 = 4\n",
      "2 x 3 = 6\n",
      "2 x 4 = 8\n",
      "2 x 5 = 10\n",
      "2 x 6 = 12\n",
      "2 x 7 = 14\n",
      "2 x 8 = 16\n",
      "2 x 9 = 18\n",
      "====3단====\n",
      "3 x 1 = 3\n",
      "3 x 2 = 6\n",
      "3 x 3 = 9\n",
      "3 x 4 = 12\n",
      "3 x 5 = 15\n",
      "3 x 6 = 18\n",
      "3 x 7 = 21\n",
      "3 x 8 = 24\n",
      "3 x 9 = 27\n"
     ]
    }
   ],
   "source": [
    "def gugu(end=9):\n",
    "    for j in range(2,end+1):\n",
    "        print(f'{str(j)+'단':=^10}')\n",
    "        for i in range(1,10):\n",
    "            print(f'{j} x {i} = {j * i}')\n",
    "gugu(3)"
   ]
  },
  {
   "cell_type": "code",
   "execution_count": 23,
   "id": "06ac467f-5320-4699-b4b9-3891af2865ec",
   "metadata": {},
   "outputs": [
    {
     "name": "stdout",
     "output_type": "stream",
     "text": [
      "====2단====\n"
     ]
    },
    {
     "data": {
      "text/plain": [
       "'2 x 1 = 2'"
      ]
     },
     "execution_count": 23,
     "metadata": {},
     "output_type": "execute_result"
    }
   ],
   "source": [
    "def gugu(end=9):\n",
    "    for j in range(2,end+1):\n",
    "        print(f'{str(j)+'단':=^10}')\n",
    "        for i in range(1,10):\n",
    "            return(f'{j} x {i} = {j * i}')\n",
    "gugu(3)\n",
    "\n",
    "\n",
    "# ====2단====\n",
    "# '2 x 1 = 2'\n",
    "# 결과값이 일부만 나오기 때문에 for 안에 return값이 들어가는 것은 주의해야 한다."
   ]
  },
  {
   "cell_type": "code",
   "execution_count": 22,
   "id": "5f594124-c70b-41ba-9a27-a2c7cb8cf129",
   "metadata": {},
   "outputs": [
    {
     "name": "stdout",
     "output_type": "stream",
     "text": [
      "====2단====\n",
      "2 x 1 = 2\n",
      "2 x 2 = 4\n",
      "2 x 3 = 6\n",
      "2 x 4 = 8\n",
      "2 x 5 = 10\n",
      "2 x 6 = 12\n",
      "2 x 7 = 14\n",
      "2 x 8 = 16\n",
      "2 x 9 = 18\n",
      "\n"
     ]
    }
   ],
   "source": [
    "def gugu(end=9):\n",
    "    data = ''\n",
    "    for j in range(2,end+1):\n",
    "        print(f'{str(j)+'단':=^10}')\n",
    "        for i in range(1,10):\n",
    "            data += (f'{j} x {i} = {j * i}') + '\\n'\n",
    "    return data\n",
    "print(gugu(2))"
   ]
  },
  {
   "cell_type": "markdown",
   "id": "e1b16258-fe42-4765-bed0-0e25d9d8c5c5",
   "metadata": {},
   "source": [
    "## 입력값과 리턴값에 따른 함수의 형태"
   ]
  },
  {
   "cell_type": "code",
   "execution_count": 27,
   "id": "016d3612-0d50-43a5-b04c-c530e0462c75",
   "metadata": {},
   "outputs": [],
   "source": [
    "# 일반적인 함수\n",
    "def add(a,b):\n",
    "    result = a + b\n",
    "    return result"
   ]
  },
  {
   "cell_type": "code",
   "execution_count": 26,
   "id": "3f240a01-453c-4825-b76f-8f71a34f5c1e",
   "metadata": {},
   "outputs": [
    {
     "name": "stdout",
     "output_type": "stream",
     "text": [
      "87\n"
     ]
    }
   ],
   "source": [
    "a = add(77,10)\n",
    "print(a)"
   ]
  },
  {
   "cell_type": "code",
   "execution_count": 28,
   "id": "da5834c7-7d81-4a31-92a0-1626af04ba77",
   "metadata": {},
   "outputs": [],
   "source": [
    "# 입력값이 없는 함수\n",
    "def say():\n",
    "    return '안녕'"
   ]
  },
  {
   "cell_type": "code",
   "execution_count": 29,
   "id": "df557340-8d4c-47ab-8d9d-42e5641dc7a4",
   "metadata": {},
   "outputs": [
    {
     "name": "stdout",
     "output_type": "stream",
     "text": [
      "안녕\n"
     ]
    }
   ],
   "source": [
    "a = say()\n",
    "print(a)"
   ]
  },
  {
   "cell_type": "code",
   "execution_count": 30,
   "id": "f68e11e1-0597-413e-81bb-7d68074891a4",
   "metadata": {},
   "outputs": [],
   "source": [
    "# 리턴값이 없는 함수\n",
    "def add(a,b):\n",
    "    print('%d, %d의 합은 %d 입니다.' %(a,b,(a+b)))"
   ]
  },
  {
   "cell_type": "code",
   "execution_count": 31,
   "id": "07240d43-e8d2-4e9a-97ba-c4e0f894a266",
   "metadata": {},
   "outputs": [
    {
     "name": "stdout",
     "output_type": "stream",
     "text": [
      "11, 33의 합은 44 입니다.\n"
     ]
    }
   ],
   "source": [
    "add(11,33)"
   ]
  },
  {
   "cell_type": "code",
   "execution_count": 32,
   "id": "53e0c175-6849-466c-b4af-e5c4e546abc5",
   "metadata": {},
   "outputs": [],
   "source": [
    "# 입력값과 리턴값이 없는 함수\n",
    "def say():\n",
    "    print('안녕')\n",
    "    print('입력값과 리턴값이 없어요')\n",
    "    print('빠이')"
   ]
  },
  {
   "cell_type": "code",
   "execution_count": 36,
   "id": "684a9eec-a9e8-4dda-9223-b58c0c09f250",
   "metadata": {},
   "outputs": [
    {
     "name": "stdout",
     "output_type": "stream",
     "text": [
      "안녕\n",
      "입력값과 리턴값이 없어요\n",
      "빠이\n"
     ]
    }
   ],
   "source": [
    "say()"
   ]
  },
  {
   "cell_type": "code",
   "execution_count": 41,
   "id": "9d389132-c587-4973-aa5e-f07447429c5e",
   "metadata": {},
   "outputs": [],
   "source": [
    "# 테스트\n",
    "import time as t\n",
    "def disp():\n",
    "    print('안녕\\r',end='')\n",
    "    t.sleep(1)\n",
    "    print('입력값과 리턴값이 없어요\\r',end='')\n",
    "    t.sleep(1)\n",
    "    print('빠이                      ',end='')   \n",
    "    t.sleep(1)"
   ]
  },
  {
   "cell_type": "code",
   "execution_count": 42,
   "id": "7c1c76ea-5568-4537-9f03-9fb3753ce817",
   "metadata": {},
   "outputs": [
    {
     "name": "stdout",
     "output_type": "stream",
     "text": [
      "빠이                      "
     ]
    }
   ],
   "source": [
    "disp()"
   ]
  },
  {
   "cell_type": "code",
   "execution_count": 44,
   "id": "0e250d8a-ff5e-442c-91fe-065948cc2164",
   "metadata": {},
   "outputs": [
    {
     "name": "stdout",
     "output_type": "stream",
     "text": [
      "99\n"
     ]
    }
   ],
   "source": [
    "def aa(li=[33,44,55,11,99]):\n",
    "    sw = 0\n",
    "    for x in range(len(li)):\n",
    "        if sw < li[x]:\n",
    "            sw = li[x]\n",
    "    return sw\n",
    "print(aa())"
   ]
  },
  {
   "cell_type": "code",
   "execution_count": 45,
   "id": "028ac256-0de6-46ef-9b00-990da672775b",
   "metadata": {},
   "outputs": [
    {
     "name": "stdout",
     "output_type": "stream",
     "text": [
      "85\n"
     ]
    }
   ],
   "source": [
    "print(aa([8,7,56,7,85,1,2,7,5,13,12]))"
   ]
  },
  {
   "cell_type": "code",
   "execution_count": 46,
   "id": "e8d8329c-a760-444d-8f4d-16ddba6533d8",
   "metadata": {},
   "outputs": [],
   "source": [
    "# 매개변수를 지정하여 호출하기\n",
    "def sub(a,b):\n",
    "    return a-b"
   ]
  },
  {
   "cell_type": "code",
   "execution_count": 49,
   "id": "e6532626-8a63-4cf2-b5dc-9a6fd8a3496a",
   "metadata": {},
   "outputs": [
    {
     "name": "stdout",
     "output_type": "stream",
     "text": [
      "4\n"
     ]
    }
   ],
   "source": [
    "# result = sub(a=7,b=3) 이름을 지정해서 입력하면 순서가 달라져도 상관 없다\n",
    "result = sub(b=3,a=7)\n",
    "print(result)"
   ]
  },
  {
   "cell_type": "code",
   "execution_count": 6,
   "id": "e967c192-ad69-48b1-840d-9ceb2d6191f8",
   "metadata": {},
   "outputs": [],
   "source": [
    "# !pip install matplotlib"
   ]
  },
  {
   "cell_type": "code",
   "execution_count": 24,
   "id": "5d8f789b-4aa8-41a5-b53b-b05ee09b2874",
   "metadata": {},
   "outputs": [],
   "source": [
    "import random as r\n",
    "import matplotlib.pyplot as plt\n",
    "def dice(num1 = 250000):\n",
    "    box = []\n",
    "    num = 0\n",
    "    results = {}\n",
    "    while num < num1:\n",
    "        num = num + 1\n",
    "        ran = r.randint(1,6)\n",
    "        box.append(ran)\n",
    "    # print(box, len(box))\n",
    "    # print(len(box))\n",
    "    \n",
    "    if num1 == len(box):\n",
    "        print(f'{num1}회 정상 진행되었습니다.')\n",
    "    else:\n",
    "        print(f'이상있습니다. 이유: {num1}회 목표로 동작하였으나, {len(box)}로 측정되었습니다') #while num <= num1: 되면 오류 뜸\n",
    "    \n",
    "    for n in range(1,7):\n",
    "        results[n] = box.count(n)\n",
    "        print(f'{n}번이 {box.count(n)}번 ({(box.count(n)/num1)*100:0.2f}%) 나왔습니다')\n",
    "    # print(results)\n",
    "    plt.bar(results.keys(), results.values(),color='lightpink')\n",
    "    plt.show()\n"
   ]
  },
  {
   "cell_type": "code",
   "execution_count": 25,
   "id": "beeb7dc4-077b-4c78-84c5-c922e77fc6b7",
   "metadata": {},
   "outputs": [
    {
     "name": "stdout",
     "output_type": "stream",
     "text": [
      "250000회 정상 진행되었습니다.\n",
      "1번이 41769번 (16.71%) 나왔습니다\n",
      "2번이 41573번 (16.63%) 나왔습니다\n",
      "3번이 41732번 (16.69%) 나왔습니다\n",
      "4번이 41567번 (16.63%) 나왔습니다\n",
      "5번이 41907번 (16.76%) 나왔습니다\n",
      "6번이 41452번 (16.58%) 나왔습니다\n"
     ]
    },
    {
     "data": {
      "image/png": "[encoded data removed]",
      "text/plain": [
       "<Figure size 640x480 with 1 Axes>"
      ]
     },
     "metadata": {},
     "output_type": "display_data"
    }
   ],
   "source": [
    "dice()\n",
    "# plt.bar(range(1,7),)"
   ]
  },
  {
   "cell_type": "code",
   "execution_count": 32,
   "id": "eeacaabe-ddb5-4dbd-9d32-a7e262e016b9",
   "metadata": {},
   "outputs": [],
   "source": [
    "# 참고용2\n",
    "import random\n",
    "import matplotlib.pyplot as plt\n",
    "def dic():\n",
    "    ls = []\n",
    "    la = []\n",
    "    how = 100\n",
    "    for h in range(how):\n",
    "        lotto = sorted(random.sample(range(1,46),6))\n",
    "        la.append(lotto)\n",
    "        ls = ls + lotto\n",
    "    # print(la, type(la))\n",
    "    \n",
    "    dic = {}\n",
    "    for n in range(1,46):\n",
    "       dic[f'num{n}'] = ls.count(n)\n",
    "        # print(f'숫자 {n}: 출현한 횟수는 {ls.count(n)}회 입니다.')\n",
    "    print(dic)\n",
    "    print(dic.values())\n",
    "    plt.bar(dic.keys(), dic.values(),color='lightpink')\n",
    "    plt.show()"
   ]
  },
  {
   "cell_type": "code",
   "execution_count": 33,
   "id": "9de953bd-b85a-4ae3-bc65-388d210a9b9c",
   "metadata": {},
   "outputs": [
    {
     "name": "stdout",
     "output_type": "stream",
     "text": [
      "{'num1': 13, 'num2': 15, 'num3': 11, 'num4': 16, 'num5': 14, 'num6': 17, 'num7': 16, 'num8': 11, 'num9': 15, 'num10': 15, 'num11': 12, 'num12': 15, 'num13': 18, 'num14': 7, 'num15': 13, 'num16': 13, 'num17': 7, 'num18': 12, 'num19': 15, 'num20': 13, 'num21': 14, 'num22': 12, 'num23': 12, 'num24': 14, 'num25': 10, 'num26': 15, 'num27': 14, 'num28': 16, 'num29': 18, 'num30': 8, 'num31': 18, 'num32': 11, 'num33': 6, 'num34': 16, 'num35': 20, 'num36': 19, 'num37': 11, 'num38': 13, 'num39': 14, 'num40': 14, 'num41': 10, 'num42': 12, 'num43': 10, 'num44': 14, 'num45': 11}\n",
      "dict_values([13, 15, 11, 16, 14, 17, 16, 11, 15, 15, 12, 15, 18, 7, 13, 13, 7, 12, 15, 13, 14, 12, 12, 14, 10, 15, 14, 16, 18, 8, 18, 11, 6, 16, 20, 19, 11, 13, 14, 14, 10, 12, 10, 14, 11])\n"
     ]
    },
    {
     "data": {
      "image/png": "[encoded data removed]",
      "text/plain": [
       "<Figure size 640x480 with 1 Axes>"
      ]
     },
     "metadata": {},
     "output_type": "display_data"
    }
   ],
   "source": [
    "dic()"
   ]
  },
  {
   "cell_type": "code",
   "execution_count": 47,
   "id": "4459b4ff-12be-423c-8226-a8f01d40b214",
   "metadata": {},
   "outputs": [],
   "source": [
    "# 여러개의 입력값을 받는 함수 만들기\n",
    "def add_many(args):\n",
    "    result = 0\n",
    "    for i in args:\n",
    "        result = result + i\n",
    "    return result"
   ]
  },
  {
   "cell_type": "code",
   "execution_count": 48,
   "id": "900badb5-a284-4588-83f0-c37323ec0436",
   "metadata": {},
   "outputs": [
    {
     "name": "stdout",
     "output_type": "stream",
     "text": [
      "6\n"
     ]
    }
   ],
   "source": [
    "print(add_many((1,2,3)))"
   ]
  },
  {
   "cell_type": "code",
   "execution_count": 44,
   "id": "b41516f4-b536-43b1-a2fa-51d9ab6e90ca",
   "metadata": {},
   "outputs": [],
   "source": [
    "def add_many(*args):\n",
    "    result = 0\n",
    "    for i in args:\n",
    "        result = result + i\n",
    "    return result"
   ]
  },
  {
   "cell_type": "code",
   "execution_count": 45,
   "id": "e56849cc-144d-41c4-9e64-dea005f589b6",
   "metadata": {},
   "outputs": [
    {
     "name": "stdout",
     "output_type": "stream",
     "text": [
      "6\n"
     ]
    }
   ],
   "source": [
    "print(add_many(1,2,3))"
   ]
  },
  {
   "cell_type": "code",
   "execution_count": 88,
   "id": "9bf9d058-3830-4428-81ef-8b6df1797bcb",
   "metadata": {},
   "outputs": [],
   "source": [
    "def add_mul(choice, *args):\n",
    "    if choice == 'add':\n",
    "        result = 0\n",
    "        for i in args:\n",
    "            result = result + i\n",
    "    elif choice == 'sub':\n",
    "        result = 0\n",
    "        for i in args:\n",
    "            result = result - i\n",
    "    elif choice == 'mul':\n",
    "        result = 1\n",
    "        for i in args:\n",
    "            result = result * i\n",
    "    elif choice == 'div':\n",
    "        result = 1\n",
    "        for i in args:\n",
    "            result = result / i\n",
    "    else:\n",
    "        result = choice\n",
    "        print('정확하게 입력하세요')\n",
    "    return result"
   ]
  },
  {
   "cell_type": "code",
   "execution_count": 89,
   "id": "8fcea96d-6ab6-467a-a838-80a1eca3251f",
   "metadata": {},
   "outputs": [
    {
     "name": "stdout",
     "output_type": "stream",
     "text": [
      "15\n",
      "-13\n",
      "120\n",
      "0.0011111111111111111\n"
     ]
    }
   ],
   "source": [
    "result = add_mul('add', 1,2,3,4,5)\n",
    "print(result)\n",
    "result = add_mul('sub', 7,4,1,1)\n",
    "print(result)\n",
    "result = add_mul('mul', 1,2,3,4,5)\n",
    "print(result)\n",
    "result = add_mul('div', 300,3)\n",
    "print(result)"
   ]
  },
  {
   "cell_type": "code",
   "execution_count": 96,
   "id": "5aeb0fa9-5e96-4875-a7ce-1c0a012224b7",
   "metadata": {},
   "outputs": [
    {
     "name": "stdout",
     "output_type": "stream",
     "text": [
      "{'name': 'foo', 'age': 3}\n"
     ]
    }
   ],
   "source": [
    "# 키워드 매개변수 kwargs\n",
    "def print_kwargs(**kwargs):\n",
    "    print(kwargs)\n",
    "print_kwargs(name='foo',age=3)"
   ]
  },
  {
   "cell_type": "code",
   "execution_count": 97,
   "id": "6643a5c9-ac09-468b-a8a7-520825d5f0f1",
   "metadata": {},
   "outputs": [
    {
     "name": "stdout",
     "output_type": "stream",
     "text": [
      "{'name': 'foo', 'age': 3}\n"
     ]
    }
   ],
   "source": [
    "def print_kwargs(kwargs):\n",
    "    print(kwargs)\n",
    "print_kwargs({'name':'foo','age':3})"
   ]
  },
  {
   "cell_type": "code",
   "execution_count": 1,
   "id": "b3500dcf-858e-4dc4-b12c-600994844539",
   "metadata": {},
   "outputs": [],
   "source": [
    "# test\n",
    "def test():\n",
    "    print('저야 영광이죠')\n",
    "    if True : return # return을 만나는 순간 그 밑으로는 다 필요 없는 애가 된다\n",
    "    print('집에 가고 싶어')"
   ]
  },
  {
   "cell_type": "code",
   "execution_count": 105,
   "id": "fc485d54-6637-493d-8a1e-3124686d6ce8",
   "metadata": {},
   "outputs": [
    {
     "name": "stdout",
     "output_type": "stream",
     "text": [
      "35 286\n"
     ]
    }
   ],
   "source": [
    "# test2\n",
    "def test2(a,b):\n",
    "    return(a+b, a*b)\n",
    "    # return a+b\n",
    "    # return a*b\n",
    "    # return값은 하나이기 때문에 위에 같이 두줄로 쓰면 아래쪽 return이 무시되기때문에 한줄로 적어야 된다\n",
    "add_result, mul_result = test2(13,22)\n",
    "print(add_result, mul_result)"
   ]
  },
  {
   "cell_type": "code",
   "execution_count": 5,
   "id": "38f2e69b-ef85-40df-b341-857d9f40ef6c",
   "metadata": {},
   "outputs": [],
   "source": [
    "def say_nick(nick):\n",
    "    if nick == '바보':\n",
    "        return\n",
    "    print('나의 별명은 %s입니다' %nick)"
   ]
  },
  {
   "cell_type": "code",
   "execution_count": 7,
   "id": "b86f64ea-6d9e-43c3-a1be-ebbdd5545149",
   "metadata": {},
   "outputs": [
    {
     "name": "stdout",
     "output_type": "stream",
     "text": [
      "나의 별명은 야호입니다\n"
     ]
    }
   ],
   "source": [
    "say_nick('야호')"
   ]
  },
  {
   "cell_type": "code",
   "execution_count": 6,
   "id": "48a8ecfc-f4be-4f10-97ae-f4ec5db1caa0",
   "metadata": {},
   "outputs": [],
   "source": [
    "say_nick('바보')"
   ]
  },
  {
   "cell_type": "markdown",
   "id": "255695ae-eec5-4033-b83c-ac027c520df3",
   "metadata": {},
   "source": [
    "## 함수 안에서 선언한 변수의 효력 범위"
   ]
  },
  {
   "cell_type": "code",
   "execution_count": 4,
   "id": "d2b1daaf-faf8-43a3-8653-f2e53f847de5",
   "metadata": {},
   "outputs": [
    {
     "name": "stdout",
     "output_type": "stream",
     "text": [
      "1\n"
     ]
    }
   ],
   "source": [
    "# test1\n",
    "a = 1\n",
    "def test1(a):\n",
    "    a = a + 1\n",
    "test1(a)\n",
    "print(a)\n",
    "# 함수 내에서 사용한 변수는 함수 내부에서만 작용할 뿐 밖의 변수에는 영향을 미치지 않는다."
   ]
  },
  {
   "cell_type": "code",
   "execution_count": 4,
   "id": "b2b5f1ab-6d16-4e6c-a58a-6901aa941574",
   "metadata": {},
   "outputs": [],
   "source": [
    "# test2\n",
    "# a = 1\n",
    "def test2(a):\n",
    "    a = a + 1\n",
    "test2(3)\n",
    "#print(a)\n",
    "# name 'a' is not defined"
   ]
  },
  {
   "cell_type": "code",
   "execution_count": 2,
   "id": "240047b7-1c99-4b2d-868a-385c2ffdbc20",
   "metadata": {},
   "outputs": [
    {
     "name": "stdout",
     "output_type": "stream",
     "text": [
      "2\n"
     ]
    }
   ],
   "source": [
    "# test3\n",
    "c = 1\n",
    "def test3(c):\n",
    "    c = c + 1\n",
    "    return c\n",
    "c = test3(c)\n",
    "print(c)\n",
    "# return값이 있기 때문에 c 값이 변한다"
   ]
  },
  {
   "cell_type": "code",
   "execution_count": 6,
   "id": "b20beba9-9bae-424d-baff-0840b9f9fd0f",
   "metadata": {},
   "outputs": [
    {
     "name": "stdout",
     "output_type": "stream",
     "text": [
      "2\n"
     ]
    }
   ],
   "source": [
    "# test4\n",
    "d = 1\n",
    "def test4():\n",
    "    global d\n",
    "    d = d + 1\n",
    "test4()\n",
    "print(d)\n",
    "# 프로그래밍을 할 때 global 명령어는 사용하지 않는 것이 좋다. \n",
    "# 함수는 독립적으로 존재하는 것이 좋기 때문이다. \n",
    "# 외부 변수에 종속적인 함수는 그다지 좋은 함수가 아니다. \n",
    "# 따라서 되도록 global 명령어를 사용하는 이 방법은 피하기"
   ]
  },
  {
   "cell_type": "markdown",
   "id": "893127c3-65f3-49e5-8d24-e660ac9ed5b9",
   "metadata": {},
   "source": [
    "## lambda 예약어(익명함수)"
   ]
  },
  {
   "cell_type": "code",
   "execution_count": 13,
   "id": "ebc620dd-c064-462f-94d6-ea9f387930a7",
   "metadata": {},
   "outputs": [
    {
     "name": "stdout",
     "output_type": "stream",
     "text": [
      "7\n"
     ]
    }
   ],
   "source": [
    "def test(a,b):\n",
    "    return a + b\n",
    "add = lambda a,b: a + b # return이 생략 가능하다\n",
    "print(add(3,4))"
   ]
  },
  {
   "cell_type": "code",
   "execution_count": 14,
   "id": "e3153a1c-0598-44bc-82d1-9ad667f41440",
   "metadata": {},
   "outputs": [
    {
     "name": "stdout",
     "output_type": "stream",
     "text": [
      "[0, 1, 2, 3, 4, 5, 6, 7, 8, 9]\n"
     ]
    }
   ],
   "source": [
    "a1 = [x for x in range(10)]\n",
    "print(a1)"
   ]
  },
  {
   "cell_type": "code",
   "execution_count": 21,
   "id": "3fd80d86-13b2-453f-8e26-07b22687ef5a",
   "metadata": {},
   "outputs": [
    {
     "name": "stdout",
     "output_type": "stream",
     "text": [
      "[0, 2, 4, 6, 8, 10, 12, 14, 16, 18]\n"
     ]
    }
   ],
   "source": [
    "a2 = [(lambda x:x*2)(x) for x in range(10) ]\n",
    "print(a2)\n",
    "# 맨 앞에는 리턴, for뒤에는 if"
   ]
  },
  {
   "cell_type": "code",
   "execution_count": 24,
   "id": "20d9674c-f009-4e6c-85e5-88a9305f3fb0",
   "metadata": {},
   "outputs": [
    {
     "name": "stdout",
     "output_type": "stream",
     "text": [
      "[0, 1, 4, 9, 16, 25, 36, 49, 64, 81]\n"
     ]
    }
   ],
   "source": [
    "# 응용예제\n",
    "a3 = [0,1,2,3,4,5,6,7,8,9]\n",
    "p = list(map(lambda x:x**2, a3))\n",
    "print(p)"
   ]
  },
  {
   "cell_type": "code",
   "execution_count": 27,
   "id": "a08867df-205f-4f2b-bb78-02c6d2eeea2d",
   "metadata": {},
   "outputs": [],
   "source": [
    "# 제곱 함수 적용: p = list(map(lambda x: x**2, a3))\n",
    "\n",
    "# map 함수는 첫 번째 인수로 주어진 함수를 두 번째 인수로 주어진 iterable(여기서는 a3 리스트)의 각 요소에 적용.\n",
    "\n",
    "# 여기서 첫 번째 인수는 lambda x: x**2입니다. lambda는 익명 함수(이름 없는 함수)를 정의할 때 사용되며, x를 입력 받아 x**2을 반환하는 함수\n",
    "\n",
    "# 따라서 map(lambda x: x**2, a3)는 a3 리스트의 각 요소에 대해 제곱 연산을 수행.\n",
    "\n",
    "# map 함수는 결과를 map 객체로 반환하기 때문에, list 함수로 이를 리스트로 변환.\n"
   ]
  },
  {
   "cell_type": "markdown",
   "id": "a349ac99-7115-4de1-a887-6f708a2008a4",
   "metadata": {},
   "source": [
    "# 파일 읽고 쓰기"
   ]
  },
  {
   "cell_type": "markdown",
   "id": "44a7931f-5c17-487e-b4d7-846612c9232f",
   "metadata": {},
   "source": [
    "## 파일 생성하기"
   ]
  },
  {
   "cell_type": "code",
   "execution_count": 34,
   "id": "1810942c-a230-4403-b1da-7fee6f660d49",
   "metadata": {},
   "outputs": [],
   "source": [
    "#파일 생성하기1\n",
    "f = open('새파일생성.txt','w')\n",
    "f.close()"
   ]
  },
  {
   "cell_type": "markdown",
   "id": "8984e85c-17f0-43db-8bc5-2472c94e5d8a",
   "metadata": {},
   "source": [
    "<table style='float:left'>\n",
    "<thead>\n",
    "<tr>\n",
    "<th>파일열기모드</th>\n",
    "<th>설명</th>\n",
    "</tr>\n",
    "</thead>\n",
    "<tbody>\n",
    "<tr>\n",
    "<td>r</td>\n",
    "<td>읽기 모드: 파일을 읽기만 할 때 사용한다.</td>\n",
    "</tr>\n",
    "<tr>\n",
    "<td>w</td>\n",
    "<td>쓰기 모드: 파일에 내용을 쓸 때 사용한다.</td>\n",
    "</tr>\n",
    "<tr>\n",
    "<td>a</td>\n",
    "<td>추가 모드: 파일의 마지막에 새로운 내용을 추가할 때 사용한다.</td>\n",
    "</tr>\n",
    "</tbody>\n",
    "</table>"
   ]
  },
  {
   "cell_type": "code",
   "execution_count": 33,
   "id": "ba35f280-63cb-4f36-8534-b931d2009f95",
   "metadata": {},
   "outputs": [],
   "source": [
    "#파일 생성하기1 + 경로\n",
    "path = './testfile/'\n",
    "f = open(path + '새파일생성2.txt','w')\n",
    "f.close()"
   ]
  },
  {
   "cell_type": "code",
   "execution_count": 38,
   "id": "d780f11d-152f-4f66-b647-1024ae84d6f4",
   "metadata": {},
   "outputs": [],
   "source": [
    "#파일을 쓰기 모드로 열어 내용 쓰기\n",
    "path = './testfile/'\n",
    "f = open(path + '새파일생성3.txt','w',encoding='utf-8')\n",
    "f.write('test ok잉!')\n",
    "f.close()"
   ]
  },
  {
   "cell_type": "markdown",
   "id": "aa0ad91e-bc60-44dd-a802-1ba02cf606b6",
   "metadata": {},
   "source": [
    "문제) 하위 testfile 폴더 내에 lotto.txt라는 파일이름으로,\n",
    "로또 번호 6개를 1000개 추천하여 적어주세요\n",
    "한 줄에 6개씩 총 1000줄"
   ]
  },
  {
   "cell_type": "code",
   "execution_count": 6,
   "id": "bf762b83-1066-4861-a8c6-eb7f80256476",
   "metadata": {},
   "outputs": [],
   "source": [
    "path = './testfile/'\n",
    "f = open(path + 'lotto.txt','w',encoding='utf-8')\n",
    "\n",
    "import random\n",
    "ls = []\n",
    "la = []\n",
    "how = 10\n",
    "for h in range(how):\n",
    "    lotto = sorted(random.sample(range(1,46),6))\n",
    "    la.append(lotto)\n",
    "    ls = ls + lotto\n",
    "    # print(lotto)\n",
    "    # print(la)\n",
    "    # print(ls)\n",
    "    f.write(f'{lotto}\\n')\n",
    "f.close()"
   ]
  },
  {
   "cell_type": "code",
   "execution_count": 5,
   "id": "00b8d855-ed86-44d1-b16c-d5c1d6e07a3f",
   "metadata": {},
   "outputs": [],
   "source": [
    "def diary(name):\n",
    "    path = './testfile/'\n",
    "    f = open(path + name + '.txt','a',encoding='utf-8') #a는 삭제를 하지 않고 계속 누적시킴\n",
    "    \n",
    "    while 1:\n",
    "        inp = input('작성하고 싶은 내용')\n",
    "        if inp == '그만':\n",
    "            break\n",
    "        f.write(inp + '\\n')\n",
    "    f.close()"
   ]
  },
  {
   "cell_type": "code",
   "execution_count": 4,
   "id": "5d7496ff-48f6-4e70-b194-ab76895c6e9e",
   "metadata": {},
   "outputs": [
    {
     "name": "stdin",
     "output_type": "stream",
     "text": [
      "작성하고 싶은 내용 오늘 날씨 별로 안춥다\n",
      "작성하고 싶은 내용 배 부르다\n",
      "작성하고 싶은 내용 집에 가고 싶다\n",
      "작성하고 싶은 내용 금ㅏㄴ\n",
      "작성하고 싶은 내용 그만\n"
     ]
    }
   ],
   "source": [
    "diary('20250211일기')"
   ]
  },
  {
   "cell_type": "markdown",
   "id": "6c772be0-4ca4-4d20-8414-d88c2d2aba80",
   "metadata": {},
   "source": [
    "## 파일을 읽는 방법"
   ]
  },
  {
   "cell_type": "code",
   "execution_count": 90,
   "id": "ba6a5f06-a2b5-405a-849d-0d3cc816a5c4",
   "metadata": {},
   "outputs": [],
   "source": [
    "path = './testfile/'\n",
    "f = open(path + '새파일생성4.txt','w',encoding='utf-8')\n",
    "for n in range(10):\n",
    "    f.write(f'{n+1}번째 한글\\n')\n",
    "\n",
    "f.close()"
   ]
  },
  {
   "cell_type": "code",
   "execution_count": 24,
   "id": "8f6989da-cc87-4b23-960d-fa5fc0663bcb",
   "metadata": {},
   "outputs": [
    {
     "name": "stdout",
     "output_type": "stream",
     "text": [
      "1번째 한글\n",
      "\n",
      "2번째 한글\n",
      "\n"
     ]
    }
   ],
   "source": [
    "# 1. readline\n",
    "f = open(path + '새파일생성4.txt','r',encoding='utf-8')\n",
    "# line = f.readline()\n",
    "# print(line)\n",
    "# line = f.readline()\n",
    "# print(line)\n",
    "print(f.readline())\n",
    "print(f.readline())\n",
    "f.close()"
   ]
  },
  {
   "cell_type": "code",
   "execution_count": 25,
   "id": "4325c140-06c7-4eea-831e-4456a49178dc",
   "metadata": {},
   "outputs": [
    {
     "name": "stdout",
     "output_type": "stream",
     "text": [
      "1번째 한글\n",
      "\n",
      "2번째 한글\n",
      "\n",
      "3번째 한글\n",
      "\n",
      "4번째 한글\n",
      "\n",
      "5번째 한글\n",
      "\n",
      "6번째 한글\n",
      "\n",
      "7번째 한글\n",
      "\n",
      "8번째 한글\n",
      "\n",
      "9번째 한글\n",
      "\n",
      "10번째 한글\n",
      "\n"
     ]
    }
   ],
   "source": [
    "# 2. readline + while\n",
    "f = open(path + '새파일생성4.txt','r',encoding='utf-8')\n",
    "while 1:\n",
    "    line = f.readline()\n",
    "    if not line : break\n",
    "    print(line)\n",
    "f.close()"
   ]
  },
  {
   "cell_type": "code",
   "execution_count": 11,
   "id": "9c23b032-d2d7-40a8-970d-67fcbc38a00d",
   "metadata": {},
   "outputs": [
    {
     "name": "stdout",
     "output_type": "stream",
     "text": [
      "['1번째 한글\\n', '2번째 한글\\n', '3번째 한글\\n', '4번째 한글\\n', '5번째 한글\\n', '6번째 한글\\n', '7번째 한글\\n', '8번째 한글\\n', '9번째 한글\\n', '10번째 한글\\n'] <class 'list'>\n",
      "1번째 한글\n",
      "2번째 한글\n",
      "3번째 한글\n",
      "4번째 한글\n",
      "5번째 한글\n",
      "6번째 한글\n",
      "7번째 한글\n",
      "8번째 한글\n",
      "9번째 한글\n",
      "10번째 한글\n"
     ]
    }
   ],
   "source": [
    "# readlines\n",
    "path = './testfile/'\n",
    "f = open(path + '새파일생성4.txt','r',encoding='utf-8')\n",
    "lines = f.readlines()\n",
    "print(lines,type(lines))\n",
    "# lines가 리스트라서 for구문으로 list을 풀어줌\n",
    "for n in lines:\n",
    "    print(n,end='')\n",
    "f.close()"
   ]
  },
  {
   "cell_type": "code",
   "execution_count": 28,
   "id": "7ee49eb2-13e4-4272-8f52-8e8b2e5fd582",
   "metadata": {},
   "outputs": [
    {
     "name": "stdout",
     "output_type": "stream",
     "text": [
      "['1', '번', '째', ' ', '한', '글', '\\n']\n",
      "['1', '번', '째', ' ', '한', '글']\n",
      "['2', '번', '째', ' ', '한', '글', '\\n']\n",
      "['2', '번', '째', ' ', '한', '글']\n",
      "['3', '번', '째', ' ', '한', '글', '\\n']\n",
      "['3', '번', '째', ' ', '한', '글']\n",
      "['4', '번', '째', ' ', '한', '글', '\\n']\n",
      "['4', '번', '째', ' ', '한', '글']\n",
      "['5', '번', '째', ' ', '한', '글', '\\n']\n",
      "['5', '번', '째', ' ', '한', '글']\n",
      "['6', '번', '째', ' ', '한', '글', '\\n']\n",
      "['6', '번', '째', ' ', '한', '글']\n",
      "['7', '번', '째', ' ', '한', '글', '\\n']\n",
      "['7', '번', '째', ' ', '한', '글']\n",
      "['8', '번', '째', ' ', '한', '글', '\\n']\n",
      "['8', '번', '째', ' ', '한', '글']\n",
      "['9', '번', '째', ' ', '한', '글', '\\n']\n",
      "['9', '번', '째', ' ', '한', '글']\n",
      "['1', '0', '번', '째', ' ', '한', '글', '\\n']\n",
      "['1', '0', '번', '째', ' ', '한', '글']\n"
     ]
    }
   ],
   "source": [
    "# 3.readlines + strip()\n",
    "path = './testfile/'\n",
    "f = open(path + '새파일생성4.txt','r',encoding='utf-8')\n",
    "lines = f.readlines()\n",
    "# print(lines,type(lines))\n",
    "# lines가 리스트라서 for구문으로 list을 풀어줌\n",
    "for n in lines:\n",
    "    print(list(n))\n",
    "    n = n.strip()\n",
    "    print(list(n))\n",
    "    # print(n)\n",
    "f.close()"
   ]
  },
  {
   "cell_type": "code",
   "execution_count": null,
   "id": "47d3d664-5d33-4eaa-8a9a-f74a9e5ace55",
   "metadata": {},
   "outputs": [],
   "source": [
    "# 테스트\n",
    "# f = open('파일이름.txt','w').write('내용작성')\n",
    "open('파일이름.txt','w').write('내용작성')\n",
    "# f.write('내용작성')\n",
    "# f.close()\n",
    "open('파일이름.txt','w').close()\n",
    "\n",
    "#이렇게 하면 작성하고 닫는게 없어서 위와 아래 파일이 다른 파일이 된다\n"
   ]
  },
  {
   "cell_type": "code",
   "execution_count": 18,
   "id": "44e59caa-c31d-4408-a898-bd53777ae278",
   "metadata": {},
   "outputs": [],
   "source": [
    "f = open('파일이름.txt','w')\n",
    "f.write('내용작성')\n",
    "f.close()"
   ]
  },
  {
   "cell_type": "code",
   "execution_count": 27,
   "id": "443237c1-888c-44e6-9dd7-49b64071c016",
   "metadata": {},
   "outputs": [
    {
     "name": "stdout",
     "output_type": "stream",
     "text": [
      "1번째 한글\n",
      "\n",
      "2번째 한글\n",
      "\n",
      "3번째 한글\n",
      "\n",
      "4번째 한글\n",
      "\n",
      "5번째 한글\n",
      "\n",
      "6번째 한글\n",
      "\n",
      "7번째 한글\n",
      "\n",
      "8번째 한글\n",
      "\n",
      "9번째 한글\n",
      "\n",
      "10번째 한글\n",
      "\n"
     ]
    }
   ],
   "source": [
    "# 4.read 함수 사용하기\n",
    "path = './testfile/'\n",
    "f = open(path + '새파일생성4.txt','r',encoding='utf-8')\n",
    "for line in f:\n",
    "    print(line)\n",
    "f.close()"
   ]
  },
  {
   "cell_type": "code",
   "execution_count": 26,
   "id": "3cce18c1-da1d-41b3-af38-4c98e06584a4",
   "metadata": {},
   "outputs": [
    {
     "name": "stdout",
     "output_type": "stream",
     "text": [
      "1번째 한글\n",
      "2번째 한글\n",
      "3번째 한글\n",
      "4번째 한글\n",
      "5번째 한글\n",
      "6번째 한글\n",
      "7번째 한글\n",
      "8번째 한글\n",
      "9번째 한글\n",
      "10번째 한글\n",
      " <class 'str'>\n"
     ]
    }
   ],
   "source": [
    "# 5.read 함수 사용하기 -> str type\n",
    "path = './testfile/'\n",
    "f = open(path + '새파일생성4.txt','r',encoding='utf-8')\n",
    "data = f.read()\n",
    "print(data,type(data))\n",
    "# for line in f:\n",
    "#     print(line)\n",
    "f.close()"
   ]
  },
  {
   "cell_type": "code",
   "execution_count": 30,
   "id": "55694b08-2bcb-4ebd-8aa1-adc1db8bcc19",
   "metadata": {},
   "outputs": [
    {
     "name": "stdout",
     "output_type": "stream",
     "text": [
      "1번째 한글\n",
      "\n",
      "2번째 한글\n",
      "\n",
      "3번째 한글\n",
      "\n",
      "4번째 한글\n",
      "\n",
      "5번째 한글\n",
      "\n",
      "6번째 한글\n",
      "\n",
      "7번째 한글\n",
      "\n",
      "8번째 한글\n",
      "\n",
      "9번째 한글\n",
      "\n",
      "10번째 한글\n",
      "\n"
     ]
    }
   ],
   "source": [
    "# with 문과 함께 사용하기, 자동으로 열고 닫기\n",
    "path = './testfile/'\n",
    "with open(path + '새파일생성4.txt','r',encoding='utf-8') as f:\n",
    "    for line in f:\n",
    "        print(line)"
   ]
  },
  {
   "cell_type": "code",
   "execution_count": 31,
   "id": "d2903c55-51d2-4909-9d7b-c30957e18305",
   "metadata": {},
   "outputs": [],
   "source": [
    "with open('foo.txt','w') as f:\n",
    "    f.write('Life is too short, you need python')"
   ]
  },
  {
   "cell_type": "markdown",
   "id": "85853958-47c3-4af8-a4c9-7fc4eab2b156",
   "metadata": {},
   "source": [
    "## 프로그램의 입출력"
   ]
  },
  {
   "cell_type": "code",
   "execution_count": 36,
   "id": "354c6daf-86de-427c-a884-1f2c22ec7259",
   "metadata": {},
   "outputs": [
    {
     "name": "stdout",
     "output_type": "stream",
     "text": [
      "C:\\Users\\Admin\\AppData\\Local\\Programs\\Python\\Python313\\Lib\\site-packages\\ipykernel_launcher.py\n",
      "-f\n",
      "C:\\Users\\Admin\\AppData\\Roaming\\jupyter\\runtime\\kernel-bf88d30f-22b7-4836-af27-75f8baa8dba4.json\n"
     ]
    }
   ],
   "source": [
    "import sys\n",
    "args = sys.argv\n",
    "for i in args:\n",
    "    print(i)\n",
    "# print(args)"
   ]
  },
  {
   "cell_type": "code",
   "execution_count": 72,
   "id": "0318a081-5566-4b5e-bb8f-08a4cef373bd",
   "metadata": {},
   "outputs": [],
   "source": [
    "# import sys\n",
    "\n",
    "# value = sys.argv[1:]\n",
    "\n",
    "# result = int(value[0]) + int(value[1]) + int(value[2])\n",
    "# print(result)"
   ]
  },
  {
   "attachments": {
    "0947fdaf-dc40-4e2b-9656-b6b892ef996f.png": {
     "image/png": "[encoded data removed]"
    }
   },
   "cell_type": "markdown",
   "id": "249b3685-f94d-4150-9c32-99a4d62ce5ae",
   "metadata": {},
   "source": [
    "![image.png](attachment:0947fdaf-dc40-4e2b-9656-b6b892ef996f.png)"
   ]
  },
  {
   "cell_type": "markdown",
   "id": "c08bce03-fe9a-4c9a-a40f-5844942e4ac0",
   "metadata": {},
   "source": [
    "##### 구구단 프로그램을 만들어서\n",
    "첫번째 인자는 시작값으로 '2단'을 입력하면 2 x 1부터 2 x 9까지 출력되고\n",
    "두번째 인자는 개수 값으로 4를 입력하면 2단부터 5단까지 출력된다\n",
    "구구단을 표시하세요\n",
    "\n",
    "ex) gugu 4 3 -> 4단부터 4,5,6단 모두 나오게\n",
    "ex) gugu 6 6 -> 6단부터 6,7,8,9,10,11단 모두 나오게"
   ]
  },
  {
   "cell_type": "code",
   "execution_count": 68,
   "id": "5311d777-1497-4553-b29b-6e1595aabff5",
   "metadata": {},
   "outputs": [],
   "source": [
    "def gugu(x,y):\n",
    "    for j in range(x,x+y):\n",
    "        print(f'{str(j)+'단':=^10}')\n",
    "        for i in range(1,10):\n",
    "            print(f'{j} x {i} = {j * i}')"
   ]
  },
  {
   "cell_type": "code",
   "execution_count": 73,
   "id": "85234a93-8dfe-499d-ba6c-24dbe8fb141b",
   "metadata": {},
   "outputs": [
    {
     "name": "stdout",
     "output_type": "stream",
     "text": [
      "===11단====\n",
      "11 x 1 = 11\n",
      "11 x 2 = 22\n",
      "11 x 3 = 33\n",
      "11 x 4 = 44\n",
      "11 x 5 = 55\n",
      "11 x 6 = 66\n",
      "11 x 7 = 77\n",
      "11 x 8 = 88\n",
      "11 x 9 = 99\n",
      "===12단====\n",
      "12 x 1 = 12\n",
      "12 x 2 = 24\n",
      "12 x 3 = 36\n",
      "12 x 4 = 48\n",
      "12 x 5 = 60\n",
      "12 x 6 = 72\n",
      "12 x 7 = 84\n",
      "12 x 8 = 96\n",
      "12 x 9 = 108\n",
      "===13단====\n",
      "13 x 1 = 13\n",
      "13 x 2 = 26\n",
      "13 x 3 = 39\n",
      "13 x 4 = 52\n",
      "13 x 5 = 65\n",
      "13 x 6 = 78\n",
      "13 x 7 = 91\n",
      "13 x 8 = 104\n",
      "13 x 9 = 117\n",
      "None\n"
     ]
    }
   ],
   "source": [
    "print(gugu(11,3))"
   ]
  },
  {
   "cell_type": "code",
   "execution_count": 77,
   "id": "bb57fdc4-ddef-4773-aef4-b57c1cbb30ec",
   "metadata": {},
   "outputs": [
    {
     "name": "stdout",
     "output_type": "stream",
     "text": [
      "-----2단-----\n",
      "2 x 1 = 2\n",
      "2 x 2 = 4\n",
      "2 x 3 = 6\n",
      "2 x 4 = 8\n",
      "2 x 5 = 10\n",
      "2 x 6 = 12\n",
      "2 x 7 = 14\n",
      "2 x 8 = 16\n",
      "2 x 9 = 18\n",
      "-----3단-----\n",
      "3 x 1 = 3\n",
      "3 x 2 = 6\n",
      "3 x 3 = 9\n",
      "3 x 4 = 12\n",
      "3 x 5 = 15\n",
      "3 x 6 = 18\n",
      "3 x 7 = 21\n",
      "3 x 8 = 24\n",
      "3 x 9 = 27\n",
      "-----4단-----\n",
      "4 x 1 = 4\n",
      "4 x 2 = 8\n",
      "4 x 3 = 12\n",
      "4 x 4 = 16\n",
      "4 x 5 = 20\n",
      "4 x 6 = 24\n",
      "4 x 7 = 28\n",
      "4 x 8 = 32\n",
      "4 x 9 = 36\n",
      "-----5단-----\n",
      "5 x 1 = 5\n",
      "5 x 2 = 10\n",
      "5 x 3 = 15\n",
      "5 x 4 = 20\n",
      "5 x 5 = 25\n",
      "5 x 6 = 30\n",
      "5 x 7 = 35\n",
      "5 x 8 = 40\n",
      "5 x 9 = 45\n",
      "-----6단-----\n",
      "6 x 1 = 6\n",
      "6 x 2 = 12\n",
      "6 x 3 = 18\n",
      "6 x 4 = 24\n",
      "6 x 5 = 30\n",
      "6 x 6 = 36\n",
      "6 x 7 = 42\n",
      "6 x 8 = 48\n",
      "6 x 9 = 54\n"
     ]
    }
   ],
   "source": [
    "# 풀이\n",
    "def gugu(a,b):\n",
    "    for i in range(a,a+b):\n",
    "        print(f'-----{i}단-----')\n",
    "        for j in range(1,10):\n",
    "            print(f'{i} x {j} = {i*j}')\n",
    "gugu(2,5)"
   ]
  },
  {
   "cell_type": "code",
   "execution_count": 1,
   "id": "beb9e30c-3de9-49f8-a45d-5c6430ed34f0",
   "metadata": {},
   "outputs": [
    {
     "name": "stdout",
     "output_type": "stream",
     "text": [
      "19\n",
      "삼성전자: 55,900원\n",
      "17\n",
      "기아: 94,800원\n"
     ]
    }
   ],
   "source": [
    "import requests as req\n",
    "url = 'https://finance.naver.com/sise/sise_market_sum.naver'\n",
    "web = req.get(url)\n",
    "html = web.text\n",
    "f1 = html.find('삼성전자')\n",
    "print(html[f1:f1 + 100].find('<td class=\"number\">'))\n",
    "print('삼성전자: ' + html[f1:f1 + 100][19:50].replace('<td class=\"number\">','').replace('</td>','').replace('\\n','')+'원')\n",
    "f2 = html.find('기아')\n",
    "print(html[f2:f2 + 100].find('<td class=\"number\">'))\n",
    "print('기아: ' + html[f2:f2 + 100][17:50].replace('<td class=\"number\">','').replace('</td>','').replace('\\n','').replace('\\t','')+'원')"
   ]
  },
  {
   "cell_type": "code",
   "execution_count": 18,
   "id": "01a9314c-ee56-4266-8122-b99f70aec2cf",
   "metadata": {},
   "outputs": [
    {
     "name": "stdin",
     "output_type": "stream",
     "text": [
      "입력하세요:  카카오\n"
     ]
    },
    {
     "name": "stdout",
     "output_type": "stream",
     "text": [
      "18\n",
      "68\n",
      "<td class=\"number\">42,100</td>\n",
      "\t\t\t\t\t<td class=\"num\n",
      "카카오:42,100<td class=\"num원\n"
     ]
    }
   ],
   "source": [
    "# 연습중\n",
    "import requests as req\n",
    "url = 'https://finance.naver.com/sise/sise_market_sum.naver'\n",
    "web = req.get(url)\n",
    "html = web.text\n",
    "\n",
    "a = input('입력하세요: ')\n",
    "f1 = int(html.find(a))\n",
    "# f2 = html[f1 : f1 + 100][f1 : f1+50]\n",
    "# print(f1)\n",
    "f2 = int(html[f1:f1 + 100].find('<td class=\"number\">'))\n",
    "print(f2)\n",
    "print(f2+50)\n",
    "# f3 = html[f2:f2 + 50]\n",
    "f3 = html[f1:f1 + 100][f2:f2 + 50]\n",
    "print(f3)\n",
    "# print(html[f1:f1 + 100].find('<td class=\"number\">'))\n",
    "print(a + ':' + f3.replace('<td class=\"number\">','').replace('</td>','').replace('\\n','').replace('\\t','')+'원')"
   ]
  },
  {
   "cell_type": "code",
   "execution_count": null,
   "id": "52d445e6-76c1-4663-962b-1a3d4d853a45",
   "metadata": {},
   "outputs": [],
   "source": []
  }
 ],
 "metadata": {
  "kernelspec": {
   "display_name": "Python 3 (ipykernel)",
   "language": "python",
   "name": "python3"
  },
  "language_info": {
   "codemirror_mode": {
    "name": "ipython",
    "version": 3
   },
   "file_extension": ".py",
   "mimetype": "text/x-python",
   "name": "python",
   "nbconvert_exporter": "python",
   "pygments_lexer": "ipython3",
   "version": "3.13.1"
  }
 },
 "nbformat": 4,
 "nbformat_minor": 5
}
