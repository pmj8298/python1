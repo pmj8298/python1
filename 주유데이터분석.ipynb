{
 "cells": [
  {
   "cell_type": "markdown",
   "id": "0b75aeee-2a2b-4017-bba7-d84cbf82af69",
   "metadata": {},
   "source": [
    "1. 셀레니움으로 오피넷의 최저가 주유데이터를 동마다 여러개의 엑셀 파일로 추출하여 HDFS 에 저장하고,\n",
    "2. 모든파일을 통합하여 pandas로 데이터프레임으로 만들고,\n",
    "3. 최저가 주유소 5곳과 비싼 주유소 5곳을 지도위에 표기하라."
   ]
  },
  {
   "cell_type": "code",
   "execution_count": 4,
   "id": "cab976c8-f42c-4c74-ac29-f43b154d63fb",
   "metadata": {},
   "outputs": [],
   "source": [
    "# !pip install selenium"
   ]
  },
  {
   "cell_type": "code",
   "execution_count": 3,
   "id": "b64f2829-3961-4914-981b-6678ce9b3f40",
   "metadata": {},
   "outputs": [],
   "source": [
    "from selenium import webdriver\n",
    "from selenium.webdriver.common.action_chains import ActionChains\n",
    "from selenium.webdriver.chrome.service import Service\n",
    "from selenium.webdriver.chrome.options import Options\n",
    "from selenium.webdriver.common.keys import Keys\n",
    "from selenium.webdriver.common.by import By\n",
    "from datetime import datetime\n",
    "from bs4 import BeautifulSoup as bs\n",
    "import pandas as pd\n",
    "import time"
   ]
  },
  {
   "cell_type": "code",
   "execution_count": null,
   "id": "fdc07503-6135-4575-9086-6eb889e7f558",
   "metadata": {},
   "outputs": [],
   "source": []
  }
 ],
 "metadata": {
  "kernelspec": {
   "display_name": "Python 3 (ipykernel)",
   "language": "python",
   "name": "python3"
  },
  "language_info": {
   "codemirror_mode": {
    "name": "ipython",
    "version": 3
   },
   "file_extension": ".py",
   "mimetype": "text/x-python",
   "name": "python",
   "nbconvert_exporter": "python",
   "pygments_lexer": "ipython3",
   "version": "3.10.12"
  }
 },
 "nbformat": 4,
 "nbformat_minor": 5
}
