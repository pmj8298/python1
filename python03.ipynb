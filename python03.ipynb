{
 "cells": [
  {
   "cell_type": "markdown",
   "id": "2aa8f8e5-9b6c-478b-99e3-6ebac2856bbb",
   "metadata": {},
   "source": [
    "# 제어문"
   ]
  },
  {
   "cell_type": "markdown",
   "id": "241adad3-a755-4b17-ab15-6c407394177b",
   "metadata": {},
   "source": [
    "## if 문"
   ]
  },
  {
   "cell_type": "code",
   "execution_count": 27,
   "id": "64adf4f1-4a10-44a9-9a50-46d50a1f0ac9",
   "metadata": {},
   "outputs": [
    {
     "name": "stdout",
     "output_type": "stream",
     "text": [
      "true는 항상 동작합니다\n",
      "5가 2보다 큼\n",
      " 나오나?\n"
     ]
    }
   ],
   "source": [
    "if True:\n",
    "    print('true는 항상 동작합니다')\n",
    "if False:\n",
    "    print('False는 동작안해요')\n",
    "\n",
    "if 5>2:\n",
    "    print('5가 2보다 큼')\n",
    "if 4>10:\n",
    "    print('결과출력 안함')\n",
    "\n",
    "if '':\n",
    "    print(' ''나오나?')\n",
    "if ' ':\n",
    "    print(' 나오나?')\n",
    "if 0:\n",
    "    print('0 나오나?')\n",
    "   "
   ]
  },
  {
   "cell_type": "code",
   "execution_count": 3,
   "id": "7108e952-c99c-4a2c-b3db-f97aa13000c4",
   "metadata": {},
   "outputs": [
    {
     "name": "stdout",
     "output_type": "stream",
     "text": [
      "0 멈추기 전까지 계속 돌아가\n",
      "1 멈추기 전까지 계속 돌아가\n",
      "2 멈추기 전까지 계속 돌아가\n",
      "3 멈추기 전까지 계속 돌아가\n",
      "4 멈추기 전까지 계속 돌아가\n",
      "5 멈추기 전까지 계속 돌아가\n",
      "6 멈추기 전까지 계속 돌아가\n",
      "7 멈추기 전까지 계속 돌아가\n",
      "8 멈추기 전까지 계속 돌아가\n",
      "9 멈추기 전까지 계속 돌아가\n",
      "10 멈추기 전까지 계속 돌아가\n",
      "==============================\n",
      "10 멈추기 전까지 계속 돌아가\n",
      "9 멈추기 전까지 계속 돌아가\n",
      "8 멈추기 전까지 계속 돌아가\n",
      "7 멈추기 전까지 계속 돌아가\n",
      "6 멈추기 전까지 계속 돌아가\n",
      "5 멈추기 전까지 계속 돌아가\n",
      "4 멈추기 전까지 계속 돌아가\n",
      "3 멈추기 전까지 계속 돌아가\n",
      "2 멈추기 전까지 계속 돌아가\n",
      "1 멈추기 전까지 계속 돌아가\n"
     ]
    }
   ],
   "source": [
    "# while True:\n",
    "#     print('멈추기 전까지 계속 돌아가')\n",
    "num = 0\n",
    "while True:\n",
    "    print(num, '멈추기 전까지 계속 돌아가')\n",
    "    num += 1\n",
    "    if num > 10:\n",
    "        break\n",
    "print('='*30)        \n",
    "num1 = 10\n",
    "while num1:\n",
    "    print(num1, '멈추기 전까지 계속 돌아가')\n",
    "    num1 -= 1"
   ]
  },
  {
   "cell_type": "code",
   "execution_count": 4,
   "id": "b46a07a4-ad03-4125-8253-f378feae1647",
   "metadata": {},
   "outputs": [
    {
     "name": "stdout",
     "output_type": "stream",
     "text": [
      "택시를\n",
      "타고\n",
      "가라\n"
     ]
    }
   ],
   "source": [
    "if True:\n",
    "    print('택시를')\n",
    "    print('타고')\n",
    "    print('가라')"
   ]
  },
  {
   "cell_type": "code",
   "execution_count": 6,
   "id": "12bda448-89b8-4abb-920b-1f0b7637bd49",
   "metadata": {},
   "outputs": [],
   "source": [
    "# if True:\n",
    "#     print('택시를')\n",
    "# print('타고')\n",
    "#     print('가라')\n",
    "\n",
    "# 에러남"
   ]
  },
  {
   "cell_type": "code",
   "execution_count": 7,
   "id": "9e719ab1-e9ea-464e-ad9a-fe81aa3b20d0",
   "metadata": {},
   "outputs": [
    {
     "name": "stdout",
     "output_type": "stream",
     "text": [
      "가라\n"
     ]
    }
   ],
   "source": [
    "if False:\n",
    "    print('택시를')\n",
    "    print('타고')\n",
    "print('가라')"
   ]
  },
  {
   "cell_type": "code",
   "execution_count": 9,
   "id": "0ed13bfe-ed95-4b8b-8bab-a37d388bb7a3",
   "metadata": {},
   "outputs": [
    {
     "name": "stdin",
     "output_type": "stream",
     "text": [
      "얼마 가지고 있습니까 1500\n"
     ]
    },
    {
     "name": "stdout",
     "output_type": "stream",
     "text": [
      "걸어가세요\n"
     ]
    }
   ],
   "source": [
    "mymoney = int(input('얼마 가지고 있습니까'))\n",
    "if mymoney >= 3000:\n",
    "    print('택시 타세요')\n",
    "# if mymoney < 3000:\n",
    "else:\n",
    "    print('걸어가세요')"
   ]
  },
  {
   "cell_type": "code",
   "execution_count": 10,
   "id": "54810430-8e49-4aa0-ba34-4718a4bcc900",
   "metadata": {},
   "outputs": [],
   "source": [
    "# and, or, not"
   ]
  },
  {
   "cell_type": "code",
   "execution_count": 3,
   "id": "a31a85eb-a218-4590-8bc1-6513d60287a9",
   "metadata": {},
   "outputs": [
    {
     "name": "stdout",
     "output_type": "stream",
     "text": [
      "===== and 연산 =====\n",
      "True\n",
      "False\n",
      "False\n",
      "False\n",
      "====== or 연산 =====\n",
      "True\n",
      "True\n",
      "True\n",
      "False\n",
      "====== not 연산 =====\n",
      "True\n",
      "False\n",
      "True\n"
     ]
    }
   ],
   "source": [
    "print('===== and 연산 =====')\n",
    "print(True and True)\n",
    "print(True and False)\n",
    "print(False and True)\n",
    "print(False and False)\n",
    "print('====== or 연산 =====')\n",
    "print(True or True)\n",
    "print(True or False)\n",
    "print(False or True)\n",
    "print(False or False)\n",
    "print('====== not 연산 =====')\n",
    "print(True)\n",
    "print(not True)\n",
    "print(not False)\n"
   ]
  },
  {
   "cell_type": "code",
   "execution_count": 19,
   "id": "0c8a77cb-5af3-4bc1-bf01-dfe9bb3093f9",
   "metadata": {},
   "outputs": [
    {
     "name": "stdout",
     "output_type": "stream",
     "text": [
      "만나요\n"
     ]
    }
   ],
   "source": [
    "이상형 = True\n",
    "똑똑 = True\n",
    "if 이상형 and 똑똑:\n",
    "    print('만나요')\n",
    "else:\n",
    "    print('그래요..')"
   ]
  },
  {
   "cell_type": "code",
   "execution_count": 18,
   "id": "58f7dc6d-b9f2-4eb7-b2b4-974dfce9b940",
   "metadata": {},
   "outputs": [
    {
     "name": "stdout",
     "output_type": "stream",
     "text": [
      "그래요..\n"
     ]
    }
   ],
   "source": [
    "이상형 = False\n",
    "다정 = False\n",
    "if 이상형 or 다정:\n",
    "    print('만나요')\n",
    "else:\n",
    "    print('그래요..')"
   ]
  },
  {
   "cell_type": "code",
   "execution_count": 20,
   "id": "76da6783-876c-4d3a-8883-0f1b0307fd18",
   "metadata": {},
   "outputs": [
    {
     "name": "stdout",
     "output_type": "stream",
     "text": [
      "만나요\n"
     ]
    }
   ],
   "source": [
    "주사 = False\n",
    "if not 주사:\n",
    "    print('만나요')\n",
    "else:\n",
    "    print('잘가요')"
   ]
  },
  {
   "cell_type": "code",
   "execution_count": 23,
   "id": "aec681fc-6aac-41d3-bf43-424bc6f84ac3",
   "metadata": {},
   "outputs": [
    {
     "name": "stdout",
     "output_type": "stream",
     "text": [
      "택시 타고 가\n"
     ]
    }
   ],
   "source": [
    "money = 20000\n",
    "card = True\n",
    "if money >= 30000 or card:\n",
    "    print('택시 타고 가')\n",
    "else:\n",
    "    print('걸어가')"
   ]
  },
  {
   "cell_type": "code",
   "execution_count": 29,
   "id": "89a90015-c444-4701-87c9-2de8ed83e309",
   "metadata": {},
   "outputs": [
    {
     "name": "stdout",
     "output_type": "stream",
     "text": [
      "A회사 불합격입니다\n",
      "B회사 합격입니다\n",
      "C회사 불합격입니다\n"
     ]
    }
   ],
   "source": [
    "me = 'CSS'\n",
    "compA = ['JAVA','HTML','Python','C','Javascript','MySQL']\n",
    "compB = ['JAVA','HTML','Python','CSS','Javascript','MySQL']\n",
    "compC = ['JAVA','HTML','Python','Javascript','MySQL']\n",
    "if me in compA:\n",
    "    print('A회사 합격입니다')\n",
    "else:\n",
    "    print('A회사 불합격입니다')\n",
    "if me in compB:\n",
    "    print('B회사 합격입니다')\n",
    "else:\n",
    "    print('B회사 불합격입니다')\n",
    "if me in compC:\n",
    "    print('C회사 합격입니다')\n",
    "else:\n",
    "    print('C회사 불합격입니다')"
   ]
  },
  {
   "cell_type": "code",
   "execution_count": 65,
   "id": "08185cd1-48ca-485a-b69c-4fdf98fcabb6",
   "metadata": {},
   "outputs": [
    {
     "name": "stdin",
     "output_type": "stream",
     "text": [
      "점수를 입력하세요 5\n"
     ]
    },
    {
     "name": "stdout",
     "output_type": "stream",
     "text": [
      "F\n"
     ]
    }
   ],
   "source": [
    "score = int(input('점수를 입력하세요'))\n",
    "\n",
    "# if score >= 90 and score <= 100:\n",
    "#     print('A')\n",
    "\n",
    "# 처음에 elif로 적었는데 if만으로도 돌아감\n",
    "if 90 <= score <= 100:\n",
    "    print('A')\n",
    "if 80 <= score < 90:\n",
    "    print('B')\n",
    "if 70 <= score < 80:\n",
    "    print('C')\n",
    "if 60 <= score < 70:\n",
    "    print('D')\n",
    "if score < 60:\n",
    "    print('F')\n"
   ]
  },
  {
   "cell_type": "code",
   "execution_count": 64,
   "id": "e72db7db-066e-4029-a253-b88396ebe351",
   "metadata": {},
   "outputs": [
    {
     "name": "stdin",
     "output_type": "stream",
     "text": [
      "점수를 입력하세요 \n"
     ]
    },
    {
     "name": "stdout",
     "output_type": "stream",
     "text": [
      "A학점\n"
     ]
    }
   ],
   "source": [
    "# if, elif, else 모두 사용한 방법\n",
    "score = int(input('점수를 입력하세요') or 100) # 이렇게 입력해두면 입력값을 입력하지 않으면 100이 적용됨\n",
    "\n",
    "if 90 <= score <= 100: grade = 'A'\n",
    "elif 80 <= score: grade = 'B'\n",
    "elif 70 <= score: grade = 'C'\n",
    "elif 60 <= score: grade = 'D'\n",
    "else: grade = 'F'\n",
    "print(f'{grade}학점')"
   ]
  },
  {
   "cell_type": "code",
   "execution_count": 62,
   "id": "72201739-672b-4ae7-875f-c9a7e278221f",
   "metadata": {},
   "outputs": [
    {
     "name": "stdin",
     "output_type": "stream",
     "text": [
      "점수를 입력하세요 88\n"
     ]
    },
    {
     "name": "stdout",
     "output_type": "stream",
     "text": [
      "D학점\n"
     ]
    }
   ],
   "source": [
    "# elif는 순서를 바꾸면 답이 달라질 수도 있음 그러므로 배치를 잘 해야한다\n",
    "# 주의\n",
    "score = int(input('점수를 입력하세요'))\n",
    "\n",
    "if 60 <= score: grade = 'D'\n",
    "elif 80 <= score: grade = 'B'\n",
    "elif 70 <= score: grade = 'C'\n",
    "elif 90 <= score <= 100: grade = 'A'   \n",
    "else: grade = 'F'\n",
    "print(f'{grade}학점')"
   ]
  },
  {
   "cell_type": "code",
   "execution_count": 1,
   "id": "188be7a1-77e1-4c65-b22e-9b0aa7fc0d56",
   "metadata": {},
   "outputs": [
    {
     "name": "stdin",
     "output_type": "stream",
     "text": [
      "기온을 입력하세요 5.5\n"
     ]
    },
    {
     "name": "stdout",
     "output_type": "stream",
     "text": [
      "겨울입니다.\n"
     ]
    }
   ],
   "source": [
    "tem = float(input('기온을 입력하세요') ) \n",
    "\n",
    "if  25 <= tem: \n",
    "   weather = '여름'\n",
    "if 15 <= tem < 25: \n",
    "    weather = '봄'\n",
    "if 10 <= tem < 15: \n",
    "    weather = '가을'\n",
    "if 10 > tem:\n",
    "    weather = '겨울'\n",
    "\n",
    "print(f'{weather}입니다.')"
   ]
  },
  {
   "cell_type": "code",
   "execution_count": 2,
   "id": "791776ac-ace2-4199-a525-bfa906517925",
   "metadata": {},
   "outputs": [
    {
     "name": "stdin",
     "output_type": "stream",
     "text": [
      "기온을 입력하세요 12\n"
     ]
    },
    {
     "name": "stdout",
     "output_type": "stream",
     "text": [
      "가을입니다.\n"
     ]
    }
   ],
   "source": [
    "tem = float(input('기온을 입력하세요') ) \n",
    "\n",
    "if  25 <= tem: \n",
    "   weather = '여름'\n",
    "elif 15 <= tem:\n",
    "    weather = '봄'\n",
    "elif 10 <= tem:\n",
    "    weather = '가을'\n",
    "else:\n",
    "    weather = '겨울'\n",
    "print(f'{weather}입니다.')"
   ]
  },
  {
   "cell_type": "markdown",
   "id": "4a0a4d17-e47b-412b-82ca-5050e0cdf50c",
   "metadata": {},
   "source": [
    "## while 문"
   ]
  },
  {
   "cell_type": "code",
   "execution_count": 89,
   "id": "5b24c876-ad8b-43f0-858f-beae38fef24e",
   "metadata": {},
   "outputs": [
    {
     "name": "stdout",
     "output_type": "stream",
     "text": [
      "나무를 1번 찍었습니다.\n",
      "나무를 2번 찍었습니다.\n",
      "나무를 3번 찍었습니다.\n",
      "나무를 4번 찍었습니다.\n",
      "나무를 5번 찍었습니다.\n",
      "나무를 6번 찍었습니다.\n",
      "나무를 7번 찍었습니다.\n",
      "나무를 8번 찍었습니다.\n",
      "나무를 9번 찍었습니다.\n",
      "나무를 10번 찍었습니다.\n",
      "나무 넘어갑니다.\n"
     ]
    }
   ],
   "source": [
    "treeHit = 0\n",
    "while treeHit < 10:\n",
    "    treeHit = treeHit + 1\n",
    "    print('나무를 %d번 찍었습니다.' %treeHit)\n",
    "    if treeHit == 10:\n",
    "        print('나무 넘어갑니다.')"
   ]
  },
  {
   "cell_type": "code",
   "execution_count": 90,
   "id": "0ac794fb-b549-4393-8325-e8ae0f3a9618",
   "metadata": {},
   "outputs": [
    {
     "name": "stdout",
     "output_type": "stream",
     "text": [
      "나무를 1번 찍었습니다.\n",
      "나무를 2번 찍었습니다.\n",
      "나무를 3번 찍었습니다.\n",
      "나무를 4번 찍었습니다.\n",
      "나무를 5번 찍었습니다.\n",
      "나무를 6번 찍었습니다.\n",
      "나무를 7번 찍었습니다.\n",
      "나무를 8번 찍었습니다.\n",
      "나무를 9번 찍었습니다.\n",
      "나무를 10번 찍었습니다.\n",
      "나무 넘어갑니다.\n"
     ]
    }
   ],
   "source": [
    "namu = 10\n",
    "while namu:\n",
    "    namu -=1\n",
    "    print(f'나무를 {10-namu}번 찍었습니다.')\n",
    "print('나무 넘어갑니다.')"
   ]
  },
  {
   "cell_type": "code",
   "execution_count": 2,
   "id": "3631a4e0-149f-430c-8b75-c656107003f5",
   "metadata": {},
   "outputs": [
    {
     "name": "stdout",
     "output_type": "stream",
     "text": [
      "시스템이 종료되었습니다.\n"
     ]
    }
   ],
   "source": [
    "from IPython.display import clear_output\n",
    "\n",
    "prompt = '''\n",
    "선택해주세요\n",
    "    1. Add\n",
    "    2. Del\n",
    "    3. List\n",
    "    4. Quit\n",
    "'''\n",
    "num = 0\n",
    "while num != 4:\n",
    "    print(prompt)\n",
    "    num = int(input())\n",
    "clear_output(wait=True)\n",
    "print('시스템이 종료되었습니다.')"
   ]
  },
  {
   "cell_type": "code",
   "execution_count": 2,
   "id": "d4b056a1-ca15-4265-953f-3985785391da",
   "metadata": {},
   "outputs": [],
   "source": [
    "#random 주사위\n",
    "import random as r\n",
    "box = [] #초기화***** 중요함"
   ]
  },
  {
   "cell_type": "code",
   "execution_count": 8,
   "id": "e0e18248-6042-4961-b479-500298f333b0",
   "metadata": {},
   "outputs": [
    {
     "name": "stdout",
     "output_type": "stream",
     "text": [
      "[4, 6, 5, 5, 3] 5\n"
     ]
    }
   ],
   "source": [
    "# ran = int(r.random()*6+1) # 1번방법\n",
    "# r.random()은 0에서 1 사이의 실수(float)를 반환\n",
    "# 여기에 6을 곱해 0에서 6 사이의 실수를 만듦\n",
    "# 1을 더해 1에서 7 사이의 실수를 만듦 (소수점 포함)\n",
    "# int()를 사용하여 정수로 변환하면 1에서 6 사이의 정수가 된다.\n",
    "ran = r.randint(1,6) # 2번방법\n",
    "# r.randint(1, 6)은 1에서 6 사이의 정수를 반환.\n",
    "# 시작 값과 끝 값 모두 포함.\n",
    "box.append(ran)\n",
    "\n",
    "while len(box) <= 10:\n",
    "    # print(box, len(box))\n",
    "    break\n",
    "\n",
    "print(box, len(box))"
   ]
  },
  {
   "cell_type": "code",
   "execution_count": 83,
   "id": "a814801f-d2f9-4ed1-bcf8-19bc92bc2a1c",
   "metadata": {},
   "outputs": [
    {
     "name": "stdin",
     "output_type": "stream",
     "text": [
      "숫자를 입력하세요 13\n"
     ]
    },
    {
     "name": "stdout",
     "output_type": "stream",
     "text": [
      "[4, 6, 2, 2, 2, 4, 1, 5, 4, 1, 5, 5, 4] 13\n",
      "13회 정상 진행되었습니다.\n",
      "1이 2번 (15.38%) 나왔습니다\n",
      "2가 3번 (23.08%) 나왔습니다\n",
      "3이 0번 (0.00%) 나왔습니다\n",
      "4가 4번 (30.77%) 나왔습니다\n",
      "5가 3번 (23.08%) 나왔습니다\n",
      "6이 1번 (7.69%) 나왔습니다\n"
     ]
    }
   ],
   "source": [
    "import random as r\n",
    "num1 = int(input('숫자를 입력하세요'))\n",
    "box = []\n",
    "num = 0\n",
    "\n",
    "while num < num1:\n",
    "    num = num + 1\n",
    "    ran = r.randint(1,6)\n",
    "    box.append(ran)\n",
    "print(box, len(box))\n",
    "# print(len(box))\n",
    "\n",
    "if num1 == len(box):\n",
    "    print(f'{num1}회 정상 진행되었습니다.')\n",
    "else:\n",
    "    print(f'이상있습니다. 이유: {num1}회 목표로 동작하였으나, {len(box)}로 측정되었습니다') #while num <= num1: 되면 오류 뜸\n",
    "\n",
    "print(f'1이 {box.count(1)}번 ({(box.count(1)/num1)*100:0.2f}%) 나왔습니다')\n",
    "print(f'2가 {box.count(2)}번 ({(box.count(2)/num1)*100:0.2f}%) 나왔습니다')\n",
    "print(f'3이 {box.count(3)}번 ({(box.count(3)/num1)*100:0.2f}%) 나왔습니다')\n",
    "print(f'4가 {box.count(4)}번 ({(box.count(4)/num1)*100:0.2f}%) 나왔습니다')\n",
    "print(f'5가 {box.count(5)}번 ({(box.count(5)/num1)*100:0.2f}%) 나왔습니다')\n",
    "print(f'6이 {box.count(6)}번 ({(box.count(6)/num1)*100:0.2f}%) 나왔습니다')\n",
    "\n"
   ]
  },
  {
   "cell_type": "code",
   "execution_count": 35,
   "id": "c3758655-c37e-4efe-b4f0-3ea601653313",
   "metadata": {},
   "outputs": [
    {
     "data": {
      "text/plain": [
       "['BPF',\n",
       " 'LOG4',\n",
       " 'NV_MAGICCONST',\n",
       " 'RECIP_BPF',\n",
       " 'Random',\n",
       " 'SG_MAGICCONST',\n",
       " 'SystemRandom',\n",
       " 'TWOPI',\n",
       " '_ONE',\n",
       " '_Sequence',\n",
       " '__all__',\n",
       " '__builtins__',\n",
       " '__cached__',\n",
       " '__doc__',\n",
       " '__file__',\n",
       " '__loader__',\n",
       " '__name__',\n",
       " '__package__',\n",
       " '__spec__',\n",
       " '_accumulate',\n",
       " '_acos',\n",
       " '_bisect',\n",
       " '_ceil',\n",
       " '_cos',\n",
       " '_e',\n",
       " '_exp',\n",
       " '_fabs',\n",
       " '_floor',\n",
       " '_index',\n",
       " '_inst',\n",
       " '_isfinite',\n",
       " '_lgamma',\n",
       " '_log',\n",
       " '_log2',\n",
       " '_os',\n",
       " '_parse_args',\n",
       " '_pi',\n",
       " '_random',\n",
       " '_repeat',\n",
       " '_sha512',\n",
       " '_sin',\n",
       " '_sqrt',\n",
       " '_test',\n",
       " '_test_generator',\n",
       " '_urandom',\n",
       " 'betavariate',\n",
       " 'binomialvariate',\n",
       " 'choice',\n",
       " 'choices',\n",
       " 'expovariate',\n",
       " 'gammavariate',\n",
       " 'gauss',\n",
       " 'getrandbits',\n",
       " 'getstate',\n",
       " 'lognormvariate',\n",
       " 'main',\n",
       " 'normalvariate',\n",
       " 'paretovariate',\n",
       " 'randbytes',\n",
       " 'randint',\n",
       " 'random',\n",
       " 'randrange',\n",
       " 'sample',\n",
       " 'seed',\n",
       " 'setstate',\n",
       " 'shuffle',\n",
       " 'triangular',\n",
       " 'uniform',\n",
       " 'vonmisesvariate',\n",
       " 'weibullvariate']"
      ]
     },
     "execution_count": 35,
     "metadata": {},
     "output_type": "execute_result"
    }
   ],
   "source": [
    "dir(r)"
   ]
  },
  {
   "cell_type": "code",
   "execution_count": 118,
   "id": "c50b31f3-b2ed-457a-85ba-2162815a8699",
   "metadata": {},
   "outputs": [
    {
     "name": "stdin",
     "output_type": "stream",
     "text": [
      "돈을 넣어 주세요:  500\n"
     ]
    },
    {
     "name": "stdout",
     "output_type": "stream",
     "text": [
      "거스름돈 200를 주고 커피를 줍니다.\n"
     ]
    },
    {
     "name": "stdin",
     "output_type": "stream",
     "text": [
      "돈을 넣어 주세요:  400\n"
     ]
    },
    {
     "name": "stdout",
     "output_type": "stream",
     "text": [
      "거스름돈 100를 주고 커피를 줍니다.\n"
     ]
    },
    {
     "name": "stdin",
     "output_type": "stream",
     "text": [
      "돈을 넣어 주세요:  0\n"
     ]
    },
    {
     "name": "stdout",
     "output_type": "stream",
     "text": [
      "돈을 다시 돌려주고 커피를 주지 않습니다.\n",
      "남은 커피의 양은 8개 입니다.\n"
     ]
    },
    {
     "name": "stdin",
     "output_type": "stream",
     "text": [
      "돈을 넣어 주세요:  700\n"
     ]
    },
    {
     "name": "stdout",
     "output_type": "stream",
     "text": [
      "거스름돈 400를 주고 커피를 줍니다.\n"
     ]
    },
    {
     "name": "stdin",
     "output_type": "stream",
     "text": [
      "돈을 넣어 주세요:  900\n"
     ]
    },
    {
     "name": "stdout",
     "output_type": "stream",
     "text": [
      "거스름돈 600를 주고 커피를 줍니다.\n"
     ]
    },
    {
     "name": "stdin",
     "output_type": "stream",
     "text": [
      "돈을 넣어 주세요:  1\n"
     ]
    },
    {
     "name": "stdout",
     "output_type": "stream",
     "text": [
      "돈을 다시 돌려주고 커피를 주지 않습니다.\n",
      "남은 커피의 양은 6개 입니다.\n"
     ]
    },
    {
     "name": "stdin",
     "output_type": "stream",
     "text": [
      "돈을 넣어 주세요:  1\n"
     ]
    },
    {
     "name": "stdout",
     "output_type": "stream",
     "text": [
      "돈을 다시 돌려주고 커피를 주지 않습니다.\n",
      "남은 커피의 양은 6개 입니다.\n"
     ]
    },
    {
     "name": "stdin",
     "output_type": "stream",
     "text": [
      "돈을 넣어 주세요:  1\n"
     ]
    },
    {
     "name": "stdout",
     "output_type": "stream",
     "text": [
      "돈을 다시 돌려주고 커피를 주지 않습니다.\n",
      "남은 커피의 양은 6개 입니다.\n"
     ]
    },
    {
     "name": "stdin",
     "output_type": "stream",
     "text": [
      "돈을 넣어 주세요:  1\n"
     ]
    },
    {
     "name": "stdout",
     "output_type": "stream",
     "text": [
      "돈을 다시 돌려주고 커피를 주지 않습니다.\n",
      "남은 커피의 양은 6개 입니다.\n"
     ]
    },
    {
     "name": "stdin",
     "output_type": "stream",
     "text": [
      "돈을 넣어 주세요:  500\n"
     ]
    },
    {
     "name": "stdout",
     "output_type": "stream",
     "text": [
      "거스름돈 200를 주고 커피를 줍니다.\n"
     ]
    },
    {
     "name": "stdin",
     "output_type": "stream",
     "text": [
      "돈을 넣어 주세요:  500\n"
     ]
    },
    {
     "name": "stdout",
     "output_type": "stream",
     "text": [
      "거스름돈 200를 주고 커피를 줍니다.\n"
     ]
    },
    {
     "name": "stdin",
     "output_type": "stream",
     "text": [
      "돈을 넣어 주세요:  500\n"
     ]
    },
    {
     "name": "stdout",
     "output_type": "stream",
     "text": [
      "거스름돈 200를 주고 커피를 줍니다.\n"
     ]
    },
    {
     "name": "stdin",
     "output_type": "stream",
     "text": [
      "돈을 넣어 주세요:  500\n"
     ]
    },
    {
     "name": "stdout",
     "output_type": "stream",
     "text": [
      "거스름돈 200를 주고 커피를 줍니다.\n"
     ]
    },
    {
     "name": "stdin",
     "output_type": "stream",
     "text": [
      "돈을 넣어 주세요:  500\n"
     ]
    },
    {
     "name": "stdout",
     "output_type": "stream",
     "text": [
      "거스름돈 200를 주고 커피를 줍니다.\n"
     ]
    },
    {
     "name": "stdin",
     "output_type": "stream",
     "text": [
      "돈을 넣어 주세요:  500\n"
     ]
    },
    {
     "name": "stdout",
     "output_type": "stream",
     "text": [
      "거스름돈 200를 주고 커피를 줍니다.\n",
      "커피가 다 떨어졌습니다. 판매를 중지합니다.\n"
     ]
    }
   ],
   "source": [
    "coffee = 10\n",
    "while True:\n",
    "    money = int(input('돈을 넣어 주세요: '))\n",
    "    if money == 300:\n",
    "        print('커피를 줍니다.')\n",
    "        coffee  = coffee - 1\n",
    "    elif money > 300:\n",
    "        print('거스름돈 %d를 주고 커피를 줍니다.' %(money -300))\n",
    "        coffee = coffee - 1\n",
    "    else:\n",
    "        print('돈을 다시 돌려주고 커피를 주지 않습니다.')\n",
    "        print('남은 커피의 양은 %d개 입니다.' %coffee)\n",
    "    if coffee == 0:\n",
    "        print('커피가 다 떨어졌습니다. 판매를 중지합니다.')\n",
    "        break"
   ]
  },
  {
   "cell_type": "markdown",
   "id": "b20334b6-7d0b-421a-bb5a-e617325c8a45",
   "metadata": {},
   "source": [
    "## for 문"
   ]
  },
  {
   "cell_type": "code",
   "execution_count": 87,
   "id": "41c941b0-5914-4908-bf18-d0f2038e7574",
   "metadata": {},
   "outputs": [
    {
     "name": "stdout",
     "output_type": "stream",
     "text": [
      "one\n",
      "two\n",
      "three\n"
     ]
    }
   ],
   "source": [
    "# 기본 for 문\n",
    "# test_list = ['one','two','three']\n",
    "# for i in test_list:\n",
    "for i in ['one','two','three']:\n",
    "    print(i)"
   ]
  },
  {
   "cell_type": "code",
   "execution_count": 99,
   "id": "120cc141-713d-49cc-b92b-c6df786b6a33",
   "metadata": {
    "jp-MarkdownHeadingCollapsed": true
   },
   "outputs": [
    {
     "name": "stdout",
     "output_type": "stream",
     "text": [
      "(1, 2, 7)\n",
      "(3, 4, 8)\n",
      "(5, 6, 9)\n",
      "10\n",
      "15\n",
      "20\n"
     ]
    }
   ],
   "source": [
    "# 다양한 for 문의 사용 \n",
    "a = [(1,2,7),(3,4,8),(5,6,9)]\n",
    "for x in a:\n",
    "    print(x)\n",
    "for (q,w,e) in a:\n",
    "    print(q+w+e)\n"
   ]
  },
  {
   "cell_type": "code",
   "execution_count": 101,
   "id": "3869d948-9b7a-4227-90c6-5347450cc88b",
   "metadata": {},
   "outputs": [
    {
     "name": "stdout",
     "output_type": "stream",
     "text": [
      "1번 학생은 합격입니다.\n",
      "2번 학생은 불합격입니다.\n",
      "3번 학생은 합격입니다.\n",
      "4번 학생은 불합격입니다.\n",
      "5번 학생은 합격입니다.\n"
     ]
    }
   ],
   "source": [
    "marks = [90,25,67,45,80] #학생들의 시험 점수 리스트\n",
    "\n",
    "num = 0 # 학생에게 붙여 줄 번호\n",
    "for m in marks:\n",
    "    num = num + 1\n",
    "    if m >= 60:\n",
    "        print('%d번 학생은 합격입니다.' %num)\n",
    "    else:\n",
    "        print('%d번 학생은 불합격입니다.' %num)"
   ]
  },
  {
   "cell_type": "code",
   "execution_count": 102,
   "id": "aeffed54-3806-44a6-aa96-591ed342f300",
   "metadata": {},
   "outputs": [],
   "source": [
    "marks = [90,25,67,45,80] #학생들의 시험 점수 리스트\n",
    "\n",
    "num = 0 # 학생에게 붙여 줄 번호\n",
    "for m in marks:\n",
    "    num = num + 1\n",
    "    continue # continue를 넣으면 continue 이후부터는 다 무시하게 된다\n",
    "    if m >= 60:\n",
    "        print('%d번 학생은 합격입니다.' %num)\n",
    "    else:\n",
    "        print('%d번 학생은 불합격입니다.' %num)"
   ]
  },
  {
   "cell_type": "code",
   "execution_count": 104,
   "id": "d896f1bc-6a3d-4291-9f72-b01cd335fc78",
   "metadata": {},
   "outputs": [
    {
     "name": "stdout",
     "output_type": "stream",
     "text": [
      "1번 학생 축하드립니다. 합격입니다.\n",
      "3번 학생 축하드립니다. 합격입니다.\n",
      "5번 학생 축하드립니다. 합격입니다.\n"
     ]
    }
   ],
   "source": [
    "marks = [90,25,67,45,80]\n",
    "\n",
    "num = 0\n",
    "\n",
    "for m in marks:\n",
    "    num = num + 1\n",
    "    if m < 60:\n",
    "        continue\n",
    "    print('%d번 학생 축하드립니다. 합격입니다.' %num)"
   ]
  },
  {
   "cell_type": "code",
   "execution_count": 117,
   "id": "9a65e7e1-939d-42d1-88eb-2695864e9331",
   "metadata": {},
   "outputs": [
    {
     "name": "stdout",
     "output_type": "stream",
     "text": [
      "1\n",
      "3\n",
      "5\n",
      "7\n",
      "9\n"
     ]
    }
   ],
   "source": [
    "num = [1,2,3,4,5,6,7,8,9,10]\n",
    "\n",
    "# for n in num:\n",
    "#     if n % 2 == 1:\n",
    "#         print(n)\n",
    "\n",
    "for n in num:\n",
    "    if n % 2 == 0:\n",
    "        continue\n",
    "    print(n)"
   ]
  },
  {
   "cell_type": "markdown",
   "id": "0979f017-3fc4-4deb-b7ed-f263fb9d8fd2",
   "metadata": {},
   "source": [
    "### range 함수"
   ]
  },
  {
   "cell_type": "code",
   "execution_count": 1,
   "id": "a9bfda47-e6ed-4070-a847-75da8d651bb9",
   "metadata": {},
   "outputs": [
    {
     "name": "stdout",
     "output_type": "stream",
     "text": [
      "range(0, 10)\n"
     ]
    }
   ],
   "source": [
    "# range 함수\n",
    "a = range(10)\n",
    "print(a)"
   ]
  },
  {
   "cell_type": "code",
   "execution_count": 3,
   "id": "c4f6a9e2-b437-49cd-addf-3fd4ea503426",
   "metadata": {},
   "outputs": [
    {
     "name": "stdout",
     "output_type": "stream",
     "text": [
      "0\n",
      "1\n",
      "2\n",
      "3\n",
      "4\n",
      "5\n",
      "6\n",
      "7\n",
      "8\n",
      "9\n"
     ]
    }
   ],
   "source": [
    "for n in range(10): # range(0,10) 0이 생략가능하기 때문에 0~9까지라는 의미\n",
    "    print(n)"
   ]
  },
  {
   "cell_type": "code",
   "execution_count": 6,
   "id": "ab88526c-3804-4c98-9ddb-de62df031c49",
   "metadata": {},
   "outputs": [
    {
     "name": "stdout",
     "output_type": "stream",
     "text": [
      "50\n",
      "48\n",
      "46\n",
      "44\n",
      "42\n"
     ]
    }
   ],
   "source": [
    "for r in range(50,40,-2): # for(시작;끝;스텝) 과 동일함\n",
    "    print(r)"
   ]
  },
  {
   "cell_type": "code",
   "execution_count": 9,
   "id": "4527245e-2955-43ed-a8e2-7933e87ba861",
   "metadata": {},
   "outputs": [
    {
     "name": "stdout",
     "output_type": "stream",
     "text": [
      "[1, 3, 5, 7, 9]\n"
     ]
    }
   ],
   "source": [
    "la = list(range(1,11,2))\n",
    "print(la)"
   ]
  },
  {
   "cell_type": "code",
   "execution_count": 10,
   "id": "83650c39-a18d-4e61-9bd4-ca350ec3685f",
   "metadata": {},
   "outputs": [
    {
     "name": "stdout",
     "output_type": "stream",
     "text": [
      "0\n",
      "2\n",
      "4\n",
      "6\n",
      "8\n"
     ]
    }
   ],
   "source": [
    "for even in range(0,10,2):\n",
    "    print(even)"
   ]
  },
  {
   "cell_type": "code",
   "execution_count": 12,
   "id": "f2369f8b-7ac6-4b23-8a4c-0adabc131776",
   "metadata": {},
   "outputs": [
    {
     "name": "stdout",
     "output_type": "stream",
     "text": [
      "55\n"
     ]
    }
   ],
   "source": [
    "num = 0\n",
    "\n",
    "for x in range(1,11):\n",
    "    num = num + x\n",
    "print(num)"
   ]
  },
  {
   "cell_type": "code",
   "execution_count": 15,
   "id": "e5bfb131-960a-4ab0-bc9a-392e8d1c2236",
   "metadata": {},
   "outputs": [
    {
     "name": "stdout",
     "output_type": "stream",
     "text": [
      "8515\n"
     ]
    }
   ],
   "source": [
    "num = 0\n",
    "\n",
    "for x in range(1,131):\n",
    "    num = num + x\n",
    "    # print(num)\n",
    "print(num)"
   ]
  },
  {
   "cell_type": "code",
   "execution_count": 17,
   "id": "2365a334-bc7f-4ea4-a999-06b6f9da682c",
   "metadata": {},
   "outputs": [
    {
     "name": "stdout",
     "output_type": "stream",
     "text": [
      "1번 학생 축하드립니다. 합격입니다.\n",
      "3번 학생 축하드립니다. 합격입니다.\n",
      "5번 학생 축하드립니다. 합격입니다.\n"
     ]
    }
   ],
   "source": [
    "#자주 쓰이는 형태\n",
    "marks = [90,25,67,45,80]\n",
    "for m in range(len(marks)):\n",
    "    if marks[m] < 60:\n",
    "        continue\n",
    "    print('%d번 학생 축하드립니다. 합격입니다.' %(m+1))"
   ]
  },
  {
   "cell_type": "code",
   "execution_count": 25,
   "id": "34713b16-82be-4bf7-b20e-55a20ad98292",
   "metadata": {},
   "outputs": [
    {
     "name": "stdout",
     "output_type": "stream",
     "text": [
      "   February 2025\n",
      "Su Mo Tu We Th Fr Sa\n",
      "                   1\n",
      " 2  3  4  5  6  7  8\n",
      " 9 10 11 12 13 14 15\n",
      "16 17 18 19 20 21 22\n",
      "23 24 25 26 27 28\n",
      "\n"
     ]
    }
   ],
   "source": [
    "# 연습\n",
    "import calendar\n",
    "\n",
    "c = calendar.TextCalendar(calendar.SUNDAY)\n",
    "print(c.formatmonth(2025,2))"
   ]
  },
  {
   "cell_type": "code",
   "execution_count": 34,
   "id": "1e834892-88d3-4a06-b8e8-8dd3e6c4daf7",
   "metadata": {},
   "outputs": [
    {
     "name": "stdout",
     "output_type": "stream",
     "text": [
      "■■■■■■"
     ]
    }
   ],
   "source": [
    "# 테스트 타이머\n",
    "import time as t\n",
    "for x in range(6):\n",
    "    # print(x,end=' ') #아래로 출력되는 것이 아닌 오른쪽으로 출력된다\n",
    "    # print(x,end='\\r') #사라지면서 출력\n",
    "    print(f'■', end='')\n",
    "    t.sleep(1)"
   ]
  },
  {
   "cell_type": "code",
   "execution_count": 49,
   "id": "5b0b7207-36a7-481e-8539-1b1663306281",
   "metadata": {},
   "outputs": [
    {
     "name": "stdout",
     "output_type": "stream",
     "text": [
      "<class 'list'>\n",
      "<class 'tuple'>\n"
     ]
    }
   ],
   "source": [
    "# 리스트 속도 측정\n",
    "import time as t\n",
    "lt = []\n",
    "tp = []\n",
    "length = 100*1000*1000\n",
    "for x in range(length):\n",
    "    lt.append(x)\n",
    "for t in range(length):\n",
    "    lt.append(t)\n",
    "tp = tuple(tp)\n",
    "# print(lt,type(lt))\n",
    "print(type(lt))\n",
    "# print(tp,type(tp))\n",
    "print(type(tp))"
   ]
  },
  {
   "cell_type": "code",
   "execution_count": 52,
   "id": "591dc1ff-f491-4007-bc40-ddf20db29fa7",
   "metadata": {},
   "outputs": [
    {
     "name": "stdout",
     "output_type": "stream",
     "text": [
      "15.06141448020935\n"
     ]
    }
   ],
   "source": [
    "import time\n",
    "start = time.time()\n",
    "\n",
    "for x in lt:\n",
    "    lts = [1,2,3,4,5]\n",
    "    \n",
    "print(time.time() - start)"
   ]
  },
  {
   "cell_type": "code",
   "execution_count": 54,
   "id": "145bdc1a-3ed8-4e63-a691-76f7706f3e91",
   "metadata": {},
   "outputs": [
    {
     "name": "stdout",
     "output_type": "stream",
     "text": [
      "0.000141143798828125\n"
     ]
    }
   ],
   "source": [
    "import time\n",
    "start = time.time()\n",
    "\n",
    "for x in tp:\n",
    "    tps = (1,2,3,4,5)\n",
    "    \n",
    "print(time.time() - start)\n",
    "\n",
    "# 리스트보다 튜플이 더 빠름"
   ]
  },
  {
   "cell_type": "code",
   "execution_count": 55,
   "id": "4b876a18-b260-4a9e-8151-9bc95eb841d9",
   "metadata": {},
   "outputs": [
    {
     "name": "stdout",
     "output_type": "stream",
     "text": [
      " D 드라이브의 볼륨: data\n",
      " 볼륨 일련 번호: 1406-CDAA\n",
      "\n",
      " d:\\pmj\\python 디렉터리\n",
      "\n",
      "2025-02-07  오후 02:15    <DIR>          .\n",
      "2025-02-04  오후 04:07    <DIR>          ..\n",
      "2025-02-06  오전 10:24               107 .gitignore\n",
      "2025-02-06  오후 12:30    <DIR>          .ipynb_checkpoints\n",
      "2025-02-06  오후 02:26             8,371 chap2_ex박민주.ipynb\n",
      "2025-02-06  오후 05:16    <DIR>          pypdf\n",
      "2025-02-06  오후 05:21            91,104 python01.ipynb\n",
      "2025-02-06  오전 11:42            58,973 python02.ipynb\n",
      "2025-02-07  오후 02:15            36,346 python03.ipynb\n",
      "2025-02-06  오전 09:43               169 ran.py\n",
      "2025-02-06  오전 09:18               100 start_jupyterlab.bat\n",
      "2025-02-06  오전 09:46                82 start_ran.bat\n",
      "2025-02-05  오후 05:20                65 start_won.bat\n",
      "2025-02-05  오후 05:15               336 won.py\n",
      "              10개 파일             195,653 바이트\n",
      "               4개 디렉터리  302,522,380,288 바이트 남음\n"
     ]
    }
   ],
   "source": [
    "!dir"
   ]
  },
  {
   "cell_type": "code",
   "execution_count": 56,
   "id": "6be0ed2f-e7c2-42e3-84a5-61fbeb2eedac",
   "metadata": {},
   "outputs": [
    {
     "name": "stdout",
     "output_type": "stream",
     "text": [
      "pip 24.3.1 from C:\\Users\\Admin\\AppData\\Local\\Programs\\Python\\Python313\\Lib\\site-packages\\pip (python 3.13)\n",
      "\n"
     ]
    }
   ],
   "source": [
    "!pip -V"
   ]
  },
  {
   "cell_type": "code",
   "execution_count": 57,
   "id": "6f6ea786-eff8-4539-97bc-def1a4d653d3",
   "metadata": {},
   "outputs": [
    {
     "name": "stdout",
     "output_type": "stream",
     "text": [
      "Collecting tqdm\n",
      "  Downloading tqdm-4.67.1-py3-none-any.whl.metadata (57 kB)\n",
      "Requirement already satisfied: colorama in c:\\users\\admin\\appdata\\local\\programs\\python\\python313\\lib\\site-packages (from tqdm) (0.4.6)\n",
      "Downloading tqdm-4.67.1-py3-none-any.whl (78 kB)\n",
      "Installing collected packages: tqdm\n",
      "Successfully installed tqdm-4.67.1\n"
     ]
    },
    {
     "name": "stderr",
     "output_type": "stream",
     "text": [
      "\n",
      "[notice] A new release of pip is available: 24.3.1 -> 25.0\n",
      "[notice] To update, run: python.exe -m pip install --upgrade pip\n"
     ]
    }
   ],
   "source": [
    "!pip install tqdm"
   ]
  },
  {
   "cell_type": "code",
   "execution_count": 63,
   "id": "4f25a60b-1bbf-45a5-97db-d111e8a92e14",
   "metadata": {},
   "outputs": [
    {
     "name": "stderr",
     "output_type": "stream",
     "text": [
      "100%|██████████████████████████████████████████████████████████████████████████████████| 10/10 [00:01<00:00,  9.78it/s]\n"
     ]
    }
   ],
   "source": [
    "from tqdm import tqdm\n",
    "import time as tt\n",
    "for x in tqdm(range(10)):\n",
    "    pass\n",
    "    tt.sleep(0.1)"
   ]
  },
  {
   "cell_type": "code",
   "execution_count": 82,
   "id": "7b934599-f701-45d1-a984-7eeab5c79c01",
   "metadata": {},
   "outputs": [
    {
     "name": "stdout",
     "output_type": "stream",
     "text": [
      "최대가는 152817000\n",
      "최소가는 149809000\n",
      "시작가는 152630000\n",
      "변화폭은 3008000.0\n",
      "상승장\n"
     ]
    }
   ],
   "source": [
    "# 비트코인시세로 상승장 하강장 구분하기\n",
    "# 시작가 + 변화폭 > 최대가 -> 상승장\n",
    "# 출력: 최대가, 최소가, 시작가, 변화폭\n",
    "import requests as req\n",
    "url = 'https://api.bithumb.com/public/ticker/ALL_KRW'\n",
    "gdata = req.get(url).json()\n",
    "btc = (gdata['data']['BTC'])\n",
    "maxp = btc['max_price'] # 최대가\n",
    "minp = btc['min_price'] # 최소가\n",
    "openp = btc['opening_price'] # 시작가\n",
    "bandp = float(maxp) - float(minp)\n",
    "\n",
    "print(f'최대가는 {maxp}')\n",
    "print(f'최소가는 {minp}')\n",
    "print(f'시작가는 {openp}')\n",
    "print(f'변화폭은 {bandp}')\n",
    "\n",
    "a = float(openp) + float(bandp)\n",
    "# print(a)\n",
    "\n",
    "if a > float(maxp):\n",
    "    print('상승장')\n",
    "else:\n",
    "    print('하강장')\n"
   ]
  },
  {
   "cell_type": "code",
   "execution_count": 2,
   "id": "cdd8bd76-a617-4571-a015-767cdc79d86a",
   "metadata": {},
   "outputs": [
    {
     "name": "stdout",
     "output_type": "stream",
     "text": [
      "{'market': 'KRW-BTC', 'candle_date_time_utc': '2025-02-14T07:57:00', 'candle_date_time_kst': '2025-02-14T16:57:00', 'opening_price': 145725000, 'high_price': 145733000, 'low_price': 145720000, 'trade_price': 145731000, 'timestamp': 1739519855000, 'candle_acc_trade_price': 4271278.94773, 'candle_acc_trade_volume': 0.02931105, 'unit': 1}\n",
      "1분 거래가: 145731000\n",
      "최고가: 145733000\n",
      "최저가: 145720000\n",
      "시작가: 145725000\n"
     ]
    },
    {
     "ename": "NameError",
     "evalue": "name 'bandp' is not defined",
     "output_type": "error",
     "traceback": [
      "\u001b[1;31m---------------------------------------------------------------------------\u001b[0m",
      "\u001b[1;31mNameError\u001b[0m                                 Traceback (most recent call last)",
      "Cell \u001b[1;32mIn[2], line 18\u001b[0m\n\u001b[0;32m     16\u001b[0m \u001b[38;5;28mprint\u001b[39m(\u001b[38;5;124mf\u001b[39m\u001b[38;5;124m'\u001b[39m\u001b[38;5;124m최저가: \u001b[39m\u001b[38;5;132;01m{\u001b[39;00mlowp\u001b[38;5;132;01m}\u001b[39;00m\u001b[38;5;124m'\u001b[39m)\n\u001b[0;32m     17\u001b[0m \u001b[38;5;28mprint\u001b[39m(\u001b[38;5;124mf\u001b[39m\u001b[38;5;124m'\u001b[39m\u001b[38;5;124m시작가: \u001b[39m\u001b[38;5;132;01m{\u001b[39;00mopenp\u001b[38;5;132;01m}\u001b[39;00m\u001b[38;5;124m'\u001b[39m)\n\u001b[1;32m---> 18\u001b[0m \u001b[38;5;28mprint\u001b[39m(\u001b[38;5;124mf\u001b[39m\u001b[38;5;124m'\u001b[39m\u001b[38;5;124m변화폭: \u001b[39m\u001b[38;5;132;01m{\u001b[39;00m\u001b[43mbandp\u001b[49m\u001b[38;5;132;01m}\u001b[39;00m\u001b[38;5;124m'\u001b[39m)\n",
      "\u001b[1;31mNameError\u001b[0m: name 'bandp' is not defined"
     ]
    }
   ],
   "source": [
    "# 1분 캔들\n",
    "import requests as req\n",
    "url = 'https://api.bithumb.com/v1/candles/minutes/1?market=KRW-BTC&count=1'\n",
    "btc_data = req.get(url).json()\n",
    "# print(btc_data)\n",
    "print(btc_data[0]) #대괄호 벗겨짐\n",
    "print(f'1분 거래가: {btc_data[0]['trade_price']}') # 1분 거래가\n",
    "\n",
    "# highp = btc_data[0]['high_price']\n",
    "highp = btc_data[0]['high_price']\n",
    "lowp = btc_data[0]['low_price']\n",
    "openp = btc_data[0]['opening_price']\n",
    "bendp = float(highp) - float(lowp)\n",
    "\n",
    "print(f'최고가: {highp}')\n",
    "print(f'최저가: {lowp}')\n",
    "print(f'시작가: {openp}')\n",
    "print(f'변화폭: {bandp}')"
   ]
  },
  {
   "cell_type": "code",
   "execution_count": 119,
   "id": "36d1f0b1-b148-4313-a006-24c2cc989d24",
   "metadata": {},
   "outputs": [
    {
     "name": "stdout",
     "output_type": "stream",
     "text": [
      "2 x 1 = 2\n",
      "2 x 2 = 4\n",
      "2 x 3 = 6\n",
      "2 x 4 = 8\n",
      "2 x 5 = 10\n",
      "2 x 6 = 12\n",
      "2 x 7 = 14\n",
      "2 x 8 = 16\n",
      "2 x 9 = 18\n"
     ]
    }
   ],
   "source": [
    "for i in range(1,10):\n",
    "    print(f'{2} x {i} = { i * 2}')"
   ]
  },
  {
   "cell_type": "code",
   "execution_count": 146,
   "id": "2a38fa38-bc20-4129-9cea-825b4a16368d",
   "metadata": {},
   "outputs": [
    {
     "name": "stdout",
     "output_type": "stream",
     "text": [
      "==========2단==========\n",
      "2 x 1 = 2  2 x 2 = 4  2 x 3 = 6  2 x 4 = 8  2 x 5 = 10  2 x 6 = 12  2 x 7 = 14  2 x 8 = 16  2 x 9 = 18   \n",
      "==========3단==========\n",
      "3 x 1 = 3  3 x 2 = 6  3 x 3 = 9  3 x 4 = 12  3 x 5 = 15  3 x 6 = 18  3 x 7 = 21  3 x 8 = 24  3 x 9 = 27   \n",
      "==========4단==========\n",
      "4 x 1 = 4  4 x 2 = 8  4 x 3 = 12  4 x 4 = 16  4 x 5 = 20  4 x 6 = 24  4 x 7 = 28  4 x 8 = 32  4 x 9 = 36   \n",
      "==========5단==========\n",
      "5 x 1 = 5  5 x 2 = 10  5 x 3 = 15  5 x 4 = 20  5 x 5 = 25  5 x 6 = 30  5 x 7 = 35  5 x 8 = 40  5 x 9 = 45   \n",
      "==========6단==========\n",
      "6 x 1 = 6  6 x 2 = 12  6 x 3 = 18  6 x 4 = 24  6 x 5 = 30  6 x 6 = 36  6 x 7 = 42  6 x 8 = 48  6 x 9 = 54   \n",
      "==========7단==========\n",
      "7 x 1 = 7  7 x 2 = 14  7 x 3 = 21  7 x 4 = 28  7 x 5 = 35  7 x 6 = 42  7 x 7 = 49  7 x 8 = 56  7 x 9 = 63   \n",
      "==========8단==========\n",
      "8 x 1 = 8  8 x 2 = 16  8 x 3 = 24  8 x 4 = 32  8 x 5 = 40  8 x 6 = 48  8 x 7 = 56  8 x 8 = 64  8 x 9 = 72   \n",
      "==========9단==========\n",
      "9 x 1 = 9  9 x 2 = 18  9 x 3 = 27  9 x 4 = 36  9 x 5 = 45  9 x 6 = 54  9 x 7 = 63  9 x 8 = 72  9 x 9 = 81   \n"
     ]
    }
   ],
   "source": [
    "for i in range(2,10):\n",
    "    print(f'=========={i}단==========')\n",
    "    for j in range(1,10):\n",
    "            print(f'{i} x {j} = {i * j}', end='  ')\n",
    "    print(' ')"
   ]
  },
  {
   "cell_type": "markdown",
   "id": "503ce343-901d-46cd-9b32-01f9c4eda4f1",
   "metadata": {},
   "source": [
    "### 리스트 컴프리헨션"
   ]
  },
  {
   "cell_type": "code",
   "execution_count": 147,
   "id": "04bf6f73-4ab2-4cd5-bab0-32801b0cbd75",
   "metadata": {},
   "outputs": [
    {
     "name": "stdout",
     "output_type": "stream",
     "text": [
      "[3, 6, 9, 12]\n"
     ]
    }
   ],
   "source": [
    "a = [1,2,3,4]\n",
    "result = []\n",
    "for num in a:\n",
    "    result.append(num*3)\n",
    "print(result)"
   ]
  },
  {
   "cell_type": "code",
   "execution_count": 148,
   "id": "7bd34d10-98a6-42a2-9e02-287d61cd77d1",
   "metadata": {},
   "outputs": [
    {
     "data": {
      "text/plain": [
       "[3, 6, 9, 12]"
      ]
     },
     "execution_count": 148,
     "metadata": {},
     "output_type": "execute_result"
    }
   ],
   "source": [
    "[num*3 for num in [1,2,3,4]]"
   ]
  },
  {
   "cell_type": "code",
   "execution_count": 157,
   "id": "7369321a-b41e-43e1-993d-ae261eda24f4",
   "metadata": {},
   "outputs": [
    {
     "name": "stdout",
     "output_type": "stream",
     "text": [
      "[0, 6, 12, 18, 24]\n"
     ]
    }
   ],
   "source": [
    "# 테스트1\n",
    "res = []\n",
    "for x in range(10):\n",
    "    if x % 2 == 0:\n",
    "        res.append(x*3)\n",
    "print(res)"
   ]
  },
  {
   "cell_type": "code",
   "execution_count": 156,
   "id": "a5ae73d3-e6fb-4680-95fb-1529120377ae",
   "metadata": {},
   "outputs": [
    {
     "data": {
      "text/plain": [
       "[0, 3, 6, 9, 12, 15, 18, 21, 24, 27]"
      ]
     },
     "execution_count": 156,
     "metadata": {},
     "output_type": "execute_result"
    }
   ],
   "source": [
    "\n",
    "# list(range(10))\n",
    "[x*3 for x in range(10) ]"
   ]
  },
  {
   "cell_type": "code",
   "execution_count": 155,
   "id": "c40fac2a-4936-403e-8b6b-1afa05cfaf53",
   "metadata": {},
   "outputs": [
    {
     "data": {
      "text/plain": [
       "[0, 6, 12, 18, 24]"
      ]
     },
     "execution_count": 155,
     "metadata": {},
     "output_type": "execute_result"
    }
   ],
   "source": [
    "[x*3 for x in range(10) if x % 2 == 0]"
   ]
  },
  {
   "cell_type": "code",
   "execution_count": 158,
   "id": "c23f7ab4-8b36-42d8-84f7-b8cbaf0889c3",
   "metadata": {},
   "outputs": [
    {
     "name": "stdout",
     "output_type": "stream",
     "text": [
      "[2, 4, 6, 8, 10, 12, 14, 16, 18, 3, 6, 9, 12, 15, 18, 21, 24, 27, 4, 8, 12, 16, 20, 24, 28, 32, 36, 5, 10, 15, 20, 25, 30, 35, 40, 45, 6, 12, 18, 24, 30, 36, 42, 48, 54, 7, 14, 21, 28, 35, 42, 49, 56, 63, 8, 16, 24, 32, 40, 48, 56, 64, 72, 9, 18, 27, 36, 45, 54, 63, 72, 81]\n"
     ]
    }
   ],
   "source": [
    "result = [i * j for i in range(2,10) for j in range(1,10)]\n",
    "print(result)"
   ]
  },
  {
   "cell_type": "code",
   "execution_count": 166,
   "id": "1e8698fd-0b00-478b-8610-0aeadb09a8a2",
   "metadata": {},
   "outputs": [
    {
     "name": "stdout",
     "output_type": "stream",
     "text": [
      "2 x 1 = 2\n",
      "2 x 2 = 4\n",
      "2 x 3 = 6\n",
      "2 x 4 = 8\n",
      "2 x 5 = 10\n",
      "2 x 6 = 12\n",
      "2 x 7 = 14\n",
      "2 x 8 = 16\n",
      "2 x 9 = 18\n",
      "3 x 1 = 3\n",
      "3 x 2 = 6\n",
      "3 x 3 = 9\n",
      "3 x 4 = 12\n",
      "3 x 5 = 15\n",
      "3 x 6 = 18\n",
      "3 x 7 = 21\n",
      "3 x 8 = 24\n",
      "3 x 9 = 27\n",
      "4 x 1 = 4\n",
      "4 x 2 = 8\n",
      "4 x 3 = 12\n",
      "4 x 4 = 16\n",
      "4 x 5 = 20\n",
      "4 x 6 = 24\n",
      "4 x 7 = 28\n",
      "4 x 8 = 32\n",
      "4 x 9 = 36\n",
      "5 x 1 = 5\n",
      "5 x 2 = 10\n",
      "5 x 3 = 15\n",
      "5 x 4 = 20\n",
      "5 x 5 = 25\n",
      "5 x 6 = 30\n",
      "5 x 7 = 35\n",
      "5 x 8 = 40\n",
      "5 x 9 = 45\n",
      "6 x 1 = 6\n",
      "6 x 2 = 12\n",
      "6 x 3 = 18\n",
      "6 x 4 = 24\n",
      "6 x 5 = 30\n",
      "6 x 6 = 36\n",
      "6 x 7 = 42\n",
      "6 x 8 = 48\n",
      "6 x 9 = 54\n",
      "7 x 1 = 7\n",
      "7 x 2 = 14\n",
      "7 x 3 = 21\n",
      "7 x 4 = 28\n",
      "7 x 5 = 35\n",
      "7 x 6 = 42\n",
      "7 x 7 = 49\n",
      "7 x 8 = 56\n",
      "7 x 9 = 63\n",
      "8 x 1 = 8\n",
      "8 x 2 = 16\n",
      "8 x 3 = 24\n",
      "8 x 4 = 32\n",
      "8 x 5 = 40\n",
      "8 x 6 = 48\n",
      "8 x 7 = 56\n",
      "8 x 8 = 64\n",
      "8 x 9 = 72\n",
      "9 x 1 = 9\n",
      "9 x 2 = 18\n",
      "9 x 3 = 27\n",
      "9 x 4 = 36\n",
      "9 x 5 = 45\n",
      "9 x 6 = 54\n",
      "9 x 7 = 63\n",
      "9 x 8 = 72\n",
      "9 x 9 = 81\n"
     ]
    }
   ],
   "source": [
    "# for i in range(2,10):\n",
    "#     print(f'=========={i}단==========')\n",
    "#     for j in range(1,10):\n",
    "#             print(f'{i} x {j} = {i * j}', end='  ')\n",
    "#     print(' ')\n",
    "#컴프리헨션 맨 앞엔 결론이 나옴\n",
    "\n",
    "for a in [f'{i} x {j} = {i * j}' for i in range(2,10) for j in range(1,10)]:\n",
    "    print(a)"
   ]
  },
  {
   "cell_type": "code",
   "execution_count": 168,
   "id": "781cad8b-e89f-4cda-80a1-e072c6faf560",
   "metadata": {},
   "outputs": [
    {
     "name": "stdout",
     "output_type": "stream",
     "text": [
      "456\n",
      "456\n"
     ]
    }
   ],
   "source": [
    "# max\n",
    "a = [11,22,313,456,4,123,45]\n",
    "print(max(a))\n",
    "a.sort(reverse=True)\n",
    "print(a[0])"
   ]
  },
  {
   "cell_type": "markdown",
   "id": "58e9c5a9-7606-40c4-adeb-1b37c21bacb8",
   "metadata": {},
   "source": [
    "### 로또 생성기\n",
    "\n",
    "1) 1번부터 45번까지 숫자 중 6가지 숫자가 선택되어야 해요\n",
    "2) 중복되면 안됨\n",
    "3) 오름차순으로 정리\n",
    "\n",
    "4) 10만회 돌리고 각각 번호가 나온 것을 카운팅하기\n",
    "5) 각 번호를 퍼센트 내기(소수점 두자리)\n",
    "6) 제일 높게 나온 확률 순서대로 번호 3개 추천해주기"
   ]
  },
  {
   "cell_type": "code",
   "execution_count": 27,
   "id": "7e388b7f-cbf1-4116-b5c8-9d1174b536f9",
   "metadata": {},
   "outputs": [
    {
     "name": "stdout",
     "output_type": "stream",
     "text": [
      "[7, 13, 27, 34, 41, 45]\n"
     ]
    }
   ],
   "source": [
    "import random as r\n",
    "lotto = []\n",
    "num = 1\n",
    "# ran = r.randint(1,45)\n",
    "\n",
    "while num < 7:\n",
    "    num = num + 1\n",
    "    ran = r.randint(1,45)\n",
    "    if ran not in lotto:\n",
    "        lotto.append(ran)\n",
    "    # if ran != lotto.append(ran):\n",
    "lotto.sort()\n",
    "print(lotto)\n",
    "\n",
    "\n",
    "    \n"
   ]
  },
  {
   "cell_type": "code",
   "execution_count": 1,
   "id": "7a520c3d-771f-43e3-8532-327c7501dd29",
   "metadata": {},
   "outputs": [
    {
     "name": "stdout",
     "output_type": "stream",
     "text": [
      "[6, 14, 17, 18, 20, 43]\n",
      "[6, 18, 21, 25, 38]\n",
      "[10, 16, 35, 37, 42]\n",
      "[1, 8, 21, 30, 35, 42]\n",
      "[8, 10, 19, 33, 34, 45]\n",
      "[5, 7, 8, 25, 28, 29]\n",
      "[8, 15, 25, 26, 34]\n",
      "[1, 14, 15, 36, 45]\n",
      "[6, 8, 23, 31, 42, 45]\n",
      "[12, 16, 19, 20, 44, 45]\n"
     ]
    }
   ],
   "source": [
    "import random as r\n",
    "\n",
    "for l in range(10):\n",
    "    lotto = []\n",
    "    num = 1\n",
    "\n",
    "    while num < 7:\n",
    "        num = num + 1\n",
    "        ran = r.randint(1,45)\n",
    "        if ran not in lotto:\n",
    "            lotto.append(ran)\n",
    "        \n",
    "    lotto.sort()\n",
    "    print(lotto)"
   ]
  },
  {
   "cell_type": "code",
   "execution_count": 2,
   "id": "e215702a-03b6-4842-a772-dd9bba04e89e",
   "metadata": {},
   "outputs": [
    {
     "name": "stdout",
     "output_type": "stream",
     "text": [
      "[4, 8, 31, 33, 35, 43] 6\n"
     ]
    }
   ],
   "source": [
    "# 풀이\n",
    "import random\n",
    "box = []\n",
    "# ran = random.randint(1,46)\n",
    "while len(box) < 6:\n",
    "    ran = random.randint(1,46)\n",
    "    if ran not in box:\n",
    "        box.append(ran)\n",
    "\n",
    "box.sort()\n",
    "print(box,len(box))\n",
    "\n",
    "# print(list(set(box)),len(list(set(box))))"
   ]
  },
  {
   "cell_type": "code",
   "execution_count": 3,
   "id": "9af762c5-cc65-4054-a8a6-7bd6e58ef02d",
   "metadata": {},
   "outputs": [
    {
     "name": "stdout",
     "output_type": "stream",
     "text": [
      "[2, 4, 7, 17, 18, 43]\n"
     ]
    }
   ],
   "source": [
    "# 참고용\n",
    "\n",
    "lotto = sorted(random.sample(range(1,46),6))\n",
    "print(lotto)"
   ]
  },
  {
   "cell_type": "code",
   "execution_count": 4,
   "id": "a7a6416e-4226-42a1-9184-43caa6cf58c3",
   "metadata": {},
   "outputs": [
    {
     "name": "stdout",
     "output_type": "stream",
     "text": [
      "숫자 1: 출현한 횟수는 19회 입니다.\n",
      "숫자 2: 출현한 횟수는 14회 입니다.\n",
      "숫자 3: 출현한 횟수는 17회 입니다.\n",
      "숫자 4: 출현한 횟수는 9회 입니다.\n",
      "숫자 5: 출현한 횟수는 18회 입니다.\n",
      "숫자 6: 출현한 횟수는 17회 입니다.\n",
      "숫자 7: 출현한 횟수는 17회 입니다.\n",
      "숫자 8: 출현한 횟수는 16회 입니다.\n",
      "숫자 9: 출현한 횟수는 11회 입니다.\n",
      "숫자 10: 출현한 횟수는 16회 입니다.\n",
      "숫자 11: 출현한 횟수는 11회 입니다.\n",
      "숫자 12: 출현한 횟수는 15회 입니다.\n",
      "숫자 13: 출현한 횟수는 13회 입니다.\n",
      "숫자 14: 출현한 횟수는 17회 입니다.\n",
      "숫자 15: 출현한 횟수는 14회 입니다.\n",
      "숫자 16: 출현한 횟수는 18회 입니다.\n",
      "숫자 17: 출현한 횟수는 8회 입니다.\n",
      "숫자 18: 출현한 횟수는 9회 입니다.\n",
      "숫자 19: 출현한 횟수는 7회 입니다.\n",
      "숫자 20: 출현한 횟수는 18회 입니다.\n",
      "숫자 21: 출현한 횟수는 12회 입니다.\n",
      "숫자 22: 출현한 횟수는 13회 입니다.\n",
      "숫자 23: 출현한 횟수는 10회 입니다.\n",
      "숫자 24: 출현한 횟수는 11회 입니다.\n",
      "숫자 25: 출현한 횟수는 8회 입니다.\n",
      "숫자 26: 출현한 횟수는 12회 입니다.\n",
      "숫자 27: 출현한 횟수는 16회 입니다.\n",
      "숫자 28: 출현한 횟수는 13회 입니다.\n",
      "숫자 29: 출현한 횟수는 15회 입니다.\n",
      "숫자 30: 출현한 횟수는 13회 입니다.\n",
      "숫자 31: 출현한 횟수는 11회 입니다.\n",
      "숫자 32: 출현한 횟수는 13회 입니다.\n",
      "숫자 33: 출현한 횟수는 12회 입니다.\n",
      "숫자 34: 출현한 횟수는 10회 입니다.\n",
      "숫자 35: 출현한 횟수는 11회 입니다.\n",
      "숫자 36: 출현한 횟수는 14회 입니다.\n",
      "숫자 37: 출현한 횟수는 18회 입니다.\n",
      "숫자 38: 출현한 횟수는 15회 입니다.\n",
      "숫자 39: 출현한 횟수는 11회 입니다.\n",
      "숫자 40: 출현한 횟수는 12회 입니다.\n",
      "숫자 41: 출현한 횟수는 14회 입니다.\n",
      "숫자 42: 출현한 횟수는 16회 입니다.\n",
      "숫자 43: 출현한 횟수는 13회 입니다.\n",
      "숫자 44: 출현한 횟수는 10회 입니다.\n",
      "숫자 45: 출현한 횟수는 13회 입니다.\n",
      "[19, 14, 17, 9, 18, 17, 17, 16, 11, 16, 11, 15, 13, 17, 14, 18, 8, 9, 7, 18, 12, 13, 10, 11, 8, 12, 16, 13, 15, 13, 11, 13, 12, 10, 11, 14, 18, 15, 11, 12, 14, 16, 13, 10, 13] True\n",
      "출현횟수 100에 대한 검증이 이상없습니다.\n"
     ]
    }
   ],
   "source": [
    "# 참고용1\n",
    "ls = []\n",
    "la = []\n",
    "how = 100\n",
    "for h in range(how):\n",
    "    lotto = sorted(random.sample(range(1,46),6))\n",
    "    la.append(lotto)\n",
    "    ls = ls + lotto\n",
    "# print(la, type(la))\n",
    "\n",
    "ss = []\n",
    "for n in range(1,46):\n",
    "    ss.append( ls.count(n))\n",
    "    print(f'숫자 {n}: 출현한 횟수는 {ls.count(n)}회 입니다.')\n",
    "print(ss,sum(ss) == how * 6)\n",
    "if sum(ss) == (how * 6):\n",
    "    print(f'출현횟수 {how}에 대한 검증이 이상없습니다.')"
   ]
  },
  {
   "cell_type": "code",
   "execution_count": 5,
   "id": "1f2977ce-617c-4abf-a7cc-e1a2f62569e3",
   "metadata": {},
   "outputs": [
    {
     "name": "stdout",
     "output_type": "stream",
     "text": [
      "{'num1': 14, 'num2': 17, 'num3': 7, 'num4': 14, 'num5': 10, 'num6': 13, 'num7': 19, 'num8': 10, 'num9': 15, 'num10': 11, 'num11': 8, 'num12': 14, 'num13': 13, 'num14': 14, 'num15': 19, 'num16': 15, 'num17': 12, 'num18': 8, 'num19': 15, 'num20': 11, 'num21': 17, 'num22': 9, 'num23': 16, 'num24': 23, 'num25': 15, 'num26': 20, 'num27': 13, 'num28': 12, 'num29': 15, 'num30': 9, 'num31': 11, 'num32': 15, 'num33': 11, 'num34': 20, 'num35': 10, 'num36': 14, 'num37': 11, 'num38': 7, 'num39': 21, 'num40': 14, 'num41': 12, 'num42': 12, 'num43': 11, 'num44': 14, 'num45': 9}\n",
      "dict_values([14, 17, 7, 14, 10, 13, 19, 10, 15, 11, 8, 14, 13, 14, 19, 15, 12, 8, 15, 11, 17, 9, 16, 23, 15, 20, 13, 12, 15, 9, 11, 15, 11, 20, 10, 14, 11, 7, 21, 14, 12, 12, 11, 14, 9])\n"
     ]
    }
   ],
   "source": [
    "# 참고용2\n",
    "ls = []\n",
    "la = []\n",
    "how = 100\n",
    "for h in range(how):\n",
    "    lotto = sorted(random.sample(range(1,46),6))\n",
    "    la.append(lotto)\n",
    "    ls = ls + lotto\n",
    "# print(la, type(la))\n",
    "\n",
    "dic = {}\n",
    "for n in range(1,46):\n",
    "   dic[f'num{n}'] = ls.count(n)\n",
    "    # print(f'숫자 {n}: 출현한 횟수는 {ls.count(n)}회 입니다.')\n",
    "print(dic)\n",
    "print(dic.values())"
   ]
  },
  {
   "cell_type": "code",
   "execution_count": 1,
   "id": "1f860cd8-2644-42a6-a4b5-caa9f0378ca1",
   "metadata": {},
   "outputs": [
    {
     "name": "stdout",
     "output_type": "stream",
     "text": [
      "[2, 12, 26, 34, 35, 38]\n",
      "[6, 10, 27, 34, 35, 40]\n",
      "[3, 14, 26, 29, 41, 42]\n",
      "[3, 22, 31, 35, 39, 42]\n",
      "[10, 11, 28, 34, 37, 39]\n",
      "[4, 7, 8, 10, 40, 44]\n",
      "[3, 6, 11, 21, 29, 32]\n",
      "[3, 16, 23, 42, 44, 45]\n",
      "[6, 9, 11, 14, 19, 26]\n",
      "[6, 8, 18, 21, 30, 35]\n"
     ]
    }
   ],
   "source": [
    "import random\n",
    "\n",
    "ls = []\n",
    "la = []\n",
    "how = 10\n",
    "\n",
    "for h in range(how):\n",
    "    lotto = sorted(random.sample(range(1, 46), 6))  \n",
    "    la.append(lotto)  # la 리스트에 현재 로또 번호 조합을 추가\n",
    "    ls = ls + lotto  # ls 리스트에 현재 로또 번호 조합을 추가 (중첩되지 않은 단일 리스트로)\n",
    "    print(lotto)\n",
    "    \n",
    "# la는 각 로또 번호 조합을, \n",
    "# ls는 모든 로또 번호를 단일 리스트로 저장\n"
   ]
  },
  {
   "cell_type": "code",
   "execution_count": null,
   "id": "d41a21ac-62c0-4947-8322-008d14f023b5",
   "metadata": {},
   "outputs": [],
   "source": []
  }
 ],
 "metadata": {
  "kernelspec": {
   "display_name": "Python 3 (ipykernel)",
   "language": "python",
   "name": "python3"
  },
  "language_info": {
   "codemirror_mode": {
    "name": "ipython",
    "version": 3
   },
   "file_extension": ".py",
   "mimetype": "text/x-python",
   "name": "python",
   "nbconvert_exporter": "python",
   "pygments_lexer": "ipython3",
   "version": "3.13.1"
  }
 },
 "nbformat": 4,
 "nbformat_minor": 5
}
